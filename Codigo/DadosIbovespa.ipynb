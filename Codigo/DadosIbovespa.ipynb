{
 "cells": [
  {
   "cell_type": "markdown",
   "id": "73952a64",
   "metadata": {},
   "source": [
    "# **Dados do Indice IBOVESPA B3**"
   ]
  },
  {
   "attachments": {
    "image.png": {
     "image/png": "[encoded data removed]"
    }
   },
   "cell_type": "markdown",
   "id": "4c736cac",
   "metadata": {},
   "source": [
    "## **O problema**\n",
    "\n",
    "Você foi recentemente alocado em uma equipe de cientistas de dados de um grande fundo de investimentos brasileiro. Sua missão inicial é desenvolver um modelo preditivo capaz de prever se o índice IBOVESPA vai fechar em alta ou baixa no dia seguinte, com base em dados históricos do próprio índice. Esse modelo será usado como insumo para alimentar dashboards internos de tomada de decisão dos analistas quantitativos da empresa.\n",
    "\n",
    "### **Dados**\n",
    "\n",
    "Utilize os dados históricos do índice IBOVESPA, disponíveis publicamente: https://br.investing.com/indices/bovespa-historical-data\n",
    "Requisitos:  \n",
    "• Selecione o período “diário”.  \n",
    "• Baixe um intervalo de pelo menos 2 anos de dados.  \n",
    "• Realize o pré-processamento necessário para utilizar os dados no modelo.\n",
    "\n",
    "### **Caracteristicas (Colunas)**\n",
    "\n",
    "**Data** - Data de cada de negociação do IBOVESPA  \n",
    "**Último** - Fechamento da negociação diária  \n",
    "**Abertura** - Inicio das negociações e onde a negociação abriu  \n",
    "**Máxima** - Nível máximo que o IBOVESPA alcançou no dia  \n",
    "**Mínimo** - Nível mínimo que o IBOVESPA alcançou no dia  \n",
    "**Vol.** - Volume de negociação diária  \n",
    "**Var%** - Variação percentual diária partindo de sua abertura\n",
    "\n",
    "### **Objetivo**\n",
    "\n",
    "Criar um modelo que preveja se o fechamento do IBOVESPA do dia seguinte será maior ou menor que o do dia atual, ou seja:\n",
    "Tech challenge Página 3 de 5.  \n",
    "Seu modelo deve prever a tendência (↑ ou ↓) com acuracidade mínima de 75% em um conjunto de teste. O conjunto de testes deverá conter o último mês (30 dias) de dados disponíveis.\n",
    "\n",
    "![image.png](attachment:image.png)"
   ]
  },
  {
   "cell_type": "markdown",
   "id": "1c96c849",
   "metadata": {},
   "source": []
  },
  {
   "cell_type": "code",
   "execution_count": 1,
   "id": "e5ed3748",
   "metadata": {},
   "outputs": [],
   "source": [
    "import pandas as pd\n",
    "import numpy as np\n",
    "import matplotlib.pyplot as plt\n",
    "import seaborn as sns\n",
    "from sklearn import datasets\n",
    "from sklearn.model_selection import train_test_split\n",
    "from sklearn.neighbors import KNeighborsClassifier\n",
    "from sklearn.metrics import(\n",
    "    accuracy_score,\n",
    "    precision_score,\n",
    "    recall_score,\n",
    "    confusion_matrix\n",
    ")\n",
    "\n",
    "sns.set_style()"
   ]
  },
  {
   "cell_type": "code",
   "execution_count": 2,
   "id": "d4ca1557",
   "metadata": {},
   "outputs": [],
   "source": [
    "url = \"https://raw.githubusercontent.com/JacksonvBarbosa/Analise_Indice_Ibovespa/refs/heads/Jackson/Dataset/Dados%20Hist%C3%B3ricos%20-%20Ibovespa.csv\""
   ]
  },
  {
   "cell_type": "code",
   "execution_count": 25,
   "id": "7fe96a6b",
   "metadata": {},
   "outputs": [],
   "source": [
    "df_ibov = pd.read_csv(url)"
   ]
  },
  {
   "cell_type": "code",
   "execution_count": 47,
   "id": "086bffaa",
   "metadata": {},
   "outputs": [
    {
     "data": {
      "application/vnd.microsoft.datawrangler.viewer.v0+json": {
       "columns": [
        {
         "name": "index",
         "rawType": "int64",
         "type": "integer"
        },
        {
         "name": "Data",
         "rawType": "object",
         "type": "string"
        },
        {
         "name": "Último",
         "rawType": "float64",
         "type": "float"
        },
        {
         "name": "Abertura",
         "rawType": "float64",
         "type": "float"
        },
        {
         "name": "Máxima",
         "rawType": "float64",
         "type": "float"
        },
        {
         "name": "Mínima",
         "rawType": "float64",
         "type": "float"
        },
        {
         "name": "Vol.",
         "rawType": "object",
         "type": "string"
        },
        {
         "name": "Var%",
         "rawType": "object",
         "type": "string"
        }
       ],
       "ref": "a6fa0136-8fca-44d6-a572-0f923c4e205a",
       "rows": [
        [
         "0",
         "04.06.2025",
         "137.002",
         "137.547",
         "138.797",
         "136.695",
         "10,20M",
         "-0,40%"
        ],
        [
         "1",
         "03.06.2025",
         "137.546",
         "136.787",
         "137.672",
         "136.175",
         "9,70B",
         "0,56%"
        ],
        [
         "2",
         "02.06.2025",
         "136.787",
         "137.026",
         "138.471",
         "136.483",
         "9,10B",
         "-0,18%"
        ],
        [
         "3",
         "30.05.2025",
         "137.027",
         "138.546",
         "138.637",
         "136.726",
         "15,14B",
         "-1,09%"
        ],
        [
         "4",
         "29.05.2025",
         "138.534",
         "138.869",
         "139.108",
         "137.993",
         "8,83B",
         "-0,25%"
        ],
        [
         "5",
         "28.05.2025",
         "138.888",
         "139.541",
         "139.547",
         "138.58",
         "9,73B",
         "-0,47%"
        ],
        [
         "6",
         "27.05.2025",
         "139.541",
         "138.136",
         "140.382",
         "138.136",
         "11,19B",
         "1,02%"
        ],
        [
         "7",
         "26.05.2025",
         "138.136",
         "137.824",
         "138.8",
         "137.795",
         "5,55B",
         "0,23%"
        ],
        [
         "8",
         "23.05.2025",
         "137.824",
         "137.273",
         "137.824",
         "134.997",
         "10,68B",
         "0,40%"
        ],
        [
         "9",
         "22.05.2025",
         "137.273",
         "137.881",
         "138.837",
         "137.088",
         "13,22B",
         "-0,44%"
        ],
        [
         "10",
         "21.05.2025",
         "137.881",
         "140.109",
         "140.109",
         "137.538",
         "10,15B",
         "-1,59%"
        ],
        [
         "11",
         "20.05.2025",
         "140.11",
         "139.636",
         "140.244",
         "138.966",
         "9,65B",
         "0,34%"
        ],
        [
         "12",
         "19.05.2025",
         "139.636",
         "139.186",
         "140.203",
         "138.587",
         "9,59B",
         "0,32%"
        ],
        [
         "13",
         "16.05.2025",
         "139.187",
         "139.335",
         "139.335",
         "137.713",
         "12,11B",
         "-0,11%"
        ],
        [
         "14",
         "15.05.2025",
         "139.334",
         "138.425",
         "139.408",
         "138.321",
         "11,50B",
         "0,66%"
        ],
        [
         "15",
         "14.05.2025",
         "138.423",
         "138.965",
         "139.362",
         "138.228",
         "11,16B",
         "-0,39%"
        ],
        [
         "16",
         "13.05.2025",
         "138.963",
         "136.565",
         "139.419",
         "136.55",
         "13,07B",
         "1,76%"
        ],
        [
         "17",
         "12.05.2025",
         "136.563",
         "136.516",
         "137.519",
         "136.356",
         "10,92B",
         "0,04%"
        ],
        [
         "18",
         "09.05.2025",
         "136.512",
         "136.232",
         "137.286",
         "136.105",
         "13,88B",
         "0,21%"
        ],
        [
         "19",
         "08.05.2025",
         "136.232",
         "133.458",
         "137.635",
         "133.458",
         "17,20B",
         "2,12%"
        ],
        [
         "20",
         "07.05.2025",
         "133.398",
         "133.517",
         "134.11",
         "132.872",
         "9,94B",
         "-0,09%"
        ],
        [
         "21",
         "06.05.2025",
         "133.516",
         "133.499",
         "134.135",
         "133.26",
         "11,14B",
         "0,02%"
        ],
        [
         "22",
         "05.05.2025",
         "133.491",
         "135.131",
         "135.198",
         "133.39",
         "10,80B",
         "-1,22%"
        ],
        [
         "23",
         "02.05.2025",
         "135.134",
         "135.067",
         "135.275",
         "134.355",
         "12,74B",
         "0,05%"
        ],
        [
         "24",
         "30.04.2025",
         "135.067",
         "135.094",
         "135.171",
         "133.955",
         "15,45B",
         "-0,02%"
        ],
        [
         "25",
         "29.04.2025",
         "135.093",
         "135.017",
         "136.15",
         "134.899",
         "12,76B",
         "0,06%"
        ],
        [
         "26",
         "28.04.2025",
         "135.016",
         "134.741",
         "135.709",
         "134.711",
         "11,45B",
         "0,21%"
        ],
        [
         "27",
         "25.04.2025",
         "134.739",
         "134.579",
         "134.992",
         "134.186",
         "13,05B",
         "0,12%"
        ],
        [
         "28",
         "24.04.2025",
         "134.58",
         "132.245",
         "134.938",
         "132.223",
         "14,11B",
         "1,79%"
        ],
        [
         "29",
         "23.04.2025",
         "132.216",
         "130.468",
         "133.318",
         "130.468",
         "11,34B",
         "1,34%"
        ],
        [
         "30",
         "22.04.2025",
         "130.464",
         "129.65",
         "130.877",
         "128.726",
         "8,61B",
         "0,63%"
        ],
        [
         "31",
         "17.04.2025",
         "129.65",
         "128.316",
         "130.091",
         "127.973",
         "9,98B",
         "1,04%"
        ],
        [
         "32",
         "16.04.2025",
         "128.317",
         "129.245",
         "129.605",
         "128.149",
         "11,54B",
         "-0,72%"
        ],
        [
         "33",
         "15.04.2025",
         "129.245",
         "129.452",
         "129.927",
         "128.951",
         "8,84B",
         "-0,16%"
        ],
        [
         "34",
         "14.04.2025",
         "129.454",
         "127.683",
         "129.955",
         "127.683",
         "10,61B",
         "1,39%"
        ],
        [
         "35",
         "11.04.2025",
         "127.682",
         "126.355",
         "128.386",
         "126.078",
         "10,08B",
         "1,05%"
        ],
        [
         "36",
         "10.04.2025",
         "126.355",
         "127.796",
         "127.797",
         "124.895",
         "11,46B",
         "-1,13%"
        ],
        [
         "37",
         "09.04.2025",
         "127.796",
         "123.928",
         "128.649",
         "122.887",
         "16,92B",
         "3,12%"
        ],
        [
         "38",
         "08.04.2025",
         "123.932",
         "125.588",
         "127.652",
         "123.454",
         "12,81B",
         "-1,32%"
        ],
        [
         "39",
         "07.04.2025",
         "125.588",
         "127.229",
         "128.411",
         "123.876",
         "14,05B",
         "-1,31%"
        ],
        [
         "40",
         "04.04.2025",
         "127.256",
         "131.139",
         "131.139",
         "126.466",
         "13,18B",
         "-2,96%"
        ],
        [
         "41",
         "03.04.2025",
         "131.141",
         "131.185",
         "132.552",
         "130.182",
         "12,33B",
         "-0,04%"
        ],
        [
         "42",
         "02.04.2025",
         "131.19",
         "131.151",
         "131.424",
         "130.393",
         "8,82B",
         "0,03%"
        ],
        [
         "43",
         "01.04.2025",
         "131.147",
         "130.267",
         "131.982",
         "130.081",
         "8,97B",
         "0,68%"
        ],
        [
         "44",
         "31.03.2025",
         "130.26",
         "131.9",
         "131.901",
         "130.115",
         "9,99B",
         "-1,25%"
        ],
        [
         "45",
         "28.03.2025",
         "131.902",
         "133.143",
         "133.143",
         "131.315",
         "8,91B",
         "-0,94%"
        ],
        [
         "46",
         "27.03.2025",
         "133.149",
         "132.522",
         "133.904",
         "132.479",
         "10,02B",
         "0,47%"
        ],
        [
         "47",
         "26.03.2025",
         "132.52",
         "132.069",
         "132.984",
         "132.068",
         "9,40B",
         "0,34%"
        ],
        [
         "48",
         "25.03.2025",
         "132.068",
         "131.327",
         "133.471",
         "131.325",
         "9,24B",
         "0,57%"
        ],
        [
         "49",
         "24.03.2025",
         "131.321",
         "132.344",
         "132.424",
         "130.992",
         "8,30B",
         "-0,77%"
        ]
       ],
       "shape": {
        "columns": 7,
        "rows": 602
       }
      },
      "text/html": [
       "<div>\n",
       "<style scoped>\n",
       "    .dataframe tbody tr th:only-of-type {\n",
       "        vertical-align: middle;\n",
       "    }\n",
       "\n",
       "    .dataframe tbody tr th {\n",
       "        vertical-align: top;\n",
       "    }\n",
       "\n",
       "    .dataframe thead th {\n",
       "        text-align: right;\n",
       "    }\n",
       "</style>\n",
       "<table border=\"1\" class=\"dataframe\">\n",
       "  <thead>\n",
       "    <tr style=\"text-align: right;\">\n",
       "      <th></th>\n",
       "      <th>Data</th>\n",
       "      <th>Último</th>\n",
       "      <th>Abertura</th>\n",
       "      <th>Máxima</th>\n",
       "      <th>Mínima</th>\n",
       "      <th>Vol.</th>\n",
       "      <th>Var%</th>\n",
       "    </tr>\n",
       "  </thead>\n",
       "  <tbody>\n",
       "    <tr>\n",
       "      <th>0</th>\n",
       "      <td>04.06.2025</td>\n",
       "      <td>137.002</td>\n",
       "      <td>137.547</td>\n",
       "      <td>138.797</td>\n",
       "      <td>136.695</td>\n",
       "      <td>10,20M</td>\n",
       "      <td>-0,40%</td>\n",
       "    </tr>\n",
       "    <tr>\n",
       "      <th>1</th>\n",
       "      <td>03.06.2025</td>\n",
       "      <td>137.546</td>\n",
       "      <td>136.787</td>\n",
       "      <td>137.672</td>\n",
       "      <td>136.175</td>\n",
       "      <td>9,70B</td>\n",
       "      <td>0,56%</td>\n",
       "    </tr>\n",
       "    <tr>\n",
       "      <th>2</th>\n",
       "      <td>02.06.2025</td>\n",
       "      <td>136.787</td>\n",
       "      <td>137.026</td>\n",
       "      <td>138.471</td>\n",
       "      <td>136.483</td>\n",
       "      <td>9,10B</td>\n",
       "      <td>-0,18%</td>\n",
       "    </tr>\n",
       "    <tr>\n",
       "      <th>3</th>\n",
       "      <td>30.05.2025</td>\n",
       "      <td>137.027</td>\n",
       "      <td>138.546</td>\n",
       "      <td>138.637</td>\n",
       "      <td>136.726</td>\n",
       "      <td>15,14B</td>\n",
       "      <td>-1,09%</td>\n",
       "    </tr>\n",
       "    <tr>\n",
       "      <th>4</th>\n",
       "      <td>29.05.2025</td>\n",
       "      <td>138.534</td>\n",
       "      <td>138.869</td>\n",
       "      <td>139.108</td>\n",
       "      <td>137.993</td>\n",
       "      <td>8,83B</td>\n",
       "      <td>-0,25%</td>\n",
       "    </tr>\n",
       "    <tr>\n",
       "      <th>...</th>\n",
       "      <td>...</td>\n",
       "      <td>...</td>\n",
       "      <td>...</td>\n",
       "      <td>...</td>\n",
       "      <td>...</td>\n",
       "      <td>...</td>\n",
       "      <td>...</td>\n",
       "    </tr>\n",
       "    <tr>\n",
       "      <th>597</th>\n",
       "      <td>10.01.2023</td>\n",
       "      <td>110.817</td>\n",
       "      <td>109.129</td>\n",
       "      <td>111.193</td>\n",
       "      <td>108.478</td>\n",
       "      <td>13,70M</td>\n",
       "      <td>1,55%</td>\n",
       "    </tr>\n",
       "    <tr>\n",
       "      <th>598</th>\n",
       "      <td>09.01.2023</td>\n",
       "      <td>109.130</td>\n",
       "      <td>108.964</td>\n",
       "      <td>109.938</td>\n",
       "      <td>108.134</td>\n",
       "      <td>12,05M</td>\n",
       "      <td>0,15%</td>\n",
       "    </tr>\n",
       "    <tr>\n",
       "      <th>599</th>\n",
       "      <td>06.01.2023</td>\n",
       "      <td>108.964</td>\n",
       "      <td>107.642</td>\n",
       "      <td>109.433</td>\n",
       "      <td>107.642</td>\n",
       "      <td>12,63M</td>\n",
       "      <td>1,23%</td>\n",
       "    </tr>\n",
       "    <tr>\n",
       "      <th>600</th>\n",
       "      <td>05.01.2023</td>\n",
       "      <td>107.641</td>\n",
       "      <td>105.336</td>\n",
       "      <td>107.743</td>\n",
       "      <td>105.333</td>\n",
       "      <td>15,51M</td>\n",
       "      <td>2,19%</td>\n",
       "    </tr>\n",
       "    <tr>\n",
       "      <th>601</th>\n",
       "      <td>04.01.2023</td>\n",
       "      <td>105.334</td>\n",
       "      <td>104.167</td>\n",
       "      <td>105.627</td>\n",
       "      <td>103.915</td>\n",
       "      <td>14,45M</td>\n",
       "      <td>1,12%</td>\n",
       "    </tr>\n",
       "  </tbody>\n",
       "</table>\n",
       "<p>602 rows × 7 columns</p>\n",
       "</div>"
      ],
      "text/plain": [
       "           Data   Último  Abertura   Máxima   Mínima    Vol.    Var%\n",
       "0    04.06.2025  137.002   137.547  138.797  136.695  10,20M  -0,40%\n",
       "1    03.06.2025  137.546   136.787  137.672  136.175   9,70B   0,56%\n",
       "2    02.06.2025  136.787   137.026  138.471  136.483   9,10B  -0,18%\n",
       "3    30.05.2025  137.027   138.546  138.637  136.726  15,14B  -1,09%\n",
       "4    29.05.2025  138.534   138.869  139.108  137.993   8,83B  -0,25%\n",
       "..          ...      ...       ...      ...      ...     ...     ...\n",
       "597  10.01.2023  110.817   109.129  111.193  108.478  13,70M   1,55%\n",
       "598  09.01.2023  109.130   108.964  109.938  108.134  12,05M   0,15%\n",
       "599  06.01.2023  108.964   107.642  109.433  107.642  12,63M   1,23%\n",
       "600  05.01.2023  107.641   105.336  107.743  105.333  15,51M   2,19%\n",
       "601  04.01.2023  105.334   104.167  105.627  103.915  14,45M   1,12%\n",
       "\n",
       "[602 rows x 7 columns]"
      ]
     },
     "execution_count": 47,
     "metadata": {},
     "output_type": "execute_result"
    }
   ],
   "source": [
    "df_ibov_copia = df_ibov.copy()\n",
    "df_ibov_copia"
   ]
  },
  {
   "cell_type": "code",
   "execution_count": 48,
   "id": "6ada0938",
   "metadata": {},
   "outputs": [
    {
     "name": "stdout",
     "output_type": "stream",
     "text": [
      "<class 'pandas.core.frame.DataFrame'>\n",
      "RangeIndex: 602 entries, 0 to 601\n",
      "Data columns (total 7 columns):\n",
      " #   Column    Non-Null Count  Dtype  \n",
      "---  ------    --------------  -----  \n",
      " 0   Data      602 non-null    object \n",
      " 1   Último    602 non-null    float64\n",
      " 2   Abertura  602 non-null    float64\n",
      " 3   Máxima    602 non-null    float64\n",
      " 4   Mínima    602 non-null    float64\n",
      " 5   Vol.      602 non-null    object \n",
      " 6   Var%      602 non-null    object \n",
      "dtypes: float64(4), object(3)\n",
      "memory usage: 33.1+ KB\n"
     ]
    },
    {
     "data": {
      "text/plain": [
       "None"
      ]
     },
     "metadata": {},
     "output_type": "display_data"
    },
    {
     "data": {
      "text/plain": [
       "'Tamanho do dataset: linhas/coluna(602, 7)'"
      ]
     },
     "metadata": {},
     "output_type": "display_data"
    },
    {
     "data": {
      "application/vnd.microsoft.datawrangler.viewer.v0+json": {
       "columns": [
        {
         "name": "index",
         "rawType": "object",
         "type": "string"
        },
        {
         "name": "Último",
         "rawType": "float64",
         "type": "float"
        },
        {
         "name": "Abertura",
         "rawType": "float64",
         "type": "float"
        },
        {
         "name": "Máxima",
         "rawType": "float64",
         "type": "float"
        },
        {
         "name": "Mínima",
         "rawType": "float64",
         "type": "float"
        }
       ],
       "ref": "138915b1-1914-48c5-974c-3b087a9d62cb",
       "rows": [
        [
         "count",
         "602.0",
         "602.0",
         "602.0",
         "602.0"
        ],
        [
         "mean",
         "122.67992358803987",
         "122.6257906976744",
         "123.47487209302327",
         "121.86729401993357"
        ],
        [
         "std",
         "9.312726503514405",
         "9.324911877519666",
         "9.25754418809839",
         "9.368048756407427"
        ],
        [
         "min",
         "97.926",
         "97.926",
         "99.258",
         "96.997"
        ],
        [
         "25%",
         "117.0685",
         "117.03125",
         "117.9605",
         "116.177"
        ],
        [
         "50%",
         "125.3675",
         "125.293",
         "126.206",
         "124.56700000000001"
        ],
        [
         "75%",
         "129.1665",
         "129.125",
         "129.85225000000003",
         "128.209"
        ],
        [
         "max",
         "140.11",
         "140.109",
         "140.382",
         "138.966"
        ]
       ],
       "shape": {
        "columns": 4,
        "rows": 8
       }
      },
      "text/html": [
       "<div>\n",
       "<style scoped>\n",
       "    .dataframe tbody tr th:only-of-type {\n",
       "        vertical-align: middle;\n",
       "    }\n",
       "\n",
       "    .dataframe tbody tr th {\n",
       "        vertical-align: top;\n",
       "    }\n",
       "\n",
       "    .dataframe thead th {\n",
       "        text-align: right;\n",
       "    }\n",
       "</style>\n",
       "<table border=\"1\" class=\"dataframe\">\n",
       "  <thead>\n",
       "    <tr style=\"text-align: right;\">\n",
       "      <th></th>\n",
       "      <th>Último</th>\n",
       "      <th>Abertura</th>\n",
       "      <th>Máxima</th>\n",
       "      <th>Mínima</th>\n",
       "    </tr>\n",
       "  </thead>\n",
       "  <tbody>\n",
       "    <tr>\n",
       "      <th>count</th>\n",
       "      <td>602.000000</td>\n",
       "      <td>602.000000</td>\n",
       "      <td>602.000000</td>\n",
       "      <td>602.000000</td>\n",
       "    </tr>\n",
       "    <tr>\n",
       "      <th>mean</th>\n",
       "      <td>122.679924</td>\n",
       "      <td>122.625791</td>\n",
       "      <td>123.474872</td>\n",
       "      <td>121.867294</td>\n",
       "    </tr>\n",
       "    <tr>\n",
       "      <th>std</th>\n",
       "      <td>9.312727</td>\n",
       "      <td>9.324912</td>\n",
       "      <td>9.257544</td>\n",
       "      <td>9.368049</td>\n",
       "    </tr>\n",
       "    <tr>\n",
       "      <th>min</th>\n",
       "      <td>97.926000</td>\n",
       "      <td>97.926000</td>\n",
       "      <td>99.258000</td>\n",
       "      <td>96.997000</td>\n",
       "    </tr>\n",
       "    <tr>\n",
       "      <th>25%</th>\n",
       "      <td>117.068500</td>\n",
       "      <td>117.031250</td>\n",
       "      <td>117.960500</td>\n",
       "      <td>116.177000</td>\n",
       "    </tr>\n",
       "    <tr>\n",
       "      <th>50%</th>\n",
       "      <td>125.367500</td>\n",
       "      <td>125.293000</td>\n",
       "      <td>126.206000</td>\n",
       "      <td>124.567000</td>\n",
       "    </tr>\n",
       "    <tr>\n",
       "      <th>75%</th>\n",
       "      <td>129.166500</td>\n",
       "      <td>129.125000</td>\n",
       "      <td>129.852250</td>\n",
       "      <td>128.209000</td>\n",
       "    </tr>\n",
       "    <tr>\n",
       "      <th>max</th>\n",
       "      <td>140.110000</td>\n",
       "      <td>140.109000</td>\n",
       "      <td>140.382000</td>\n",
       "      <td>138.966000</td>\n",
       "    </tr>\n",
       "  </tbody>\n",
       "</table>\n",
       "</div>"
      ],
      "text/plain": [
       "           Último    Abertura      Máxima      Mínima\n",
       "count  602.000000  602.000000  602.000000  602.000000\n",
       "mean   122.679924  122.625791  123.474872  121.867294\n",
       "std      9.312727    9.324912    9.257544    9.368049\n",
       "min     97.926000   97.926000   99.258000   96.997000\n",
       "25%    117.068500  117.031250  117.960500  116.177000\n",
       "50%    125.367500  125.293000  126.206000  124.567000\n",
       "75%    129.166500  129.125000  129.852250  128.209000\n",
       "max    140.110000  140.109000  140.382000  138.966000"
      ]
     },
     "metadata": {},
     "output_type": "display_data"
    }
   ],
   "source": [
    "display(df_ibov_copia.info())\n",
    "display(f'Tamanho do dataset: linhas/coluna{df_ibov_copia.shape}')\n",
    "display(df_ibov_copia.describe())"
   ]
  },
  {
   "cell_type": "markdown",
   "id": "90bee7be",
   "metadata": {},
   "source": [
    "### Observando as informações dos dados, para melhor manipulação futura devemos converter a coluna **Data** para DateTime e a coluna **Vol.** e **Var%** para Float\n",
    "\n",
    "1. Qual é a média de fechamento nos ultimos 2 ano?  \n",
    "* 122 mil pontos  \n",
    "2. O quanto os pontos estão dispersos da média?  \n",
    "* mais ou menos 9.3mil pontos\n",
    "3. Quais foi a mínima e a máxima em pontos que o IBOVESPA alcançou nesses 2 ano?  \n",
    "* **minima** de 97.926 pontos e uma **máxima** de 140.11 pontos  \n",
    "4. A mediana está próxima da média de pontos?  \n",
    "* Sim a **mediana** mais ou menos 3 mil pontos ficando dentro do desvio padrão de fechamentodo indice  \n",
    "\n",
    "\n",
    "### Uma análise básica exploratória, como uma **mediana** próxima da média nos mostrando que não tivemos umas dispersão significativa vamos ver mais a frente mais da para perceber que não tivemos um outlier nesse periodo"
   ]
  },
  {
   "cell_type": "code",
   "execution_count": 49,
   "id": "0e2af64b",
   "metadata": {},
   "outputs": [],
   "source": [
    "# Formatando caracteristica Data e Convertendo em datetime\n",
    "df_ibov_copia['Data'] = pd.to_datetime(df_ibov_copia['Data'], format = '%d.%m.%Y').dt.strftime('%d/%m/%Y')\n",
    "df_ibov_copia['Data'] = pd.to_datetime(df_ibov_copia['Data'], format='%d/%m/%Y')"
   ]
  },
  {
   "cell_type": "code",
   "execution_count": 50,
   "id": "f8555649",
   "metadata": {},
   "outputs": [],
   "source": [
    "# Função para conversão dos dados de Volume de string para float\n",
    "## OBS.: Caso acertando com o grupo e vermos a necessidade de mudar par outro tipo fazer a mudança\n",
    "def converter_volume(vol):\n",
    "    if pd.isna(vol):\n",
    "        return np.nan\n",
    "    vol = vol.upper().replace(',', '').strip()\n",
    "    if vol.endswith('B'):\n",
    "        return float(vol[:-1]) * 1e9\n",
    "    elif vol.endswith('M'):\n",
    "        return float(vol[:-1]) * 1e6\n",
    "    elif vol.endswith('K'):\n",
    "        return float(vol[:-1]) * 1e3\n",
    "    else:\n",
    "        return float(vol)\n",
    "        \n",
    "df_ibov_copia['Vol.'] = df_ibov_copia['Vol.'].apply(converter_volume)"
   ]
  },
  {
   "cell_type": "code",
   "execution_count": 51,
   "id": "5f0dca68",
   "metadata": {},
   "outputs": [],
   "source": [
    "df_ibov_copia['Var%'] = df_ibov_copia['Var%'].str.replace('%', '').str.replace(',', '.').astype(float)"
   ]
  },
  {
   "cell_type": "code",
   "execution_count": 52,
   "id": "0ba486e8",
   "metadata": {},
   "outputs": [
    {
     "name": "stdout",
     "output_type": "stream",
     "text": [
      "Vol.    float64\n",
      "Var%    float64\n",
      "dtype: object\n",
      "           Vol.  Var%\n",
      "0  1.020000e+09 -0.40\n",
      "1  9.700000e+11  0.56\n",
      "2  9.100000e+11 -0.18\n",
      "3  1.514000e+12 -1.09\n",
      "4  8.830000e+11 -0.25\n"
     ]
    }
   ],
   "source": [
    "print(df_ibov_copia[['Vol.', 'Var%']].dtypes)\n",
    "print(df_ibov_copia[['Vol.', 'Var%']].head())"
   ]
  },
  {
   "cell_type": "markdown",
   "id": "f1ade0b1",
   "metadata": {},
   "source": [
    "### Criar uma caracteristica (coluna) de fechamento positivo(1) ou negativo(0) utilizando a caracteristica [Último] como referência"
   ]
  },
  {
   "cell_type": "code",
   "execution_count": 10,
   "id": "783cc447",
   "metadata": {},
   "outputs": [
    {
     "data": {
      "application/vnd.microsoft.datawrangler.viewer.v0+json": {
       "columns": [
        {
         "name": "index",
         "rawType": "int64",
         "type": "integer"
        },
        {
         "name": "Preço",
         "rawType": "int64",
         "type": "integer"
        },
        {
         "name": "Anterior",
         "rawType": "float64",
         "type": "float"
        },
        {
         "name": "Seguinte",
         "rawType": "float64",
         "type": "float"
        }
       ],
       "ref": "3ff5ff92-b7d8-428d-8b4a-25245a7e414e",
       "rows": [
        [
         "0",
         "100",
         null,
         "102.0"
        ],
        [
         "1",
         "102",
         "100.0",
         "101.0"
        ],
        [
         "2",
         "101",
         "102.0",
         "105.0"
        ],
        [
         "3",
         "105",
         "101.0",
         null
        ]
       ],
       "shape": {
        "columns": 3,
        "rows": 4
       }
      },
      "text/html": [
       "<div>\n",
       "<style scoped>\n",
       "    .dataframe tbody tr th:only-of-type {\n",
       "        vertical-align: middle;\n",
       "    }\n",
       "\n",
       "    .dataframe tbody tr th {\n",
       "        vertical-align: top;\n",
       "    }\n",
       "\n",
       "    .dataframe thead th {\n",
       "        text-align: right;\n",
       "    }\n",
       "</style>\n",
       "<table border=\"1\" class=\"dataframe\">\n",
       "  <thead>\n",
       "    <tr style=\"text-align: right;\">\n",
       "      <th></th>\n",
       "      <th>Preço</th>\n",
       "      <th>Anterior</th>\n",
       "      <th>Seguinte</th>\n",
       "    </tr>\n",
       "  </thead>\n",
       "  <tbody>\n",
       "    <tr>\n",
       "      <th>0</th>\n",
       "      <td>100</td>\n",
       "      <td>NaN</td>\n",
       "      <td>102.0</td>\n",
       "    </tr>\n",
       "    <tr>\n",
       "      <th>1</th>\n",
       "      <td>102</td>\n",
       "      <td>100.0</td>\n",
       "      <td>101.0</td>\n",
       "    </tr>\n",
       "    <tr>\n",
       "      <th>2</th>\n",
       "      <td>101</td>\n",
       "      <td>102.0</td>\n",
       "      <td>105.0</td>\n",
       "    </tr>\n",
       "    <tr>\n",
       "      <th>3</th>\n",
       "      <td>105</td>\n",
       "      <td>101.0</td>\n",
       "      <td>NaN</td>\n",
       "    </tr>\n",
       "  </tbody>\n",
       "</table>\n",
       "</div>"
      ],
      "text/plain": [
       "   Preço  Anterior  Seguinte\n",
       "0    100       NaN     102.0\n",
       "1    102     100.0     101.0\n",
       "2    101     102.0     105.0\n",
       "3    105     101.0       NaN"
      ]
     },
     "execution_count": 10,
     "metadata": {},
     "output_type": "execute_result"
    }
   ],
   "source": [
    "'''Exemplo do metodo Shift ele irá varrer o data frame e conforme o parametro colocado nele ele irá fazer o deslocamento\n",
    "para linha seguinte ou anterior\n",
    "Ex.: Shift(n) -> Compara valores anteriores (n>0)\n",
    "     Shift(n) -> Compara valores seguintes (n<0) Vamos usar este para buscar valores seguintes\n",
    "     Shift(n) -> Compara com o dia anterior (n=1)\n",
    "\n",
    "''' \n",
    "# Exemplos de uso\n",
    "df = pd.DataFrame({'Preço': [100, 102, 101, 105]})\n",
    "df['Anterior'] = df['Preço'].shift(1)\n",
    "df['Seguinte'] = df['Preço'].shift(-1)\n",
    "\n",
    "df\n",
    "\n",
    "## Não tem a necessidade de Rodar esse código"
   ]
  },
  {
   "cell_type": "code",
   "execution_count": 11,
   "id": "d41991b2",
   "metadata": {},
   "outputs": [
    {
     "data": {
      "text/plain": [
       "'fechamento = df_ibov[\\'Último\\'].values\\nfechamento_categoria = []\\n\\nfor i in range(len(fechamento) - 1):\\n    if fechamento[i + 1] > fechamento[i]:\\n        fechamento_categoria.append(1)\\n    else:\\n        fechamento_categoria.append(0)\\n\\n# Como comparamos até o penúltimo, o último dia não tem \"dia seguinte\"\\nfechamento_categoria.append(None)  # ou np.nan se preferir\\n\\n# Adiciona a nova coluna no DataFrame\\n#df_ibov[\\'Subiu_dia_seguinte\\'] = fechamento_categoria\\n\\nprint(fechamento_categoria)'"
      ]
     },
     "execution_count": 11,
     "metadata": {},
     "output_type": "execute_result"
    }
   ],
   "source": [
    "# Caso quisermos utilizar o loop for\n",
    "\n",
    "'''fechamento = df_ibov['Último'].values\n",
    "fechamento_categoria = []\n",
    "\n",
    "for i in range(len(fechamento) - 1):\n",
    "    if fechamento[i + 1] > fechamento[i]:\n",
    "        fechamento_categoria.append(1)\n",
    "    else:\n",
    "        fechamento_categoria.append(0)\n",
    "\n",
    "# Como comparamos até o penúltimo, o último dia não tem \"dia seguinte\"\n",
    "fechamento_categoria.append(None)  # ou np.nan se preferir\n",
    "\n",
    "# Adiciona a nova coluna no DataFrame\n",
    "#df_ibov['Subiu_dia_seguinte'] = fechamento_categoria\n",
    "\n",
    "print(fechamento_categoria)'''"
   ]
  },
  {
   "cell_type": "code",
   "execution_count": 53,
   "id": "a88ccdc2",
   "metadata": {},
   "outputs": [],
   "source": [
    "# Renomeando nome da Coluna Último para Fechamento_Diario\n",
    "df_ibov_copia = df_ibov_copia.rename(columns={\"Último\": \"Fechamento_Diario\"})"
   ]
  },
  {
   "cell_type": "code",
   "execution_count": 54,
   "id": "aca2a44b",
   "metadata": {},
   "outputs": [],
   "source": [
    "# Cria a coluna fechamento com valores Binarios 0 para negativo e 1 para positivo\n",
    "df_ibov_copia['Tendencia'] = (df_ibov['Último'].shift(-1) > df_ibov['Último']).astype('Int64')"
   ]
  },
  {
   "cell_type": "code",
   "execution_count": 55,
   "id": "fd3ab0c0",
   "metadata": {},
   "outputs": [
    {
     "data": {
      "application/vnd.microsoft.datawrangler.viewer.v0+json": {
       "columns": [
        {
         "name": "Data",
         "rawType": "datetime64[ns]",
         "type": "datetime"
        },
        {
         "name": "Fechamento_Diario",
         "rawType": "float64",
         "type": "float"
        },
        {
         "name": "Abertura",
         "rawType": "float64",
         "type": "float"
        },
        {
         "name": "Máxima",
         "rawType": "float64",
         "type": "float"
        },
        {
         "name": "Mínima",
         "rawType": "float64",
         "type": "float"
        },
        {
         "name": "Vol.",
         "rawType": "float64",
         "type": "float"
        },
        {
         "name": "Var%",
         "rawType": "float64",
         "type": "float"
        },
        {
         "name": "Tendencia",
         "rawType": "Int64",
         "type": "integer"
        }
       ],
       "ref": "5b7c21ef-a177-4e6b-8d7c-6f6505c05709",
       "rows": [
        [
         "2025-06-04 00:00:00",
         "137.002",
         "137.547",
         "138.797",
         "136.695",
         "1020000000.0",
         "-0.4",
         "1"
        ],
        [
         "2025-06-03 00:00:00",
         "137.546",
         "136.787",
         "137.672",
         "136.175",
         "970000000000.0",
         "0.56",
         "0"
        ],
        [
         "2025-06-02 00:00:00",
         "136.787",
         "137.026",
         "138.471",
         "136.483",
         "910000000000.0",
         "-0.18",
         "1"
        ],
        [
         "2025-05-30 00:00:00",
         "137.027",
         "138.546",
         "138.637",
         "136.726",
         "1514000000000.0",
         "-1.09",
         "1"
        ],
        [
         "2025-05-29 00:00:00",
         "138.534",
         "138.869",
         "139.108",
         "137.993",
         "883000000000.0",
         "-0.25",
         "1"
        ],
        [
         "2025-05-28 00:00:00",
         "138.888",
         "139.541",
         "139.547",
         "138.58",
         "973000000000.0",
         "-0.47",
         "1"
        ],
        [
         "2025-05-27 00:00:00",
         "139.541",
         "138.136",
         "140.382",
         "138.136",
         "1119000000000.0",
         "1.02",
         "0"
        ],
        [
         "2025-05-26 00:00:00",
         "138.136",
         "137.824",
         "138.8",
         "137.795",
         "555000000000.0",
         "0.23",
         "0"
        ],
        [
         "2025-05-23 00:00:00",
         "137.824",
         "137.273",
         "137.824",
         "134.997",
         "1068000000000.0",
         "0.4",
         "0"
        ],
        [
         "2025-05-22 00:00:00",
         "137.273",
         "137.881",
         "138.837",
         "137.088",
         "1322000000000.0",
         "-0.44",
         "1"
        ],
        [
         "2025-05-21 00:00:00",
         "137.881",
         "140.109",
         "140.109",
         "137.538",
         "1015000000000.0",
         "-1.59",
         "1"
        ],
        [
         "2025-05-20 00:00:00",
         "140.11",
         "139.636",
         "140.244",
         "138.966",
         "965000000000.0",
         "0.34",
         "0"
        ],
        [
         "2025-05-19 00:00:00",
         "139.636",
         "139.186",
         "140.203",
         "138.587",
         "959000000000.0",
         "0.32",
         "0"
        ],
        [
         "2025-05-16 00:00:00",
         "139.187",
         "139.335",
         "139.335",
         "137.713",
         "1211000000000.0",
         "-0.11",
         "1"
        ],
        [
         "2025-05-15 00:00:00",
         "139.334",
         "138.425",
         "139.408",
         "138.321",
         "1150000000000.0",
         "0.66",
         "0"
        ],
        [
         "2025-05-14 00:00:00",
         "138.423",
         "138.965",
         "139.362",
         "138.228",
         "1116000000000.0",
         "-0.39",
         "1"
        ],
        [
         "2025-05-13 00:00:00",
         "138.963",
         "136.565",
         "139.419",
         "136.55",
         "1307000000000.0",
         "1.76",
         "0"
        ],
        [
         "2025-05-12 00:00:00",
         "136.563",
         "136.516",
         "137.519",
         "136.356",
         "1092000000000.0",
         "0.04",
         "0"
        ],
        [
         "2025-05-09 00:00:00",
         "136.512",
         "136.232",
         "137.286",
         "136.105",
         "1388000000000.0",
         "0.21",
         "0"
        ],
        [
         "2025-05-08 00:00:00",
         "136.232",
         "133.458",
         "137.635",
         "133.458",
         "1720000000000.0",
         "2.12",
         "0"
        ],
        [
         "2025-05-07 00:00:00",
         "133.398",
         "133.517",
         "134.11",
         "132.872",
         "994000000000.0",
         "-0.09",
         "1"
        ],
        [
         "2025-05-06 00:00:00",
         "133.516",
         "133.499",
         "134.135",
         "133.26",
         "1114000000000.0",
         "0.02",
         "0"
        ],
        [
         "2025-05-05 00:00:00",
         "133.491",
         "135.131",
         "135.198",
         "133.39",
         "1080000000000.0",
         "-1.22",
         "1"
        ],
        [
         "2025-05-02 00:00:00",
         "135.134",
         "135.067",
         "135.275",
         "134.355",
         "1274000000000.0",
         "0.05",
         "0"
        ],
        [
         "2025-04-30 00:00:00",
         "135.067",
         "135.094",
         "135.171",
         "133.955",
         "1545000000000.0",
         "-0.02",
         "1"
        ],
        [
         "2025-04-29 00:00:00",
         "135.093",
         "135.017",
         "136.15",
         "134.899",
         "1276000000000.0",
         "0.06",
         "0"
        ],
        [
         "2025-04-28 00:00:00",
         "135.016",
         "134.741",
         "135.709",
         "134.711",
         "1145000000000.0",
         "0.21",
         "0"
        ],
        [
         "2025-04-25 00:00:00",
         "134.739",
         "134.579",
         "134.992",
         "134.186",
         "1305000000000.0",
         "0.12",
         "0"
        ],
        [
         "2025-04-24 00:00:00",
         "134.58",
         "132.245",
         "134.938",
         "132.223",
         "1411000000000.0",
         "1.79",
         "0"
        ],
        [
         "2025-04-23 00:00:00",
         "132.216",
         "130.468",
         "133.318",
         "130.468",
         "1134000000000.0",
         "1.34",
         "0"
        ],
        [
         "2025-04-22 00:00:00",
         "130.464",
         "129.65",
         "130.877",
         "128.726",
         "861000000000.0",
         "0.63",
         "0"
        ],
        [
         "2025-04-17 00:00:00",
         "129.65",
         "128.316",
         "130.091",
         "127.973",
         "998000000000.0",
         "1.04",
         "0"
        ],
        [
         "2025-04-16 00:00:00",
         "128.317",
         "129.245",
         "129.605",
         "128.149",
         "1154000000000.0",
         "-0.72",
         "1"
        ],
        [
         "2025-04-15 00:00:00",
         "129.245",
         "129.452",
         "129.927",
         "128.951",
         "884000000000.0",
         "-0.16",
         "1"
        ],
        [
         "2025-04-14 00:00:00",
         "129.454",
         "127.683",
         "129.955",
         "127.683",
         "1061000000000.0",
         "1.39",
         "0"
        ],
        [
         "2025-04-11 00:00:00",
         "127.682",
         "126.355",
         "128.386",
         "126.078",
         "1008000000000.0",
         "1.05",
         "0"
        ],
        [
         "2025-04-10 00:00:00",
         "126.355",
         "127.796",
         "127.797",
         "124.895",
         "1146000000000.0",
         "-1.13",
         "1"
        ],
        [
         "2025-04-09 00:00:00",
         "127.796",
         "123.928",
         "128.649",
         "122.887",
         "1692000000000.0",
         "3.12",
         "0"
        ],
        [
         "2025-04-08 00:00:00",
         "123.932",
         "125.588",
         "127.652",
         "123.454",
         "1281000000000.0",
         "-1.32",
         "1"
        ],
        [
         "2025-04-07 00:00:00",
         "125.588",
         "127.229",
         "128.411",
         "123.876",
         "1405000000000.0",
         "-1.31",
         "1"
        ],
        [
         "2025-04-04 00:00:00",
         "127.256",
         "131.139",
         "131.139",
         "126.466",
         "1318000000000.0",
         "-2.96",
         "1"
        ],
        [
         "2025-04-03 00:00:00",
         "131.141",
         "131.185",
         "132.552",
         "130.182",
         "1233000000000.0",
         "-0.04",
         "1"
        ],
        [
         "2025-04-02 00:00:00",
         "131.19",
         "131.151",
         "131.424",
         "130.393",
         "882000000000.0",
         "0.03",
         "0"
        ],
        [
         "2025-04-01 00:00:00",
         "131.147",
         "130.267",
         "131.982",
         "130.081",
         "897000000000.0",
         "0.68",
         "0"
        ],
        [
         "2025-03-31 00:00:00",
         "130.26",
         "131.9",
         "131.901",
         "130.115",
         "999000000000.0",
         "-1.25",
         "1"
        ],
        [
         "2025-03-28 00:00:00",
         "131.902",
         "133.143",
         "133.143",
         "131.315",
         "891000000000.0",
         "-0.94",
         "1"
        ],
        [
         "2025-03-27 00:00:00",
         "133.149",
         "132.522",
         "133.904",
         "132.479",
         "1002000000000.0",
         "0.47",
         "0"
        ],
        [
         "2025-03-26 00:00:00",
         "132.52",
         "132.069",
         "132.984",
         "132.068",
         "940000000000.0",
         "0.34",
         "0"
        ],
        [
         "2025-03-25 00:00:00",
         "132.068",
         "131.327",
         "133.471",
         "131.325",
         "924000000000.0",
         "0.57",
         "0"
        ],
        [
         "2025-03-24 00:00:00",
         "131.321",
         "132.344",
         "132.424",
         "130.992",
         "830000000000.0",
         "-0.77",
         "1"
        ]
       ],
       "shape": {
        "columns": 7,
        "rows": 602
       }
      },
      "text/html": [
       "<div>\n",
       "<style scoped>\n",
       "    .dataframe tbody tr th:only-of-type {\n",
       "        vertical-align: middle;\n",
       "    }\n",
       "\n",
       "    .dataframe tbody tr th {\n",
       "        vertical-align: top;\n",
       "    }\n",
       "\n",
       "    .dataframe thead th {\n",
       "        text-align: right;\n",
       "    }\n",
       "</style>\n",
       "<table border=\"1\" class=\"dataframe\">\n",
       "  <thead>\n",
       "    <tr style=\"text-align: right;\">\n",
       "      <th></th>\n",
       "      <th>Fechamento_Diario</th>\n",
       "      <th>Abertura</th>\n",
       "      <th>Máxima</th>\n",
       "      <th>Mínima</th>\n",
       "      <th>Vol.</th>\n",
       "      <th>Var%</th>\n",
       "      <th>Tendencia</th>\n",
       "    </tr>\n",
       "    <tr>\n",
       "      <th>Data</th>\n",
       "      <th></th>\n",
       "      <th></th>\n",
       "      <th></th>\n",
       "      <th></th>\n",
       "      <th></th>\n",
       "      <th></th>\n",
       "      <th></th>\n",
       "    </tr>\n",
       "  </thead>\n",
       "  <tbody>\n",
       "    <tr>\n",
       "      <th>2025-06-04</th>\n",
       "      <td>137.002</td>\n",
       "      <td>137.547</td>\n",
       "      <td>138.797</td>\n",
       "      <td>136.695</td>\n",
       "      <td>1.020000e+09</td>\n",
       "      <td>-0.40</td>\n",
       "      <td>1</td>\n",
       "    </tr>\n",
       "    <tr>\n",
       "      <th>2025-06-03</th>\n",
       "      <td>137.546</td>\n",
       "      <td>136.787</td>\n",
       "      <td>137.672</td>\n",
       "      <td>136.175</td>\n",
       "      <td>9.700000e+11</td>\n",
       "      <td>0.56</td>\n",
       "      <td>0</td>\n",
       "    </tr>\n",
       "    <tr>\n",
       "      <th>2025-06-02</th>\n",
       "      <td>136.787</td>\n",
       "      <td>137.026</td>\n",
       "      <td>138.471</td>\n",
       "      <td>136.483</td>\n",
       "      <td>9.100000e+11</td>\n",
       "      <td>-0.18</td>\n",
       "      <td>1</td>\n",
       "    </tr>\n",
       "    <tr>\n",
       "      <th>2025-05-30</th>\n",
       "      <td>137.027</td>\n",
       "      <td>138.546</td>\n",
       "      <td>138.637</td>\n",
       "      <td>136.726</td>\n",
       "      <td>1.514000e+12</td>\n",
       "      <td>-1.09</td>\n",
       "      <td>1</td>\n",
       "    </tr>\n",
       "    <tr>\n",
       "      <th>2025-05-29</th>\n",
       "      <td>138.534</td>\n",
       "      <td>138.869</td>\n",
       "      <td>139.108</td>\n",
       "      <td>137.993</td>\n",
       "      <td>8.830000e+11</td>\n",
       "      <td>-0.25</td>\n",
       "      <td>1</td>\n",
       "    </tr>\n",
       "    <tr>\n",
       "      <th>...</th>\n",
       "      <td>...</td>\n",
       "      <td>...</td>\n",
       "      <td>...</td>\n",
       "      <td>...</td>\n",
       "      <td>...</td>\n",
       "      <td>...</td>\n",
       "      <td>...</td>\n",
       "    </tr>\n",
       "    <tr>\n",
       "      <th>2023-01-10</th>\n",
       "      <td>110.817</td>\n",
       "      <td>109.129</td>\n",
       "      <td>111.193</td>\n",
       "      <td>108.478</td>\n",
       "      <td>1.370000e+09</td>\n",
       "      <td>1.55</td>\n",
       "      <td>0</td>\n",
       "    </tr>\n",
       "    <tr>\n",
       "      <th>2023-01-09</th>\n",
       "      <td>109.130</td>\n",
       "      <td>108.964</td>\n",
       "      <td>109.938</td>\n",
       "      <td>108.134</td>\n",
       "      <td>1.205000e+09</td>\n",
       "      <td>0.15</td>\n",
       "      <td>0</td>\n",
       "    </tr>\n",
       "    <tr>\n",
       "      <th>2023-01-06</th>\n",
       "      <td>108.964</td>\n",
       "      <td>107.642</td>\n",
       "      <td>109.433</td>\n",
       "      <td>107.642</td>\n",
       "      <td>1.263000e+09</td>\n",
       "      <td>1.23</td>\n",
       "      <td>0</td>\n",
       "    </tr>\n",
       "    <tr>\n",
       "      <th>2023-01-05</th>\n",
       "      <td>107.641</td>\n",
       "      <td>105.336</td>\n",
       "      <td>107.743</td>\n",
       "      <td>105.333</td>\n",
       "      <td>1.551000e+09</td>\n",
       "      <td>2.19</td>\n",
       "      <td>0</td>\n",
       "    </tr>\n",
       "    <tr>\n",
       "      <th>2023-01-04</th>\n",
       "      <td>105.334</td>\n",
       "      <td>104.167</td>\n",
       "      <td>105.627</td>\n",
       "      <td>103.915</td>\n",
       "      <td>1.445000e+09</td>\n",
       "      <td>1.12</td>\n",
       "      <td>0</td>\n",
       "    </tr>\n",
       "  </tbody>\n",
       "</table>\n",
       "<p>602 rows × 7 columns</p>\n",
       "</div>"
      ],
      "text/plain": [
       "            Fechamento_Diario  Abertura   Máxima   Mínima          Vol.  Var%  \\\n",
       "Data                                                                            \n",
       "2025-06-04            137.002   137.547  138.797  136.695  1.020000e+09 -0.40   \n",
       "2025-06-03            137.546   136.787  137.672  136.175  9.700000e+11  0.56   \n",
       "2025-06-02            136.787   137.026  138.471  136.483  9.100000e+11 -0.18   \n",
       "2025-05-30            137.027   138.546  138.637  136.726  1.514000e+12 -1.09   \n",
       "2025-05-29            138.534   138.869  139.108  137.993  8.830000e+11 -0.25   \n",
       "...                       ...       ...      ...      ...           ...   ...   \n",
       "2023-01-10            110.817   109.129  111.193  108.478  1.370000e+09  1.55   \n",
       "2023-01-09            109.130   108.964  109.938  108.134  1.205000e+09  0.15   \n",
       "2023-01-06            108.964   107.642  109.433  107.642  1.263000e+09  1.23   \n",
       "2023-01-05            107.641   105.336  107.743  105.333  1.551000e+09  2.19   \n",
       "2023-01-04            105.334   104.167  105.627  103.915  1.445000e+09  1.12   \n",
       "\n",
       "            Tendencia  \n",
       "Data                   \n",
       "2025-06-04          1  \n",
       "2025-06-03          0  \n",
       "2025-06-02          1  \n",
       "2025-05-30          1  \n",
       "2025-05-29          1  \n",
       "...               ...  \n",
       "2023-01-10          0  \n",
       "2023-01-09          0  \n",
       "2023-01-06          0  \n",
       "2023-01-05          0  \n",
       "2023-01-04          0  \n",
       "\n",
       "[602 rows x 7 columns]"
      ]
     },
     "execution_count": 55,
     "metadata": {},
     "output_type": "execute_result"
    }
   ],
   "source": [
    "# Setando data como indice ()index\n",
    "df_ibov_copia = df_ibov_copia.set_index('Data')\n",
    "df_ibov_copia"
   ]
  },
  {
   "cell_type": "code",
   "execution_count": 35,
   "id": "775ac60f",
   "metadata": {},
   "outputs": [
    {
     "data": {
      "application/vnd.microsoft.datawrangler.viewer.v0+json": {
       "columns": [
        {
         "name": "index",
         "rawType": "object",
         "type": "string"
        },
        {
         "name": "0",
         "rawType": "int64",
         "type": "integer"
        }
       ],
       "ref": "6b79a44b-b014-44e5-bd49-1d7882514c18",
       "rows": [
        [
         "Fechamento_Diario",
         "0"
        ],
        [
         "Abertura",
         "0"
        ],
        [
         "Máxima",
         "0"
        ],
        [
         "Mínima",
         "0"
        ],
        [
         "Vol.",
         "0"
        ],
        [
         "Var%",
         "0"
        ],
        [
         "Fechamento_Binario",
         "0"
        ]
       ],
       "shape": {
        "columns": 1,
        "rows": 7
       }
      },
      "text/plain": [
       "Fechamento_Diario     0\n",
       "Abertura              0\n",
       "Máxima                0\n",
       "Mínima                0\n",
       "Vol.                  0\n",
       "Var%                  0\n",
       "Fechamento_Binario    0\n",
       "dtype: int64"
      ]
     },
     "execution_count": 35,
     "metadata": {},
     "output_type": "execute_result"
    }
   ],
   "source": [
    "# Existe dados Nulos\n",
    "df_ibov_copia.isnull().sum()"
   ]
  },
  {
   "cell_type": "code",
   "execution_count": 36,
   "id": "2debccdb",
   "metadata": {},
   "outputs": [
    {
     "name": "stdout",
     "output_type": "stream",
     "text": [
      "Data Inicial: 2023-01-04 00:00:00\n",
      "Data Inicial: 2025-06-04 00:00:00\n"
     ]
    }
   ],
   "source": [
    "# Inicio e fim do ano de extraidos do dataset\n",
    "print(f'Data Inicial: {df_ibov_copia.index.min()}')\n",
    "print(f'Data Inicial: {df_ibov_copia.index.max()}')"
   ]
  },
  {
   "cell_type": "code",
   "execution_count": 37,
   "id": "2b5f96dd",
   "metadata": {},
   "outputs": [
    {
     "data": {
      "text/plain": [
       "np.int64(0)"
      ]
     },
     "execution_count": 37,
     "metadata": {},
     "output_type": "execute_result"
    }
   ],
   "source": [
    "# Temos dados duplicados\n",
    "df_ibov_copia.duplicated().sum()"
   ]
  },
  {
   "cell_type": "markdown",
   "id": "037c6976",
   "metadata": {},
   "source": [
    "O %b é um código de formatação de datas que representa o nome abreviado do mês, como:\n",
    "\n",
    "Código\tResultado Exemplo  \n",
    "%b\tJan, Feb, Mar...  \n",
    "%B\tJanuary, February, March... (nome completo do mês)  \n",
    "%m\t01, 02, 03... (número do mês com dois dígitos)  \n",
    "%Y\t2025 (ano com quatro dígitos)  \n",
    "%y\t25 (ano com dois dígitos)  "
   ]
  },
  {
   "cell_type": "code",
   "execution_count": 77,
   "id": "15252bb0",
   "metadata": {},
   "outputs": [
    {
     "data": {
      "image/png": "[encoded data removed]",
      "text/plain": [
       "<Figure size 1200x600 with 1 Axes>"
      ]
     },
     "metadata": {},
     "output_type": "display_data"
    }
   ],
   "source": [
    "import matplotlib.dates as mdates\n",
    "\n",
    "# Gráfico de linha\n",
    "fig, axes = plt.subplots(figsize=(12,6))\n",
    "\n",
    "sns.lineplot(data=df_ibov_copia, x=df_ibov_copia.index, y='Fechamento_Diario', ax=axes)\n",
    "\n",
    "# Formatação do eixo X para mostrar um rótulo por mês\n",
    "axes.xaxis.set_major_locator(mdates.MonthLocator(interval=1))  # Um tick por mês %b\tJan, Feb, Mar...\n",
    "axes.xaxis.set_major_formatter(mdates.DateFormatter('%b/%Y'))  # Exibe como Jan/2024\n",
    "\n",
    "# Rotaciona os rótulos para melhor visualização\n",
    "plt.setp(axes.get_xticklabels(), rotation=45, ha='right')\n",
    "\n",
    "axes.set_xlabel('Ano')\n",
    "axes.set_ylabel('Fechamento Diário (Milhar)')\n",
    "axes.set_title('Fechamento IBOVESPA dos últimos 2 anos')\n",
    "sns.despine()\n",
    "plt.show()"
   ]
  },
  {
   "cell_type": "markdown",
   "id": "5166034a",
   "metadata": {},
   "source": [
    "### **O gráfico de linha em ralação ao tempo nos mostra que o IBOVESPA vem am uma tendência de alta rompendo topos atrás de todos**"
   ]
  },
  {
   "cell_type": "code",
   "execution_count": null,
   "id": "eef63c18",
   "metadata": {},
   "outputs": [
    {
     "data": {
      "image/png": "[encoded data removed]",
      "text/plain": [
       "<Figure size 1200x600 with 1 Axes>"
      ]
     },
     "metadata": {},
     "output_type": "display_data"
    }
   ],
   "source": [
    "import matplotlib.dates as mdates\n",
    "\n",
    "# Gráfico de de Dispersão\n",
    "fig, axes = plt.subplots(figsize=(12,6))\n",
    "\n",
    "sns.scatterplot(data=df_ibov_copia, x=df_ibov_copia.index, y='Var%', ax=axes)\n",
    "\n",
    "# Linha horizontal na média da variação\n",
    "media = df_ibov_copia['Var%'].mean()\n",
    "axes.axhline(media, color='red', linestyle='--', linewidth=2, label=f'Média ({media:.2f}%)')\n",
    "\n",
    "# Formatação do eixo X para mostrar um rótulo por mês\n",
    "axes.xaxis.set_major_locator(mdates.MonthLocator(interval=1))  # Um tick por mês %b\tJan, Feb, Mar...\n",
    "axes.xaxis.set_major_formatter(mdates.DateFormatter('%b/%Y'))  # Exibe como Jan/2024\n",
    "\n",
    "# Rotaciona os rótulos para melhor visualização\n",
    "plt.setp(axes.get_xticklabels(), rotation=45, ha='right')\n",
    "\n",
    "axes.set_xlabel('Ano')\n",
    "axes.set_ylabel('Variação em Porcentagem')\n",
    "axes.set_title('Variação IBOVESPA dos últimos 2 anos')\n",
    "plt.show()"
   ]
  },
  {
   "cell_type": "code",
   "execution_count": 76,
   "id": "536d9518",
   "metadata": {},
   "outputs": [
    {
     "data": {
      "image/png": "[encoded data removed]",
      "text/plain": [
       "<Figure size 1200x600 with 1 Axes>"
      ]
     },
     "metadata": {},
     "output_type": "display_data"
    }
   ],
   "source": [
    "# Quantidade de dias que o IBOVESPA teve o fechamento Positivo e Negativo\n",
    "\n",
    "# Substitui 0 por 'Negativo' e 1 por 'Positivo'\n",
    "df_temp = df_ibov_copia.copy()\n",
    "df_temp['Tendencia'] = df_temp['Tendencia'].map({0: 'Negativo', 1: 'Positivo'})\n",
    "\n",
    "# Define as cores desejadas para cada categoria\n",
    "palette_cores = {'Negativo': 'red', 'Positivo': 'green'}\n",
    "\n",
    "# Gráfico de barra\n",
    "fig, axes = plt.subplots(figsize=(12,6))\n",
    "\n",
    "sns.countplot(data=df_temp, x='Tendencia', hue='Tendencia', ax=axes, palette=palette_cores, legend=False)\n",
    "\n",
    "# Adiciona os labels (valores) nas barras\n",
    "for p in axes.patches:\n",
    "    altura = p.get_height()\n",
    "    axes.annotate(f'{int(altura)}',  # texto (valor da barra)\n",
    "                  (p.get_x() + p.get_width() / 2, altura),  # posição do texto\n",
    "                  ha='center', va='bottom', fontsize=12, fontweight='bold')\n",
    "\n",
    "# Remove os números do eixo Y\n",
    "axes.set_yticks([])\n",
    "\n",
    "axes.set_xlabel('Tendência')\n",
    "axes.set_ylabel('Contagem')\n",
    "axes.set_ylim(0, 350)\n",
    "axes.set_title('Contagem dos Fechamentos do IBOVESPA nos últimos 2 anos')\n",
    "sns.despine(left=True)\n",
    "plt.show()"
   ]
  },
  {
   "cell_type": "code",
   "execution_count": 106,
   "id": "7b953a73",
   "metadata": {},
   "outputs": [
    {
     "data": {
      "image/png": "[encoded data removed]",
      "text/plain": [
       "<Figure size 1200x600 with 1 Axes>"
      ]
     },
     "metadata": {},
     "output_type": "display_data"
    }
   ],
   "source": [
    "from matplotlib.ticker import FuncFormatter, MultipleLocator\n",
    "\n",
    "# Copia e ajusta os dados\n",
    "df_temp_fech = df_ibov_copia.copy()\n",
    "df_temp_fech[\"Fechamento_Diario\"] = df_temp_fech[\"Fechamento_Diario\"] * 1000\n",
    "\n",
    "# Criação do gráfico\n",
    "fig, axes = plt.subplots(figsize=(12,6))\n",
    "sns.boxplot(data=df_temp_fech, x=\"Fechamento_Diario\", ax=axes)\n",
    "\n",
    "# Valores mínimo e máximo\n",
    "min_val = df_temp_fech['Fechamento_Diario'].min() - 5000\n",
    "max_val = df_temp_fech['Fechamento_Diario'].max()\n",
    "\n",
    "# Limites com margem de 2%\n",
    "axes.set_xlim(min_val * 0.98, max_val * 1.02)\n",
    "\n",
    "# Ticks de 5.000 em 5.000\n",
    "axes.xaxis.set_major_locator(MultipleLocator(5000))\n",
    "\n",
    "# Formata para exibir separador de milhar\n",
    "formatter = FuncFormatter(lambda x, _: f'{int(x):,}'.replace(',', '.')) # _: o segundo argumento é exigido pelo FuncFormatter, mas não precisamos dele aqui (por isso usamos _ como convenção de \"ignorado\").\n",
    "axes.xaxis.set_major_formatter(formatter)\n",
    "\n",
    "# Estética\n",
    "axes.set_xlabel('Fechamento Diário (R$)')\n",
    "axes.set_title('Boxplot do Fechamento Diário do IBOVESPA')\n",
    "plt.tight_layout()\n",
    "plt.show()"
   ]
  }
 ],
 "metadata": {
  "kernelspec": {
   "display_name": "base",
   "language": "python",
   "name": "python3"
  },
  "language_info": {
   "codemirror_mode": {
    "name": "ipython",
    "version": 3
   },
   "file_extension": ".py",
   "mimetype": "text/x-python",
   "name": "python",
   "nbconvert_exporter": "python",
   "pygments_lexer": "ipython3",
   "version": "3.12.9"
  }
 },
 "nbformat": 4,
 "nbformat_minor": 5
}
