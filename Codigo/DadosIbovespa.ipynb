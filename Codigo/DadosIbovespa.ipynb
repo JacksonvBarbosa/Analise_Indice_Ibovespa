{
 "cells": [
  {
   "cell_type": "markdown",
   "id": "73952a64",
   "metadata": {},
   "source": [
    "# **Dados do Indice IBOVESPA B3**"
   ]
  },
  {
   "attachments": {
    "image.png": {
     "image/png": "[encoded data removed]"
    }
   },
   "cell_type": "markdown",
   "id": "4c736cac",
   "metadata": {},
   "source": [
    "## **O problema**\n",
    "\n",
    "Você foi recentemente alocado em uma equipe de cientistas de dados de um grande fundo de investimentos brasileiro. Sua missão inicial é desenvolver um modelo preditivo capaz de prever se o índice IBOVESPA vai fechar em alta ou baixa no dia seguinte, com base em dados históricos do próprio índice. Esse modelo será usado como insumo para alimentar dashboards internos de tomada de decisão dos analistas quantitativos da empresa.\n",
    "\n",
    "### **Dados**\n",
    "\n",
    "Utilize os dados históricos do índice IBOVESPA, disponíveis publicamente: https://br.investing.com/indices/bovespa-historical-data\n",
    "Requisitos:  \n",
    "• Selecione o período “diário”.  \n",
    "• Baixe um intervalo de pelo menos 2 anos de dados.  \n",
    "• Realize o pré-processamento necessário para utilizar os dados no modelo.\n",
    "\n",
    "### **Caracteristicas (Colunas)**\n",
    "\n",
    "**Data** - Data de cada de negociação do IBOVESPA  \n",
    "**Último** - Fechamento da negociação diária  \n",
    "**Abertura** - Inicio das negociações e onde a negociação abriu  \n",
    "**Máxima** - Nível máximo que o IBOVESPA alcançou no dia  \n",
    "**Mínimo** - Nível mínimo que o IBOVESPA alcançou no dia  \n",
    "**Vol.** - Volume de negociação diária  \n",
    "**Var%** - Variação percentual diária partindo de sua abertura\n",
    "\n",
    "### **Objetivo**\n",
    "\n",
    "Criar um modelo que preveja se o fechamento do IBOVESPA do dia seguinte será maior ou menor que o do dia atual, ou seja:\n",
    "Tech challenge Página 3 de 5.  \n",
    "Seu modelo deve prever a tendência (↑ ou ↓) com acuracidade mínima de 75% em um conjunto de teste. O conjunto de testes deverá conter o último mês (30 dias) de dados disponíveis.\n",
    "\n",
    "![image.png](attachment:image.png)"
   ]
  },
  {
   "cell_type": "markdown",
   "id": "1c96c849",
   "metadata": {},
   "source": []
  },
  {
   "cell_type": "code",
   "execution_count": 1,
   "id": "e5ed3748",
   "metadata": {},
   "outputs": [],
   "source": [
    "import pandas as pd\n",
    "import numpy as np\n",
    "import scipy as stats\n",
    "import matplotlib.pyplot as plt\n",
    "import seaborn as sns"
   ]
  },
  {
   "cell_type": "code",
   "execution_count": 2,
   "id": "d4ca1557",
   "metadata": {},
   "outputs": [],
   "source": [
    "url = \"https://raw.githubusercontent.com/JacksonvBarbosa/Analise_Indice_Ibovespa/refs/heads/Jackson/Dataset/Dados%20Hist%C3%B3ricos%20-%20Ibovespa.csv\""
   ]
  },
  {
   "cell_type": "code",
   "execution_count": 50,
   "id": "7fe96a6b",
   "metadata": {},
   "outputs": [],
   "source": [
    "#df_ibov = pd.read_csv(url)\n",
    "df_ibov = pd.read_csv(\"Dados Históricos_Ibovespa_2008-2025.csv\")"
   ]
  },
  {
   "cell_type": "markdown",
   "id": "08c17fe0",
   "metadata": {},
   "source": [
    "# Padronização e limpeza dos dados + análise descritiva e exploratória básica"
   ]
  },
  {
   "cell_type": "code",
   "execution_count": 51,
   "id": "086bffaa",
   "metadata": {},
   "outputs": [
    {
     "data": {
      "application/vnd.microsoft.datawrangler.viewer.v0+json": {
       "columns": [
        {
         "name": "index",
         "rawType": "int64",
         "type": "integer"
        },
        {
         "name": "Data",
         "rawType": "object",
         "type": "string"
        },
        {
         "name": "Último",
         "rawType": "float64",
         "type": "float"
        },
        {
         "name": "Abertura",
         "rawType": "float64",
         "type": "float"
        },
        {
         "name": "Máxima",
         "rawType": "float64",
         "type": "float"
        },
        {
         "name": "Mínima",
         "rawType": "float64",
         "type": "float"
        },
        {
         "name": "Vol.",
         "rawType": "object",
         "type": "unknown"
        },
        {
         "name": "Var%",
         "rawType": "object",
         "type": "string"
        }
       ],
       "ref": "9c8b6e92-e9d2-4c80-aefa-cd1935ec8c9a",
       "rows": [
        [
         "0",
         "18.06.2025",
         "138.717",
         "138.844",
         "139.161",
         "138.443",
         "8,32B",
         "-0,09%"
        ],
        [
         "1",
         "17.06.2025",
         "138.84",
         "139.256",
         "139.497",
         "138.293",
         "8,38B",
         "-0,30%"
        ],
        [
         "2",
         "16.06.2025",
         "139.256",
         "137.212",
         "139.988",
         "137.212",
         "7,62B",
         "1,49%"
        ],
        [
         "3",
         "13.06.2025",
         "137.213",
         "137.8",
         "137.8",
         "136.586",
         "8,63B",
         "-0,43%"
        ],
        [
         "4",
         "12.06.2025",
         "137.8",
         "137.127",
         "137.931",
         "136.175",
         "7,12B",
         "0,49%"
        ],
        [
         "5",
         "11.06.2025",
         "137.128",
         "136.443",
         "137.531",
         "135.628",
         "8,77B",
         "0,51%"
        ],
        [
         "6",
         "10.06.2025",
         "136.436",
         "135.716",
         "137.369",
         "135.716",
         "8,19B",
         "0,54%"
        ],
        [
         "7",
         "09.06.2025",
         "135.699",
         "136.102",
         "136.106",
         "134.119",
         "7,76B",
         "-0,30%"
        ],
        [
         "8",
         "06.06.2025",
         "136.102",
         "136.236",
         "136.89",
         "135.601",
         "9,12B",
         "-0,10%"
        ],
        [
         "9",
         "05.06.2025",
         "136.236",
         "137.003",
         "137.451",
         "136.031",
         "9,48B",
         "-0,56%"
        ],
        [
         "10",
         "04.06.2025",
         "137.002",
         "137.547",
         "138.797",
         "136.695",
         "10,20B",
         "-0,40%"
        ],
        [
         "11",
         "03.06.2025",
         "137.546",
         "136.787",
         "137.672",
         "136.175",
         "9,70B",
         "0,56%"
        ],
        [
         "12",
         "02.06.2025",
         "136.787",
         "137.026",
         "138.471",
         "136.483",
         "9,10B",
         "-0,18%"
        ],
        [
         "13",
         "30.05.2025",
         "137.027",
         "138.546",
         "138.637",
         "136.726",
         "15,14B",
         "-1,09%"
        ],
        [
         "14",
         "29.05.2025",
         "138.534",
         "138.869",
         "139.108",
         "137.993",
         "8,83B",
         "-0,25%"
        ],
        [
         "15",
         "28.05.2025",
         "138.888",
         "139.541",
         "139.547",
         "138.58",
         "9,73B",
         "-0,47%"
        ],
        [
         "16",
         "27.05.2025",
         "139.541",
         "138.136",
         "140.382",
         "138.136",
         "11,19B",
         "1,02%"
        ],
        [
         "17",
         "26.05.2025",
         "138.136",
         "137.824",
         "138.8",
         "137.795",
         "5,55B",
         "0,23%"
        ],
        [
         "18",
         "23.05.2025",
         "137.824",
         "137.273",
         "137.824",
         "134.997",
         "10,68B",
         "0,40%"
        ],
        [
         "19",
         "22.05.2025",
         "137.273",
         "137.881",
         "138.837",
         "137.088",
         "13,22B",
         "-0,44%"
        ],
        [
         "20",
         "21.05.2025",
         "137.881",
         "140.109",
         "140.109",
         "137.538",
         "10,15B",
         "-1,59%"
        ],
        [
         "21",
         "20.05.2025",
         "140.11",
         "139.636",
         "140.244",
         "138.966",
         "9,65B",
         "0,34%"
        ],
        [
         "22",
         "19.05.2025",
         "139.636",
         "139.186",
         "140.203",
         "138.587",
         "9,59B",
         "0,32%"
        ],
        [
         "23",
         "16.05.2025",
         "139.187",
         "139.335",
         "139.335",
         "137.713",
         "12,11B",
         "-0,11%"
        ],
        [
         "24",
         "15.05.2025",
         "139.334",
         "138.425",
         "139.408",
         "138.321",
         "11,50B",
         "0,66%"
        ],
        [
         "25",
         "14.05.2025",
         "138.423",
         "138.965",
         "139.362",
         "138.228",
         "11,16B",
         "-0,39%"
        ],
        [
         "26",
         "13.05.2025",
         "138.963",
         "136.565",
         "139.419",
         "136.55",
         "13,07B",
         "1,76%"
        ],
        [
         "27",
         "12.05.2025",
         "136.563",
         "136.516",
         "137.519",
         "136.356",
         "10,92B",
         "0,04%"
        ],
        [
         "28",
         "09.05.2025",
         "136.512",
         "136.232",
         "137.286",
         "136.105",
         "13,88B",
         "0,21%"
        ],
        [
         "29",
         "08.05.2025",
         "136.232",
         "133.458",
         "137.635",
         "133.458",
         "17,20B",
         "2,12%"
        ],
        [
         "30",
         "07.05.2025",
         "133.398",
         "133.517",
         "134.11",
         "132.872",
         "9,94B",
         "-0,09%"
        ],
        [
         "31",
         "06.05.2025",
         "133.516",
         "133.499",
         "134.135",
         "133.26",
         "11,14B",
         "0,02%"
        ],
        [
         "32",
         "05.05.2025",
         "133.491",
         "135.131",
         "135.198",
         "133.39",
         "10,80B",
         "-1,22%"
        ],
        [
         "33",
         "02.05.2025",
         "135.134",
         "135.067",
         "135.275",
         "134.355",
         "12,74B",
         "0,05%"
        ],
        [
         "34",
         "30.04.2025",
         "135.067",
         "135.094",
         "135.171",
         "133.955",
         "15,45B",
         "-0,02%"
        ],
        [
         "35",
         "29.04.2025",
         "135.093",
         "135.017",
         "136.15",
         "134.899",
         "12,76B",
         "0,06%"
        ],
        [
         "36",
         "28.04.2025",
         "135.016",
         "134.741",
         "135.709",
         "134.711",
         "11,45B",
         "0,21%"
        ],
        [
         "37",
         "25.04.2025",
         "134.739",
         "134.579",
         "134.992",
         "134.186",
         "13,05B",
         "0,12%"
        ],
        [
         "38",
         "24.04.2025",
         "134.58",
         "132.245",
         "134.938",
         "132.223",
         "14,11B",
         "1,79%"
        ],
        [
         "39",
         "23.04.2025",
         "132.216",
         "130.468",
         "133.318",
         "130.468",
         "11,34B",
         "1,34%"
        ],
        [
         "40",
         "22.04.2025",
         "130.464",
         "129.65",
         "130.877",
         "128.726",
         "8,61B",
         "0,63%"
        ],
        [
         "41",
         "17.04.2025",
         "129.65",
         "128.316",
         "130.091",
         "127.973",
         "9,98B",
         "1,04%"
        ],
        [
         "42",
         "16.04.2025",
         "128.317",
         "129.245",
         "129.605",
         "128.149",
         "11,54B",
         "-0,72%"
        ],
        [
         "43",
         "15.04.2025",
         "129.245",
         "129.452",
         "129.927",
         "128.951",
         "8,84B",
         "-0,16%"
        ],
        [
         "44",
         "14.04.2025",
         "129.454",
         "127.683",
         "129.955",
         "127.683",
         "10,61B",
         "1,39%"
        ],
        [
         "45",
         "11.04.2025",
         "127.682",
         "126.355",
         "128.386",
         "126.078",
         "10,08B",
         "1,05%"
        ],
        [
         "46",
         "10.04.2025",
         "126.355",
         "127.796",
         "127.797",
         "124.895",
         "11,46B",
         "-1,13%"
        ],
        [
         "47",
         "09.04.2025",
         "127.796",
         "123.928",
         "128.649",
         "122.887",
         "16,92B",
         "3,12%"
        ],
        [
         "48",
         "08.04.2025",
         "123.932",
         "125.588",
         "127.652",
         "123.454",
         "12,81B",
         "-1,32%"
        ],
        [
         "49",
         "07.04.2025",
         "125.588",
         "127.229",
         "128.411",
         "123.876",
         "14,05B",
         "-1,31%"
        ]
       ],
       "shape": {
        "columns": 7,
        "rows": 4315
       }
      },
      "text/html": [
       "<div>\n",
       "<style scoped>\n",
       "    .dataframe tbody tr th:only-of-type {\n",
       "        vertical-align: middle;\n",
       "    }\n",
       "\n",
       "    .dataframe tbody tr th {\n",
       "        vertical-align: top;\n",
       "    }\n",
       "\n",
       "    .dataframe thead th {\n",
       "        text-align: right;\n",
       "    }\n",
       "</style>\n",
       "<table border=\"1\" class=\"dataframe\">\n",
       "  <thead>\n",
       "    <tr style=\"text-align: right;\">\n",
       "      <th></th>\n",
       "      <th>Data</th>\n",
       "      <th>Último</th>\n",
       "      <th>Abertura</th>\n",
       "      <th>Máxima</th>\n",
       "      <th>Mínima</th>\n",
       "      <th>Vol.</th>\n",
       "      <th>Var%</th>\n",
       "    </tr>\n",
       "  </thead>\n",
       "  <tbody>\n",
       "    <tr>\n",
       "      <th>0</th>\n",
       "      <td>18.06.2025</td>\n",
       "      <td>138.717</td>\n",
       "      <td>138.844</td>\n",
       "      <td>139.161</td>\n",
       "      <td>138.443</td>\n",
       "      <td>8,32B</td>\n",
       "      <td>-0,09%</td>\n",
       "    </tr>\n",
       "    <tr>\n",
       "      <th>1</th>\n",
       "      <td>17.06.2025</td>\n",
       "      <td>138.840</td>\n",
       "      <td>139.256</td>\n",
       "      <td>139.497</td>\n",
       "      <td>138.293</td>\n",
       "      <td>8,38B</td>\n",
       "      <td>-0,30%</td>\n",
       "    </tr>\n",
       "    <tr>\n",
       "      <th>2</th>\n",
       "      <td>16.06.2025</td>\n",
       "      <td>139.256</td>\n",
       "      <td>137.212</td>\n",
       "      <td>139.988</td>\n",
       "      <td>137.212</td>\n",
       "      <td>7,62B</td>\n",
       "      <td>1,49%</td>\n",
       "    </tr>\n",
       "    <tr>\n",
       "      <th>3</th>\n",
       "      <td>13.06.2025</td>\n",
       "      <td>137.213</td>\n",
       "      <td>137.800</td>\n",
       "      <td>137.800</td>\n",
       "      <td>136.586</td>\n",
       "      <td>8,63B</td>\n",
       "      <td>-0,43%</td>\n",
       "    </tr>\n",
       "    <tr>\n",
       "      <th>4</th>\n",
       "      <td>12.06.2025</td>\n",
       "      <td>137.800</td>\n",
       "      <td>137.127</td>\n",
       "      <td>137.931</td>\n",
       "      <td>136.175</td>\n",
       "      <td>7,12B</td>\n",
       "      <td>0,49%</td>\n",
       "    </tr>\n",
       "    <tr>\n",
       "      <th>...</th>\n",
       "      <td>...</td>\n",
       "      <td>...</td>\n",
       "      <td>...</td>\n",
       "      <td>...</td>\n",
       "      <td>...</td>\n",
       "      <td>...</td>\n",
       "      <td>...</td>\n",
       "    </tr>\n",
       "    <tr>\n",
       "      <th>4310</th>\n",
       "      <td>24.01.2008</td>\n",
       "      <td>57.463</td>\n",
       "      <td>54.242</td>\n",
       "      <td>57.675</td>\n",
       "      <td>54.242</td>\n",
       "      <td>3,80M</td>\n",
       "      <td>5,95%</td>\n",
       "    </tr>\n",
       "    <tr>\n",
       "      <th>4311</th>\n",
       "      <td>23.01.2008</td>\n",
       "      <td>54.235</td>\n",
       "      <td>56.098</td>\n",
       "      <td>56.098</td>\n",
       "      <td>53.011</td>\n",
       "      <td>3,72M</td>\n",
       "      <td>-3,32%</td>\n",
       "    </tr>\n",
       "    <tr>\n",
       "      <th>4312</th>\n",
       "      <td>22.01.2008</td>\n",
       "      <td>56.097</td>\n",
       "      <td>53.705</td>\n",
       "      <td>56.541</td>\n",
       "      <td>53.610</td>\n",
       "      <td>3,65M</td>\n",
       "      <td>4,45%</td>\n",
       "    </tr>\n",
       "    <tr>\n",
       "      <th>4313</th>\n",
       "      <td>21.01.2008</td>\n",
       "      <td>53.709</td>\n",
       "      <td>57.503</td>\n",
       "      <td>57.503</td>\n",
       "      <td>53.487</td>\n",
       "      <td>3,57M</td>\n",
       "      <td>-6,60%</td>\n",
       "    </tr>\n",
       "    <tr>\n",
       "      <th>4314</th>\n",
       "      <td>18.01.2008</td>\n",
       "      <td>57.506</td>\n",
       "      <td>57.039</td>\n",
       "      <td>58.291</td>\n",
       "      <td>56.241</td>\n",
       "      <td>5,81M</td>\n",
       "      <td>0,82%</td>\n",
       "    </tr>\n",
       "  </tbody>\n",
       "</table>\n",
       "<p>4315 rows × 7 columns</p>\n",
       "</div>"
      ],
      "text/plain": [
       "            Data   Último  Abertura   Máxima   Mínima   Vol.    Var%\n",
       "0     18.06.2025  138.717   138.844  139.161  138.443  8,32B  -0,09%\n",
       "1     17.06.2025  138.840   139.256  139.497  138.293  8,38B  -0,30%\n",
       "2     16.06.2025  139.256   137.212  139.988  137.212  7,62B   1,49%\n",
       "3     13.06.2025  137.213   137.800  137.800  136.586  8,63B  -0,43%\n",
       "4     12.06.2025  137.800   137.127  137.931  136.175  7,12B   0,49%\n",
       "...          ...      ...       ...      ...      ...    ...     ...\n",
       "4310  24.01.2008   57.463    54.242   57.675   54.242  3,80M   5,95%\n",
       "4311  23.01.2008   54.235    56.098   56.098   53.011  3,72M  -3,32%\n",
       "4312  22.01.2008   56.097    53.705   56.541   53.610  3,65M   4,45%\n",
       "4313  21.01.2008   53.709    57.503   57.503   53.487  3,57M  -6,60%\n",
       "4314  18.01.2008   57.506    57.039   58.291   56.241  5,81M   0,82%\n",
       "\n",
       "[4315 rows x 7 columns]"
      ]
     },
     "execution_count": 51,
     "metadata": {},
     "output_type": "execute_result"
    }
   ],
   "source": [
    "df_ibov_copia = df_ibov.copy()\n",
    "df_ibov_copia"
   ]
  },
  {
   "cell_type": "markdown",
   "id": "c03e01e4",
   "metadata": {},
   "source": [
    "## Posivel motivo para o aumento exagerado do volume de negociação desde do início de 2025:  \n",
    "**Link:** https://forbes.com.br/forbes-money/2025/05/ibovespa-sobe-mais-de-10-em-2025-euforia-ou-otimismo-sustentavel/\n",
    "\n",
    "O salto no volume negociado do IBOVESPA de milhões para bilhões em 2025 pode ser explicado por uma combinação de fatores que reacenderam o apetite dos investidores:\n",
    "\n",
    "Entrada de capital estrangeiro: Com a instabilidade nos mercados desenvolvidos — especialmente nos EUA — muitos investidores redirecionaram recursos para mercados emergentes como o Brasil, buscando oportunidades mais atrativas.\n",
    "\n",
    "Valorização do índice: O IBOVESPA acumulou alta superior a 10% em 2025, o que naturalmente atraiu mais negociações e aumentou o volume financeiro movimentado.\n",
    "\n",
    "Queda nos juros internacionais: A redução das taxas de juros nos EUA e a expectativa de crescimento de 2% no Brasil criaram um ambiente mais favorável para ativos de risco, como ações.\n",
    "\n",
    "Recomposição de confiança: Após um 2024 turbulento, com queda de mais de 10% no índice, o mercado brasileiro começou a recuperar a confiança, impulsionado por dados econômicos mais positivos e menor ruído fiscal.\n",
    "\n",
    "Alta participação de investidores institucionais e fintechs: A modernização do mercado e o crescimento de plataformas digitais também facilitaram o acesso de mais investidores, ampliando o volume de negociações."
   ]
  },
  {
   "cell_type": "code",
   "execution_count": 52,
   "id": "6ada0938",
   "metadata": {},
   "outputs": [
    {
     "name": "stdout",
     "output_type": "stream",
     "text": [
      "<class 'pandas.core.frame.DataFrame'>\n",
      "RangeIndex: 4315 entries, 0 to 4314\n",
      "Data columns (total 7 columns):\n",
      " #   Column    Non-Null Count  Dtype  \n",
      "---  ------    --------------  -----  \n",
      " 0   Data      4315 non-null   object \n",
      " 1   Último    4315 non-null   float64\n",
      " 2   Abertura  4315 non-null   float64\n",
      " 3   Máxima    4315 non-null   float64\n",
      " 4   Mínima    4315 non-null   float64\n",
      " 5   Vol.      4314 non-null   object \n",
      " 6   Var%      4315 non-null   object \n",
      "dtypes: float64(4), object(3)\n",
      "memory usage: 236.1+ KB\n"
     ]
    },
    {
     "data": {
      "text/plain": [
       "None"
      ]
     },
     "metadata": {},
     "output_type": "display_data"
    }
   ],
   "source": [
    "display(df_ibov_copia.info())"
   ]
  },
  {
   "cell_type": "code",
   "execution_count": 53,
   "id": "893d040e",
   "metadata": {},
   "outputs": [
    {
     "data": {
      "text/plain": [
       "'Tamanho do dataset: linhas/coluna(4315, 7)'"
      ]
     },
     "metadata": {},
     "output_type": "display_data"
    }
   ],
   "source": [
    "display(f'Tamanho do dataset: linhas/coluna{df_ibov_copia.shape}')"
   ]
  },
  {
   "cell_type": "code",
   "execution_count": 54,
   "id": "478b3472",
   "metadata": {},
   "outputs": [
    {
     "data": {
      "application/vnd.microsoft.datawrangler.viewer.v0+json": {
       "columns": [
        {
         "name": "index",
         "rawType": "object",
         "type": "string"
        },
        {
         "name": "Último",
         "rawType": "float64",
         "type": "float"
        },
        {
         "name": "Abertura",
         "rawType": "float64",
         "type": "float"
        },
        {
         "name": "Máxima",
         "rawType": "float64",
         "type": "float"
        },
        {
         "name": "Mínima",
         "rawType": "float64",
         "type": "float"
        }
       ],
       "ref": "f4af00fc-56f6-43d2-b31d-17c9050f122c",
       "rows": [
        [
         "count",
         "4315.0",
         "4315.0",
         "4315.0",
         "4315.0"
        ],
        [
         "mean",
         "79.3521976825029",
         "79.33399420625724",
         "80.08070011587486",
         "78.59768412514484"
        ],
        [
         "std",
         "28.359063926941005",
         "28.346475663496996",
         "28.47337546189843",
         "28.232454664196187"
        ],
        [
         "min",
         "29.435",
         "29.438",
         "31.48",
         "29.435"
        ],
        [
         "25%",
         "55.8135",
         "55.811",
         "56.4095",
         "55.244"
        ],
        [
         "50%",
         "67.766",
         "67.756",
         "68.198",
         "67.191"
        ],
        [
         "75%",
         "106.34899999999999",
         "106.31700000000001",
         "107.4135",
         "105.3075"
        ],
        [
         "max",
         "140.11",
         "140.109",
         "140.382",
         "138.966"
        ]
       ],
       "shape": {
        "columns": 4,
        "rows": 8
       }
      },
      "text/html": [
       "<div>\n",
       "<style scoped>\n",
       "    .dataframe tbody tr th:only-of-type {\n",
       "        vertical-align: middle;\n",
       "    }\n",
       "\n",
       "    .dataframe tbody tr th {\n",
       "        vertical-align: top;\n",
       "    }\n",
       "\n",
       "    .dataframe thead th {\n",
       "        text-align: right;\n",
       "    }\n",
       "</style>\n",
       "<table border=\"1\" class=\"dataframe\">\n",
       "  <thead>\n",
       "    <tr style=\"text-align: right;\">\n",
       "      <th></th>\n",
       "      <th>Último</th>\n",
       "      <th>Abertura</th>\n",
       "      <th>Máxima</th>\n",
       "      <th>Mínima</th>\n",
       "    </tr>\n",
       "  </thead>\n",
       "  <tbody>\n",
       "    <tr>\n",
       "      <th>count</th>\n",
       "      <td>4315.000000</td>\n",
       "      <td>4315.000000</td>\n",
       "      <td>4315.000000</td>\n",
       "      <td>4315.000000</td>\n",
       "    </tr>\n",
       "    <tr>\n",
       "      <th>mean</th>\n",
       "      <td>79.352198</td>\n",
       "      <td>79.333994</td>\n",
       "      <td>80.080700</td>\n",
       "      <td>78.597684</td>\n",
       "    </tr>\n",
       "    <tr>\n",
       "      <th>std</th>\n",
       "      <td>28.359064</td>\n",
       "      <td>28.346476</td>\n",
       "      <td>28.473375</td>\n",
       "      <td>28.232455</td>\n",
       "    </tr>\n",
       "    <tr>\n",
       "      <th>min</th>\n",
       "      <td>29.435000</td>\n",
       "      <td>29.438000</td>\n",
       "      <td>31.480000</td>\n",
       "      <td>29.435000</td>\n",
       "    </tr>\n",
       "    <tr>\n",
       "      <th>25%</th>\n",
       "      <td>55.813500</td>\n",
       "      <td>55.811000</td>\n",
       "      <td>56.409500</td>\n",
       "      <td>55.244000</td>\n",
       "    </tr>\n",
       "    <tr>\n",
       "      <th>50%</th>\n",
       "      <td>67.766000</td>\n",
       "      <td>67.756000</td>\n",
       "      <td>68.198000</td>\n",
       "      <td>67.191000</td>\n",
       "    </tr>\n",
       "    <tr>\n",
       "      <th>75%</th>\n",
       "      <td>106.349000</td>\n",
       "      <td>106.317000</td>\n",
       "      <td>107.413500</td>\n",
       "      <td>105.307500</td>\n",
       "    </tr>\n",
       "    <tr>\n",
       "      <th>max</th>\n",
       "      <td>140.110000</td>\n",
       "      <td>140.109000</td>\n",
       "      <td>140.382000</td>\n",
       "      <td>138.966000</td>\n",
       "    </tr>\n",
       "  </tbody>\n",
       "</table>\n",
       "</div>"
      ],
      "text/plain": [
       "            Último     Abertura       Máxima       Mínima\n",
       "count  4315.000000  4315.000000  4315.000000  4315.000000\n",
       "mean     79.352198    79.333994    80.080700    78.597684\n",
       "std      28.359064    28.346476    28.473375    28.232455\n",
       "min      29.435000    29.438000    31.480000    29.435000\n",
       "25%      55.813500    55.811000    56.409500    55.244000\n",
       "50%      67.766000    67.756000    68.198000    67.191000\n",
       "75%     106.349000   106.317000   107.413500   105.307500\n",
       "max     140.110000   140.109000   140.382000   138.966000"
      ]
     },
     "metadata": {},
     "output_type": "display_data"
    }
   ],
   "source": [
    "display(df_ibov_copia.describe())"
   ]
  },
  {
   "cell_type": "markdown",
   "id": "90bee7be",
   "metadata": {},
   "source": [
    "### Observando as informações dos dados, para melhor manipulação futura devemos converter a coluna **Data** para DateTime e a coluna **Vol.** e **Var%** para Float\n",
    "\n",
    "1. Qual é a média de fechamento nos ultimos 2 ano?  \n",
    "* 122 mil pontos  \n",
    "2. O quanto os pontos estão dispersos da média?  \n",
    "* mais ou menos 9.3mil pontos\n",
    "3. Quais foi a mínima e a máxima em pontos que o IBOVESPA alcançou nesses 2 ano?  \n",
    "* **minima** de 97.926 pontos e uma **máxima** de 140.11 pontos  \n",
    "4. A mediana está próxima da média de pontos?  \n",
    "* Sim a **mediana** mais ou menos 3 mil pontos ficando dentro do desvio padrão de fechamentodo indice  \n",
    "\n",
    "\n",
    "### Uma análise básica exploratória, como uma **mediana** próxima da média nos mostrando que não tivemos umas dispersão significativa vamos ver mais a frente mais da para perceber que não tivemos um outlier nesse periodo"
   ]
  },
  {
   "cell_type": "code",
   "execution_count": 55,
   "id": "80732dcb",
   "metadata": {},
   "outputs": [
    {
     "data": {
      "application/vnd.microsoft.datawrangler.viewer.v0+json": {
       "columns": [
        {
         "name": "index",
         "rawType": "object",
         "type": "string"
        },
        {
         "name": "0",
         "rawType": "int64",
         "type": "integer"
        }
       ],
       "ref": "c5fdf96a-e42e-4a82-8e5d-95cab5ae235d",
       "rows": [
        [
         "Data",
         "0"
        ],
        [
         "Último",
         "0"
        ],
        [
         "Abertura",
         "0"
        ],
        [
         "Máxima",
         "0"
        ],
        [
         "Mínima",
         "0"
        ],
        [
         "Vol.",
         "1"
        ],
        [
         "Var%",
         "0"
        ]
       ],
       "shape": {
        "columns": 1,
        "rows": 7
       }
      },
      "text/plain": [
       "Data        0\n",
       "Último      0\n",
       "Abertura    0\n",
       "Máxima      0\n",
       "Mínima      0\n",
       "Vol.        1\n",
       "Var%        0\n",
       "dtype: int64"
      ]
     },
     "execution_count": 55,
     "metadata": {},
     "output_type": "execute_result"
    }
   ],
   "source": [
    "# Varifica dados Nulos\n",
    "df_ibov_copia.isnull().sum()"
   ]
  },
  {
   "cell_type": "code",
   "execution_count": 57,
   "id": "704e86f9",
   "metadata": {},
   "outputs": [
    {
     "data": {
      "application/vnd.microsoft.datawrangler.viewer.v0+json": {
       "columns": [
        {
         "name": "index",
         "rawType": "int64",
         "type": "integer"
        },
        {
         "name": "Data",
         "rawType": "object",
         "type": "string"
        },
        {
         "name": "Último",
         "rawType": "float64",
         "type": "float"
        },
        {
         "name": "Abertura",
         "rawType": "float64",
         "type": "float"
        },
        {
         "name": "Máxima",
         "rawType": "float64",
         "type": "float"
        },
        {
         "name": "Mínima",
         "rawType": "float64",
         "type": "float"
        },
        {
         "name": "Vol.",
         "rawType": "object",
         "type": "unknown"
        },
        {
         "name": "Var%",
         "rawType": "object",
         "type": "string"
        }
       ],
       "ref": "638054f2-1393-4032-bf74-028b1e6bd085",
       "rows": [
        [
         "2323",
         "10.02.2016",
         "40.377",
         "40.592",
         "40.592",
         "39.96",
         null,
         "-0,53%"
        ]
       ],
       "shape": {
        "columns": 7,
        "rows": 1
       }
      },
      "text/html": [
       "<div>\n",
       "<style scoped>\n",
       "    .dataframe tbody tr th:only-of-type {\n",
       "        vertical-align: middle;\n",
       "    }\n",
       "\n",
       "    .dataframe tbody tr th {\n",
       "        vertical-align: top;\n",
       "    }\n",
       "\n",
       "    .dataframe thead th {\n",
       "        text-align: right;\n",
       "    }\n",
       "</style>\n",
       "<table border=\"1\" class=\"dataframe\">\n",
       "  <thead>\n",
       "    <tr style=\"text-align: right;\">\n",
       "      <th></th>\n",
       "      <th>Data</th>\n",
       "      <th>Último</th>\n",
       "      <th>Abertura</th>\n",
       "      <th>Máxima</th>\n",
       "      <th>Mínima</th>\n",
       "      <th>Vol.</th>\n",
       "      <th>Var%</th>\n",
       "    </tr>\n",
       "  </thead>\n",
       "  <tbody>\n",
       "    <tr>\n",
       "      <th>2323</th>\n",
       "      <td>10.02.2016</td>\n",
       "      <td>40.377</td>\n",
       "      <td>40.592</td>\n",
       "      <td>40.592</td>\n",
       "      <td>39.96</td>\n",
       "      <td>NaN</td>\n",
       "      <td>-0,53%</td>\n",
       "    </tr>\n",
       "  </tbody>\n",
       "</table>\n",
       "</div>"
      ],
      "text/plain": [
       "            Data  Último  Abertura  Máxima  Mínima Vol.    Var%\n",
       "2323  10.02.2016  40.377    40.592  40.592   39.96  NaN  -0,53%"
      ]
     },
     "execution_count": 57,
     "metadata": {},
     "output_type": "execute_result"
    }
   ],
   "source": [
    "df_ibov_copia[df_ibov_copia['Vol.'].isnull()]"
   ]
  },
  {
   "cell_type": "code",
   "execution_count": 59,
   "id": "e5a7708f",
   "metadata": {},
   "outputs": [],
   "source": [
    "df_ibov_copia = df_ibov_copia.dropna(axis=0)"
   ]
  },
  {
   "cell_type": "code",
   "execution_count": 60,
   "id": "616f5715",
   "metadata": {},
   "outputs": [
    {
     "data": {
      "application/vnd.microsoft.datawrangler.viewer.v0+json": {
       "columns": [
        {
         "name": "index",
         "rawType": "object",
         "type": "string"
        },
        {
         "name": "0",
         "rawType": "int64",
         "type": "integer"
        }
       ],
       "ref": "fa64ad5f-6777-41c2-9f72-b5b00276d5c7",
       "rows": [
        [
         "Data",
         "0"
        ],
        [
         "Último",
         "0"
        ],
        [
         "Abertura",
         "0"
        ],
        [
         "Máxima",
         "0"
        ],
        [
         "Mínima",
         "0"
        ],
        [
         "Vol.",
         "0"
        ],
        [
         "Var%",
         "0"
        ]
       ],
       "shape": {
        "columns": 1,
        "rows": 7
       }
      },
      "text/plain": [
       "Data        0\n",
       "Último      0\n",
       "Abertura    0\n",
       "Máxima      0\n",
       "Mínima      0\n",
       "Vol.        0\n",
       "Var%        0\n",
       "dtype: int64"
      ]
     },
     "execution_count": 60,
     "metadata": {},
     "output_type": "execute_result"
    }
   ],
   "source": [
    "df_ibov_copia.isnull().sum()"
   ]
  },
  {
   "cell_type": "code",
   "execution_count": 61,
   "id": "0e2af64b",
   "metadata": {},
   "outputs": [
    {
     "name": "stderr",
     "output_type": "stream",
     "text": [
      "C:\\Users\\jacom\\AppData\\Local\\Temp\\ipykernel_16940\\1479242519.py:3: SettingWithCopyWarning: \n",
      "A value is trying to be set on a copy of a slice from a DataFrame.\n",
      "Try using .loc[row_indexer,col_indexer] = value instead\n",
      "\n",
      "See the caveats in the documentation: https://pandas.pydata.org/pandas-docs/stable/user_guide/indexing.html#returning-a-view-versus-a-copy\n",
      "  df_ibov_copia['Data'] = pd.to_datetime(df_ibov_copia['Data'], format='%d.%m.%Y')\n"
     ]
    },
    {
     "data": {
      "application/vnd.microsoft.datawrangler.viewer.v0+json": {
       "columns": [
        {
         "name": "index",
         "rawType": "int64",
         "type": "integer"
        },
        {
         "name": "Data",
         "rawType": "datetime64[ns]",
         "type": "datetime"
        },
        {
         "name": "Último",
         "rawType": "float64",
         "type": "float"
        },
        {
         "name": "Abertura",
         "rawType": "float64",
         "type": "float"
        },
        {
         "name": "Máxima",
         "rawType": "float64",
         "type": "float"
        },
        {
         "name": "Mínima",
         "rawType": "float64",
         "type": "float"
        },
        {
         "name": "Vol.",
         "rawType": "object",
         "type": "string"
        },
        {
         "name": "Var%",
         "rawType": "object",
         "type": "string"
        }
       ],
       "ref": "e355d0e8-9661-4102-9811-f8ebf2ceed43",
       "rows": [
        [
         "0",
         "2025-06-18 00:00:00",
         "138.717",
         "138.844",
         "139.161",
         "138.443",
         "8,32B",
         "-0,09%"
        ],
        [
         "1",
         "2025-06-17 00:00:00",
         "138.84",
         "139.256",
         "139.497",
         "138.293",
         "8,38B",
         "-0,30%"
        ],
        [
         "2",
         "2025-06-16 00:00:00",
         "139.256",
         "137.212",
         "139.988",
         "137.212",
         "7,62B",
         "1,49%"
        ],
        [
         "3",
         "2025-06-13 00:00:00",
         "137.213",
         "137.8",
         "137.8",
         "136.586",
         "8,63B",
         "-0,43%"
        ],
        [
         "4",
         "2025-06-12 00:00:00",
         "137.8",
         "137.127",
         "137.931",
         "136.175",
         "7,12B",
         "0,49%"
        ],
        [
         "5",
         "2025-06-11 00:00:00",
         "137.128",
         "136.443",
         "137.531",
         "135.628",
         "8,77B",
         "0,51%"
        ],
        [
         "6",
         "2025-06-10 00:00:00",
         "136.436",
         "135.716",
         "137.369",
         "135.716",
         "8,19B",
         "0,54%"
        ],
        [
         "7",
         "2025-06-09 00:00:00",
         "135.699",
         "136.102",
         "136.106",
         "134.119",
         "7,76B",
         "-0,30%"
        ],
        [
         "8",
         "2025-06-06 00:00:00",
         "136.102",
         "136.236",
         "136.89",
         "135.601",
         "9,12B",
         "-0,10%"
        ],
        [
         "9",
         "2025-06-05 00:00:00",
         "136.236",
         "137.003",
         "137.451",
         "136.031",
         "9,48B",
         "-0,56%"
        ],
        [
         "10",
         "2025-06-04 00:00:00",
         "137.002",
         "137.547",
         "138.797",
         "136.695",
         "10,20B",
         "-0,40%"
        ],
        [
         "11",
         "2025-06-03 00:00:00",
         "137.546",
         "136.787",
         "137.672",
         "136.175",
         "9,70B",
         "0,56%"
        ],
        [
         "12",
         "2025-06-02 00:00:00",
         "136.787",
         "137.026",
         "138.471",
         "136.483",
         "9,10B",
         "-0,18%"
        ],
        [
         "13",
         "2025-05-30 00:00:00",
         "137.027",
         "138.546",
         "138.637",
         "136.726",
         "15,14B",
         "-1,09%"
        ],
        [
         "14",
         "2025-05-29 00:00:00",
         "138.534",
         "138.869",
         "139.108",
         "137.993",
         "8,83B",
         "-0,25%"
        ],
        [
         "15",
         "2025-05-28 00:00:00",
         "138.888",
         "139.541",
         "139.547",
         "138.58",
         "9,73B",
         "-0,47%"
        ],
        [
         "16",
         "2025-05-27 00:00:00",
         "139.541",
         "138.136",
         "140.382",
         "138.136",
         "11,19B",
         "1,02%"
        ],
        [
         "17",
         "2025-05-26 00:00:00",
         "138.136",
         "137.824",
         "138.8",
         "137.795",
         "5,55B",
         "0,23%"
        ],
        [
         "18",
         "2025-05-23 00:00:00",
         "137.824",
         "137.273",
         "137.824",
         "134.997",
         "10,68B",
         "0,40%"
        ],
        [
         "19",
         "2025-05-22 00:00:00",
         "137.273",
         "137.881",
         "138.837",
         "137.088",
         "13,22B",
         "-0,44%"
        ],
        [
         "20",
         "2025-05-21 00:00:00",
         "137.881",
         "140.109",
         "140.109",
         "137.538",
         "10,15B",
         "-1,59%"
        ],
        [
         "21",
         "2025-05-20 00:00:00",
         "140.11",
         "139.636",
         "140.244",
         "138.966",
         "9,65B",
         "0,34%"
        ],
        [
         "22",
         "2025-05-19 00:00:00",
         "139.636",
         "139.186",
         "140.203",
         "138.587",
         "9,59B",
         "0,32%"
        ],
        [
         "23",
         "2025-05-16 00:00:00",
         "139.187",
         "139.335",
         "139.335",
         "137.713",
         "12,11B",
         "-0,11%"
        ],
        [
         "24",
         "2025-05-15 00:00:00",
         "139.334",
         "138.425",
         "139.408",
         "138.321",
         "11,50B",
         "0,66%"
        ],
        [
         "25",
         "2025-05-14 00:00:00",
         "138.423",
         "138.965",
         "139.362",
         "138.228",
         "11,16B",
         "-0,39%"
        ],
        [
         "26",
         "2025-05-13 00:00:00",
         "138.963",
         "136.565",
         "139.419",
         "136.55",
         "13,07B",
         "1,76%"
        ],
        [
         "27",
         "2025-05-12 00:00:00",
         "136.563",
         "136.516",
         "137.519",
         "136.356",
         "10,92B",
         "0,04%"
        ],
        [
         "28",
         "2025-05-09 00:00:00",
         "136.512",
         "136.232",
         "137.286",
         "136.105",
         "13,88B",
         "0,21%"
        ],
        [
         "29",
         "2025-05-08 00:00:00",
         "136.232",
         "133.458",
         "137.635",
         "133.458",
         "17,20B",
         "2,12%"
        ],
        [
         "30",
         "2025-05-07 00:00:00",
         "133.398",
         "133.517",
         "134.11",
         "132.872",
         "9,94B",
         "-0,09%"
        ],
        [
         "31",
         "2025-05-06 00:00:00",
         "133.516",
         "133.499",
         "134.135",
         "133.26",
         "11,14B",
         "0,02%"
        ],
        [
         "32",
         "2025-05-05 00:00:00",
         "133.491",
         "135.131",
         "135.198",
         "133.39",
         "10,80B",
         "-1,22%"
        ],
        [
         "33",
         "2025-05-02 00:00:00",
         "135.134",
         "135.067",
         "135.275",
         "134.355",
         "12,74B",
         "0,05%"
        ],
        [
         "34",
         "2025-04-30 00:00:00",
         "135.067",
         "135.094",
         "135.171",
         "133.955",
         "15,45B",
         "-0,02%"
        ],
        [
         "35",
         "2025-04-29 00:00:00",
         "135.093",
         "135.017",
         "136.15",
         "134.899",
         "12,76B",
         "0,06%"
        ],
        [
         "36",
         "2025-04-28 00:00:00",
         "135.016",
         "134.741",
         "135.709",
         "134.711",
         "11,45B",
         "0,21%"
        ],
        [
         "37",
         "2025-04-25 00:00:00",
         "134.739",
         "134.579",
         "134.992",
         "134.186",
         "13,05B",
         "0,12%"
        ],
        [
         "38",
         "2025-04-24 00:00:00",
         "134.58",
         "132.245",
         "134.938",
         "132.223",
         "14,11B",
         "1,79%"
        ],
        [
         "39",
         "2025-04-23 00:00:00",
         "132.216",
         "130.468",
         "133.318",
         "130.468",
         "11,34B",
         "1,34%"
        ],
        [
         "40",
         "2025-04-22 00:00:00",
         "130.464",
         "129.65",
         "130.877",
         "128.726",
         "8,61B",
         "0,63%"
        ],
        [
         "41",
         "2025-04-17 00:00:00",
         "129.65",
         "128.316",
         "130.091",
         "127.973",
         "9,98B",
         "1,04%"
        ],
        [
         "42",
         "2025-04-16 00:00:00",
         "128.317",
         "129.245",
         "129.605",
         "128.149",
         "11,54B",
         "-0,72%"
        ],
        [
         "43",
         "2025-04-15 00:00:00",
         "129.245",
         "129.452",
         "129.927",
         "128.951",
         "8,84B",
         "-0,16%"
        ],
        [
         "44",
         "2025-04-14 00:00:00",
         "129.454",
         "127.683",
         "129.955",
         "127.683",
         "10,61B",
         "1,39%"
        ],
        [
         "45",
         "2025-04-11 00:00:00",
         "127.682",
         "126.355",
         "128.386",
         "126.078",
         "10,08B",
         "1,05%"
        ],
        [
         "46",
         "2025-04-10 00:00:00",
         "126.355",
         "127.796",
         "127.797",
         "124.895",
         "11,46B",
         "-1,13%"
        ],
        [
         "47",
         "2025-04-09 00:00:00",
         "127.796",
         "123.928",
         "128.649",
         "122.887",
         "16,92B",
         "3,12%"
        ],
        [
         "48",
         "2025-04-08 00:00:00",
         "123.932",
         "125.588",
         "127.652",
         "123.454",
         "12,81B",
         "-1,32%"
        ],
        [
         "49",
         "2025-04-07 00:00:00",
         "125.588",
         "127.229",
         "128.411",
         "123.876",
         "14,05B",
         "-1,31%"
        ]
       ],
       "shape": {
        "columns": 7,
        "rows": 4314
       }
      },
      "text/html": [
       "<div>\n",
       "<style scoped>\n",
       "    .dataframe tbody tr th:only-of-type {\n",
       "        vertical-align: middle;\n",
       "    }\n",
       "\n",
       "    .dataframe tbody tr th {\n",
       "        vertical-align: top;\n",
       "    }\n",
       "\n",
       "    .dataframe thead th {\n",
       "        text-align: right;\n",
       "    }\n",
       "</style>\n",
       "<table border=\"1\" class=\"dataframe\">\n",
       "  <thead>\n",
       "    <tr style=\"text-align: right;\">\n",
       "      <th></th>\n",
       "      <th>Data</th>\n",
       "      <th>Último</th>\n",
       "      <th>Abertura</th>\n",
       "      <th>Máxima</th>\n",
       "      <th>Mínima</th>\n",
       "      <th>Vol.</th>\n",
       "      <th>Var%</th>\n",
       "    </tr>\n",
       "  </thead>\n",
       "  <tbody>\n",
       "    <tr>\n",
       "      <th>0</th>\n",
       "      <td>2025-06-18</td>\n",
       "      <td>138.717</td>\n",
       "      <td>138.844</td>\n",
       "      <td>139.161</td>\n",
       "      <td>138.443</td>\n",
       "      <td>8,32B</td>\n",
       "      <td>-0,09%</td>\n",
       "    </tr>\n",
       "    <tr>\n",
       "      <th>1</th>\n",
       "      <td>2025-06-17</td>\n",
       "      <td>138.840</td>\n",
       "      <td>139.256</td>\n",
       "      <td>139.497</td>\n",
       "      <td>138.293</td>\n",
       "      <td>8,38B</td>\n",
       "      <td>-0,30%</td>\n",
       "    </tr>\n",
       "    <tr>\n",
       "      <th>2</th>\n",
       "      <td>2025-06-16</td>\n",
       "      <td>139.256</td>\n",
       "      <td>137.212</td>\n",
       "      <td>139.988</td>\n",
       "      <td>137.212</td>\n",
       "      <td>7,62B</td>\n",
       "      <td>1,49%</td>\n",
       "    </tr>\n",
       "    <tr>\n",
       "      <th>3</th>\n",
       "      <td>2025-06-13</td>\n",
       "      <td>137.213</td>\n",
       "      <td>137.800</td>\n",
       "      <td>137.800</td>\n",
       "      <td>136.586</td>\n",
       "      <td>8,63B</td>\n",
       "      <td>-0,43%</td>\n",
       "    </tr>\n",
       "    <tr>\n",
       "      <th>4</th>\n",
       "      <td>2025-06-12</td>\n",
       "      <td>137.800</td>\n",
       "      <td>137.127</td>\n",
       "      <td>137.931</td>\n",
       "      <td>136.175</td>\n",
       "      <td>7,12B</td>\n",
       "      <td>0,49%</td>\n",
       "    </tr>\n",
       "    <tr>\n",
       "      <th>...</th>\n",
       "      <td>...</td>\n",
       "      <td>...</td>\n",
       "      <td>...</td>\n",
       "      <td>...</td>\n",
       "      <td>...</td>\n",
       "      <td>...</td>\n",
       "      <td>...</td>\n",
       "    </tr>\n",
       "    <tr>\n",
       "      <th>4310</th>\n",
       "      <td>2008-01-24</td>\n",
       "      <td>57.463</td>\n",
       "      <td>54.242</td>\n",
       "      <td>57.675</td>\n",
       "      <td>54.242</td>\n",
       "      <td>3,80M</td>\n",
       "      <td>5,95%</td>\n",
       "    </tr>\n",
       "    <tr>\n",
       "      <th>4311</th>\n",
       "      <td>2008-01-23</td>\n",
       "      <td>54.235</td>\n",
       "      <td>56.098</td>\n",
       "      <td>56.098</td>\n",
       "      <td>53.011</td>\n",
       "      <td>3,72M</td>\n",
       "      <td>-3,32%</td>\n",
       "    </tr>\n",
       "    <tr>\n",
       "      <th>4312</th>\n",
       "      <td>2008-01-22</td>\n",
       "      <td>56.097</td>\n",
       "      <td>53.705</td>\n",
       "      <td>56.541</td>\n",
       "      <td>53.610</td>\n",
       "      <td>3,65M</td>\n",
       "      <td>4,45%</td>\n",
       "    </tr>\n",
       "    <tr>\n",
       "      <th>4313</th>\n",
       "      <td>2008-01-21</td>\n",
       "      <td>53.709</td>\n",
       "      <td>57.503</td>\n",
       "      <td>57.503</td>\n",
       "      <td>53.487</td>\n",
       "      <td>3,57M</td>\n",
       "      <td>-6,60%</td>\n",
       "    </tr>\n",
       "    <tr>\n",
       "      <th>4314</th>\n",
       "      <td>2008-01-18</td>\n",
       "      <td>57.506</td>\n",
       "      <td>57.039</td>\n",
       "      <td>58.291</td>\n",
       "      <td>56.241</td>\n",
       "      <td>5,81M</td>\n",
       "      <td>0,82%</td>\n",
       "    </tr>\n",
       "  </tbody>\n",
       "</table>\n",
       "<p>4314 rows × 7 columns</p>\n",
       "</div>"
      ],
      "text/plain": [
       "           Data   Último  Abertura   Máxima   Mínima   Vol.    Var%\n",
       "0    2025-06-18  138.717   138.844  139.161  138.443  8,32B  -0,09%\n",
       "1    2025-06-17  138.840   139.256  139.497  138.293  8,38B  -0,30%\n",
       "2    2025-06-16  139.256   137.212  139.988  137.212  7,62B   1,49%\n",
       "3    2025-06-13  137.213   137.800  137.800  136.586  8,63B  -0,43%\n",
       "4    2025-06-12  137.800   137.127  137.931  136.175  7,12B   0,49%\n",
       "...         ...      ...       ...      ...      ...    ...     ...\n",
       "4310 2008-01-24   57.463    54.242   57.675   54.242  3,80M   5,95%\n",
       "4311 2008-01-23   54.235    56.098   56.098   53.011  3,72M  -3,32%\n",
       "4312 2008-01-22   56.097    53.705   56.541   53.610  3,65M   4,45%\n",
       "4313 2008-01-21   53.709    57.503   57.503   53.487  3,57M  -6,60%\n",
       "4314 2008-01-18   57.506    57.039   58.291   56.241  5,81M   0,82%\n",
       "\n",
       "[4314 rows x 7 columns]"
      ]
     },
     "execution_count": 61,
     "metadata": {},
     "output_type": "execute_result"
    }
   ],
   "source": [
    "# Formatando caracteristica Data e Convertendo em datetime\n",
    "#df_ibov_copia['Data'] = pd.to_datetime(df_ibov_copia['Data'], format = '%d.%m.%Y').dt.strftime('%d/%m/%Y')\n",
    "df_ibov_copia['Data'] = pd.to_datetime(df_ibov_copia['Data'], format='%d.%m.%Y')\n",
    "df_ibov_copia"
   ]
  },
  {
   "cell_type": "code",
   "execution_count": 62,
   "id": "4a1e0655",
   "metadata": {},
   "outputs": [
    {
     "name": "stdout",
     "output_type": "stream",
     "text": [
      "<class 'pandas.core.frame.DataFrame'>\n",
      "Index: 4314 entries, 0 to 4314\n",
      "Data columns (total 7 columns):\n",
      " #   Column    Non-Null Count  Dtype         \n",
      "---  ------    --------------  -----         \n",
      " 0   Data      4314 non-null   datetime64[ns]\n",
      " 1   Último    4314 non-null   float64       \n",
      " 2   Abertura  4314 non-null   float64       \n",
      " 3   Máxima    4314 non-null   float64       \n",
      " 4   Mínima    4314 non-null   float64       \n",
      " 5   Vol.      4314 non-null   object        \n",
      " 6   Var%      4314 non-null   object        \n",
      "dtypes: datetime64[ns](1), float64(4), object(2)\n",
      "memory usage: 269.6+ KB\n"
     ]
    }
   ],
   "source": [
    "df_ibov_copia.info()"
   ]
  },
  {
   "cell_type": "code",
   "execution_count": 63,
   "id": "f8555649",
   "metadata": {},
   "outputs": [
    {
     "name": "stderr",
     "output_type": "stream",
     "text": [
      "C:\\Users\\jacom\\AppData\\Local\\Temp\\ipykernel_16940\\3726376369.py:16: SettingWithCopyWarning: \n",
      "A value is trying to be set on a copy of a slice from a DataFrame.\n",
      "Try using .loc[row_indexer,col_indexer] = value instead\n",
      "\n",
      "See the caveats in the documentation: https://pandas.pydata.org/pandas-docs/stable/user_guide/indexing.html#returning-a-view-versus-a-copy\n",
      "  df_ibov_copia['Vol.'] = df_ibov_copia['Vol.'].apply(converter_volume)\n"
     ]
    }
   ],
   "source": [
    "# Função para conversão dos dados de Volume de string para float\n",
    "## OBS.: Caso acertando com o grupo e vermos a necessidade de mudar par outro tipo fazer a mudança\n",
    "def converter_volume(vol):\n",
    "    if pd.isna(vol):\n",
    "        return np.nan\n",
    "    vol = vol.upper().replace(',', '').strip()\n",
    "    if vol.endswith('B'):\n",
    "        return float(vol[:-1]) * 1e9\n",
    "    elif vol.endswith('M'):\n",
    "        return float(vol[:-1]) * 1e6\n",
    "    elif vol.endswith('K'):\n",
    "        return float(vol[:-1]) * 1e3\n",
    "    else:\n",
    "        return float(vol)\n",
    "        \n",
    "df_ibov_copia['Vol.'] = df_ibov_copia['Vol.'].apply(converter_volume)"
   ]
  },
  {
   "cell_type": "code",
   "execution_count": 64,
   "id": "183471a0",
   "metadata": {},
   "outputs": [
    {
     "data": {
      "application/vnd.microsoft.datawrangler.viewer.v0+json": {
       "columns": [
        {
         "name": "index",
         "rawType": "int64",
         "type": "integer"
        },
        {
         "name": "Data",
         "rawType": "datetime64[ns]",
         "type": "datetime"
        },
        {
         "name": "Último",
         "rawType": "float64",
         "type": "float"
        },
        {
         "name": "Abertura",
         "rawType": "float64",
         "type": "float"
        },
        {
         "name": "Máxima",
         "rawType": "float64",
         "type": "float"
        },
        {
         "name": "Mínima",
         "rawType": "float64",
         "type": "float"
        },
        {
         "name": "Vol.",
         "rawType": "float64",
         "type": "float"
        },
        {
         "name": "Var%",
         "rawType": "object",
         "type": "string"
        }
       ],
       "ref": "7f71ed22-12e9-4555-af47-58e442df99b2",
       "rows": [
        [
         "0",
         "2025-06-18 00:00:00",
         "138.717",
         "138.844",
         "139.161",
         "138.443",
         "832000000000.0",
         "-0,09%"
        ],
        [
         "1",
         "2025-06-17 00:00:00",
         "138.84",
         "139.256",
         "139.497",
         "138.293",
         "838000000000.0",
         "-0,30%"
        ],
        [
         "2",
         "2025-06-16 00:00:00",
         "139.256",
         "137.212",
         "139.988",
         "137.212",
         "762000000000.0",
         "1,49%"
        ],
        [
         "3",
         "2025-06-13 00:00:00",
         "137.213",
         "137.8",
         "137.8",
         "136.586",
         "863000000000.0",
         "-0,43%"
        ],
        [
         "4",
         "2025-06-12 00:00:00",
         "137.8",
         "137.127",
         "137.931",
         "136.175",
         "712000000000.0",
         "0,49%"
        ],
        [
         "5",
         "2025-06-11 00:00:00",
         "137.128",
         "136.443",
         "137.531",
         "135.628",
         "877000000000.0",
         "0,51%"
        ],
        [
         "6",
         "2025-06-10 00:00:00",
         "136.436",
         "135.716",
         "137.369",
         "135.716",
         "819000000000.0",
         "0,54%"
        ],
        [
         "7",
         "2025-06-09 00:00:00",
         "135.699",
         "136.102",
         "136.106",
         "134.119",
         "776000000000.0",
         "-0,30%"
        ],
        [
         "8",
         "2025-06-06 00:00:00",
         "136.102",
         "136.236",
         "136.89",
         "135.601",
         "912000000000.0",
         "-0,10%"
        ],
        [
         "9",
         "2025-06-05 00:00:00",
         "136.236",
         "137.003",
         "137.451",
         "136.031",
         "948000000000.0",
         "-0,56%"
        ],
        [
         "10",
         "2025-06-04 00:00:00",
         "137.002",
         "137.547",
         "138.797",
         "136.695",
         "1020000000000.0",
         "-0,40%"
        ],
        [
         "11",
         "2025-06-03 00:00:00",
         "137.546",
         "136.787",
         "137.672",
         "136.175",
         "970000000000.0",
         "0,56%"
        ],
        [
         "12",
         "2025-06-02 00:00:00",
         "136.787",
         "137.026",
         "138.471",
         "136.483",
         "910000000000.0",
         "-0,18%"
        ],
        [
         "13",
         "2025-05-30 00:00:00",
         "137.027",
         "138.546",
         "138.637",
         "136.726",
         "1514000000000.0",
         "-1,09%"
        ],
        [
         "14",
         "2025-05-29 00:00:00",
         "138.534",
         "138.869",
         "139.108",
         "137.993",
         "883000000000.0",
         "-0,25%"
        ],
        [
         "15",
         "2025-05-28 00:00:00",
         "138.888",
         "139.541",
         "139.547",
         "138.58",
         "973000000000.0",
         "-0,47%"
        ],
        [
         "16",
         "2025-05-27 00:00:00",
         "139.541",
         "138.136",
         "140.382",
         "138.136",
         "1119000000000.0",
         "1,02%"
        ],
        [
         "17",
         "2025-05-26 00:00:00",
         "138.136",
         "137.824",
         "138.8",
         "137.795",
         "555000000000.0",
         "0,23%"
        ],
        [
         "18",
         "2025-05-23 00:00:00",
         "137.824",
         "137.273",
         "137.824",
         "134.997",
         "1068000000000.0",
         "0,40%"
        ],
        [
         "19",
         "2025-05-22 00:00:00",
         "137.273",
         "137.881",
         "138.837",
         "137.088",
         "1322000000000.0",
         "-0,44%"
        ],
        [
         "20",
         "2025-05-21 00:00:00",
         "137.881",
         "140.109",
         "140.109",
         "137.538",
         "1015000000000.0",
         "-1,59%"
        ],
        [
         "21",
         "2025-05-20 00:00:00",
         "140.11",
         "139.636",
         "140.244",
         "138.966",
         "965000000000.0",
         "0,34%"
        ],
        [
         "22",
         "2025-05-19 00:00:00",
         "139.636",
         "139.186",
         "140.203",
         "138.587",
         "959000000000.0",
         "0,32%"
        ],
        [
         "23",
         "2025-05-16 00:00:00",
         "139.187",
         "139.335",
         "139.335",
         "137.713",
         "1211000000000.0",
         "-0,11%"
        ],
        [
         "24",
         "2025-05-15 00:00:00",
         "139.334",
         "138.425",
         "139.408",
         "138.321",
         "1150000000000.0",
         "0,66%"
        ],
        [
         "25",
         "2025-05-14 00:00:00",
         "138.423",
         "138.965",
         "139.362",
         "138.228",
         "1116000000000.0",
         "-0,39%"
        ],
        [
         "26",
         "2025-05-13 00:00:00",
         "138.963",
         "136.565",
         "139.419",
         "136.55",
         "1307000000000.0",
         "1,76%"
        ],
        [
         "27",
         "2025-05-12 00:00:00",
         "136.563",
         "136.516",
         "137.519",
         "136.356",
         "1092000000000.0",
         "0,04%"
        ],
        [
         "28",
         "2025-05-09 00:00:00",
         "136.512",
         "136.232",
         "137.286",
         "136.105",
         "1388000000000.0",
         "0,21%"
        ],
        [
         "29",
         "2025-05-08 00:00:00",
         "136.232",
         "133.458",
         "137.635",
         "133.458",
         "1720000000000.0",
         "2,12%"
        ],
        [
         "30",
         "2025-05-07 00:00:00",
         "133.398",
         "133.517",
         "134.11",
         "132.872",
         "994000000000.0",
         "-0,09%"
        ],
        [
         "31",
         "2025-05-06 00:00:00",
         "133.516",
         "133.499",
         "134.135",
         "133.26",
         "1114000000000.0",
         "0,02%"
        ],
        [
         "32",
         "2025-05-05 00:00:00",
         "133.491",
         "135.131",
         "135.198",
         "133.39",
         "1080000000000.0",
         "-1,22%"
        ],
        [
         "33",
         "2025-05-02 00:00:00",
         "135.134",
         "135.067",
         "135.275",
         "134.355",
         "1274000000000.0",
         "0,05%"
        ],
        [
         "34",
         "2025-04-30 00:00:00",
         "135.067",
         "135.094",
         "135.171",
         "133.955",
         "1545000000000.0",
         "-0,02%"
        ],
        [
         "35",
         "2025-04-29 00:00:00",
         "135.093",
         "135.017",
         "136.15",
         "134.899",
         "1276000000000.0",
         "0,06%"
        ],
        [
         "36",
         "2025-04-28 00:00:00",
         "135.016",
         "134.741",
         "135.709",
         "134.711",
         "1145000000000.0",
         "0,21%"
        ],
        [
         "37",
         "2025-04-25 00:00:00",
         "134.739",
         "134.579",
         "134.992",
         "134.186",
         "1305000000000.0",
         "0,12%"
        ],
        [
         "38",
         "2025-04-24 00:00:00",
         "134.58",
         "132.245",
         "134.938",
         "132.223",
         "1411000000000.0",
         "1,79%"
        ],
        [
         "39",
         "2025-04-23 00:00:00",
         "132.216",
         "130.468",
         "133.318",
         "130.468",
         "1134000000000.0",
         "1,34%"
        ],
        [
         "40",
         "2025-04-22 00:00:00",
         "130.464",
         "129.65",
         "130.877",
         "128.726",
         "861000000000.0",
         "0,63%"
        ],
        [
         "41",
         "2025-04-17 00:00:00",
         "129.65",
         "128.316",
         "130.091",
         "127.973",
         "998000000000.0",
         "1,04%"
        ],
        [
         "42",
         "2025-04-16 00:00:00",
         "128.317",
         "129.245",
         "129.605",
         "128.149",
         "1154000000000.0",
         "-0,72%"
        ],
        [
         "43",
         "2025-04-15 00:00:00",
         "129.245",
         "129.452",
         "129.927",
         "128.951",
         "884000000000.0",
         "-0,16%"
        ],
        [
         "44",
         "2025-04-14 00:00:00",
         "129.454",
         "127.683",
         "129.955",
         "127.683",
         "1061000000000.0",
         "1,39%"
        ],
        [
         "45",
         "2025-04-11 00:00:00",
         "127.682",
         "126.355",
         "128.386",
         "126.078",
         "1008000000000.0",
         "1,05%"
        ],
        [
         "46",
         "2025-04-10 00:00:00",
         "126.355",
         "127.796",
         "127.797",
         "124.895",
         "1146000000000.0",
         "-1,13%"
        ],
        [
         "47",
         "2025-04-09 00:00:00",
         "127.796",
         "123.928",
         "128.649",
         "122.887",
         "1692000000000.0",
         "3,12%"
        ],
        [
         "48",
         "2025-04-08 00:00:00",
         "123.932",
         "125.588",
         "127.652",
         "123.454",
         "1281000000000.0",
         "-1,32%"
        ],
        [
         "49",
         "2025-04-07 00:00:00",
         "125.588",
         "127.229",
         "128.411",
         "123.876",
         "1405000000000.0",
         "-1,31%"
        ]
       ],
       "shape": {
        "columns": 7,
        "rows": 4314
       }
      },
      "text/html": [
       "<div>\n",
       "<style scoped>\n",
       "    .dataframe tbody tr th:only-of-type {\n",
       "        vertical-align: middle;\n",
       "    }\n",
       "\n",
       "    .dataframe tbody tr th {\n",
       "        vertical-align: top;\n",
       "    }\n",
       "\n",
       "    .dataframe thead th {\n",
       "        text-align: right;\n",
       "    }\n",
       "</style>\n",
       "<table border=\"1\" class=\"dataframe\">\n",
       "  <thead>\n",
       "    <tr style=\"text-align: right;\">\n",
       "      <th></th>\n",
       "      <th>Data</th>\n",
       "      <th>Último</th>\n",
       "      <th>Abertura</th>\n",
       "      <th>Máxima</th>\n",
       "      <th>Mínima</th>\n",
       "      <th>Vol.</th>\n",
       "      <th>Var%</th>\n",
       "    </tr>\n",
       "  </thead>\n",
       "  <tbody>\n",
       "    <tr>\n",
       "      <th>0</th>\n",
       "      <td>2025-06-18</td>\n",
       "      <td>138.717</td>\n",
       "      <td>138.844</td>\n",
       "      <td>139.161</td>\n",
       "      <td>138.443</td>\n",
       "      <td>8.320000e+11</td>\n",
       "      <td>-0,09%</td>\n",
       "    </tr>\n",
       "    <tr>\n",
       "      <th>1</th>\n",
       "      <td>2025-06-17</td>\n",
       "      <td>138.840</td>\n",
       "      <td>139.256</td>\n",
       "      <td>139.497</td>\n",
       "      <td>138.293</td>\n",
       "      <td>8.380000e+11</td>\n",
       "      <td>-0,30%</td>\n",
       "    </tr>\n",
       "    <tr>\n",
       "      <th>2</th>\n",
       "      <td>2025-06-16</td>\n",
       "      <td>139.256</td>\n",
       "      <td>137.212</td>\n",
       "      <td>139.988</td>\n",
       "      <td>137.212</td>\n",
       "      <td>7.620000e+11</td>\n",
       "      <td>1,49%</td>\n",
       "    </tr>\n",
       "    <tr>\n",
       "      <th>3</th>\n",
       "      <td>2025-06-13</td>\n",
       "      <td>137.213</td>\n",
       "      <td>137.800</td>\n",
       "      <td>137.800</td>\n",
       "      <td>136.586</td>\n",
       "      <td>8.630000e+11</td>\n",
       "      <td>-0,43%</td>\n",
       "    </tr>\n",
       "    <tr>\n",
       "      <th>4</th>\n",
       "      <td>2025-06-12</td>\n",
       "      <td>137.800</td>\n",
       "      <td>137.127</td>\n",
       "      <td>137.931</td>\n",
       "      <td>136.175</td>\n",
       "      <td>7.120000e+11</td>\n",
       "      <td>0,49%</td>\n",
       "    </tr>\n",
       "    <tr>\n",
       "      <th>...</th>\n",
       "      <td>...</td>\n",
       "      <td>...</td>\n",
       "      <td>...</td>\n",
       "      <td>...</td>\n",
       "      <td>...</td>\n",
       "      <td>...</td>\n",
       "      <td>...</td>\n",
       "    </tr>\n",
       "    <tr>\n",
       "      <th>4310</th>\n",
       "      <td>2008-01-24</td>\n",
       "      <td>57.463</td>\n",
       "      <td>54.242</td>\n",
       "      <td>57.675</td>\n",
       "      <td>54.242</td>\n",
       "      <td>3.800000e+08</td>\n",
       "      <td>5,95%</td>\n",
       "    </tr>\n",
       "    <tr>\n",
       "      <th>4311</th>\n",
       "      <td>2008-01-23</td>\n",
       "      <td>54.235</td>\n",
       "      <td>56.098</td>\n",
       "      <td>56.098</td>\n",
       "      <td>53.011</td>\n",
       "      <td>3.720000e+08</td>\n",
       "      <td>-3,32%</td>\n",
       "    </tr>\n",
       "    <tr>\n",
       "      <th>4312</th>\n",
       "      <td>2008-01-22</td>\n",
       "      <td>56.097</td>\n",
       "      <td>53.705</td>\n",
       "      <td>56.541</td>\n",
       "      <td>53.610</td>\n",
       "      <td>3.650000e+08</td>\n",
       "      <td>4,45%</td>\n",
       "    </tr>\n",
       "    <tr>\n",
       "      <th>4313</th>\n",
       "      <td>2008-01-21</td>\n",
       "      <td>53.709</td>\n",
       "      <td>57.503</td>\n",
       "      <td>57.503</td>\n",
       "      <td>53.487</td>\n",
       "      <td>3.570000e+08</td>\n",
       "      <td>-6,60%</td>\n",
       "    </tr>\n",
       "    <tr>\n",
       "      <th>4314</th>\n",
       "      <td>2008-01-18</td>\n",
       "      <td>57.506</td>\n",
       "      <td>57.039</td>\n",
       "      <td>58.291</td>\n",
       "      <td>56.241</td>\n",
       "      <td>5.810000e+08</td>\n",
       "      <td>0,82%</td>\n",
       "    </tr>\n",
       "  </tbody>\n",
       "</table>\n",
       "<p>4314 rows × 7 columns</p>\n",
       "</div>"
      ],
      "text/plain": [
       "           Data   Último  Abertura   Máxima   Mínima          Vol.    Var%\n",
       "0    2025-06-18  138.717   138.844  139.161  138.443  8.320000e+11  -0,09%\n",
       "1    2025-06-17  138.840   139.256  139.497  138.293  8.380000e+11  -0,30%\n",
       "2    2025-06-16  139.256   137.212  139.988  137.212  7.620000e+11   1,49%\n",
       "3    2025-06-13  137.213   137.800  137.800  136.586  8.630000e+11  -0,43%\n",
       "4    2025-06-12  137.800   137.127  137.931  136.175  7.120000e+11   0,49%\n",
       "...         ...      ...       ...      ...      ...           ...     ...\n",
       "4310 2008-01-24   57.463    54.242   57.675   54.242  3.800000e+08   5,95%\n",
       "4311 2008-01-23   54.235    56.098   56.098   53.011  3.720000e+08  -3,32%\n",
       "4312 2008-01-22   56.097    53.705   56.541   53.610  3.650000e+08   4,45%\n",
       "4313 2008-01-21   53.709    57.503   57.503   53.487  3.570000e+08  -6,60%\n",
       "4314 2008-01-18   57.506    57.039   58.291   56.241  5.810000e+08   0,82%\n",
       "\n",
       "[4314 rows x 7 columns]"
      ]
     },
     "execution_count": 64,
     "metadata": {},
     "output_type": "execute_result"
    }
   ],
   "source": [
    "df_ibov_copia"
   ]
  },
  {
   "cell_type": "code",
   "execution_count": 65,
   "id": "5f0dca68",
   "metadata": {},
   "outputs": [
    {
     "name": "stderr",
     "output_type": "stream",
     "text": [
      "C:\\Users\\jacom\\AppData\\Local\\Temp\\ipykernel_16940\\457386011.py:2: SettingWithCopyWarning: \n",
      "A value is trying to be set on a copy of a slice from a DataFrame.\n",
      "Try using .loc[row_indexer,col_indexer] = value instead\n",
      "\n",
      "See the caveats in the documentation: https://pandas.pydata.org/pandas-docs/stable/user_guide/indexing.html#returning-a-view-versus-a-copy\n",
      "  df_ibov_copia['Var%'] = df_ibov_copia['Var%'].str.replace('%', '').str.replace(',', '.').astype(float)\n"
     ]
    }
   ],
   "source": [
    "# Substitui os caracteres (%) por (vázio) e (,) por (.) e converte tipo objeto para float \n",
    "df_ibov_copia['Var%'] = df_ibov_copia['Var%'].str.replace('%', '').str.replace(',', '.').astype(float)"
   ]
  },
  {
   "cell_type": "code",
   "execution_count": 66,
   "id": "0ba486e8",
   "metadata": {},
   "outputs": [
    {
     "name": "stdout",
     "output_type": "stream",
     "text": [
      "Vol.    float64\n",
      "Var%    float64\n",
      "dtype: object\n",
      "           Vol.  Var%\n",
      "0  8.320000e+11 -0.09\n",
      "1  8.380000e+11 -0.30\n",
      "2  7.620000e+11  1.49\n",
      "3  8.630000e+11 -0.43\n",
      "4  7.120000e+11  0.49\n"
     ]
    }
   ],
   "source": [
    "print(df_ibov_copia[['Vol.', 'Var%']].dtypes)\n",
    "print(df_ibov_copia[['Vol.', 'Var%']].head())"
   ]
  },
  {
   "cell_type": "markdown",
   "id": "b85dcf37",
   "metadata": {},
   "source": [
    "# Evoluindo na análise exploratória com gráficos"
   ]
  },
  {
   "cell_type": "code",
   "execution_count": 67,
   "id": "a1805be8",
   "metadata": {},
   "outputs": [
    {
     "data": {
      "application/vnd.microsoft.datawrangler.viewer.v0+json": {
       "columns": [
        {
         "name": "index",
         "rawType": "object",
         "type": "string"
        },
        {
         "name": "Data",
         "rawType": "object",
         "type": "unknown"
        },
        {
         "name": "Último",
         "rawType": "float64",
         "type": "float"
        },
        {
         "name": "Abertura",
         "rawType": "float64",
         "type": "float"
        },
        {
         "name": "Máxima",
         "rawType": "float64",
         "type": "float"
        },
        {
         "name": "Mínima",
         "rawType": "float64",
         "type": "float"
        },
        {
         "name": "Vol.",
         "rawType": "float64",
         "type": "float"
        },
        {
         "name": "Var%",
         "rawType": "float64",
         "type": "float"
        }
       ],
       "ref": "589fc1a6-8737-4594-898f-8b20401299f0",
       "rows": [
        [
         "count",
         "4202",
         "4202.0",
         "4202.0",
         "4202.0",
         "4202.0",
         "4202.0",
         "4202.0"
        ],
        [
         "mean",
         "2016-07-15 22:00:23.988576768",
         "78.00962303664922",
         "77.99529295573537",
         "78.73520085673489",
         "77.26013350785341",
         "550837072.8224655",
         "0.031946692051404095"
        ],
        [
         "min",
         "2008-01-18 00:00:00",
         "29.435",
         "29.438",
         "31.48",
         "29.435",
         "42432000.0",
         "-14.78"
        ],
        [
         "25%",
         "2012-04-16 06:00:00",
         "55.548249999999996",
         "55.551249999999996",
         "56.18025",
         "54.9555",
         "261250000.0",
         "-0.82"
        ],
        [
         "50%",
         "2016-07-18 12:00:00",
         "67.0855",
         "67.07749999999999",
         "67.649",
         "66.528",
         "388000000.0",
         "0.04"
        ],
        [
         "75%",
         "2020-10-14 18:00:00",
         "104.2745",
         "104.25200000000001",
         "105.10849999999999",
         "103.40375",
         "825750000.0",
         "0.89"
        ],
        [
         "max",
         "2025-01-06 00:00:00",
         "137.344",
         "137.349",
         "137.469",
         "136.664",
         "2603000000.0",
         "14.66"
        ],
        [
         "std",
         null,
         "27.461989202462643",
         "27.45605225941259",
         "27.577547346272738",
         "27.33733805994624",
         "406046166.5029465",
         "1.67704091793641"
        ]
       ],
       "shape": {
        "columns": 7,
        "rows": 8
       }
      },
      "text/html": [
       "<div>\n",
       "<style scoped>\n",
       "    .dataframe tbody tr th:only-of-type {\n",
       "        vertical-align: middle;\n",
       "    }\n",
       "\n",
       "    .dataframe tbody tr th {\n",
       "        vertical-align: top;\n",
       "    }\n",
       "\n",
       "    .dataframe thead th {\n",
       "        text-align: right;\n",
       "    }\n",
       "</style>\n",
       "<table border=\"1\" class=\"dataframe\">\n",
       "  <thead>\n",
       "    <tr style=\"text-align: right;\">\n",
       "      <th></th>\n",
       "      <th>Data</th>\n",
       "      <th>Último</th>\n",
       "      <th>Abertura</th>\n",
       "      <th>Máxima</th>\n",
       "      <th>Mínima</th>\n",
       "      <th>Vol.</th>\n",
       "      <th>Var%</th>\n",
       "    </tr>\n",
       "  </thead>\n",
       "  <tbody>\n",
       "    <tr>\n",
       "      <th>count</th>\n",
       "      <td>4202</td>\n",
       "      <td>4202.000000</td>\n",
       "      <td>4202.000000</td>\n",
       "      <td>4202.000000</td>\n",
       "      <td>4202.000000</td>\n",
       "      <td>4.202000e+03</td>\n",
       "      <td>4202.000000</td>\n",
       "    </tr>\n",
       "    <tr>\n",
       "      <th>mean</th>\n",
       "      <td>2016-07-15 22:00:23.988576768</td>\n",
       "      <td>78.009623</td>\n",
       "      <td>77.995293</td>\n",
       "      <td>78.735201</td>\n",
       "      <td>77.260134</td>\n",
       "      <td>5.508371e+08</td>\n",
       "      <td>0.031947</td>\n",
       "    </tr>\n",
       "    <tr>\n",
       "      <th>min</th>\n",
       "      <td>2008-01-18 00:00:00</td>\n",
       "      <td>29.435000</td>\n",
       "      <td>29.438000</td>\n",
       "      <td>31.480000</td>\n",
       "      <td>29.435000</td>\n",
       "      <td>4.243200e+07</td>\n",
       "      <td>-14.780000</td>\n",
       "    </tr>\n",
       "    <tr>\n",
       "      <th>25%</th>\n",
       "      <td>2012-04-16 06:00:00</td>\n",
       "      <td>55.548250</td>\n",
       "      <td>55.551250</td>\n",
       "      <td>56.180250</td>\n",
       "      <td>54.955500</td>\n",
       "      <td>2.612500e+08</td>\n",
       "      <td>-0.820000</td>\n",
       "    </tr>\n",
       "    <tr>\n",
       "      <th>50%</th>\n",
       "      <td>2016-07-18 12:00:00</td>\n",
       "      <td>67.085500</td>\n",
       "      <td>67.077500</td>\n",
       "      <td>67.649000</td>\n",
       "      <td>66.528000</td>\n",
       "      <td>3.880000e+08</td>\n",
       "      <td>0.040000</td>\n",
       "    </tr>\n",
       "    <tr>\n",
       "      <th>75%</th>\n",
       "      <td>2020-10-14 18:00:00</td>\n",
       "      <td>104.274500</td>\n",
       "      <td>104.252000</td>\n",
       "      <td>105.108500</td>\n",
       "      <td>103.403750</td>\n",
       "      <td>8.257500e+08</td>\n",
       "      <td>0.890000</td>\n",
       "    </tr>\n",
       "    <tr>\n",
       "      <th>max</th>\n",
       "      <td>2025-01-06 00:00:00</td>\n",
       "      <td>137.344000</td>\n",
       "      <td>137.349000</td>\n",
       "      <td>137.469000</td>\n",
       "      <td>136.664000</td>\n",
       "      <td>2.603000e+09</td>\n",
       "      <td>14.660000</td>\n",
       "    </tr>\n",
       "    <tr>\n",
       "      <th>std</th>\n",
       "      <td>NaN</td>\n",
       "      <td>27.461989</td>\n",
       "      <td>27.456052</td>\n",
       "      <td>27.577547</td>\n",
       "      <td>27.337338</td>\n",
       "      <td>4.060462e+08</td>\n",
       "      <td>1.677041</td>\n",
       "    </tr>\n",
       "  </tbody>\n",
       "</table>\n",
       "</div>"
      ],
      "text/plain": [
       "                                Data       Último     Abertura       Máxima  \\\n",
       "count                           4202  4202.000000  4202.000000  4202.000000   \n",
       "mean   2016-07-15 22:00:23.988576768    78.009623    77.995293    78.735201   \n",
       "min              2008-01-18 00:00:00    29.435000    29.438000    31.480000   \n",
       "25%              2012-04-16 06:00:00    55.548250    55.551250    56.180250   \n",
       "50%              2016-07-18 12:00:00    67.085500    67.077500    67.649000   \n",
       "75%              2020-10-14 18:00:00   104.274500   104.252000   105.108500   \n",
       "max              2025-01-06 00:00:00   137.344000   137.349000   137.469000   \n",
       "std                              NaN    27.461989    27.456052    27.577547   \n",
       "\n",
       "            Mínima          Vol.         Var%  \n",
       "count  4202.000000  4.202000e+03  4202.000000  \n",
       "mean     77.260134  5.508371e+08     0.031947  \n",
       "min      29.435000  4.243200e+07   -14.780000  \n",
       "25%      54.955500  2.612500e+08    -0.820000  \n",
       "50%      66.528000  3.880000e+08     0.040000  \n",
       "75%     103.403750  8.257500e+08     0.890000  \n",
       "max     136.664000  2.603000e+09    14.660000  \n",
       "std      27.337338  4.060462e+08     1.677041  "
      ]
     },
     "execution_count": 67,
     "metadata": {},
     "output_type": "execute_result"
    }
   ],
   "source": [
    "df_ibov_copia.iloc[112:,:].describe()"
   ]
  },
  {
   "cell_type": "code",
   "execution_count": 74,
   "id": "3db9be7d",
   "metadata": {},
   "outputs": [
    {
     "data": {
      "text/plain": [
       "Text(0, 0.5, 'Porcentagem')"
      ]
     },
     "execution_count": 74,
     "metadata": {},
     "output_type": "execute_result"
    },
    {
     "data": {
      "image/png": "[encoded data removed]",
      "text/plain": [
       "<Figure size 2400x2000 with 6 Axes>"
      ]
     },
     "metadata": {},
     "output_type": "display_data"
    }
   ],
   "source": [
    "# Avaliando Outliers com Boxplot\n",
    "\n",
    "plt.figure(figsize=(24,20))\n",
    "\n",
    "plt.subplot(4, 2, 1) # Parametros -> linhas = 4, colunas = 2, posição = 1(1º gráfico)\n",
    "fig = df_ibov_copia.iloc[112:3831,:].boxplot(column='Último')\n",
    "fig.set_title('')\n",
    "fig.set_ylabel('Pontos')\n",
    "\n",
    "plt.subplot(4, 2, 2) # Parametros -> linhas = 4, colunas = 2, posição = 1(1º gráfico)\n",
    "fig = df_ibov_copia.iloc[112:3831,:].boxplot(column='Abertura')\n",
    "fig.set_title('')\n",
    "fig.set_ylabel('Pontos')\n",
    "\n",
    "plt.subplot(4, 2, 3) # Parametros -> linhas = 4, colunas = 2, posição = 1(1º gráfico)\n",
    "fig = df_ibov_copia.iloc[112:3831,:].boxplot(column='Máxima')\n",
    "fig.set_title('')\n",
    "fig.set_ylabel('Pontos')\n",
    "\n",
    "plt.subplot(4, 2, 4) # Parametros -> linhas = 4, colunas = 2, posição = 1(1º gráfico)\n",
    "fig = df_ibov_copia.iloc[112:3831,:].boxplot(column='Mínima')\n",
    "fig.set_title('')\n",
    "fig.set_ylabel('Pontos')\n",
    "\n",
    "plt.subplot(4, 2, 5) # Parametros -> linhas = 4, colunas = 2, posição = 1(1º gráfico)\n",
    "fig = df_ibov_copia.iloc[112:3831,:].boxplot(column='Vol.') # Retirei os dados de 2025 para melhor verificação\n",
    "fig.set_title('')\n",
    "fig.set_ylabel('Volume em R$')\n",
    "\n",
    "plt.subplot(4, 2, 6) # Parametros -> linhas = 4, colunas = 2, posição = 1(1º gráfico)\n",
    "fig = df_ibov_copia.iloc[112:3831,:].boxplot(column='Var%')\n",
    "fig.set_title('')\n",
    "fig.set_ylabel('Porcentagem')"
   ]
  },
  {
   "cell_type": "code",
   "execution_count": 70,
   "id": "ba656c95",
   "metadata": {},
   "outputs": [
    {
     "name": "stderr",
     "output_type": "stream",
     "text": [
      "C:\\Users\\jacom\\AppData\\Local\\Temp\\ipykernel_16940\\3218694361.py:1: SettingWithCopyWarning: \n",
      "A value is trying to be set on a copy of a slice from a DataFrame.\n",
      "Try using .loc[row_indexer,col_indexer] = value instead\n",
      "\n",
      "See the caveats in the documentation: https://pandas.pydata.org/pandas-docs/stable/user_guide/indexing.html#returning-a-view-versus-a-copy\n",
      "  df_ibov_copia['Mes_Ano'] = df_ibov_copia['Data'].dt.to_period('M')\n"
     ]
    },
    {
     "data": {
      "application/vnd.microsoft.datawrangler.viewer.v0+json": {
       "columns": [
        {
         "name": "index",
         "rawType": "int64",
         "type": "integer"
        },
        {
         "name": "Data",
         "rawType": "datetime64[ns]",
         "type": "datetime"
        },
        {
         "name": "Último",
         "rawType": "float64",
         "type": "float"
        },
        {
         "name": "Abertura",
         "rawType": "float64",
         "type": "float"
        },
        {
         "name": "Máxima",
         "rawType": "float64",
         "type": "float"
        },
        {
         "name": "Mínima",
         "rawType": "float64",
         "type": "float"
        },
        {
         "name": "Vol.",
         "rawType": "float64",
         "type": "float"
        },
        {
         "name": "Var%",
         "rawType": "float64",
         "type": "float"
        },
        {
         "name": "Mes_Ano",
         "rawType": "period[M]",
         "type": "unknown"
        }
       ],
       "ref": "b2b2c78a-2e3f-47d4-b886-e79819d844f0",
       "rows": [
        [
         "4314",
         "2008-01-18 00:00:00",
         "57.506",
         "57.039",
         "58.291",
         "56.241",
         "581000000.0",
         "0.82",
         "2008-01"
        ],
        [
         "4313",
         "2008-01-21 00:00:00",
         "53.709",
         "57.503",
         "57.503",
         "53.487",
         "357000000.0",
         "-6.6",
         "2008-01"
        ],
        [
         "4312",
         "2008-01-22 00:00:00",
         "56.097",
         "53.705",
         "56.541",
         "53.61",
         "365000000.0",
         "4.45",
         "2008-01"
        ],
        [
         "4311",
         "2008-01-23 00:00:00",
         "54.235",
         "56.098",
         "56.098",
         "53.011",
         "372000000.0",
         "-3.32",
         "2008-01"
        ],
        [
         "4310",
         "2008-01-24 00:00:00",
         "57.463",
         "54.242",
         "57.675",
         "54.242",
         "380000000.0",
         "5.95",
         "2008-01"
        ],
        [
         "4308",
         "2008-01-29 00:00:00",
         "59.53",
         "58.597",
         "59.715",
         "58.597",
         "344000000.0",
         "1.6",
         "2008-01"
        ],
        [
         "4309",
         "2008-01-28 00:00:00",
         "58.594",
         "57.457",
         "58.721",
         "56.36",
         "393000000.0",
         "1.97",
         "2008-01"
        ],
        [
         "4306",
         "2008-01-31 00:00:00",
         "59.49",
         "60.288",
         "60.288",
         "57.886",
         "616000000.0",
         "-1.33",
         "2008-01"
        ],
        [
         "4307",
         "2008-01-30 00:00:00",
         "60.289",
         "59.522",
         "60.289",
         "58.752",
         "431000000.0",
         "1.27",
         "2008-01"
        ],
        [
         "4288",
         "2008-02-28 00:00:00",
         "65.555",
         "65.495",
         "66.005",
         "65.248",
         "369000000.0",
         "0.09",
         "2008-02"
        ],
        [
         "4292",
         "2008-02-22 00:00:00",
         "64.609",
         "63.78",
         "64.609",
         "63.36",
         "208000000.0",
         "1.28",
         "2008-02"
        ],
        [
         "4293",
         "2008-02-21 00:00:00",
         "63.792",
         "63.748",
         "64.631",
         "63.62",
         "242000000.0",
         "0.07",
         "2008-02"
        ],
        [
         "4290",
         "2008-02-26 00:00:00",
         "65.183",
         "64.994",
         "65.399",
         "63.983",
         "356000000.0",
         "0.28",
         "2008-02"
        ],
        [
         "4289",
         "2008-02-27 00:00:00",
         "65.495",
         "65.178",
         "65.968",
         "64.647",
         "484000000.0",
         "0.48",
         "2008-02"
        ],
        [
         "4287",
         "2008-02-29 00:00:00",
         "63.489",
         "65.553",
         "65.553",
         "63.482",
         "282000000.0",
         "-3.15",
         "2008-02"
        ],
        [
         "4291",
         "2008-02-25 00:00:00",
         "65.001",
         "64.605",
         "65.013",
         "64.06",
         "237000000.0",
         "0.61",
         "2008-02"
        ],
        [
         "4302",
         "2008-02-08 00:00:00",
         "59.076",
         "58.967",
         "59.52",
         "58.843",
         "202000000.0",
         "0.19",
         "2008-02"
        ],
        [
         "4301",
         "2008-02-11 00:00:00",
         "60.643",
         "59.081",
         "60.805",
         "59.081",
         "257000000.0",
         "2.65",
         "2008-02"
        ],
        [
         "4300",
         "2008-02-12 00:00:00",
         "61.805",
         "60.645",
         "62.828",
         "60.645",
         "1347000000.0",
         "1.92",
         "2008-02"
        ],
        [
         "4299",
         "2008-02-13 00:00:00",
         "62.591",
         "61.802",
         "63.002",
         "61.802",
         "442000000.0",
         "1.27",
         "2008-02"
        ],
        [
         "4295",
         "2008-02-19 00:00:00",
         "62.297",
         "62.801",
         "63.59",
         "62.18",
         "209000000.0",
         "-0.8",
         "2008-02"
        ],
        [
         "4296",
         "2008-02-18 00:00:00",
         "62.801",
         "61.292",
         "62.883",
         "61.292",
         "150000000.0",
         "2.5",
         "2008-02"
        ],
        [
         "4297",
         "2008-02-15 00:00:00",
         "61.272",
         "61.803",
         "61.803",
         "60.717",
         "235000000.0",
         "-0.88",
         "2008-02"
        ],
        [
         "4298",
         "2008-02-14 00:00:00",
         "61.819",
         "62.595",
         "63.224",
         "61.737",
         "236000000.0",
         "-1.23",
         "2008-02"
        ],
        [
         "4305",
         "2008-02-01 00:00:00",
         "61.08",
         "59.491",
         "61.187",
         "59.491",
         "360000000.0",
         "2.67",
         "2008-02"
        ],
        [
         "4304",
         "2008-02-06 00:00:00",
         "58.969",
         "61.076",
         "61.076",
         "58.742",
         "205000000.0",
         "-3.46",
         "2008-02"
        ],
        [
         "4303",
         "2008-02-07 00:00:00",
         "58.965",
         "58.965",
         "59.581",
         "58.03",
         "399000000.0",
         "-0.01",
         "2008-02"
        ],
        [
         "4294",
         "2008-02-20 00:00:00",
         "63.747",
         "62.292",
         "63.78",
         "61.634",
         "276000000.0",
         "2.33",
         "2008-02"
        ],
        [
         "4283",
         "2008-03-06 00:00:00",
         "62.975",
         "64.631",
         "64.676",
         "62.975",
         "225000000.0",
         "-2.56",
         "2008-03"
        ],
        [
         "4267",
         "2008-03-31 00:00:00",
         "60.968",
         "60.449",
         "60.982",
         "59.917",
         "217000000.0",
         "0.85",
         "2008-03"
        ],
        [
         "4284",
         "2008-03-05 00:00:00",
         "64.629",
         "63.653",
         "65.045",
         "63.653",
         "232000000.0",
         "1.53",
         "2008-03"
        ],
        [
         "4285",
         "2008-03-04 00:00:00",
         "63.656",
         "64.486",
         "64.53",
         "62.745",
         "214000000.0",
         "-1.29",
         "2008-03"
        ],
        [
         "4286",
         "2008-03-03 00:00:00",
         "64.49",
         "63.496",
         "64.644",
         "63.159",
         "227000000.0",
         "1.58",
         "2008-03"
        ],
        [
         "4275",
         "2008-03-18 00:00:00",
         "61.933",
         "60.04",
         "61.933",
         "60.04",
         "308000000.0",
         "3.2",
         "2008-03"
        ],
        [
         "4281",
         "2008-03-10 00:00:00",
         "59.999",
         "61.869",
         "61.923",
         "59.996",
         "190000000.0",
         "-3.02",
         "2008-03"
        ],
        [
         "4282",
         "2008-03-07 00:00:00",
         "61.868",
         "62.973",
         "62.973",
         "61.382",
         "249000000.0",
         "-1.76",
         "2008-03"
        ],
        [
         "4279",
         "2008-03-12 00:00:00",
         "62.177",
         "62.378",
         "63.036",
         "62.022",
         "232000000.0",
         "-0.31",
         "2008-03"
        ],
        [
         "4278",
         "2008-03-13 00:00:00",
         "62.28",
         "62.175",
         "62.413",
         "60.168",
         "385000000.0",
         "0.17",
         "2008-03"
        ],
        [
         "4277",
         "2008-03-14 00:00:00",
         "61.991",
         "62.28",
         "63.028",
         "60.71",
         "281000000.0",
         "-0.46",
         "2008-03"
        ],
        [
         "4280",
         "2008-03-11 00:00:00",
         "62.368",
         "60.006",
         "62.368",
         "60.006",
         "322000000.0",
         "3.95",
         "2008-03"
        ],
        [
         "4271",
         "2008-03-25 00:00:00",
         "61.234",
         "59.82",
         "61.616",
         "59.82",
         "252000000.0",
         "2.38",
         "2008-03"
        ],
        [
         "4274",
         "2008-03-19 00:00:00",
         "58.827",
         "61.936",
         "62.372",
         "58.805",
         "223000000.0",
         "-5.02",
         "2008-03"
        ],
        [
         "4273",
         "2008-03-20 00:00:00",
         "58.987",
         "58.818",
         "59.17",
         "57.824",
         "272000000.0",
         "0.27",
         "2008-03"
        ],
        [
         "4272",
         "2008-03-24 00:00:00",
         "59.813",
         "58.994",
         "61.083",
         "58.994",
         "229000000.0",
         "1.4",
         "2008-03"
        ],
        [
         "4269",
         "2008-03-27 00:00:00",
         "60.762",
         "61.418",
         "62.2",
         "60.679",
         "164000000.0",
         "-1.06",
         "2008-03"
        ],
        [
         "4270",
         "2008-03-26 00:00:00",
         "61.415",
         "61.234",
         "61.849",
         "60.759",
         "235000000.0",
         "0.3",
         "2008-03"
        ],
        [
         "4268",
         "2008-03-28 00:00:00",
         "60.452",
         "60.762",
         "61.062",
         "60.192",
         "167000000.0",
         "-0.51",
         "2008-03"
        ],
        [
         "4276",
         "2008-03-17 00:00:00",
         "60.012",
         "61.987",
         "61.987",
         "59.342",
         "213000000.0",
         "-3.19",
         "2008-03"
        ],
        [
         "4266",
         "2008-04-01 00:00:00",
         "62.775",
         "60.965",
         "62.788",
         "60.965",
         "121000000.0",
         "2.96",
         "2008-04"
        ],
        [
         "4261",
         "2008-04-08 00:00:00",
         "64.54",
         "64.18",
         "64.833",
         "63.453",
         "87799000.0",
         "0.57",
         "2008-04"
        ]
       ],
       "shape": {
        "columns": 8,
        "rows": 4314
       }
      },
      "text/html": [
       "<div>\n",
       "<style scoped>\n",
       "    .dataframe tbody tr th:only-of-type {\n",
       "        vertical-align: middle;\n",
       "    }\n",
       "\n",
       "    .dataframe tbody tr th {\n",
       "        vertical-align: top;\n",
       "    }\n",
       "\n",
       "    .dataframe thead th {\n",
       "        text-align: right;\n",
       "    }\n",
       "</style>\n",
       "<table border=\"1\" class=\"dataframe\">\n",
       "  <thead>\n",
       "    <tr style=\"text-align: right;\">\n",
       "      <th></th>\n",
       "      <th>Data</th>\n",
       "      <th>Último</th>\n",
       "      <th>Abertura</th>\n",
       "      <th>Máxima</th>\n",
       "      <th>Mínima</th>\n",
       "      <th>Vol.</th>\n",
       "      <th>Var%</th>\n",
       "      <th>Mes_Ano</th>\n",
       "    </tr>\n",
       "  </thead>\n",
       "  <tbody>\n",
       "    <tr>\n",
       "      <th>4314</th>\n",
       "      <td>2008-01-18</td>\n",
       "      <td>57.506</td>\n",
       "      <td>57.039</td>\n",
       "      <td>58.291</td>\n",
       "      <td>56.241</td>\n",
       "      <td>5.810000e+08</td>\n",
       "      <td>0.82</td>\n",
       "      <td>2008-01</td>\n",
       "    </tr>\n",
       "    <tr>\n",
       "      <th>4313</th>\n",
       "      <td>2008-01-21</td>\n",
       "      <td>53.709</td>\n",
       "      <td>57.503</td>\n",
       "      <td>57.503</td>\n",
       "      <td>53.487</td>\n",
       "      <td>3.570000e+08</td>\n",
       "      <td>-6.60</td>\n",
       "      <td>2008-01</td>\n",
       "    </tr>\n",
       "    <tr>\n",
       "      <th>4312</th>\n",
       "      <td>2008-01-22</td>\n",
       "      <td>56.097</td>\n",
       "      <td>53.705</td>\n",
       "      <td>56.541</td>\n",
       "      <td>53.610</td>\n",
       "      <td>3.650000e+08</td>\n",
       "      <td>4.45</td>\n",
       "      <td>2008-01</td>\n",
       "    </tr>\n",
       "    <tr>\n",
       "      <th>4311</th>\n",
       "      <td>2008-01-23</td>\n",
       "      <td>54.235</td>\n",
       "      <td>56.098</td>\n",
       "      <td>56.098</td>\n",
       "      <td>53.011</td>\n",
       "      <td>3.720000e+08</td>\n",
       "      <td>-3.32</td>\n",
       "      <td>2008-01</td>\n",
       "    </tr>\n",
       "    <tr>\n",
       "      <th>4310</th>\n",
       "      <td>2008-01-24</td>\n",
       "      <td>57.463</td>\n",
       "      <td>54.242</td>\n",
       "      <td>57.675</td>\n",
       "      <td>54.242</td>\n",
       "      <td>3.800000e+08</td>\n",
       "      <td>5.95</td>\n",
       "      <td>2008-01</td>\n",
       "    </tr>\n",
       "    <tr>\n",
       "      <th>...</th>\n",
       "      <td>...</td>\n",
       "      <td>...</td>\n",
       "      <td>...</td>\n",
       "      <td>...</td>\n",
       "      <td>...</td>\n",
       "      <td>...</td>\n",
       "      <td>...</td>\n",
       "      <td>...</td>\n",
       "    </tr>\n",
       "    <tr>\n",
       "      <th>5</th>\n",
       "      <td>2025-06-11</td>\n",
       "      <td>137.128</td>\n",
       "      <td>136.443</td>\n",
       "      <td>137.531</td>\n",
       "      <td>135.628</td>\n",
       "      <td>8.770000e+11</td>\n",
       "      <td>0.51</td>\n",
       "      <td>2025-06</td>\n",
       "    </tr>\n",
       "    <tr>\n",
       "      <th>2</th>\n",
       "      <td>2025-06-16</td>\n",
       "      <td>139.256</td>\n",
       "      <td>137.212</td>\n",
       "      <td>139.988</td>\n",
       "      <td>137.212</td>\n",
       "      <td>7.620000e+11</td>\n",
       "      <td>1.49</td>\n",
       "      <td>2025-06</td>\n",
       "    </tr>\n",
       "    <tr>\n",
       "      <th>3</th>\n",
       "      <td>2025-06-13</td>\n",
       "      <td>137.213</td>\n",
       "      <td>137.800</td>\n",
       "      <td>137.800</td>\n",
       "      <td>136.586</td>\n",
       "      <td>8.630000e+11</td>\n",
       "      <td>-0.43</td>\n",
       "      <td>2025-06</td>\n",
       "    </tr>\n",
       "    <tr>\n",
       "      <th>1</th>\n",
       "      <td>2025-06-17</td>\n",
       "      <td>138.840</td>\n",
       "      <td>139.256</td>\n",
       "      <td>139.497</td>\n",
       "      <td>138.293</td>\n",
       "      <td>8.380000e+11</td>\n",
       "      <td>-0.30</td>\n",
       "      <td>2025-06</td>\n",
       "    </tr>\n",
       "    <tr>\n",
       "      <th>0</th>\n",
       "      <td>2025-06-18</td>\n",
       "      <td>138.717</td>\n",
       "      <td>138.844</td>\n",
       "      <td>139.161</td>\n",
       "      <td>138.443</td>\n",
       "      <td>8.320000e+11</td>\n",
       "      <td>-0.09</td>\n",
       "      <td>2025-06</td>\n",
       "    </tr>\n",
       "  </tbody>\n",
       "</table>\n",
       "<p>4314 rows × 8 columns</p>\n",
       "</div>"
      ],
      "text/plain": [
       "           Data   Último  Abertura   Máxima   Mínima          Vol.  Var%  \\\n",
       "4314 2008-01-18   57.506    57.039   58.291   56.241  5.810000e+08  0.82   \n",
       "4313 2008-01-21   53.709    57.503   57.503   53.487  3.570000e+08 -6.60   \n",
       "4312 2008-01-22   56.097    53.705   56.541   53.610  3.650000e+08  4.45   \n",
       "4311 2008-01-23   54.235    56.098   56.098   53.011  3.720000e+08 -3.32   \n",
       "4310 2008-01-24   57.463    54.242   57.675   54.242  3.800000e+08  5.95   \n",
       "...         ...      ...       ...      ...      ...           ...   ...   \n",
       "5    2025-06-11  137.128   136.443  137.531  135.628  8.770000e+11  0.51   \n",
       "2    2025-06-16  139.256   137.212  139.988  137.212  7.620000e+11  1.49   \n",
       "3    2025-06-13  137.213   137.800  137.800  136.586  8.630000e+11 -0.43   \n",
       "1    2025-06-17  138.840   139.256  139.497  138.293  8.380000e+11 -0.30   \n",
       "0    2025-06-18  138.717   138.844  139.161  138.443  8.320000e+11 -0.09   \n",
       "\n",
       "      Mes_Ano  \n",
       "4314  2008-01  \n",
       "4313  2008-01  \n",
       "4312  2008-01  \n",
       "4311  2008-01  \n",
       "4310  2008-01  \n",
       "...       ...  \n",
       "5     2025-06  \n",
       "2     2025-06  \n",
       "3     2025-06  \n",
       "1     2025-06  \n",
       "0     2025-06  \n",
       "\n",
       "[4314 rows x 8 columns]"
      ]
     },
     "execution_count": 70,
     "metadata": {},
     "output_type": "execute_result"
    }
   ],
   "source": [
    "df_ibov_copia['Mes_Ano'] = df_ibov_copia['Data'].dt.to_period('M')\n",
    "df_ibov_copia.sort_values('Mes_Ano')"
   ]
  },
  {
   "cell_type": "code",
   "execution_count": 90,
   "id": "5c957b8a",
   "metadata": {},
   "outputs": [
    {
     "data": {
      "application/vnd.microsoft.datawrangler.viewer.v0+json": {
       "columns": [
        {
         "name": "index",
         "rawType": "int64",
         "type": "integer"
        },
        {
         "name": "Data",
         "rawType": "datetime64[ns]",
         "type": "datetime"
        },
        {
         "name": "Último",
         "rawType": "float64",
         "type": "float"
        },
        {
         "name": "Abertura",
         "rawType": "float64",
         "type": "float"
        },
        {
         "name": "Máxima",
         "rawType": "float64",
         "type": "float"
        },
        {
         "name": "Mínima",
         "rawType": "float64",
         "type": "float"
        },
        {
         "name": "Vol.",
         "rawType": "float64",
         "type": "float"
        },
        {
         "name": "Var%",
         "rawType": "float64",
         "type": "float"
        },
        {
         "name": "Mes_Ano",
         "rawType": "object",
         "type": "string"
        }
       ],
       "ref": "b5f451bd-2cf7-4ea9-869b-c50680eddcfb",
       "rows": [
        [
         "112",
         "2025-01-06 00:00:00",
         "120.022",
         "118.534",
         "120.322",
         "118.534",
         "969000000.0",
         "1.26",
         "2025-01"
        ],
        [
         "113",
         "2025-01-03 00:00:00",
         "118.533",
         "120.125",
         "120.356",
         "118.404",
         "980000000.0",
         "-1.33",
         "2025-01"
        ],
        [
         "114",
         "2025-01-02 00:00:00",
         "120.125",
         "120.283",
         "120.782",
         "119.12",
         "937000000.0",
         "-0.13",
         "2025-01"
        ],
        [
         "115",
         "2024-12-30 00:00:00",
         "120.283",
         "120.267",
         "121.05",
         "120.158",
         "890000000.0",
         "0.01",
         "2024-12"
        ],
        [
         "116",
         "2024-12-27 00:00:00",
         "120.269",
         "121.078",
         "121.609",
         "120.252",
         "894000000.0",
         "-0.67",
         "2024-12"
        ],
        [
         "117",
         "2024-12-26 00:00:00",
         "121.078",
         "120.767",
         "121.612",
         "120.428",
         "834000000.0",
         "0.26",
         "2024-12"
        ],
        [
         "118",
         "2024-12-23 00:00:00",
         "120.767",
         "122.105",
         "122.105",
         "120.617",
         "995000000.0",
         "-1.09",
         "2024-12"
        ],
        [
         "119",
         "2024-12-20 00:00:00",
         "122.102",
         "121.183",
         "122.209",
         "120.7",
         "1813000000.0",
         "0.75",
         "2024-12"
        ],
        [
         "120",
         "2024-12-19 00:00:00",
         "121.188",
         "120.768",
         "121.77",
         "120.768",
         "1368000000.0",
         "0.34",
         "2024-12"
        ],
        [
         "121",
         "2024-12-18 00:00:00",
         "120.772",
         "124.699",
         "124.699",
         "120.457",
         "1974000000.0",
         "-3.15",
         "2024-12"
        ],
        [
         "122",
         "2024-12-17 00:00:00",
         "124.698",
         "123.56",
         "125.301",
         "123.56",
         "1756000000.0",
         "0.92",
         "2024-12"
        ],
        [
         "123",
         "2024-12-16 00:00:00",
         "123.56",
         "124.61",
         "124.956",
         "123.495",
         "1107000000.0",
         "-0.84",
         "2024-12"
        ],
        [
         "124",
         "2024-12-13 00:00:00",
         "124.612",
         "126.102",
         "126.29",
         "124.578",
         "1176000000.0",
         "-1.13",
         "2024-12"
        ],
        [
         "125",
         "2024-12-12 00:00:00",
         "126.042",
         "129.587",
         "129.587",
         "125.829",
         "1345000000.0",
         "-2.74",
         "2024-12"
        ],
        [
         "126",
         "2024-12-11 00:00:00",
         "129.593",
         "128.228",
         "130.899",
         "127.362",
         "1317000000.0",
         "1.06",
         "2024-12"
        ],
        [
         "127",
         "2024-12-10 00:00:00",
         "128.228",
         "127.213",
         "128.511",
         "127.213",
         "914000000.0",
         "0.8",
         "2024-12"
        ],
        [
         "128",
         "2024-12-09 00:00:00",
         "127.21",
         "125.946",
         "127.542",
         "125.946",
         "937000000.0",
         "1.0",
         "2024-12"
        ],
        [
         "129",
         "2024-12-06 00:00:00",
         "125.946",
         "127.856",
         "127.872",
         "125.833",
         "1122000000.0",
         "-1.5",
         "2024-12"
        ],
        [
         "130",
         "2024-12-05 00:00:00",
         "127.858",
         "126.088",
         "127.989",
         "126.087",
         "953000000.0",
         "1.4",
         "2024-12"
        ],
        [
         "131",
         "2024-12-04 00:00:00",
         "126.087",
         "126.139",
         "126.72",
         "125.828",
         "939000000.0",
         "-0.04",
         "2024-12"
        ],
        [
         "132",
         "2024-12-03 00:00:00",
         "126.139",
         "125.235",
         "126.417",
         "125.233",
         "999000000.0",
         "0.72",
         "2024-12"
        ],
        [
         "133",
         "2024-12-02 00:00:00",
         "125.236",
         "125.668",
         "125.901",
         "124.734",
         "1152000000.0",
         "-0.34",
         "2024-12"
        ],
        [
         "134",
         "2024-11-29 00:00:00",
         "125.668",
         "124.611",
         "126.056",
         "123.946",
         "1640000000.0",
         "0.85",
         "2024-11"
        ],
        [
         "135",
         "2024-11-28 00:00:00",
         "124.61",
         "127.667",
         "127.668",
         "124.39",
         "1283000000.0",
         "-2.4",
         "2024-11"
        ],
        [
         "136",
         "2024-11-27 00:00:00",
         "127.669",
         "129.923",
         "130.283",
         "127.669",
         "1232000000.0",
         "-1.73",
         "2024-11"
        ],
        [
         "137",
         "2024-11-26 00:00:00",
         "129.922",
         "129.043",
         "130.361",
         "129.042",
         "975000000.0",
         "0.69",
         "2024-11"
        ],
        [
         "138",
         "2024-11-25 00:00:00",
         "129.036",
         "129.125",
         "129.495",
         "128.932",
         "1441000000.0",
         "-0.07",
         "2024-11"
        ],
        [
         "139",
         "2024-11-22 00:00:00",
         "129.126",
         "126.944",
         "129.126",
         "126.944",
         "919000000.0",
         "1.74",
         "2024-11"
        ],
        [
         "140",
         "2024-11-21 00:00:00",
         "126.922",
         "128.197",
         "128.197",
         "126.594",
         "1027000000.0",
         "-0.99",
         "2024-11"
        ],
        [
         "141",
         "2024-11-19 00:00:00",
         "128.197",
         "127.768",
         "128.579",
         "127.235",
         "910000000.0",
         "0.34",
         "2024-11"
        ],
        [
         "142",
         "2024-11-18 00:00:00",
         "127.768",
         "127.791",
         "128.277",
         "127.226",
         "1074000000.0",
         "-0.02",
         "2024-11"
        ],
        [
         "143",
         "2024-11-14 00:00:00",
         "127.792",
         "127.734",
         "128.423",
         "127.389",
         "1314000000.0",
         "0.05",
         "2024-11"
        ],
        [
         "144",
         "2024-11-13 00:00:00",
         "127.734",
         "127.698",
         "128.1",
         "126.869",
         "1269000000.0",
         "0.03",
         "2024-11"
        ],
        [
         "145",
         "2024-11-12 00:00:00",
         "127.698",
         "127.873",
         "128.21",
         "127.411",
         "952000000.0",
         "-0.14",
         "2024-11"
        ],
        [
         "146",
         "2024-11-11 00:00:00",
         "127.874",
         "127.829",
         "128.095",
         "127.306",
         "840000000.0",
         "0.03",
         "2024-11"
        ],
        [
         "147",
         "2024-11-08 00:00:00",
         "127.83",
         "129.647",
         "129.647",
         "126.973",
         "1318000000.0",
         "-1.43",
         "2024-11"
        ],
        [
         "148",
         "2024-11-07 00:00:00",
         "129.682",
         "130.341",
         "131.319",
         "129.406",
         "1052000000.0",
         "-0.51",
         "2024-11"
        ],
        [
         "149",
         "2024-11-06 00:00:00",
         "130.341",
         "130.613",
         "130.67",
         "128.822",
         "1054000000.0",
         "-0.24",
         "2024-11"
        ],
        [
         "150",
         "2024-11-05 00:00:00",
         "130.661",
         "130.515",
         "130.769",
         "129.692",
         "856000000.0",
         "0.11",
         "2024-11"
        ],
        [
         "151",
         "2024-11-04 00:00:00",
         "130.515",
         "128.13",
         "130.609",
         "128.128",
         "901000000.0",
         "1.87",
         "2024-11"
        ],
        [
         "152",
         "2024-11-01 00:00:00",
         "128.121",
         "129.718",
         "129.902",
         "128.07",
         "990000000.0",
         "-1.23",
         "2024-11"
        ],
        [
         "153",
         "2024-10-31 00:00:00",
         "129.713",
         "130.639",
         "130.798",
         "129.642",
         "907000000.0",
         "-0.71",
         "2024-10"
        ],
        [
         "154",
         "2024-10-30 00:00:00",
         "130.639",
         "130.73",
         "131.027",
         "130.473",
         "733000000.0",
         "-0.07",
         "2024-10"
        ],
        [
         "155",
         "2024-10-29 00:00:00",
         "130.73",
         "131.214",
         "131.765",
         "130.693",
         "764000000.0",
         "-0.37",
         "2024-10"
        ],
        [
         "156",
         "2024-10-28 00:00:00",
         "131.213",
         "129.894",
         "131.421",
         "129.894",
         "714000000.0",
         "1.02",
         "2024-10"
        ],
        [
         "157",
         "2024-10-25 00:00:00",
         "129.893",
         "130.067",
         "130.529",
         "129.806",
         "851000000.0",
         "-0.13",
         "2024-10"
        ],
        [
         "158",
         "2024-10-24 00:00:00",
         "130.067",
         "129.233",
         "130.13",
         "128.798",
         "831000000.0",
         "0.65",
         "2024-10"
        ],
        [
         "159",
         "2024-10-23 00:00:00",
         "129.233",
         "129.949",
         "129.949",
         "128.589",
         "796000000.0",
         "-0.55",
         "2024-10"
        ],
        [
         "160",
         "2024-10-22 00:00:00",
         "129.951",
         "130.346",
         "130.346",
         "129.094",
         "822000000.0",
         "-0.31",
         "2024-10"
        ],
        [
         "161",
         "2024-10-21 00:00:00",
         "130.362",
         "130.499",
         "131.124",
         "130.157",
         "777000000.0",
         "-0.11",
         "2024-10"
        ]
       ],
       "shape": {
        "columns": 8,
        "rows": 1247
       }
      },
      "text/html": [
       "<div>\n",
       "<style scoped>\n",
       "    .dataframe tbody tr th:only-of-type {\n",
       "        vertical-align: middle;\n",
       "    }\n",
       "\n",
       "    .dataframe tbody tr th {\n",
       "        vertical-align: top;\n",
       "    }\n",
       "\n",
       "    .dataframe thead th {\n",
       "        text-align: right;\n",
       "    }\n",
       "</style>\n",
       "<table border=\"1\" class=\"dataframe\">\n",
       "  <thead>\n",
       "    <tr style=\"text-align: right;\">\n",
       "      <th></th>\n",
       "      <th>Data</th>\n",
       "      <th>Último</th>\n",
       "      <th>Abertura</th>\n",
       "      <th>Máxima</th>\n",
       "      <th>Mínima</th>\n",
       "      <th>Vol.</th>\n",
       "      <th>Var%</th>\n",
       "      <th>Mes_Ano</th>\n",
       "    </tr>\n",
       "  </thead>\n",
       "  <tbody>\n",
       "    <tr>\n",
       "      <th>112</th>\n",
       "      <td>2025-01-06</td>\n",
       "      <td>120.022</td>\n",
       "      <td>118.534</td>\n",
       "      <td>120.322</td>\n",
       "      <td>118.534</td>\n",
       "      <td>969000000.0</td>\n",
       "      <td>1.26</td>\n",
       "      <td>2025-01</td>\n",
       "    </tr>\n",
       "    <tr>\n",
       "      <th>113</th>\n",
       "      <td>2025-01-03</td>\n",
       "      <td>118.533</td>\n",
       "      <td>120.125</td>\n",
       "      <td>120.356</td>\n",
       "      <td>118.404</td>\n",
       "      <td>980000000.0</td>\n",
       "      <td>-1.33</td>\n",
       "      <td>2025-01</td>\n",
       "    </tr>\n",
       "    <tr>\n",
       "      <th>114</th>\n",
       "      <td>2025-01-02</td>\n",
       "      <td>120.125</td>\n",
       "      <td>120.283</td>\n",
       "      <td>120.782</td>\n",
       "      <td>119.120</td>\n",
       "      <td>937000000.0</td>\n",
       "      <td>-0.13</td>\n",
       "      <td>2025-01</td>\n",
       "    </tr>\n",
       "    <tr>\n",
       "      <th>115</th>\n",
       "      <td>2024-12-30</td>\n",
       "      <td>120.283</td>\n",
       "      <td>120.267</td>\n",
       "      <td>121.050</td>\n",
       "      <td>120.158</td>\n",
       "      <td>890000000.0</td>\n",
       "      <td>0.01</td>\n",
       "      <td>2024-12</td>\n",
       "    </tr>\n",
       "    <tr>\n",
       "      <th>116</th>\n",
       "      <td>2024-12-27</td>\n",
       "      <td>120.269</td>\n",
       "      <td>121.078</td>\n",
       "      <td>121.609</td>\n",
       "      <td>120.252</td>\n",
       "      <td>894000000.0</td>\n",
       "      <td>-0.67</td>\n",
       "      <td>2024-12</td>\n",
       "    </tr>\n",
       "    <tr>\n",
       "      <th>...</th>\n",
       "      <td>...</td>\n",
       "      <td>...</td>\n",
       "      <td>...</td>\n",
       "      <td>...</td>\n",
       "      <td>...</td>\n",
       "      <td>...</td>\n",
       "      <td>...</td>\n",
       "      <td>...</td>\n",
       "    </tr>\n",
       "    <tr>\n",
       "      <th>1354</th>\n",
       "      <td>2020-01-09</td>\n",
       "      <td>115.947</td>\n",
       "      <td>116.248</td>\n",
       "      <td>116.820</td>\n",
       "      <td>115.411</td>\n",
       "      <td>595000000.0</td>\n",
       "      <td>-0.26</td>\n",
       "      <td>2020-01</td>\n",
       "    </tr>\n",
       "    <tr>\n",
       "      <th>1355</th>\n",
       "      <td>2020-01-08</td>\n",
       "      <td>116.247</td>\n",
       "      <td>116.667</td>\n",
       "      <td>117.335</td>\n",
       "      <td>115.693</td>\n",
       "      <td>591000000.0</td>\n",
       "      <td>-0.36</td>\n",
       "      <td>2020-01</td>\n",
       "    </tr>\n",
       "    <tr>\n",
       "      <th>1356</th>\n",
       "      <td>2020-01-07</td>\n",
       "      <td>116.662</td>\n",
       "      <td>116.872</td>\n",
       "      <td>117.076</td>\n",
       "      <td>115.965</td>\n",
       "      <td>485000000.0</td>\n",
       "      <td>-0.18</td>\n",
       "      <td>2020-01</td>\n",
       "    </tr>\n",
       "    <tr>\n",
       "      <th>1357</th>\n",
       "      <td>2020-01-06</td>\n",
       "      <td>116.878</td>\n",
       "      <td>117.707</td>\n",
       "      <td>117.707</td>\n",
       "      <td>116.269</td>\n",
       "      <td>657000000.0</td>\n",
       "      <td>-0.70</td>\n",
       "      <td>2020-01</td>\n",
       "    </tr>\n",
       "    <tr>\n",
       "      <th>1358</th>\n",
       "      <td>2020-01-03</td>\n",
       "      <td>117.707</td>\n",
       "      <td>118.564</td>\n",
       "      <td>118.792</td>\n",
       "      <td>117.341</td>\n",
       "      <td>683000000.0</td>\n",
       "      <td>-0.73</td>\n",
       "      <td>2020-01</td>\n",
       "    </tr>\n",
       "  </tbody>\n",
       "</table>\n",
       "<p>1247 rows × 8 columns</p>\n",
       "</div>"
      ],
      "text/plain": [
       "           Data   Último  Abertura   Máxima   Mínima         Vol.  Var%  \\\n",
       "112  2025-01-06  120.022   118.534  120.322  118.534  969000000.0  1.26   \n",
       "113  2025-01-03  118.533   120.125  120.356  118.404  980000000.0 -1.33   \n",
       "114  2025-01-02  120.125   120.283  120.782  119.120  937000000.0 -0.13   \n",
       "115  2024-12-30  120.283   120.267  121.050  120.158  890000000.0  0.01   \n",
       "116  2024-12-27  120.269   121.078  121.609  120.252  894000000.0 -0.67   \n",
       "...         ...      ...       ...      ...      ...          ...   ...   \n",
       "1354 2020-01-09  115.947   116.248  116.820  115.411  595000000.0 -0.26   \n",
       "1355 2020-01-08  116.247   116.667  117.335  115.693  591000000.0 -0.36   \n",
       "1356 2020-01-07  116.662   116.872  117.076  115.965  485000000.0 -0.18   \n",
       "1357 2020-01-06  116.878   117.707  117.707  116.269  657000000.0 -0.70   \n",
       "1358 2020-01-03  117.707   118.564  118.792  117.341  683000000.0 -0.73   \n",
       "\n",
       "      Mes_Ano  \n",
       "112   2025-01  \n",
       "113   2025-01  \n",
       "114   2025-01  \n",
       "115   2024-12  \n",
       "116   2024-12  \n",
       "...       ...  \n",
       "1354  2020-01  \n",
       "1355  2020-01  \n",
       "1356  2020-01  \n",
       "1357  2020-01  \n",
       "1358  2020-01  \n",
       "\n",
       "[1247 rows x 8 columns]"
      ]
     },
     "execution_count": 90,
     "metadata": {},
     "output_type": "execute_result"
    }
   ],
   "source": [
    "df_ibov_copia.iloc[112:1359,:]"
   ]
  },
  {
   "cell_type": "code",
   "execution_count": 92,
   "id": "9ed0be54",
   "metadata": {},
   "outputs": [
    {
     "name": "stderr",
     "output_type": "stream",
     "text": [
      "C:\\Users\\jacom\\AppData\\Local\\Temp\\ipykernel_16940\\873164643.py:4: SettingWithCopyWarning: \n",
      "A value is trying to be set on a copy of a slice from a DataFrame.\n",
      "Try using .loc[row_indexer,col_indexer] = value instead\n",
      "\n",
      "See the caveats in the documentation: https://pandas.pydata.org/pandas-docs/stable/user_guide/indexing.html#returning-a-view-versus-a-copy\n",
      "  grafo_linha['Mes_Ano'] = df_ibov_copia['Mes_Ano'].astype(str)\n"
     ]
    },
    {
     "data": {
      "image/png": "[encoded data removed]",
      "text/plain": [
       "<Figure size 1200x600 with 1 Axes>"
      ]
     },
     "metadata": {},
     "output_type": "display_data"
    }
   ],
   "source": [
    "# Observando volume negociado Vol. utilizando dados de 2025\n",
    "\n",
    "grafo_linha = df_ibov_copia\n",
    "grafo_linha['Mes_Ano'] = df_ibov_copia['Mes_Ano'].astype(str)\n",
    "\n",
    "plt.figure(figsize=(12,6))\n",
    "sns.lineplot(data=grafo_linha.iloc[:1359,:].sort_values('Mes_Ano'), x='Mes_Ano', y='Vol.', markers='o')\n",
    "plt.title('Valor negociado em Volume Bruto')\n",
    "plt.xlabel('Ano/Mês')\n",
    "plt.ylabel('Valor em Bilhão')\n",
    "plt.xticks(rotation=75)\n",
    "plt.grid(alpha=0.3)\n",
    "plt.tight_layout()\n",
    "plt.show()"
   ]
  },
  {
   "cell_type": "markdown",
   "id": "176fec1b",
   "metadata": {},
   "source": [
    "## **Por motivo de alta distorção irei trabalhar com o periodo até o final de 2024**"
   ]
  },
  {
   "cell_type": "code",
   "execution_count": 93,
   "id": "7c168c50",
   "metadata": {},
   "outputs": [
    {
     "name": "stderr",
     "output_type": "stream",
     "text": [
      "C:\\Users\\jacom\\AppData\\Local\\Temp\\ipykernel_16940\\2775845174.py:4: SettingWithCopyWarning: \n",
      "A value is trying to be set on a copy of a slice from a DataFrame.\n",
      "Try using .loc[row_indexer,col_indexer] = value instead\n",
      "\n",
      "See the caveats in the documentation: https://pandas.pydata.org/pandas-docs/stable/user_guide/indexing.html#returning-a-view-versus-a-copy\n",
      "  grafo_linha_1['Mes_Ano'] = df_ibov_copia['Mes_Ano'].astype(str)\n"
     ]
    },
    {
     "data": {
      "image/png": "[encoded data removed]",
      "text/plain": [
       "<Figure size 1200x600 with 1 Axes>"
      ]
     },
     "metadata": {},
     "output_type": "display_data"
    }
   ],
   "source": [
    "# Observando volume negociado Vol Retirando as negociações até final de 2024.\n",
    "\n",
    "grafo_linha_1 = df_ibov_copia\n",
    "grafo_linha_1['Mes_Ano'] = df_ibov_copia['Mes_Ano'].astype(str)\n",
    "\n",
    "plt.figure(figsize=(12,6))\n",
    "sns.lineplot(data=grafo_linha_1.iloc[112:1359, :].sort_values('Mes_Ano'), x='Mes_Ano', y='Vol.', markers='o')\n",
    "plt.title('Valor negociado em Volume Bruto')\n",
    "plt.xlabel('Ano/Mês')\n",
    "plt.ylabel('Valor em Bilhão')\n",
    "plt.xticks(rotation=75)\n",
    "plt.grid(alpha=0.3)\n",
    "plt.tight_layout()\n",
    "plt.show()"
   ]
  },
  {
   "cell_type": "markdown",
   "id": "36a0394e",
   "metadata": {},
   "source": [
    "Aqui podemos observar um volume de negociação muito grande no periodo do final do ano de 2024 até o final do segundo trimestre de 2025."
   ]
  },
  {
   "cell_type": "code",
   "execution_count": 94,
   "id": "6f4087bc",
   "metadata": {},
   "outputs": [
    {
     "data": {
      "image/png": "[encoded data removed]",
      "text/plain": [
       "<Figure size 1200x600 with 1 Axes>"
      ]
     },
     "metadata": {},
     "output_type": "display_data"
    }
   ],
   "source": [
    "# Observando Negociação do IBOVESPA periodo até 2025.\n",
    "\n",
    "plt.figure(figsize=(12,6))\n",
    "sns.lineplot(data=df_ibov_copia.iloc[112:1359, :].sort_values('Mes_Ano'), x='Mes_Ano', y='Último', markers='o')\n",
    "plt.title('Periodo de Negociação do IBOVESPA')\n",
    "plt.xlabel('Ano/Mês')\n",
    "plt.ylabel('Pontos')\n",
    "plt.xticks(rotation=45)\n",
    "plt.grid(alpha=0.3)\n",
    "plt.tight_layout()\n",
    "plt.show()"
   ]
  },
  {
   "cell_type": "code",
   "execution_count": 96,
   "id": "7964edb7",
   "metadata": {},
   "outputs": [
    {
     "data": {
      "image/png": "[encoded data removed]",
      "text/plain": [
       "<Figure size 1200x600 with 1 Axes>"
      ]
     },
     "metadata": {},
     "output_type": "display_data"
    }
   ],
   "source": [
    "# Observando Variação do IBOVESPA periodo até 2025.\n",
    "\n",
    "plt.figure(figsize=(12,6))\n",
    "sns.lineplot(data=df_ibov_copia.iloc[112:1359, :].sort_values('Mes_Ano'), x='Mes_Ano', y='Var%', markers='o')\n",
    "plt.title('Variação do IBOVESPA')\n",
    "plt.xlabel('Ano/Mês')\n",
    "plt.ylabel('Porcentagem (%)')\n",
    "plt.xticks(rotation=75)\n",
    "plt.grid(alpha=0.5)\n",
    "plt.tight_layout()\n",
    "plt.show()"
   ]
  },
  {
   "cell_type": "code",
   "execution_count": 97,
   "id": "d695dd51",
   "metadata": {},
   "outputs": [
    {
     "data": {
      "application/vnd.microsoft.datawrangler.viewer.v0+json": {
       "columns": [
        {
         "name": "index",
         "rawType": "int64",
         "type": "integer"
        },
        {
         "name": "Data",
         "rawType": "datetime64[ns]",
         "type": "datetime"
        },
        {
         "name": "Último",
         "rawType": "float64",
         "type": "float"
        },
        {
         "name": "Abertura",
         "rawType": "float64",
         "type": "float"
        },
        {
         "name": "Máxima",
         "rawType": "float64",
         "type": "float"
        },
        {
         "name": "Mínima",
         "rawType": "float64",
         "type": "float"
        },
        {
         "name": "Vol.",
         "rawType": "float64",
         "type": "float"
        },
        {
         "name": "Var%",
         "rawType": "float64",
         "type": "float"
        },
        {
         "name": "Mes_Ano",
         "rawType": "object",
         "type": "string"
        }
       ],
       "ref": "71aa7ad1-5c85-47d6-8d7c-b83cecf99686",
       "rows": [
        [
         "0",
         "2025-06-18 00:00:00",
         "138.717",
         "138.844",
         "139.161",
         "138.443",
         "832000000000.0",
         "-0.09",
         "2025-06"
        ],
        [
         "1",
         "2025-06-17 00:00:00",
         "138.84",
         "139.256",
         "139.497",
         "138.293",
         "838000000000.0",
         "-0.3",
         "2025-06"
        ],
        [
         "2",
         "2025-06-16 00:00:00",
         "139.256",
         "137.212",
         "139.988",
         "137.212",
         "762000000000.0",
         "1.49",
         "2025-06"
        ],
        [
         "3",
         "2025-06-13 00:00:00",
         "137.213",
         "137.8",
         "137.8",
         "136.586",
         "863000000000.0",
         "-0.43",
         "2025-06"
        ],
        [
         "4",
         "2025-06-12 00:00:00",
         "137.8",
         "137.127",
         "137.931",
         "136.175",
         "712000000000.0",
         "0.49",
         "2025-06"
        ]
       ],
       "shape": {
        "columns": 8,
        "rows": 5
       }
      },
      "text/html": [
       "<div>\n",
       "<style scoped>\n",
       "    .dataframe tbody tr th:only-of-type {\n",
       "        vertical-align: middle;\n",
       "    }\n",
       "\n",
       "    .dataframe tbody tr th {\n",
       "        vertical-align: top;\n",
       "    }\n",
       "\n",
       "    .dataframe thead th {\n",
       "        text-align: right;\n",
       "    }\n",
       "</style>\n",
       "<table border=\"1\" class=\"dataframe\">\n",
       "  <thead>\n",
       "    <tr style=\"text-align: right;\">\n",
       "      <th></th>\n",
       "      <th>Data</th>\n",
       "      <th>Último</th>\n",
       "      <th>Abertura</th>\n",
       "      <th>Máxima</th>\n",
       "      <th>Mínima</th>\n",
       "      <th>Vol.</th>\n",
       "      <th>Var%</th>\n",
       "      <th>Mes_Ano</th>\n",
       "    </tr>\n",
       "  </thead>\n",
       "  <tbody>\n",
       "    <tr>\n",
       "      <th>0</th>\n",
       "      <td>2025-06-18</td>\n",
       "      <td>138.717</td>\n",
       "      <td>138.844</td>\n",
       "      <td>139.161</td>\n",
       "      <td>138.443</td>\n",
       "      <td>8.320000e+11</td>\n",
       "      <td>-0.09</td>\n",
       "      <td>2025-06</td>\n",
       "    </tr>\n",
       "    <tr>\n",
       "      <th>1</th>\n",
       "      <td>2025-06-17</td>\n",
       "      <td>138.840</td>\n",
       "      <td>139.256</td>\n",
       "      <td>139.497</td>\n",
       "      <td>138.293</td>\n",
       "      <td>8.380000e+11</td>\n",
       "      <td>-0.30</td>\n",
       "      <td>2025-06</td>\n",
       "    </tr>\n",
       "    <tr>\n",
       "      <th>2</th>\n",
       "      <td>2025-06-16</td>\n",
       "      <td>139.256</td>\n",
       "      <td>137.212</td>\n",
       "      <td>139.988</td>\n",
       "      <td>137.212</td>\n",
       "      <td>7.620000e+11</td>\n",
       "      <td>1.49</td>\n",
       "      <td>2025-06</td>\n",
       "    </tr>\n",
       "    <tr>\n",
       "      <th>3</th>\n",
       "      <td>2025-06-13</td>\n",
       "      <td>137.213</td>\n",
       "      <td>137.800</td>\n",
       "      <td>137.800</td>\n",
       "      <td>136.586</td>\n",
       "      <td>8.630000e+11</td>\n",
       "      <td>-0.43</td>\n",
       "      <td>2025-06</td>\n",
       "    </tr>\n",
       "    <tr>\n",
       "      <th>4</th>\n",
       "      <td>2025-06-12</td>\n",
       "      <td>137.800</td>\n",
       "      <td>137.127</td>\n",
       "      <td>137.931</td>\n",
       "      <td>136.175</td>\n",
       "      <td>7.120000e+11</td>\n",
       "      <td>0.49</td>\n",
       "      <td>2025-06</td>\n",
       "    </tr>\n",
       "  </tbody>\n",
       "</table>\n",
       "</div>"
      ],
      "text/plain": [
       "        Data   Último  Abertura   Máxima   Mínima          Vol.  Var%  Mes_Ano\n",
       "0 2025-06-18  138.717   138.844  139.161  138.443  8.320000e+11 -0.09  2025-06\n",
       "1 2025-06-17  138.840   139.256  139.497  138.293  8.380000e+11 -0.30  2025-06\n",
       "2 2025-06-16  139.256   137.212  139.988  137.212  7.620000e+11  1.49  2025-06\n",
       "3 2025-06-13  137.213   137.800  137.800  136.586  8.630000e+11 -0.43  2025-06\n",
       "4 2025-06-12  137.800   137.127  137.931  136.175  7.120000e+11  0.49  2025-06"
      ]
     },
     "execution_count": 97,
     "metadata": {},
     "output_type": "execute_result"
    }
   ],
   "source": [
    "df_ibov_copia.head()"
   ]
  },
  {
   "cell_type": "code",
   "execution_count": 98,
   "id": "7370f672",
   "metadata": {},
   "outputs": [
    {
     "data": {
      "image/png": "[encoded data removed]",
      "text/plain": [
       "<Figure size 800x600 with 1 Axes>"
      ]
     },
     "metadata": {},
     "output_type": "display_data"
    }
   ],
   "source": [
    "# Verificando a distribuição\n",
    "\n",
    "plt.figure(figsize=(8,6))\n",
    "sns.histplot(data=df_ibov_copia.iloc[112:1359, :], x='Último')\n",
    "plt.show()"
   ]
  },
  {
   "cell_type": "code",
   "execution_count": 99,
   "id": "a7d96e59",
   "metadata": {},
   "outputs": [
    {
     "data": {
      "image/png": "[encoded data removed]",
      "text/plain": [
       "<Figure size 800x600 with 1 Axes>"
      ]
     },
     "metadata": {},
     "output_type": "display_data"
    }
   ],
   "source": [
    "# Verificando a distribuição\n",
    "\n",
    "plt.figure(figsize=(8,6))\n",
    "sns.histplot(data=df_ibov_copia.iloc[112:1359, :], x='Abertura')\n",
    "plt.show()"
   ]
  },
  {
   "cell_type": "code",
   "execution_count": 100,
   "id": "29307070",
   "metadata": {},
   "outputs": [
    {
     "data": {
      "image/png": "[encoded data removed]",
      "text/plain": [
       "<Figure size 800x600 with 1 Axes>"
      ]
     },
     "metadata": {},
     "output_type": "display_data"
    }
   ],
   "source": [
    "# Verificando a distribuição\n",
    "\n",
    "plt.figure(figsize=(8,6))\n",
    "sns.histplot(data=df_ibov_copia.iloc[112:1359, :], x='Máxima')\n",
    "plt.show()"
   ]
  },
  {
   "cell_type": "code",
   "execution_count": 101,
   "id": "1beedfb6",
   "metadata": {},
   "outputs": [
    {
     "data": {
      "image/png": "[encoded data removed]",
      "text/plain": [
       "<Figure size 800x600 with 1 Axes>"
      ]
     },
     "metadata": {},
     "output_type": "display_data"
    }
   ],
   "source": [
    "# Verificando a distribuição\n",
    "\n",
    "plt.figure(figsize=(8,6))\n",
    "sns.histplot(data=df_ibov_copia.iloc[112:1359, :], x='Mínima')\n",
    "plt.show()"
   ]
  },
  {
   "cell_type": "code",
   "execution_count": 106,
   "id": "98c8d122",
   "metadata": {},
   "outputs": [
    {
     "data": {
      "image/png": "[encoded data removed]",
      "text/plain": [
       "<Figure size 800x600 with 1 Axes>"
      ]
     },
     "metadata": {},
     "output_type": "display_data"
    }
   ],
   "source": [
    "# Verificando a distribuição\n",
    "\n",
    "plt.figure(figsize=(8,6))\n",
    "sns.histplot(data=df_ibov_copia.iloc[112:1359, :], x='Vol.', bins=50)\n",
    "plt.show()"
   ]
  },
  {
   "cell_type": "code",
   "execution_count": 105,
   "id": "f110bc8f",
   "metadata": {},
   "outputs": [
    {
     "data": {
      "image/png": "[encoded data removed]",
      "text/plain": [
       "<Figure size 800x600 with 1 Axes>"
      ]
     },
     "metadata": {},
     "output_type": "display_data"
    }
   ],
   "source": [
    "# Verificando a distribuição\n",
    "\n",
    "plt.figure(figsize=(8,6))\n",
    "sns.histplot(data=df_ibov_copia.iloc[112:1359, :], x='Var%', bins=50)\n",
    "plt.show()"
   ]
  },
  {
   "cell_type": "markdown",
   "id": "f1ade0b1",
   "metadata": {},
   "source": [
    "## A partir desse ponto irei trabalha com o atributo alvo para buscarmos caracteristicas necessarias para nossos modelos e predições  \n",
    "### Criar uma caracteristica (coluna) de **fechamento** positivo(1) ou negativo(0) utilizando a caracteristica [Último] como referência"
   ]
  },
  {
   "cell_type": "code",
   "execution_count": 24,
   "id": "783cc447",
   "metadata": {},
   "outputs": [
    {
     "data": {
      "application/vnd.microsoft.datawrangler.viewer.v0+json": {
       "columns": [
        {
         "name": "index",
         "rawType": "int64",
         "type": "integer"
        },
        {
         "name": "Preço",
         "rawType": "int64",
         "type": "integer"
        },
        {
         "name": "Anterior",
         "rawType": "float64",
         "type": "float"
        },
        {
         "name": "Seguinte",
         "rawType": "float64",
         "type": "float"
        }
       ],
       "ref": "ee097f4a-a8b8-47b5-98b6-6ccc2382ff28",
       "rows": [
        [
         "0",
         "100",
         null,
         "102.0"
        ],
        [
         "1",
         "102",
         "100.0",
         "101.0"
        ],
        [
         "2",
         "101",
         "102.0",
         "105.0"
        ],
        [
         "3",
         "105",
         "101.0",
         null
        ]
       ],
       "shape": {
        "columns": 3,
        "rows": 4
       }
      },
      "text/html": [
       "<div>\n",
       "<style scoped>\n",
       "    .dataframe tbody tr th:only-of-type {\n",
       "        vertical-align: middle;\n",
       "    }\n",
       "\n",
       "    .dataframe tbody tr th {\n",
       "        vertical-align: top;\n",
       "    }\n",
       "\n",
       "    .dataframe thead th {\n",
       "        text-align: right;\n",
       "    }\n",
       "</style>\n",
       "<table border=\"1\" class=\"dataframe\">\n",
       "  <thead>\n",
       "    <tr style=\"text-align: right;\">\n",
       "      <th></th>\n",
       "      <th>Preço</th>\n",
       "      <th>Anterior</th>\n",
       "      <th>Seguinte</th>\n",
       "    </tr>\n",
       "  </thead>\n",
       "  <tbody>\n",
       "    <tr>\n",
       "      <th>0</th>\n",
       "      <td>100</td>\n",
       "      <td>NaN</td>\n",
       "      <td>102.0</td>\n",
       "    </tr>\n",
       "    <tr>\n",
       "      <th>1</th>\n",
       "      <td>102</td>\n",
       "      <td>100.0</td>\n",
       "      <td>101.0</td>\n",
       "    </tr>\n",
       "    <tr>\n",
       "      <th>2</th>\n",
       "      <td>101</td>\n",
       "      <td>102.0</td>\n",
       "      <td>105.0</td>\n",
       "    </tr>\n",
       "    <tr>\n",
       "      <th>3</th>\n",
       "      <td>105</td>\n",
       "      <td>101.0</td>\n",
       "      <td>NaN</td>\n",
       "    </tr>\n",
       "  </tbody>\n",
       "</table>\n",
       "</div>"
      ],
      "text/plain": [
       "   Preço  Anterior  Seguinte\n",
       "0    100       NaN     102.0\n",
       "1    102     100.0     101.0\n",
       "2    101     102.0     105.0\n",
       "3    105     101.0       NaN"
      ]
     },
     "execution_count": 24,
     "metadata": {},
     "output_type": "execute_result"
    }
   ],
   "source": [
    "'''Exemplo do metodo Shift ele irá varrer o data frame e conforme o parametro colocado nele ele irá fazer o deslocamento\n",
    "para linha seguinte ou anterior\n",
    "Ex.: Shift(n) -> Compara valores anteriores (n>0)\n",
    "     Shift(n) -> Compara valores seguintes (n<0) Vamos usar este para buscar valores seguintes\n",
    "     Shift(n) -> Compara com o dia anterior (n=1)\n",
    "\n",
    "''' \n",
    "# Exemplos de uso\n",
    "df = pd.DataFrame({'Preço': [100, 102, 101, 105]})\n",
    "df['Anterior'] = df['Preço'].shift(1)\n",
    "df['Seguinte'] = df['Preço'].shift(-1)\n",
    "\n",
    "df\n",
    "\n",
    "## Não tem a necessidade de Rodar esse código"
   ]
  },
  {
   "cell_type": "code",
   "execution_count": 25,
   "id": "d41991b2",
   "metadata": {},
   "outputs": [
    {
     "data": {
      "text/plain": [
       "'fechamento = df_ibov[\\'Último\\'].values\\nfechamento_categoria = []\\n\\nfor i in range(len(fechamento) - 1):\\n    if fechamento[i + 1] > fechamento[i]:\\n        fechamento_categoria.append(1)\\n    else:\\n        fechamento_categoria.append(0)\\n\\n# Como comparamos até o penúltimo, o último dia não tem \"dia seguinte\"\\nfechamento_categoria.append(None)  # ou np.nan se preferir\\n\\n# Adiciona a nova coluna no DataFrame\\n#df_ibov[\\'Subiu_dia_seguinte\\'] = fechamento_categoria\\n\\nprint(fechamento_categoria)'"
      ]
     },
     "execution_count": 25,
     "metadata": {},
     "output_type": "execute_result"
    }
   ],
   "source": [
    "# Caso quisermos utilizar o loop for\n",
    "\n",
    "'''fechamento = df_ibov['Último'].values\n",
    "fechamento_categoria = []\n",
    "\n",
    "for i in range(len(fechamento) - 1):\n",
    "    if fechamento[i + 1] > fechamento[i]:\n",
    "        fechamento_categoria.append(1)\n",
    "    else:\n",
    "        fechamento_categoria.append(0)\n",
    "\n",
    "# Como comparamos até o penúltimo, o último dia não tem \"dia seguinte\"\n",
    "fechamento_categoria.append(None)  # ou np.nan se preferir\n",
    "\n",
    "# Adiciona a nova coluna no DataFrame\n",
    "#df_ibov['Subiu_dia_seguinte'] = fechamento_categoria\n",
    "\n",
    "print(fechamento_categoria)'''"
   ]
  },
  {
   "cell_type": "code",
   "execution_count": 107,
   "id": "a88ccdc2",
   "metadata": {},
   "outputs": [],
   "source": [
    "# Renomeando nome da Coluna Último para Fechamento_Diario\n",
    "df_ibov_copia = df_ibov_copia.rename(columns={\"Último\": \"Fechamento_Diario\"})"
   ]
  },
  {
   "cell_type": "code",
   "execution_count": 108,
   "id": "aca2a44b",
   "metadata": {},
   "outputs": [],
   "source": [
    "# Cria a coluna fechamento com valores Binarios 0 para negativo e 1 para positivo\n",
    "df_ibov_copia['Tendencia'] = (df_ibov['Último'].shift(-1) > df_ibov['Último']).astype('Int64')"
   ]
  },
  {
   "cell_type": "code",
   "execution_count": 109,
   "id": "fd3ab0c0",
   "metadata": {},
   "outputs": [
    {
     "data": {
      "application/vnd.microsoft.datawrangler.viewer.v0+json": {
       "columns": [
        {
         "name": "Data",
         "rawType": "datetime64[ns]",
         "type": "datetime"
        },
        {
         "name": "Fechamento_Diario",
         "rawType": "float64",
         "type": "float"
        },
        {
         "name": "Abertura",
         "rawType": "float64",
         "type": "float"
        },
        {
         "name": "Máxima",
         "rawType": "float64",
         "type": "float"
        },
        {
         "name": "Mínima",
         "rawType": "float64",
         "type": "float"
        },
        {
         "name": "Vol.",
         "rawType": "float64",
         "type": "float"
        },
        {
         "name": "Var%",
         "rawType": "float64",
         "type": "float"
        },
        {
         "name": "Mes_Ano",
         "rawType": "object",
         "type": "string"
        },
        {
         "name": "Tendencia",
         "rawType": "Int64",
         "type": "integer"
        }
       ],
       "ref": "3cbdc65a-9962-47a7-a552-3066e1853d85",
       "rows": [
        [
         "2025-06-18 00:00:00",
         "138.717",
         "138.844",
         "139.161",
         "138.443",
         "832000000000.0",
         "-0.09",
         "2025-06",
         "1"
        ],
        [
         "2025-06-17 00:00:00",
         "138.84",
         "139.256",
         "139.497",
         "138.293",
         "838000000000.0",
         "-0.3",
         "2025-06",
         "1"
        ],
        [
         "2025-06-16 00:00:00",
         "139.256",
         "137.212",
         "139.988",
         "137.212",
         "762000000000.0",
         "1.49",
         "2025-06",
         "0"
        ],
        [
         "2025-06-13 00:00:00",
         "137.213",
         "137.8",
         "137.8",
         "136.586",
         "863000000000.0",
         "-0.43",
         "2025-06",
         "1"
        ],
        [
         "2025-06-12 00:00:00",
         "137.8",
         "137.127",
         "137.931",
         "136.175",
         "712000000000.0",
         "0.49",
         "2025-06",
         "0"
        ],
        [
         "2025-06-11 00:00:00",
         "137.128",
         "136.443",
         "137.531",
         "135.628",
         "877000000000.0",
         "0.51",
         "2025-06",
         "0"
        ],
        [
         "2025-06-10 00:00:00",
         "136.436",
         "135.716",
         "137.369",
         "135.716",
         "819000000000.0",
         "0.54",
         "2025-06",
         "0"
        ],
        [
         "2025-06-09 00:00:00",
         "135.699",
         "136.102",
         "136.106",
         "134.119",
         "776000000000.0",
         "-0.3",
         "2025-06",
         "1"
        ],
        [
         "2025-06-06 00:00:00",
         "136.102",
         "136.236",
         "136.89",
         "135.601",
         "912000000000.0",
         "-0.1",
         "2025-06",
         "1"
        ],
        [
         "2025-06-05 00:00:00",
         "136.236",
         "137.003",
         "137.451",
         "136.031",
         "948000000000.0",
         "-0.56",
         "2025-06",
         "1"
        ],
        [
         "2025-06-04 00:00:00",
         "137.002",
         "137.547",
         "138.797",
         "136.695",
         "1020000000000.0",
         "-0.4",
         "2025-06",
         "1"
        ],
        [
         "2025-06-03 00:00:00",
         "137.546",
         "136.787",
         "137.672",
         "136.175",
         "970000000000.0",
         "0.56",
         "2025-06",
         "0"
        ],
        [
         "2025-06-02 00:00:00",
         "136.787",
         "137.026",
         "138.471",
         "136.483",
         "910000000000.0",
         "-0.18",
         "2025-06",
         "1"
        ],
        [
         "2025-05-30 00:00:00",
         "137.027",
         "138.546",
         "138.637",
         "136.726",
         "1514000000000.0",
         "-1.09",
         "2025-05",
         "1"
        ],
        [
         "2025-05-29 00:00:00",
         "138.534",
         "138.869",
         "139.108",
         "137.993",
         "883000000000.0",
         "-0.25",
         "2025-05",
         "1"
        ],
        [
         "2025-05-28 00:00:00",
         "138.888",
         "139.541",
         "139.547",
         "138.58",
         "973000000000.0",
         "-0.47",
         "2025-05",
         "1"
        ],
        [
         "2025-05-27 00:00:00",
         "139.541",
         "138.136",
         "140.382",
         "138.136",
         "1119000000000.0",
         "1.02",
         "2025-05",
         "0"
        ],
        [
         "2025-05-26 00:00:00",
         "138.136",
         "137.824",
         "138.8",
         "137.795",
         "555000000000.0",
         "0.23",
         "2025-05",
         "0"
        ],
        [
         "2025-05-23 00:00:00",
         "137.824",
         "137.273",
         "137.824",
         "134.997",
         "1068000000000.0",
         "0.4",
         "2025-05",
         "0"
        ],
        [
         "2025-05-22 00:00:00",
         "137.273",
         "137.881",
         "138.837",
         "137.088",
         "1322000000000.0",
         "-0.44",
         "2025-05",
         "1"
        ],
        [
         "2025-05-21 00:00:00",
         "137.881",
         "140.109",
         "140.109",
         "137.538",
         "1015000000000.0",
         "-1.59",
         "2025-05",
         "1"
        ],
        [
         "2025-05-20 00:00:00",
         "140.11",
         "139.636",
         "140.244",
         "138.966",
         "965000000000.0",
         "0.34",
         "2025-05",
         "0"
        ],
        [
         "2025-05-19 00:00:00",
         "139.636",
         "139.186",
         "140.203",
         "138.587",
         "959000000000.0",
         "0.32",
         "2025-05",
         "0"
        ],
        [
         "2025-05-16 00:00:00",
         "139.187",
         "139.335",
         "139.335",
         "137.713",
         "1211000000000.0",
         "-0.11",
         "2025-05",
         "1"
        ],
        [
         "2025-05-15 00:00:00",
         "139.334",
         "138.425",
         "139.408",
         "138.321",
         "1150000000000.0",
         "0.66",
         "2025-05",
         "0"
        ],
        [
         "2025-05-14 00:00:00",
         "138.423",
         "138.965",
         "139.362",
         "138.228",
         "1116000000000.0",
         "-0.39",
         "2025-05",
         "1"
        ],
        [
         "2025-05-13 00:00:00",
         "138.963",
         "136.565",
         "139.419",
         "136.55",
         "1307000000000.0",
         "1.76",
         "2025-05",
         "0"
        ],
        [
         "2025-05-12 00:00:00",
         "136.563",
         "136.516",
         "137.519",
         "136.356",
         "1092000000000.0",
         "0.04",
         "2025-05",
         "0"
        ],
        [
         "2025-05-09 00:00:00",
         "136.512",
         "136.232",
         "137.286",
         "136.105",
         "1388000000000.0",
         "0.21",
         "2025-05",
         "0"
        ],
        [
         "2025-05-08 00:00:00",
         "136.232",
         "133.458",
         "137.635",
         "133.458",
         "1720000000000.0",
         "2.12",
         "2025-05",
         "0"
        ],
        [
         "2025-05-07 00:00:00",
         "133.398",
         "133.517",
         "134.11",
         "132.872",
         "994000000000.0",
         "-0.09",
         "2025-05",
         "1"
        ],
        [
         "2025-05-06 00:00:00",
         "133.516",
         "133.499",
         "134.135",
         "133.26",
         "1114000000000.0",
         "0.02",
         "2025-05",
         "0"
        ],
        [
         "2025-05-05 00:00:00",
         "133.491",
         "135.131",
         "135.198",
         "133.39",
         "1080000000000.0",
         "-1.22",
         "2025-05",
         "1"
        ],
        [
         "2025-05-02 00:00:00",
         "135.134",
         "135.067",
         "135.275",
         "134.355",
         "1274000000000.0",
         "0.05",
         "2025-05",
         "0"
        ],
        [
         "2025-04-30 00:00:00",
         "135.067",
         "135.094",
         "135.171",
         "133.955",
         "1545000000000.0",
         "-0.02",
         "2025-04",
         "1"
        ],
        [
         "2025-04-29 00:00:00",
         "135.093",
         "135.017",
         "136.15",
         "134.899",
         "1276000000000.0",
         "0.06",
         "2025-04",
         "0"
        ],
        [
         "2025-04-28 00:00:00",
         "135.016",
         "134.741",
         "135.709",
         "134.711",
         "1145000000000.0",
         "0.21",
         "2025-04",
         "0"
        ],
        [
         "2025-04-25 00:00:00",
         "134.739",
         "134.579",
         "134.992",
         "134.186",
         "1305000000000.0",
         "0.12",
         "2025-04",
         "0"
        ],
        [
         "2025-04-24 00:00:00",
         "134.58",
         "132.245",
         "134.938",
         "132.223",
         "1411000000000.0",
         "1.79",
         "2025-04",
         "0"
        ],
        [
         "2025-04-23 00:00:00",
         "132.216",
         "130.468",
         "133.318",
         "130.468",
         "1134000000000.0",
         "1.34",
         "2025-04",
         "0"
        ],
        [
         "2025-04-22 00:00:00",
         "130.464",
         "129.65",
         "130.877",
         "128.726",
         "861000000000.0",
         "0.63",
         "2025-04",
         "0"
        ],
        [
         "2025-04-17 00:00:00",
         "129.65",
         "128.316",
         "130.091",
         "127.973",
         "998000000000.0",
         "1.04",
         "2025-04",
         "0"
        ],
        [
         "2025-04-16 00:00:00",
         "128.317",
         "129.245",
         "129.605",
         "128.149",
         "1154000000000.0",
         "-0.72",
         "2025-04",
         "1"
        ],
        [
         "2025-04-15 00:00:00",
         "129.245",
         "129.452",
         "129.927",
         "128.951",
         "884000000000.0",
         "-0.16",
         "2025-04",
         "1"
        ],
        [
         "2025-04-14 00:00:00",
         "129.454",
         "127.683",
         "129.955",
         "127.683",
         "1061000000000.0",
         "1.39",
         "2025-04",
         "0"
        ],
        [
         "2025-04-11 00:00:00",
         "127.682",
         "126.355",
         "128.386",
         "126.078",
         "1008000000000.0",
         "1.05",
         "2025-04",
         "0"
        ],
        [
         "2025-04-10 00:00:00",
         "126.355",
         "127.796",
         "127.797",
         "124.895",
         "1146000000000.0",
         "-1.13",
         "2025-04",
         "1"
        ],
        [
         "2025-04-09 00:00:00",
         "127.796",
         "123.928",
         "128.649",
         "122.887",
         "1692000000000.0",
         "3.12",
         "2025-04",
         "0"
        ],
        [
         "2025-04-08 00:00:00",
         "123.932",
         "125.588",
         "127.652",
         "123.454",
         "1281000000000.0",
         "-1.32",
         "2025-04",
         "1"
        ],
        [
         "2025-04-07 00:00:00",
         "125.588",
         "127.229",
         "128.411",
         "123.876",
         "1405000000000.0",
         "-1.31",
         "2025-04",
         "1"
        ]
       ],
       "shape": {
        "columns": 8,
        "rows": 4314
       }
      },
      "text/html": [
       "<div>\n",
       "<style scoped>\n",
       "    .dataframe tbody tr th:only-of-type {\n",
       "        vertical-align: middle;\n",
       "    }\n",
       "\n",
       "    .dataframe tbody tr th {\n",
       "        vertical-align: top;\n",
       "    }\n",
       "\n",
       "    .dataframe thead th {\n",
       "        text-align: right;\n",
       "    }\n",
       "</style>\n",
       "<table border=\"1\" class=\"dataframe\">\n",
       "  <thead>\n",
       "    <tr style=\"text-align: right;\">\n",
       "      <th></th>\n",
       "      <th>Fechamento_Diario</th>\n",
       "      <th>Abertura</th>\n",
       "      <th>Máxima</th>\n",
       "      <th>Mínima</th>\n",
       "      <th>Vol.</th>\n",
       "      <th>Var%</th>\n",
       "      <th>Mes_Ano</th>\n",
       "      <th>Tendencia</th>\n",
       "    </tr>\n",
       "    <tr>\n",
       "      <th>Data</th>\n",
       "      <th></th>\n",
       "      <th></th>\n",
       "      <th></th>\n",
       "      <th></th>\n",
       "      <th></th>\n",
       "      <th></th>\n",
       "      <th></th>\n",
       "      <th></th>\n",
       "    </tr>\n",
       "  </thead>\n",
       "  <tbody>\n",
       "    <tr>\n",
       "      <th>2025-06-18</th>\n",
       "      <td>138.717</td>\n",
       "      <td>138.844</td>\n",
       "      <td>139.161</td>\n",
       "      <td>138.443</td>\n",
       "      <td>8.320000e+11</td>\n",
       "      <td>-0.09</td>\n",
       "      <td>2025-06</td>\n",
       "      <td>1</td>\n",
       "    </tr>\n",
       "    <tr>\n",
       "      <th>2025-06-17</th>\n",
       "      <td>138.840</td>\n",
       "      <td>139.256</td>\n",
       "      <td>139.497</td>\n",
       "      <td>138.293</td>\n",
       "      <td>8.380000e+11</td>\n",
       "      <td>-0.30</td>\n",
       "      <td>2025-06</td>\n",
       "      <td>1</td>\n",
       "    </tr>\n",
       "    <tr>\n",
       "      <th>2025-06-16</th>\n",
       "      <td>139.256</td>\n",
       "      <td>137.212</td>\n",
       "      <td>139.988</td>\n",
       "      <td>137.212</td>\n",
       "      <td>7.620000e+11</td>\n",
       "      <td>1.49</td>\n",
       "      <td>2025-06</td>\n",
       "      <td>0</td>\n",
       "    </tr>\n",
       "    <tr>\n",
       "      <th>2025-06-13</th>\n",
       "      <td>137.213</td>\n",
       "      <td>137.800</td>\n",
       "      <td>137.800</td>\n",
       "      <td>136.586</td>\n",
       "      <td>8.630000e+11</td>\n",
       "      <td>-0.43</td>\n",
       "      <td>2025-06</td>\n",
       "      <td>1</td>\n",
       "    </tr>\n",
       "    <tr>\n",
       "      <th>2025-06-12</th>\n",
       "      <td>137.800</td>\n",
       "      <td>137.127</td>\n",
       "      <td>137.931</td>\n",
       "      <td>136.175</td>\n",
       "      <td>7.120000e+11</td>\n",
       "      <td>0.49</td>\n",
       "      <td>2025-06</td>\n",
       "      <td>0</td>\n",
       "    </tr>\n",
       "    <tr>\n",
       "      <th>...</th>\n",
       "      <td>...</td>\n",
       "      <td>...</td>\n",
       "      <td>...</td>\n",
       "      <td>...</td>\n",
       "      <td>...</td>\n",
       "      <td>...</td>\n",
       "      <td>...</td>\n",
       "      <td>...</td>\n",
       "    </tr>\n",
       "    <tr>\n",
       "      <th>2008-01-24</th>\n",
       "      <td>57.463</td>\n",
       "      <td>54.242</td>\n",
       "      <td>57.675</td>\n",
       "      <td>54.242</td>\n",
       "      <td>3.800000e+08</td>\n",
       "      <td>5.95</td>\n",
       "      <td>2008-01</td>\n",
       "      <td>0</td>\n",
       "    </tr>\n",
       "    <tr>\n",
       "      <th>2008-01-23</th>\n",
       "      <td>54.235</td>\n",
       "      <td>56.098</td>\n",
       "      <td>56.098</td>\n",
       "      <td>53.011</td>\n",
       "      <td>3.720000e+08</td>\n",
       "      <td>-3.32</td>\n",
       "      <td>2008-01</td>\n",
       "      <td>1</td>\n",
       "    </tr>\n",
       "    <tr>\n",
       "      <th>2008-01-22</th>\n",
       "      <td>56.097</td>\n",
       "      <td>53.705</td>\n",
       "      <td>56.541</td>\n",
       "      <td>53.610</td>\n",
       "      <td>3.650000e+08</td>\n",
       "      <td>4.45</td>\n",
       "      <td>2008-01</td>\n",
       "      <td>0</td>\n",
       "    </tr>\n",
       "    <tr>\n",
       "      <th>2008-01-21</th>\n",
       "      <td>53.709</td>\n",
       "      <td>57.503</td>\n",
       "      <td>57.503</td>\n",
       "      <td>53.487</td>\n",
       "      <td>3.570000e+08</td>\n",
       "      <td>-6.60</td>\n",
       "      <td>2008-01</td>\n",
       "      <td>1</td>\n",
       "    </tr>\n",
       "    <tr>\n",
       "      <th>2008-01-18</th>\n",
       "      <td>57.506</td>\n",
       "      <td>57.039</td>\n",
       "      <td>58.291</td>\n",
       "      <td>56.241</td>\n",
       "      <td>5.810000e+08</td>\n",
       "      <td>0.82</td>\n",
       "      <td>2008-01</td>\n",
       "      <td>0</td>\n",
       "    </tr>\n",
       "  </tbody>\n",
       "</table>\n",
       "<p>4314 rows × 8 columns</p>\n",
       "</div>"
      ],
      "text/plain": [
       "            Fechamento_Diario  Abertura   Máxima   Mínima          Vol.  Var%  \\\n",
       "Data                                                                            \n",
       "2025-06-18            138.717   138.844  139.161  138.443  8.320000e+11 -0.09   \n",
       "2025-06-17            138.840   139.256  139.497  138.293  8.380000e+11 -0.30   \n",
       "2025-06-16            139.256   137.212  139.988  137.212  7.620000e+11  1.49   \n",
       "2025-06-13            137.213   137.800  137.800  136.586  8.630000e+11 -0.43   \n",
       "2025-06-12            137.800   137.127  137.931  136.175  7.120000e+11  0.49   \n",
       "...                       ...       ...      ...      ...           ...   ...   \n",
       "2008-01-24             57.463    54.242   57.675   54.242  3.800000e+08  5.95   \n",
       "2008-01-23             54.235    56.098   56.098   53.011  3.720000e+08 -3.32   \n",
       "2008-01-22             56.097    53.705   56.541   53.610  3.650000e+08  4.45   \n",
       "2008-01-21             53.709    57.503   57.503   53.487  3.570000e+08 -6.60   \n",
       "2008-01-18             57.506    57.039   58.291   56.241  5.810000e+08  0.82   \n",
       "\n",
       "            Mes_Ano  Tendencia  \n",
       "Data                            \n",
       "2025-06-18  2025-06          1  \n",
       "2025-06-17  2025-06          1  \n",
       "2025-06-16  2025-06          0  \n",
       "2025-06-13  2025-06          1  \n",
       "2025-06-12  2025-06          0  \n",
       "...             ...        ...  \n",
       "2008-01-24  2008-01          0  \n",
       "2008-01-23  2008-01          1  \n",
       "2008-01-22  2008-01          0  \n",
       "2008-01-21  2008-01          1  \n",
       "2008-01-18  2008-01          0  \n",
       "\n",
       "[4314 rows x 8 columns]"
      ]
     },
     "execution_count": 109,
     "metadata": {},
     "output_type": "execute_result"
    }
   ],
   "source": [
    "# Setando data como indice ()index\n",
    "df_ibov_copia = df_ibov_copia.set_index('Data')\n",
    "df_ibov_copia"
   ]
  },
  {
   "cell_type": "code",
   "execution_count": 110,
   "id": "775ac60f",
   "metadata": {},
   "outputs": [
    {
     "data": {
      "application/vnd.microsoft.datawrangler.viewer.v0+json": {
       "columns": [
        {
         "name": "index",
         "rawType": "object",
         "type": "string"
        },
        {
         "name": "0",
         "rawType": "int64",
         "type": "integer"
        }
       ],
       "ref": "af3afe31-93b8-4e86-b3bc-190c36e0d55d",
       "rows": [
        [
         "Fechamento_Diario",
         "0"
        ],
        [
         "Abertura",
         "0"
        ],
        [
         "Máxima",
         "0"
        ],
        [
         "Mínima",
         "0"
        ],
        [
         "Vol.",
         "0"
        ],
        [
         "Var%",
         "0"
        ],
        [
         "Mes_Ano",
         "0"
        ],
        [
         "Tendencia",
         "0"
        ]
       ],
       "shape": {
        "columns": 1,
        "rows": 8
       }
      },
      "text/plain": [
       "Fechamento_Diario    0\n",
       "Abertura             0\n",
       "Máxima               0\n",
       "Mínima               0\n",
       "Vol.                 0\n",
       "Var%                 0\n",
       "Mes_Ano              0\n",
       "Tendencia            0\n",
       "dtype: int64"
      ]
     },
     "execution_count": 110,
     "metadata": {},
     "output_type": "execute_result"
    }
   ],
   "source": [
    "# Existe dados Nulos\n",
    "df_ibov_copia.isnull().sum()"
   ]
  },
  {
   "cell_type": "code",
   "execution_count": 111,
   "id": "2debccdb",
   "metadata": {},
   "outputs": [
    {
     "name": "stdout",
     "output_type": "stream",
     "text": [
      "Data Inicial: 2008-01-18 00:00:00\n",
      "Data Inicial: 2025-06-18 00:00:00\n"
     ]
    }
   ],
   "source": [
    "# Inicio e fim do ano de extraidos do dataset\n",
    "print(f'Data Inicial: {df_ibov_copia.index.min()}')\n",
    "print(f'Data Inicial: {df_ibov_copia.index.max()}')"
   ]
  },
  {
   "cell_type": "code",
   "execution_count": 112,
   "id": "2b5f96dd",
   "metadata": {},
   "outputs": [
    {
     "data": {
      "text/plain": [
       "np.int64(0)"
      ]
     },
     "execution_count": 112,
     "metadata": {},
     "output_type": "execute_result"
    }
   ],
   "source": [
    "# Temos dados duplicados\n",
    "df_ibov_copia.duplicated().sum()"
   ]
  },
  {
   "cell_type": "code",
   "execution_count": 113,
   "id": "24f3ec6f",
   "metadata": {},
   "outputs": [
    {
     "data": {
      "text/plain": [
       "<Axes: >"
      ]
     },
     "execution_count": 113,
     "metadata": {},
     "output_type": "execute_result"
    },
    {
     "data": {
      "image/png": "[encoded data removed]",
      "text/plain": [
       "<Figure size 800x800 with 2 Axes>"
      ]
     },
     "metadata": {},
     "output_type": "display_data"
    }
   ],
   "source": [
    "# Criar um mapa de correlação como heatmap\n",
    "\n",
    "correlation_matrix = df_ibov_copia.iloc[112:1359, :].corr(numeric_only=True).round(2)\n",
    "\n",
    "fig, ax = plt.subplots(figsize=(8,8))    \n",
    "sns.heatmap(data=correlation_matrix, annot=True, linewidths=.5, ax=ax)"
   ]
  },
  {
   "cell_type": "code",
   "execution_count": 35,
   "id": "536d9518",
   "metadata": {},
   "outputs": [
    {
     "data": {
      "image/png": "[encoded data removed]",
      "text/plain": [
       "<Figure size 1200x600 with 1 Axes>"
      ]
     },
     "metadata": {},
     "output_type": "display_data"
    }
   ],
   "source": [
    "# Quantidade de dias que o IBOVESPA teve o fechamento Positivo e Negativo\n",
    "\n",
    "# Substitui 0 por 'Negativo' e 1 por 'Positivo'\n",
    "df_temp = df_ibov_copia.copy()\n",
    "df_temp['Tendencia'] = df_temp['Tendencia'].map({0: 'Negativo', 1: 'Positivo'})\n",
    "\n",
    "# Define as cores desejadas para cada categoria\n",
    "palette_cores = {'Negativo': 'red', 'Positivo': 'green'}\n",
    "\n",
    "# Gráfico de barra\n",
    "fig, axes = plt.subplots(figsize=(12,6))\n",
    "\n",
    "sns.countplot(data=df_temp, x='Tendencia', hue='Tendencia', ax=axes, palette=palette_cores, legend=False)\n",
    "\n",
    "# Adiciona os labels (valores) nas barras\n",
    "for p in axes.patches:\n",
    "    altura = p.get_height()\n",
    "    axes.annotate(f'{int(altura)}',  # texto (valor da barra)\n",
    "                  (p.get_x() + p.get_width() / 2, altura),  # posição do texto\n",
    "                  ha='center', va='bottom', fontsize=12, fontweight='bold')\n",
    "\n",
    "# Remove os números do eixo Y\n",
    "axes.set_yticks([])\n",
    "\n",
    "axes.set_xlabel('Tendência')\n",
    "axes.set_ylabel('Contagem')\n",
    "axes.set_ylim(0, 350)\n",
    "axes.set_title('Contagem dos Fechamentos do IBOVESPA nos últimos 2 anos')\n",
    "sns.despine(left=True)\n",
    "plt.show()"
   ]
  },
  {
   "cell_type": "code",
   "execution_count": 36,
   "id": "7b953a73",
   "metadata": {},
   "outputs": [
    {
     "data": {
      "image/png": "[encoded data removed]",
      "text/plain": [
       "<Figure size 1200x600 with 1 Axes>"
      ]
     },
     "metadata": {},
     "output_type": "display_data"
    }
   ],
   "source": [
    "from matplotlib.ticker import FuncFormatter, MultipleLocator\n",
    "\n",
    "# Copia e ajusta os dados\n",
    "df_temp_fech = df_ibov_copia.copy()\n",
    "df_temp_fech[\"Fechamento_Diario\"] = df_temp_fech[\"Fechamento_Diario\"] * 1000\n",
    "\n",
    "# Criação do gráfico\n",
    "fig, axes = plt.subplots(figsize=(12,6))\n",
    "sns.boxplot(data=df_temp_fech, x=\"Fechamento_Diario\", ax=axes)\n",
    "\n",
    "# Valores mínimo e máximo\n",
    "min_val = df_temp_fech['Fechamento_Diario'].min() - 5000\n",
    "max_val = df_temp_fech['Fechamento_Diario'].max()\n",
    "\n",
    "# Limites com margem de 2%\n",
    "axes.set_xlim(min_val * 0.98, max_val * 1.02)\n",
    "\n",
    "# Ticks de 5.000 em 5.000\n",
    "axes.xaxis.set_major_locator(MultipleLocator(5000))\n",
    "\n",
    "# Formata para exibir separador de milhar\n",
    "formatter = FuncFormatter(lambda x, _: f'{int(x):,}'.replace(',', '.')) # _: o segundo argumento é exigido pelo FuncFormatter, mas não precisamos dele aqui (por isso usamos _ como convenção de \"ignorado\").\n",
    "axes.xaxis.set_major_formatter(formatter)\n",
    "\n",
    "# Estética\n",
    "axes.set_xlabel('Fechamento Diário (R$)')\n",
    "axes.set_title('Boxplot do Fechamento Diário do IBOVESPA')\n",
    "plt.tight_layout()\n",
    "plt.show()"
   ]
  }
 ],
 "metadata": {
  "kernelspec": {
   "display_name": "Python 3",
   "language": "python",
   "name": "python3"
  },
  "language_info": {
   "codemirror_mode": {
    "name": "ipython",
    "version": 3
   },
   "file_extension": ".py",
   "mimetype": "text/x-python",
   "name": "python",
   "nbconvert_exporter": "python",
   "pygments_lexer": "ipython3",
   "version": "3.13.5"
  }
 },
 "nbformat": 4,
 "nbformat_minor": 5
}
