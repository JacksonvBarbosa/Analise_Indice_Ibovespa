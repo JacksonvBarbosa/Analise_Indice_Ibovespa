{
 "cells": [
  {
   "cell_type": "markdown",
   "id": "73952a64",
   "metadata": {},
   "source": [
    "# **Dados do Indice IBOVESPA B3**"
   ]
  },
  {
   "attachments": {
    "image.png": {
     "image/png": "[encoded data removed]"
    }
   },
   "cell_type": "markdown",
   "id": "4c736cac",
   "metadata": {},
   "source": [
    "## **O problema**\n",
    "\n",
    "Você foi recentemente alocado em uma equipe de cientistas de dados de um grande fundo de investimentos brasileiro. Sua missão inicial é desenvolver um modelo preditivo capaz de prever se o índice IBOVESPA vai fechar em alta ou baixa no dia seguinte, com base em dados históricos do próprio índice. Esse modelo será usado como insumo para alimentar dashboards internos de tomada de decisão dos analistas quantitativos da empresa.\n",
    "\n",
    "### **Dados**\n",
    "\n",
    "Utilize os dados históricos do índice IBOVESPA, disponíveis publicamente: https://br.investing.com/indices/bovespa-historical-data\n",
    "Requisitos:  \n",
    "• Selecione o período “diário”.  \n",
    "• Baixe um intervalo de pelo menos 2 anos de dados.  \n",
    "• Realize o pré-processamento necessário para utilizar os dados no modelo.\n",
    "\n",
    "### **Caracteristicas (Colunas)**\n",
    "\n",
    "**Data** - Data de cada de negociação do IBOVESPA  \n",
    "**Último** - Fechamento da negociação diária  \n",
    "**Abertura** - Inicio das negociações e onde a negociação abriu  \n",
    "**Máxima** - Nível máximo que o IBOVESPA alcançou no dia  \n",
    "**Mínimo** - Nível mínimo que o IBOVESPA alcançou no dia  \n",
    "**Vol.** - Volume de negociação diária  \n",
    "**Var%** - Variação percentual diária partindo de sua abertura\n",
    "\n",
    "### **Objetivo**\n",
    "\n",
    "Criar um modelo que preveja se o fechamento do IBOVESPA do dia seguinte será maior ou menor que o do dia atual, ou seja:\n",
    "Tech challenge Página 3 de 5.  \n",
    "Seu modelo deve prever a tendência (↑ ou ↓) com acuracidade mínima de 75% em um conjunto de teste. O conjunto de testes deverá conter o último mês (30 dias) de dados disponíveis.\n",
    "\n",
    "![image.png](attachment:image.png)"
   ]
  },
  {
   "cell_type": "markdown",
   "id": "1c96c849",
   "metadata": {},
   "source": []
  },
  {
   "cell_type": "code",
   "execution_count": 2,
   "id": "e5ed3748",
   "metadata": {},
   "outputs": [],
   "source": [
    "import pandas as pd\n",
    "import numpy as np\n",
    "import scipy as stats\n",
    "import matplotlib.pyplot as plt\n",
    "import seaborn as sns"
   ]
  },
  {
   "cell_type": "code",
   "execution_count": 3,
   "id": "d4ca1557",
   "metadata": {},
   "outputs": [],
   "source": [
    "url = \"https://raw.githubusercontent.com/JacksonvBarbosa/Analise_Indice_Ibovespa/refs/heads/Jackson/Dataset/Dados%20Hist%C3%B3ricos%20-%20Ibovespa.csv\""
   ]
  },
  {
   "cell_type": "code",
   "execution_count": 4,
   "id": "7fe96a6b",
   "metadata": {},
   "outputs": [],
   "source": [
    "df_ibov = pd.read_csv(url)"
   ]
  },
  {
   "cell_type": "markdown",
   "id": "08c17fe0",
   "metadata": {},
   "source": [
    "# Padronização e limpeza dos dados + análise descritiva e exploratória básica"
   ]
  },
  {
   "cell_type": "code",
   "execution_count": 5,
   "id": "086bffaa",
   "metadata": {},
   "outputs": [
    {
     "data": {
      "application/vnd.microsoft.datawrangler.viewer.v0+json": {
       "columns": [
        {
         "name": "index",
         "rawType": "int64",
         "type": "integer"
        },
        {
         "name": "Data",
         "rawType": "object",
         "type": "string"
        },
        {
         "name": "Último",
         "rawType": "float64",
         "type": "float"
        },
        {
         "name": "Abertura",
         "rawType": "float64",
         "type": "float"
        },
        {
         "name": "Máxima",
         "rawType": "float64",
         "type": "float"
        },
        {
         "name": "Mínima",
         "rawType": "float64",
         "type": "float"
        },
        {
         "name": "Vol.",
         "rawType": "object",
         "type": "string"
        },
        {
         "name": "Var%",
         "rawType": "object",
         "type": "string"
        }
       ],
       "ref": "0525cf35-0cb2-4072-84d4-a45d4b6223e4",
       "rows": [
        [
         "0",
         "04.06.2025",
         "137.002",
         "137.547",
         "138.797",
         "136.695",
         "10,20M",
         "-0,40%"
        ],
        [
         "1",
         "03.06.2025",
         "137.546",
         "136.787",
         "137.672",
         "136.175",
         "9,70B",
         "0,56%"
        ],
        [
         "2",
         "02.06.2025",
         "136.787",
         "137.026",
         "138.471",
         "136.483",
         "9,10B",
         "-0,18%"
        ],
        [
         "3",
         "30.05.2025",
         "137.027",
         "138.546",
         "138.637",
         "136.726",
         "15,14B",
         "-1,09%"
        ],
        [
         "4",
         "29.05.2025",
         "138.534",
         "138.869",
         "139.108",
         "137.993",
         "8,83B",
         "-0,25%"
        ],
        [
         "5",
         "28.05.2025",
         "138.888",
         "139.541",
         "139.547",
         "138.58",
         "9,73B",
         "-0,47%"
        ],
        [
         "6",
         "27.05.2025",
         "139.541",
         "138.136",
         "140.382",
         "138.136",
         "11,19B",
         "1,02%"
        ],
        [
         "7",
         "26.05.2025",
         "138.136",
         "137.824",
         "138.8",
         "137.795",
         "5,55B",
         "0,23%"
        ],
        [
         "8",
         "23.05.2025",
         "137.824",
         "137.273",
         "137.824",
         "134.997",
         "10,68B",
         "0,40%"
        ],
        [
         "9",
         "22.05.2025",
         "137.273",
         "137.881",
         "138.837",
         "137.088",
         "13,22B",
         "-0,44%"
        ],
        [
         "10",
         "21.05.2025",
         "137.881",
         "140.109",
         "140.109",
         "137.538",
         "10,15B",
         "-1,59%"
        ],
        [
         "11",
         "20.05.2025",
         "140.11",
         "139.636",
         "140.244",
         "138.966",
         "9,65B",
         "0,34%"
        ],
        [
         "12",
         "19.05.2025",
         "139.636",
         "139.186",
         "140.203",
         "138.587",
         "9,59B",
         "0,32%"
        ],
        [
         "13",
         "16.05.2025",
         "139.187",
         "139.335",
         "139.335",
         "137.713",
         "12,11B",
         "-0,11%"
        ],
        [
         "14",
         "15.05.2025",
         "139.334",
         "138.425",
         "139.408",
         "138.321",
         "11,50B",
         "0,66%"
        ],
        [
         "15",
         "14.05.2025",
         "138.423",
         "138.965",
         "139.362",
         "138.228",
         "11,16B",
         "-0,39%"
        ],
        [
         "16",
         "13.05.2025",
         "138.963",
         "136.565",
         "139.419",
         "136.55",
         "13,07B",
         "1,76%"
        ],
        [
         "17",
         "12.05.2025",
         "136.563",
         "136.516",
         "137.519",
         "136.356",
         "10,92B",
         "0,04%"
        ],
        [
         "18",
         "09.05.2025",
         "136.512",
         "136.232",
         "137.286",
         "136.105",
         "13,88B",
         "0,21%"
        ],
        [
         "19",
         "08.05.2025",
         "136.232",
         "133.458",
         "137.635",
         "133.458",
         "17,20B",
         "2,12%"
        ],
        [
         "20",
         "07.05.2025",
         "133.398",
         "133.517",
         "134.11",
         "132.872",
         "9,94B",
         "-0,09%"
        ],
        [
         "21",
         "06.05.2025",
         "133.516",
         "133.499",
         "134.135",
         "133.26",
         "11,14B",
         "0,02%"
        ],
        [
         "22",
         "05.05.2025",
         "133.491",
         "135.131",
         "135.198",
         "133.39",
         "10,80B",
         "-1,22%"
        ],
        [
         "23",
         "02.05.2025",
         "135.134",
         "135.067",
         "135.275",
         "134.355",
         "12,74B",
         "0,05%"
        ],
        [
         "24",
         "30.04.2025",
         "135.067",
         "135.094",
         "135.171",
         "133.955",
         "15,45B",
         "-0,02%"
        ],
        [
         "25",
         "29.04.2025",
         "135.093",
         "135.017",
         "136.15",
         "134.899",
         "12,76B",
         "0,06%"
        ],
        [
         "26",
         "28.04.2025",
         "135.016",
         "134.741",
         "135.709",
         "134.711",
         "11,45B",
         "0,21%"
        ],
        [
         "27",
         "25.04.2025",
         "134.739",
         "134.579",
         "134.992",
         "134.186",
         "13,05B",
         "0,12%"
        ],
        [
         "28",
         "24.04.2025",
         "134.58",
         "132.245",
         "134.938",
         "132.223",
         "14,11B",
         "1,79%"
        ],
        [
         "29",
         "23.04.2025",
         "132.216",
         "130.468",
         "133.318",
         "130.468",
         "11,34B",
         "1,34%"
        ],
        [
         "30",
         "22.04.2025",
         "130.464",
         "129.65",
         "130.877",
         "128.726",
         "8,61B",
         "0,63%"
        ],
        [
         "31",
         "17.04.2025",
         "129.65",
         "128.316",
         "130.091",
         "127.973",
         "9,98B",
         "1,04%"
        ],
        [
         "32",
         "16.04.2025",
         "128.317",
         "129.245",
         "129.605",
         "128.149",
         "11,54B",
         "-0,72%"
        ],
        [
         "33",
         "15.04.2025",
         "129.245",
         "129.452",
         "129.927",
         "128.951",
         "8,84B",
         "-0,16%"
        ],
        [
         "34",
         "14.04.2025",
         "129.454",
         "127.683",
         "129.955",
         "127.683",
         "10,61B",
         "1,39%"
        ],
        [
         "35",
         "11.04.2025",
         "127.682",
         "126.355",
         "128.386",
         "126.078",
         "10,08B",
         "1,05%"
        ],
        [
         "36",
         "10.04.2025",
         "126.355",
         "127.796",
         "127.797",
         "124.895",
         "11,46B",
         "-1,13%"
        ],
        [
         "37",
         "09.04.2025",
         "127.796",
         "123.928",
         "128.649",
         "122.887",
         "16,92B",
         "3,12%"
        ],
        [
         "38",
         "08.04.2025",
         "123.932",
         "125.588",
         "127.652",
         "123.454",
         "12,81B",
         "-1,32%"
        ],
        [
         "39",
         "07.04.2025",
         "125.588",
         "127.229",
         "128.411",
         "123.876",
         "14,05B",
         "-1,31%"
        ],
        [
         "40",
         "04.04.2025",
         "127.256",
         "131.139",
         "131.139",
         "126.466",
         "13,18B",
         "-2,96%"
        ],
        [
         "41",
         "03.04.2025",
         "131.141",
         "131.185",
         "132.552",
         "130.182",
         "12,33B",
         "-0,04%"
        ],
        [
         "42",
         "02.04.2025",
         "131.19",
         "131.151",
         "131.424",
         "130.393",
         "8,82B",
         "0,03%"
        ],
        [
         "43",
         "01.04.2025",
         "131.147",
         "130.267",
         "131.982",
         "130.081",
         "8,97B",
         "0,68%"
        ],
        [
         "44",
         "31.03.2025",
         "130.26",
         "131.9",
         "131.901",
         "130.115",
         "9,99B",
         "-1,25%"
        ],
        [
         "45",
         "28.03.2025",
         "131.902",
         "133.143",
         "133.143",
         "131.315",
         "8,91B",
         "-0,94%"
        ],
        [
         "46",
         "27.03.2025",
         "133.149",
         "132.522",
         "133.904",
         "132.479",
         "10,02B",
         "0,47%"
        ],
        [
         "47",
         "26.03.2025",
         "132.52",
         "132.069",
         "132.984",
         "132.068",
         "9,40B",
         "0,34%"
        ],
        [
         "48",
         "25.03.2025",
         "132.068",
         "131.327",
         "133.471",
         "131.325",
         "9,24B",
         "0,57%"
        ],
        [
         "49",
         "24.03.2025",
         "131.321",
         "132.344",
         "132.424",
         "130.992",
         "8,30B",
         "-0,77%"
        ]
       ],
       "shape": {
        "columns": 7,
        "rows": 602
       }
      },
      "text/html": [
       "<div>\n",
       "<style scoped>\n",
       "    .dataframe tbody tr th:only-of-type {\n",
       "        vertical-align: middle;\n",
       "    }\n",
       "\n",
       "    .dataframe tbody tr th {\n",
       "        vertical-align: top;\n",
       "    }\n",
       "\n",
       "    .dataframe thead th {\n",
       "        text-align: right;\n",
       "    }\n",
       "</style>\n",
       "<table border=\"1\" class=\"dataframe\">\n",
       "  <thead>\n",
       "    <tr style=\"text-align: right;\">\n",
       "      <th></th>\n",
       "      <th>Data</th>\n",
       "      <th>Último</th>\n",
       "      <th>Abertura</th>\n",
       "      <th>Máxima</th>\n",
       "      <th>Mínima</th>\n",
       "      <th>Vol.</th>\n",
       "      <th>Var%</th>\n",
       "    </tr>\n",
       "  </thead>\n",
       "  <tbody>\n",
       "    <tr>\n",
       "      <th>0</th>\n",
       "      <td>04.06.2025</td>\n",
       "      <td>137.002</td>\n",
       "      <td>137.547</td>\n",
       "      <td>138.797</td>\n",
       "      <td>136.695</td>\n",
       "      <td>10,20M</td>\n",
       "      <td>-0,40%</td>\n",
       "    </tr>\n",
       "    <tr>\n",
       "      <th>1</th>\n",
       "      <td>03.06.2025</td>\n",
       "      <td>137.546</td>\n",
       "      <td>136.787</td>\n",
       "      <td>137.672</td>\n",
       "      <td>136.175</td>\n",
       "      <td>9,70B</td>\n",
       "      <td>0,56%</td>\n",
       "    </tr>\n",
       "    <tr>\n",
       "      <th>2</th>\n",
       "      <td>02.06.2025</td>\n",
       "      <td>136.787</td>\n",
       "      <td>137.026</td>\n",
       "      <td>138.471</td>\n",
       "      <td>136.483</td>\n",
       "      <td>9,10B</td>\n",
       "      <td>-0,18%</td>\n",
       "    </tr>\n",
       "    <tr>\n",
       "      <th>3</th>\n",
       "      <td>30.05.2025</td>\n",
       "      <td>137.027</td>\n",
       "      <td>138.546</td>\n",
       "      <td>138.637</td>\n",
       "      <td>136.726</td>\n",
       "      <td>15,14B</td>\n",
       "      <td>-1,09%</td>\n",
       "    </tr>\n",
       "    <tr>\n",
       "      <th>4</th>\n",
       "      <td>29.05.2025</td>\n",
       "      <td>138.534</td>\n",
       "      <td>138.869</td>\n",
       "      <td>139.108</td>\n",
       "      <td>137.993</td>\n",
       "      <td>8,83B</td>\n",
       "      <td>-0,25%</td>\n",
       "    </tr>\n",
       "    <tr>\n",
       "      <th>...</th>\n",
       "      <td>...</td>\n",
       "      <td>...</td>\n",
       "      <td>...</td>\n",
       "      <td>...</td>\n",
       "      <td>...</td>\n",
       "      <td>...</td>\n",
       "      <td>...</td>\n",
       "    </tr>\n",
       "    <tr>\n",
       "      <th>597</th>\n",
       "      <td>10.01.2023</td>\n",
       "      <td>110.817</td>\n",
       "      <td>109.129</td>\n",
       "      <td>111.193</td>\n",
       "      <td>108.478</td>\n",
       "      <td>13,70M</td>\n",
       "      <td>1,55%</td>\n",
       "    </tr>\n",
       "    <tr>\n",
       "      <th>598</th>\n",
       "      <td>09.01.2023</td>\n",
       "      <td>109.130</td>\n",
       "      <td>108.964</td>\n",
       "      <td>109.938</td>\n",
       "      <td>108.134</td>\n",
       "      <td>12,05M</td>\n",
       "      <td>0,15%</td>\n",
       "    </tr>\n",
       "    <tr>\n",
       "      <th>599</th>\n",
       "      <td>06.01.2023</td>\n",
       "      <td>108.964</td>\n",
       "      <td>107.642</td>\n",
       "      <td>109.433</td>\n",
       "      <td>107.642</td>\n",
       "      <td>12,63M</td>\n",
       "      <td>1,23%</td>\n",
       "    </tr>\n",
       "    <tr>\n",
       "      <th>600</th>\n",
       "      <td>05.01.2023</td>\n",
       "      <td>107.641</td>\n",
       "      <td>105.336</td>\n",
       "      <td>107.743</td>\n",
       "      <td>105.333</td>\n",
       "      <td>15,51M</td>\n",
       "      <td>2,19%</td>\n",
       "    </tr>\n",
       "    <tr>\n",
       "      <th>601</th>\n",
       "      <td>04.01.2023</td>\n",
       "      <td>105.334</td>\n",
       "      <td>104.167</td>\n",
       "      <td>105.627</td>\n",
       "      <td>103.915</td>\n",
       "      <td>14,45M</td>\n",
       "      <td>1,12%</td>\n",
       "    </tr>\n",
       "  </tbody>\n",
       "</table>\n",
       "<p>602 rows × 7 columns</p>\n",
       "</div>"
      ],
      "text/plain": [
       "           Data   Último  Abertura   Máxima   Mínima    Vol.    Var%\n",
       "0    04.06.2025  137.002   137.547  138.797  136.695  10,20M  -0,40%\n",
       "1    03.06.2025  137.546   136.787  137.672  136.175   9,70B   0,56%\n",
       "2    02.06.2025  136.787   137.026  138.471  136.483   9,10B  -0,18%\n",
       "3    30.05.2025  137.027   138.546  138.637  136.726  15,14B  -1,09%\n",
       "4    29.05.2025  138.534   138.869  139.108  137.993   8,83B  -0,25%\n",
       "..          ...      ...       ...      ...      ...     ...     ...\n",
       "597  10.01.2023  110.817   109.129  111.193  108.478  13,70M   1,55%\n",
       "598  09.01.2023  109.130   108.964  109.938  108.134  12,05M   0,15%\n",
       "599  06.01.2023  108.964   107.642  109.433  107.642  12,63M   1,23%\n",
       "600  05.01.2023  107.641   105.336  107.743  105.333  15,51M   2,19%\n",
       "601  04.01.2023  105.334   104.167  105.627  103.915  14,45M   1,12%\n",
       "\n",
       "[602 rows x 7 columns]"
      ]
     },
     "execution_count": 5,
     "metadata": {},
     "output_type": "execute_result"
    }
   ],
   "source": [
    "df_ibov_copia = df_ibov.copy()\n",
    "df_ibov_copia"
   ]
  },
  {
   "cell_type": "code",
   "execution_count": 6,
   "id": "6ada0938",
   "metadata": {},
   "outputs": [
    {
     "name": "stdout",
     "output_type": "stream",
     "text": [
      "<class 'pandas.core.frame.DataFrame'>\n",
      "RangeIndex: 602 entries, 0 to 601\n",
      "Data columns (total 7 columns):\n",
      " #   Column    Non-Null Count  Dtype  \n",
      "---  ------    --------------  -----  \n",
      " 0   Data      602 non-null    object \n",
      " 1   Último    602 non-null    float64\n",
      " 2   Abertura  602 non-null    float64\n",
      " 3   Máxima    602 non-null    float64\n",
      " 4   Mínima    602 non-null    float64\n",
      " 5   Vol.      602 non-null    object \n",
      " 6   Var%      602 non-null    object \n",
      "dtypes: float64(4), object(3)\n",
      "memory usage: 33.1+ KB\n"
     ]
    },
    {
     "data": {
      "text/plain": [
       "None"
      ]
     },
     "metadata": {},
     "output_type": "display_data"
    }
   ],
   "source": [
    "display(df_ibov_copia.info())"
   ]
  },
  {
   "cell_type": "code",
   "execution_count": 7,
   "id": "893d040e",
   "metadata": {},
   "outputs": [
    {
     "data": {
      "text/plain": [
       "'Tamanho do dataset: linhas/coluna(602, 7)'"
      ]
     },
     "metadata": {},
     "output_type": "display_data"
    }
   ],
   "source": [
    "display(f'Tamanho do dataset: linhas/coluna{df_ibov_copia.shape}')"
   ]
  },
  {
   "cell_type": "code",
   "execution_count": 8,
   "id": "478b3472",
   "metadata": {},
   "outputs": [
    {
     "data": {
      "application/vnd.microsoft.datawrangler.viewer.v0+json": {
       "columns": [
        {
         "name": "index",
         "rawType": "object",
         "type": "string"
        },
        {
         "name": "Último",
         "rawType": "float64",
         "type": "float"
        },
        {
         "name": "Abertura",
         "rawType": "float64",
         "type": "float"
        },
        {
         "name": "Máxima",
         "rawType": "float64",
         "type": "float"
        },
        {
         "name": "Mínima",
         "rawType": "float64",
         "type": "float"
        }
       ],
       "ref": "39371d36-4972-458c-af91-bfff0d8f00af",
       "rows": [
        [
         "count",
         "602.0",
         "602.0",
         "602.0",
         "602.0"
        ],
        [
         "mean",
         "122.67992358803987",
         "122.6257906976744",
         "123.47487209302327",
         "121.86729401993357"
        ],
        [
         "std",
         "9.312726503514405",
         "9.324911877519666",
         "9.25754418809839",
         "9.368048756407427"
        ],
        [
         "min",
         "97.926",
         "97.926",
         "99.258",
         "96.997"
        ],
        [
         "25%",
         "117.0685",
         "117.03125",
         "117.9605",
         "116.177"
        ],
        [
         "50%",
         "125.3675",
         "125.293",
         "126.206",
         "124.56700000000001"
        ],
        [
         "75%",
         "129.1665",
         "129.125",
         "129.85225000000003",
         "128.209"
        ],
        [
         "max",
         "140.11",
         "140.109",
         "140.382",
         "138.966"
        ]
       ],
       "shape": {
        "columns": 4,
        "rows": 8
       }
      },
      "text/html": [
       "<div>\n",
       "<style scoped>\n",
       "    .dataframe tbody tr th:only-of-type {\n",
       "        vertical-align: middle;\n",
       "    }\n",
       "\n",
       "    .dataframe tbody tr th {\n",
       "        vertical-align: top;\n",
       "    }\n",
       "\n",
       "    .dataframe thead th {\n",
       "        text-align: right;\n",
       "    }\n",
       "</style>\n",
       "<table border=\"1\" class=\"dataframe\">\n",
       "  <thead>\n",
       "    <tr style=\"text-align: right;\">\n",
       "      <th></th>\n",
       "      <th>Último</th>\n",
       "      <th>Abertura</th>\n",
       "      <th>Máxima</th>\n",
       "      <th>Mínima</th>\n",
       "    </tr>\n",
       "  </thead>\n",
       "  <tbody>\n",
       "    <tr>\n",
       "      <th>count</th>\n",
       "      <td>602.000000</td>\n",
       "      <td>602.000000</td>\n",
       "      <td>602.000000</td>\n",
       "      <td>602.000000</td>\n",
       "    </tr>\n",
       "    <tr>\n",
       "      <th>mean</th>\n",
       "      <td>122.679924</td>\n",
       "      <td>122.625791</td>\n",
       "      <td>123.474872</td>\n",
       "      <td>121.867294</td>\n",
       "    </tr>\n",
       "    <tr>\n",
       "      <th>std</th>\n",
       "      <td>9.312727</td>\n",
       "      <td>9.324912</td>\n",
       "      <td>9.257544</td>\n",
       "      <td>9.368049</td>\n",
       "    </tr>\n",
       "    <tr>\n",
       "      <th>min</th>\n",
       "      <td>97.926000</td>\n",
       "      <td>97.926000</td>\n",
       "      <td>99.258000</td>\n",
       "      <td>96.997000</td>\n",
       "    </tr>\n",
       "    <tr>\n",
       "      <th>25%</th>\n",
       "      <td>117.068500</td>\n",
       "      <td>117.031250</td>\n",
       "      <td>117.960500</td>\n",
       "      <td>116.177000</td>\n",
       "    </tr>\n",
       "    <tr>\n",
       "      <th>50%</th>\n",
       "      <td>125.367500</td>\n",
       "      <td>125.293000</td>\n",
       "      <td>126.206000</td>\n",
       "      <td>124.567000</td>\n",
       "    </tr>\n",
       "    <tr>\n",
       "      <th>75%</th>\n",
       "      <td>129.166500</td>\n",
       "      <td>129.125000</td>\n",
       "      <td>129.852250</td>\n",
       "      <td>128.209000</td>\n",
       "    </tr>\n",
       "    <tr>\n",
       "      <th>max</th>\n",
       "      <td>140.110000</td>\n",
       "      <td>140.109000</td>\n",
       "      <td>140.382000</td>\n",
       "      <td>138.966000</td>\n",
       "    </tr>\n",
       "  </tbody>\n",
       "</table>\n",
       "</div>"
      ],
      "text/plain": [
       "           Último    Abertura      Máxima      Mínima\n",
       "count  602.000000  602.000000  602.000000  602.000000\n",
       "mean   122.679924  122.625791  123.474872  121.867294\n",
       "std      9.312727    9.324912    9.257544    9.368049\n",
       "min     97.926000   97.926000   99.258000   96.997000\n",
       "25%    117.068500  117.031250  117.960500  116.177000\n",
       "50%    125.367500  125.293000  126.206000  124.567000\n",
       "75%    129.166500  129.125000  129.852250  128.209000\n",
       "max    140.110000  140.109000  140.382000  138.966000"
      ]
     },
     "metadata": {},
     "output_type": "display_data"
    }
   ],
   "source": [
    "display(df_ibov_copia.describe())"
   ]
  },
  {
   "cell_type": "markdown",
   "id": "90bee7be",
   "metadata": {},
   "source": [
    "### Observando as informações dos dados, para melhor manipulação futura devemos converter a coluna **Data** para DateTime e a coluna **Vol.** e **Var%** para Float\n",
    "\n",
    "1. Qual é a média de fechamento nos ultimos 2 ano?  \n",
    "* 122 mil pontos  \n",
    "2. O quanto os pontos estão dispersos da média?  \n",
    "* mais ou menos 9.3mil pontos\n",
    "3. Quais foi a mínima e a máxima em pontos que o IBOVESPA alcançou nesses 2 ano?  \n",
    "* **minima** de 97.926 pontos e uma **máxima** de 140.11 pontos  \n",
    "4. A mediana está próxima da média de pontos?  \n",
    "* Sim a **mediana** mais ou menos 3 mil pontos ficando dentro do desvio padrão de fechamentodo indice  \n",
    "\n",
    "\n",
    "### Uma análise básica exploratória, como uma **mediana** próxima da média nos mostrando que não tivemos umas dispersão significativa vamos ver mais a frente mais da para perceber que não tivemos um outlier nesse periodo"
   ]
  },
  {
   "cell_type": "code",
   "execution_count": 9,
   "id": "80732dcb",
   "metadata": {},
   "outputs": [
    {
     "data": {
      "application/vnd.microsoft.datawrangler.viewer.v0+json": {
       "columns": [
        {
         "name": "index",
         "rawType": "object",
         "type": "string"
        },
        {
         "name": "0",
         "rawType": "int64",
         "type": "integer"
        }
       ],
       "ref": "a7b7e32d-30e6-412a-b45d-cecf40f45854",
       "rows": [
        [
         "Data",
         "0"
        ],
        [
         "Último",
         "0"
        ],
        [
         "Abertura",
         "0"
        ],
        [
         "Máxima",
         "0"
        ],
        [
         "Mínima",
         "0"
        ],
        [
         "Vol.",
         "0"
        ],
        [
         "Var%",
         "0"
        ]
       ],
       "shape": {
        "columns": 1,
        "rows": 7
       }
      },
      "text/plain": [
       "Data        0\n",
       "Último      0\n",
       "Abertura    0\n",
       "Máxima      0\n",
       "Mínima      0\n",
       "Vol.        0\n",
       "Var%        0\n",
       "dtype: int64"
      ]
     },
     "execution_count": 9,
     "metadata": {},
     "output_type": "execute_result"
    }
   ],
   "source": [
    "# Varifica dados Nulos\n",
    "df_ibov_copia.isnull().sum()"
   ]
  },
  {
   "cell_type": "code",
   "execution_count": 10,
   "id": "0e2af64b",
   "metadata": {},
   "outputs": [
    {
     "data": {
      "application/vnd.microsoft.datawrangler.viewer.v0+json": {
       "columns": [
        {
         "name": "index",
         "rawType": "int64",
         "type": "integer"
        },
        {
         "name": "Data",
         "rawType": "datetime64[ns]",
         "type": "datetime"
        },
        {
         "name": "Último",
         "rawType": "float64",
         "type": "float"
        },
        {
         "name": "Abertura",
         "rawType": "float64",
         "type": "float"
        },
        {
         "name": "Máxima",
         "rawType": "float64",
         "type": "float"
        },
        {
         "name": "Mínima",
         "rawType": "float64",
         "type": "float"
        },
        {
         "name": "Vol.",
         "rawType": "object",
         "type": "string"
        },
        {
         "name": "Var%",
         "rawType": "object",
         "type": "string"
        }
       ],
       "ref": "ef7e8e26-88be-4bb0-bfd8-bafc48c4430e",
       "rows": [
        [
         "0",
         "2025-06-04 00:00:00",
         "137.002",
         "137.547",
         "138.797",
         "136.695",
         "10,20M",
         "-0,40%"
        ],
        [
         "1",
         "2025-06-03 00:00:00",
         "137.546",
         "136.787",
         "137.672",
         "136.175",
         "9,70B",
         "0,56%"
        ],
        [
         "2",
         "2025-06-02 00:00:00",
         "136.787",
         "137.026",
         "138.471",
         "136.483",
         "9,10B",
         "-0,18%"
        ],
        [
         "3",
         "2025-05-30 00:00:00",
         "137.027",
         "138.546",
         "138.637",
         "136.726",
         "15,14B",
         "-1,09%"
        ],
        [
         "4",
         "2025-05-29 00:00:00",
         "138.534",
         "138.869",
         "139.108",
         "137.993",
         "8,83B",
         "-0,25%"
        ],
        [
         "5",
         "2025-05-28 00:00:00",
         "138.888",
         "139.541",
         "139.547",
         "138.58",
         "9,73B",
         "-0,47%"
        ],
        [
         "6",
         "2025-05-27 00:00:00",
         "139.541",
         "138.136",
         "140.382",
         "138.136",
         "11,19B",
         "1,02%"
        ],
        [
         "7",
         "2025-05-26 00:00:00",
         "138.136",
         "137.824",
         "138.8",
         "137.795",
         "5,55B",
         "0,23%"
        ],
        [
         "8",
         "2025-05-23 00:00:00",
         "137.824",
         "137.273",
         "137.824",
         "134.997",
         "10,68B",
         "0,40%"
        ],
        [
         "9",
         "2025-05-22 00:00:00",
         "137.273",
         "137.881",
         "138.837",
         "137.088",
         "13,22B",
         "-0,44%"
        ],
        [
         "10",
         "2025-05-21 00:00:00",
         "137.881",
         "140.109",
         "140.109",
         "137.538",
         "10,15B",
         "-1,59%"
        ],
        [
         "11",
         "2025-05-20 00:00:00",
         "140.11",
         "139.636",
         "140.244",
         "138.966",
         "9,65B",
         "0,34%"
        ],
        [
         "12",
         "2025-05-19 00:00:00",
         "139.636",
         "139.186",
         "140.203",
         "138.587",
         "9,59B",
         "0,32%"
        ],
        [
         "13",
         "2025-05-16 00:00:00",
         "139.187",
         "139.335",
         "139.335",
         "137.713",
         "12,11B",
         "-0,11%"
        ],
        [
         "14",
         "2025-05-15 00:00:00",
         "139.334",
         "138.425",
         "139.408",
         "138.321",
         "11,50B",
         "0,66%"
        ],
        [
         "15",
         "2025-05-14 00:00:00",
         "138.423",
         "138.965",
         "139.362",
         "138.228",
         "11,16B",
         "-0,39%"
        ],
        [
         "16",
         "2025-05-13 00:00:00",
         "138.963",
         "136.565",
         "139.419",
         "136.55",
         "13,07B",
         "1,76%"
        ],
        [
         "17",
         "2025-05-12 00:00:00",
         "136.563",
         "136.516",
         "137.519",
         "136.356",
         "10,92B",
         "0,04%"
        ],
        [
         "18",
         "2025-05-09 00:00:00",
         "136.512",
         "136.232",
         "137.286",
         "136.105",
         "13,88B",
         "0,21%"
        ],
        [
         "19",
         "2025-05-08 00:00:00",
         "136.232",
         "133.458",
         "137.635",
         "133.458",
         "17,20B",
         "2,12%"
        ],
        [
         "20",
         "2025-05-07 00:00:00",
         "133.398",
         "133.517",
         "134.11",
         "132.872",
         "9,94B",
         "-0,09%"
        ],
        [
         "21",
         "2025-05-06 00:00:00",
         "133.516",
         "133.499",
         "134.135",
         "133.26",
         "11,14B",
         "0,02%"
        ],
        [
         "22",
         "2025-05-05 00:00:00",
         "133.491",
         "135.131",
         "135.198",
         "133.39",
         "10,80B",
         "-1,22%"
        ],
        [
         "23",
         "2025-05-02 00:00:00",
         "135.134",
         "135.067",
         "135.275",
         "134.355",
         "12,74B",
         "0,05%"
        ],
        [
         "24",
         "2025-04-30 00:00:00",
         "135.067",
         "135.094",
         "135.171",
         "133.955",
         "15,45B",
         "-0,02%"
        ],
        [
         "25",
         "2025-04-29 00:00:00",
         "135.093",
         "135.017",
         "136.15",
         "134.899",
         "12,76B",
         "0,06%"
        ],
        [
         "26",
         "2025-04-28 00:00:00",
         "135.016",
         "134.741",
         "135.709",
         "134.711",
         "11,45B",
         "0,21%"
        ],
        [
         "27",
         "2025-04-25 00:00:00",
         "134.739",
         "134.579",
         "134.992",
         "134.186",
         "13,05B",
         "0,12%"
        ],
        [
         "28",
         "2025-04-24 00:00:00",
         "134.58",
         "132.245",
         "134.938",
         "132.223",
         "14,11B",
         "1,79%"
        ],
        [
         "29",
         "2025-04-23 00:00:00",
         "132.216",
         "130.468",
         "133.318",
         "130.468",
         "11,34B",
         "1,34%"
        ],
        [
         "30",
         "2025-04-22 00:00:00",
         "130.464",
         "129.65",
         "130.877",
         "128.726",
         "8,61B",
         "0,63%"
        ],
        [
         "31",
         "2025-04-17 00:00:00",
         "129.65",
         "128.316",
         "130.091",
         "127.973",
         "9,98B",
         "1,04%"
        ],
        [
         "32",
         "2025-04-16 00:00:00",
         "128.317",
         "129.245",
         "129.605",
         "128.149",
         "11,54B",
         "-0,72%"
        ],
        [
         "33",
         "2025-04-15 00:00:00",
         "129.245",
         "129.452",
         "129.927",
         "128.951",
         "8,84B",
         "-0,16%"
        ],
        [
         "34",
         "2025-04-14 00:00:00",
         "129.454",
         "127.683",
         "129.955",
         "127.683",
         "10,61B",
         "1,39%"
        ],
        [
         "35",
         "2025-04-11 00:00:00",
         "127.682",
         "126.355",
         "128.386",
         "126.078",
         "10,08B",
         "1,05%"
        ],
        [
         "36",
         "2025-04-10 00:00:00",
         "126.355",
         "127.796",
         "127.797",
         "124.895",
         "11,46B",
         "-1,13%"
        ],
        [
         "37",
         "2025-04-09 00:00:00",
         "127.796",
         "123.928",
         "128.649",
         "122.887",
         "16,92B",
         "3,12%"
        ],
        [
         "38",
         "2025-04-08 00:00:00",
         "123.932",
         "125.588",
         "127.652",
         "123.454",
         "12,81B",
         "-1,32%"
        ],
        [
         "39",
         "2025-04-07 00:00:00",
         "125.588",
         "127.229",
         "128.411",
         "123.876",
         "14,05B",
         "-1,31%"
        ],
        [
         "40",
         "2025-04-04 00:00:00",
         "127.256",
         "131.139",
         "131.139",
         "126.466",
         "13,18B",
         "-2,96%"
        ],
        [
         "41",
         "2025-04-03 00:00:00",
         "131.141",
         "131.185",
         "132.552",
         "130.182",
         "12,33B",
         "-0,04%"
        ],
        [
         "42",
         "2025-04-02 00:00:00",
         "131.19",
         "131.151",
         "131.424",
         "130.393",
         "8,82B",
         "0,03%"
        ],
        [
         "43",
         "2025-04-01 00:00:00",
         "131.147",
         "130.267",
         "131.982",
         "130.081",
         "8,97B",
         "0,68%"
        ],
        [
         "44",
         "2025-03-31 00:00:00",
         "130.26",
         "131.9",
         "131.901",
         "130.115",
         "9,99B",
         "-1,25%"
        ],
        [
         "45",
         "2025-03-28 00:00:00",
         "131.902",
         "133.143",
         "133.143",
         "131.315",
         "8,91B",
         "-0,94%"
        ],
        [
         "46",
         "2025-03-27 00:00:00",
         "133.149",
         "132.522",
         "133.904",
         "132.479",
         "10,02B",
         "0,47%"
        ],
        [
         "47",
         "2025-03-26 00:00:00",
         "132.52",
         "132.069",
         "132.984",
         "132.068",
         "9,40B",
         "0,34%"
        ],
        [
         "48",
         "2025-03-25 00:00:00",
         "132.068",
         "131.327",
         "133.471",
         "131.325",
         "9,24B",
         "0,57%"
        ],
        [
         "49",
         "2025-03-24 00:00:00",
         "131.321",
         "132.344",
         "132.424",
         "130.992",
         "8,30B",
         "-0,77%"
        ]
       ],
       "shape": {
        "columns": 7,
        "rows": 602
       }
      },
      "text/html": [
       "<div>\n",
       "<style scoped>\n",
       "    .dataframe tbody tr th:only-of-type {\n",
       "        vertical-align: middle;\n",
       "    }\n",
       "\n",
       "    .dataframe tbody tr th {\n",
       "        vertical-align: top;\n",
       "    }\n",
       "\n",
       "    .dataframe thead th {\n",
       "        text-align: right;\n",
       "    }\n",
       "</style>\n",
       "<table border=\"1\" class=\"dataframe\">\n",
       "  <thead>\n",
       "    <tr style=\"text-align: right;\">\n",
       "      <th></th>\n",
       "      <th>Data</th>\n",
       "      <th>Último</th>\n",
       "      <th>Abertura</th>\n",
       "      <th>Máxima</th>\n",
       "      <th>Mínima</th>\n",
       "      <th>Vol.</th>\n",
       "      <th>Var%</th>\n",
       "    </tr>\n",
       "  </thead>\n",
       "  <tbody>\n",
       "    <tr>\n",
       "      <th>0</th>\n",
       "      <td>2025-06-04</td>\n",
       "      <td>137.002</td>\n",
       "      <td>137.547</td>\n",
       "      <td>138.797</td>\n",
       "      <td>136.695</td>\n",
       "      <td>10,20M</td>\n",
       "      <td>-0,40%</td>\n",
       "    </tr>\n",
       "    <tr>\n",
       "      <th>1</th>\n",
       "      <td>2025-06-03</td>\n",
       "      <td>137.546</td>\n",
       "      <td>136.787</td>\n",
       "      <td>137.672</td>\n",
       "      <td>136.175</td>\n",
       "      <td>9,70B</td>\n",
       "      <td>0,56%</td>\n",
       "    </tr>\n",
       "    <tr>\n",
       "      <th>2</th>\n",
       "      <td>2025-06-02</td>\n",
       "      <td>136.787</td>\n",
       "      <td>137.026</td>\n",
       "      <td>138.471</td>\n",
       "      <td>136.483</td>\n",
       "      <td>9,10B</td>\n",
       "      <td>-0,18%</td>\n",
       "    </tr>\n",
       "    <tr>\n",
       "      <th>3</th>\n",
       "      <td>2025-05-30</td>\n",
       "      <td>137.027</td>\n",
       "      <td>138.546</td>\n",
       "      <td>138.637</td>\n",
       "      <td>136.726</td>\n",
       "      <td>15,14B</td>\n",
       "      <td>-1,09%</td>\n",
       "    </tr>\n",
       "    <tr>\n",
       "      <th>4</th>\n",
       "      <td>2025-05-29</td>\n",
       "      <td>138.534</td>\n",
       "      <td>138.869</td>\n",
       "      <td>139.108</td>\n",
       "      <td>137.993</td>\n",
       "      <td>8,83B</td>\n",
       "      <td>-0,25%</td>\n",
       "    </tr>\n",
       "    <tr>\n",
       "      <th>...</th>\n",
       "      <td>...</td>\n",
       "      <td>...</td>\n",
       "      <td>...</td>\n",
       "      <td>...</td>\n",
       "      <td>...</td>\n",
       "      <td>...</td>\n",
       "      <td>...</td>\n",
       "    </tr>\n",
       "    <tr>\n",
       "      <th>597</th>\n",
       "      <td>2023-01-10</td>\n",
       "      <td>110.817</td>\n",
       "      <td>109.129</td>\n",
       "      <td>111.193</td>\n",
       "      <td>108.478</td>\n",
       "      <td>13,70M</td>\n",
       "      <td>1,55%</td>\n",
       "    </tr>\n",
       "    <tr>\n",
       "      <th>598</th>\n",
       "      <td>2023-01-09</td>\n",
       "      <td>109.130</td>\n",
       "      <td>108.964</td>\n",
       "      <td>109.938</td>\n",
       "      <td>108.134</td>\n",
       "      <td>12,05M</td>\n",
       "      <td>0,15%</td>\n",
       "    </tr>\n",
       "    <tr>\n",
       "      <th>599</th>\n",
       "      <td>2023-01-06</td>\n",
       "      <td>108.964</td>\n",
       "      <td>107.642</td>\n",
       "      <td>109.433</td>\n",
       "      <td>107.642</td>\n",
       "      <td>12,63M</td>\n",
       "      <td>1,23%</td>\n",
       "    </tr>\n",
       "    <tr>\n",
       "      <th>600</th>\n",
       "      <td>2023-01-05</td>\n",
       "      <td>107.641</td>\n",
       "      <td>105.336</td>\n",
       "      <td>107.743</td>\n",
       "      <td>105.333</td>\n",
       "      <td>15,51M</td>\n",
       "      <td>2,19%</td>\n",
       "    </tr>\n",
       "    <tr>\n",
       "      <th>601</th>\n",
       "      <td>2023-01-04</td>\n",
       "      <td>105.334</td>\n",
       "      <td>104.167</td>\n",
       "      <td>105.627</td>\n",
       "      <td>103.915</td>\n",
       "      <td>14,45M</td>\n",
       "      <td>1,12%</td>\n",
       "    </tr>\n",
       "  </tbody>\n",
       "</table>\n",
       "<p>602 rows × 7 columns</p>\n",
       "</div>"
      ],
      "text/plain": [
       "          Data   Último  Abertura   Máxima   Mínima    Vol.    Var%\n",
       "0   2025-06-04  137.002   137.547  138.797  136.695  10,20M  -0,40%\n",
       "1   2025-06-03  137.546   136.787  137.672  136.175   9,70B   0,56%\n",
       "2   2025-06-02  136.787   137.026  138.471  136.483   9,10B  -0,18%\n",
       "3   2025-05-30  137.027   138.546  138.637  136.726  15,14B  -1,09%\n",
       "4   2025-05-29  138.534   138.869  139.108  137.993   8,83B  -0,25%\n",
       "..         ...      ...       ...      ...      ...     ...     ...\n",
       "597 2023-01-10  110.817   109.129  111.193  108.478  13,70M   1,55%\n",
       "598 2023-01-09  109.130   108.964  109.938  108.134  12,05M   0,15%\n",
       "599 2023-01-06  108.964   107.642  109.433  107.642  12,63M   1,23%\n",
       "600 2023-01-05  107.641   105.336  107.743  105.333  15,51M   2,19%\n",
       "601 2023-01-04  105.334   104.167  105.627  103.915  14,45M   1,12%\n",
       "\n",
       "[602 rows x 7 columns]"
      ]
     },
     "execution_count": 10,
     "metadata": {},
     "output_type": "execute_result"
    }
   ],
   "source": [
    "# Formatando caracteristica Data e Convertendo em datetime\n",
    "#df_ibov_copia['Data'] = pd.to_datetime(df_ibov_copia['Data'], format = '%d.%m.%Y').dt.strftime('%d/%m/%Y')\n",
    "df_ibov_copia['Data'] = pd.to_datetime(df_ibov_copia['Data'], format='%d.%m.%Y')\n",
    "df_ibov_copia"
   ]
  },
  {
   "cell_type": "code",
   "execution_count": 11,
   "id": "4a1e0655",
   "metadata": {},
   "outputs": [
    {
     "name": "stdout",
     "output_type": "stream",
     "text": [
      "<class 'pandas.core.frame.DataFrame'>\n",
      "RangeIndex: 602 entries, 0 to 601\n",
      "Data columns (total 7 columns):\n",
      " #   Column    Non-Null Count  Dtype         \n",
      "---  ------    --------------  -----         \n",
      " 0   Data      602 non-null    datetime64[ns]\n",
      " 1   Último    602 non-null    float64       \n",
      " 2   Abertura  602 non-null    float64       \n",
      " 3   Máxima    602 non-null    float64       \n",
      " 4   Mínima    602 non-null    float64       \n",
      " 5   Vol.      602 non-null    object        \n",
      " 6   Var%      602 non-null    object        \n",
      "dtypes: datetime64[ns](1), float64(4), object(2)\n",
      "memory usage: 33.1+ KB\n"
     ]
    }
   ],
   "source": [
    "df_ibov_copia.info()"
   ]
  },
  {
   "cell_type": "code",
   "execution_count": 12,
   "id": "f8555649",
   "metadata": {},
   "outputs": [],
   "source": [
    "# Função para conversão dos dados de Volume de string para float\n",
    "## OBS.: Caso acertando com o grupo e vermos a necessidade de mudar par outro tipo fazer a mudança\n",
    "def converter_volume(vol):\n",
    "    if pd.isna(vol):\n",
    "        return np.nan\n",
    "    vol = vol.upper().replace(',', '').strip()\n",
    "    if vol.endswith('B'):\n",
    "        return float(vol[:-1]) * 1e9\n",
    "    elif vol.endswith('M'):\n",
    "        return float(vol[:-1]) * 1e6\n",
    "    elif vol.endswith('K'):\n",
    "        return float(vol[:-1]) * 1e3\n",
    "    else:\n",
    "        return float(vol)\n",
    "        \n",
    "df_ibov_copia['Vol.'] = df_ibov_copia['Vol.'].apply(converter_volume)"
   ]
  },
  {
   "cell_type": "code",
   "execution_count": 13,
   "id": "183471a0",
   "metadata": {},
   "outputs": [
    {
     "data": {
      "application/vnd.microsoft.datawrangler.viewer.v0+json": {
       "columns": [
        {
         "name": "index",
         "rawType": "int64",
         "type": "integer"
        },
        {
         "name": "Data",
         "rawType": "datetime64[ns]",
         "type": "datetime"
        },
        {
         "name": "Último",
         "rawType": "float64",
         "type": "float"
        },
        {
         "name": "Abertura",
         "rawType": "float64",
         "type": "float"
        },
        {
         "name": "Máxima",
         "rawType": "float64",
         "type": "float"
        },
        {
         "name": "Mínima",
         "rawType": "float64",
         "type": "float"
        },
        {
         "name": "Vol.",
         "rawType": "float64",
         "type": "float"
        },
        {
         "name": "Var%",
         "rawType": "object",
         "type": "string"
        }
       ],
       "ref": "62d89f00-144a-42e6-a22e-ec1eedcf3da9",
       "rows": [
        [
         "0",
         "2025-06-04 00:00:00",
         "137.002",
         "137.547",
         "138.797",
         "136.695",
         "1020000000.0",
         "-0,40%"
        ],
        [
         "1",
         "2025-06-03 00:00:00",
         "137.546",
         "136.787",
         "137.672",
         "136.175",
         "970000000000.0",
         "0,56%"
        ],
        [
         "2",
         "2025-06-02 00:00:00",
         "136.787",
         "137.026",
         "138.471",
         "136.483",
         "910000000000.0",
         "-0,18%"
        ],
        [
         "3",
         "2025-05-30 00:00:00",
         "137.027",
         "138.546",
         "138.637",
         "136.726",
         "1514000000000.0",
         "-1,09%"
        ],
        [
         "4",
         "2025-05-29 00:00:00",
         "138.534",
         "138.869",
         "139.108",
         "137.993",
         "883000000000.0",
         "-0,25%"
        ],
        [
         "5",
         "2025-05-28 00:00:00",
         "138.888",
         "139.541",
         "139.547",
         "138.58",
         "973000000000.0",
         "-0,47%"
        ],
        [
         "6",
         "2025-05-27 00:00:00",
         "139.541",
         "138.136",
         "140.382",
         "138.136",
         "1119000000000.0",
         "1,02%"
        ],
        [
         "7",
         "2025-05-26 00:00:00",
         "138.136",
         "137.824",
         "138.8",
         "137.795",
         "555000000000.0",
         "0,23%"
        ],
        [
         "8",
         "2025-05-23 00:00:00",
         "137.824",
         "137.273",
         "137.824",
         "134.997",
         "1068000000000.0",
         "0,40%"
        ],
        [
         "9",
         "2025-05-22 00:00:00",
         "137.273",
         "137.881",
         "138.837",
         "137.088",
         "1322000000000.0",
         "-0,44%"
        ],
        [
         "10",
         "2025-05-21 00:00:00",
         "137.881",
         "140.109",
         "140.109",
         "137.538",
         "1015000000000.0",
         "-1,59%"
        ],
        [
         "11",
         "2025-05-20 00:00:00",
         "140.11",
         "139.636",
         "140.244",
         "138.966",
         "965000000000.0",
         "0,34%"
        ],
        [
         "12",
         "2025-05-19 00:00:00",
         "139.636",
         "139.186",
         "140.203",
         "138.587",
         "959000000000.0",
         "0,32%"
        ],
        [
         "13",
         "2025-05-16 00:00:00",
         "139.187",
         "139.335",
         "139.335",
         "137.713",
         "1211000000000.0",
         "-0,11%"
        ],
        [
         "14",
         "2025-05-15 00:00:00",
         "139.334",
         "138.425",
         "139.408",
         "138.321",
         "1150000000000.0",
         "0,66%"
        ],
        [
         "15",
         "2025-05-14 00:00:00",
         "138.423",
         "138.965",
         "139.362",
         "138.228",
         "1116000000000.0",
         "-0,39%"
        ],
        [
         "16",
         "2025-05-13 00:00:00",
         "138.963",
         "136.565",
         "139.419",
         "136.55",
         "1307000000000.0",
         "1,76%"
        ],
        [
         "17",
         "2025-05-12 00:00:00",
         "136.563",
         "136.516",
         "137.519",
         "136.356",
         "1092000000000.0",
         "0,04%"
        ],
        [
         "18",
         "2025-05-09 00:00:00",
         "136.512",
         "136.232",
         "137.286",
         "136.105",
         "1388000000000.0",
         "0,21%"
        ],
        [
         "19",
         "2025-05-08 00:00:00",
         "136.232",
         "133.458",
         "137.635",
         "133.458",
         "1720000000000.0",
         "2,12%"
        ],
        [
         "20",
         "2025-05-07 00:00:00",
         "133.398",
         "133.517",
         "134.11",
         "132.872",
         "994000000000.0",
         "-0,09%"
        ],
        [
         "21",
         "2025-05-06 00:00:00",
         "133.516",
         "133.499",
         "134.135",
         "133.26",
         "1114000000000.0",
         "0,02%"
        ],
        [
         "22",
         "2025-05-05 00:00:00",
         "133.491",
         "135.131",
         "135.198",
         "133.39",
         "1080000000000.0",
         "-1,22%"
        ],
        [
         "23",
         "2025-05-02 00:00:00",
         "135.134",
         "135.067",
         "135.275",
         "134.355",
         "1274000000000.0",
         "0,05%"
        ],
        [
         "24",
         "2025-04-30 00:00:00",
         "135.067",
         "135.094",
         "135.171",
         "133.955",
         "1545000000000.0",
         "-0,02%"
        ],
        [
         "25",
         "2025-04-29 00:00:00",
         "135.093",
         "135.017",
         "136.15",
         "134.899",
         "1276000000000.0",
         "0,06%"
        ],
        [
         "26",
         "2025-04-28 00:00:00",
         "135.016",
         "134.741",
         "135.709",
         "134.711",
         "1145000000000.0",
         "0,21%"
        ],
        [
         "27",
         "2025-04-25 00:00:00",
         "134.739",
         "134.579",
         "134.992",
         "134.186",
         "1305000000000.0",
         "0,12%"
        ],
        [
         "28",
         "2025-04-24 00:00:00",
         "134.58",
         "132.245",
         "134.938",
         "132.223",
         "1411000000000.0",
         "1,79%"
        ],
        [
         "29",
         "2025-04-23 00:00:00",
         "132.216",
         "130.468",
         "133.318",
         "130.468",
         "1134000000000.0",
         "1,34%"
        ],
        [
         "30",
         "2025-04-22 00:00:00",
         "130.464",
         "129.65",
         "130.877",
         "128.726",
         "861000000000.0",
         "0,63%"
        ],
        [
         "31",
         "2025-04-17 00:00:00",
         "129.65",
         "128.316",
         "130.091",
         "127.973",
         "998000000000.0",
         "1,04%"
        ],
        [
         "32",
         "2025-04-16 00:00:00",
         "128.317",
         "129.245",
         "129.605",
         "128.149",
         "1154000000000.0",
         "-0,72%"
        ],
        [
         "33",
         "2025-04-15 00:00:00",
         "129.245",
         "129.452",
         "129.927",
         "128.951",
         "884000000000.0",
         "-0,16%"
        ],
        [
         "34",
         "2025-04-14 00:00:00",
         "129.454",
         "127.683",
         "129.955",
         "127.683",
         "1061000000000.0",
         "1,39%"
        ],
        [
         "35",
         "2025-04-11 00:00:00",
         "127.682",
         "126.355",
         "128.386",
         "126.078",
         "1008000000000.0",
         "1,05%"
        ],
        [
         "36",
         "2025-04-10 00:00:00",
         "126.355",
         "127.796",
         "127.797",
         "124.895",
         "1146000000000.0",
         "-1,13%"
        ],
        [
         "37",
         "2025-04-09 00:00:00",
         "127.796",
         "123.928",
         "128.649",
         "122.887",
         "1692000000000.0",
         "3,12%"
        ],
        [
         "38",
         "2025-04-08 00:00:00",
         "123.932",
         "125.588",
         "127.652",
         "123.454",
         "1281000000000.0",
         "-1,32%"
        ],
        [
         "39",
         "2025-04-07 00:00:00",
         "125.588",
         "127.229",
         "128.411",
         "123.876",
         "1405000000000.0",
         "-1,31%"
        ],
        [
         "40",
         "2025-04-04 00:00:00",
         "127.256",
         "131.139",
         "131.139",
         "126.466",
         "1318000000000.0",
         "-2,96%"
        ],
        [
         "41",
         "2025-04-03 00:00:00",
         "131.141",
         "131.185",
         "132.552",
         "130.182",
         "1233000000000.0",
         "-0,04%"
        ],
        [
         "42",
         "2025-04-02 00:00:00",
         "131.19",
         "131.151",
         "131.424",
         "130.393",
         "882000000000.0",
         "0,03%"
        ],
        [
         "43",
         "2025-04-01 00:00:00",
         "131.147",
         "130.267",
         "131.982",
         "130.081",
         "897000000000.0",
         "0,68%"
        ],
        [
         "44",
         "2025-03-31 00:00:00",
         "130.26",
         "131.9",
         "131.901",
         "130.115",
         "999000000000.0",
         "-1,25%"
        ],
        [
         "45",
         "2025-03-28 00:00:00",
         "131.902",
         "133.143",
         "133.143",
         "131.315",
         "891000000000.0",
         "-0,94%"
        ],
        [
         "46",
         "2025-03-27 00:00:00",
         "133.149",
         "132.522",
         "133.904",
         "132.479",
         "1002000000000.0",
         "0,47%"
        ],
        [
         "47",
         "2025-03-26 00:00:00",
         "132.52",
         "132.069",
         "132.984",
         "132.068",
         "940000000000.0",
         "0,34%"
        ],
        [
         "48",
         "2025-03-25 00:00:00",
         "132.068",
         "131.327",
         "133.471",
         "131.325",
         "924000000000.0",
         "0,57%"
        ],
        [
         "49",
         "2025-03-24 00:00:00",
         "131.321",
         "132.344",
         "132.424",
         "130.992",
         "830000000000.0",
         "-0,77%"
        ]
       ],
       "shape": {
        "columns": 7,
        "rows": 602
       }
      },
      "text/html": [
       "<div>\n",
       "<style scoped>\n",
       "    .dataframe tbody tr th:only-of-type {\n",
       "        vertical-align: middle;\n",
       "    }\n",
       "\n",
       "    .dataframe tbody tr th {\n",
       "        vertical-align: top;\n",
       "    }\n",
       "\n",
       "    .dataframe thead th {\n",
       "        text-align: right;\n",
       "    }\n",
       "</style>\n",
       "<table border=\"1\" class=\"dataframe\">\n",
       "  <thead>\n",
       "    <tr style=\"text-align: right;\">\n",
       "      <th></th>\n",
       "      <th>Data</th>\n",
       "      <th>Último</th>\n",
       "      <th>Abertura</th>\n",
       "      <th>Máxima</th>\n",
       "      <th>Mínima</th>\n",
       "      <th>Vol.</th>\n",
       "      <th>Var%</th>\n",
       "    </tr>\n",
       "  </thead>\n",
       "  <tbody>\n",
       "    <tr>\n",
       "      <th>0</th>\n",
       "      <td>2025-06-04</td>\n",
       "      <td>137.002</td>\n",
       "      <td>137.547</td>\n",
       "      <td>138.797</td>\n",
       "      <td>136.695</td>\n",
       "      <td>1.020000e+09</td>\n",
       "      <td>-0,40%</td>\n",
       "    </tr>\n",
       "    <tr>\n",
       "      <th>1</th>\n",
       "      <td>2025-06-03</td>\n",
       "      <td>137.546</td>\n",
       "      <td>136.787</td>\n",
       "      <td>137.672</td>\n",
       "      <td>136.175</td>\n",
       "      <td>9.700000e+11</td>\n",
       "      <td>0,56%</td>\n",
       "    </tr>\n",
       "    <tr>\n",
       "      <th>2</th>\n",
       "      <td>2025-06-02</td>\n",
       "      <td>136.787</td>\n",
       "      <td>137.026</td>\n",
       "      <td>138.471</td>\n",
       "      <td>136.483</td>\n",
       "      <td>9.100000e+11</td>\n",
       "      <td>-0,18%</td>\n",
       "    </tr>\n",
       "    <tr>\n",
       "      <th>3</th>\n",
       "      <td>2025-05-30</td>\n",
       "      <td>137.027</td>\n",
       "      <td>138.546</td>\n",
       "      <td>138.637</td>\n",
       "      <td>136.726</td>\n",
       "      <td>1.514000e+12</td>\n",
       "      <td>-1,09%</td>\n",
       "    </tr>\n",
       "    <tr>\n",
       "      <th>4</th>\n",
       "      <td>2025-05-29</td>\n",
       "      <td>138.534</td>\n",
       "      <td>138.869</td>\n",
       "      <td>139.108</td>\n",
       "      <td>137.993</td>\n",
       "      <td>8.830000e+11</td>\n",
       "      <td>-0,25%</td>\n",
       "    </tr>\n",
       "    <tr>\n",
       "      <th>...</th>\n",
       "      <td>...</td>\n",
       "      <td>...</td>\n",
       "      <td>...</td>\n",
       "      <td>...</td>\n",
       "      <td>...</td>\n",
       "      <td>...</td>\n",
       "      <td>...</td>\n",
       "    </tr>\n",
       "    <tr>\n",
       "      <th>597</th>\n",
       "      <td>2023-01-10</td>\n",
       "      <td>110.817</td>\n",
       "      <td>109.129</td>\n",
       "      <td>111.193</td>\n",
       "      <td>108.478</td>\n",
       "      <td>1.370000e+09</td>\n",
       "      <td>1,55%</td>\n",
       "    </tr>\n",
       "    <tr>\n",
       "      <th>598</th>\n",
       "      <td>2023-01-09</td>\n",
       "      <td>109.130</td>\n",
       "      <td>108.964</td>\n",
       "      <td>109.938</td>\n",
       "      <td>108.134</td>\n",
       "      <td>1.205000e+09</td>\n",
       "      <td>0,15%</td>\n",
       "    </tr>\n",
       "    <tr>\n",
       "      <th>599</th>\n",
       "      <td>2023-01-06</td>\n",
       "      <td>108.964</td>\n",
       "      <td>107.642</td>\n",
       "      <td>109.433</td>\n",
       "      <td>107.642</td>\n",
       "      <td>1.263000e+09</td>\n",
       "      <td>1,23%</td>\n",
       "    </tr>\n",
       "    <tr>\n",
       "      <th>600</th>\n",
       "      <td>2023-01-05</td>\n",
       "      <td>107.641</td>\n",
       "      <td>105.336</td>\n",
       "      <td>107.743</td>\n",
       "      <td>105.333</td>\n",
       "      <td>1.551000e+09</td>\n",
       "      <td>2,19%</td>\n",
       "    </tr>\n",
       "    <tr>\n",
       "      <th>601</th>\n",
       "      <td>2023-01-04</td>\n",
       "      <td>105.334</td>\n",
       "      <td>104.167</td>\n",
       "      <td>105.627</td>\n",
       "      <td>103.915</td>\n",
       "      <td>1.445000e+09</td>\n",
       "      <td>1,12%</td>\n",
       "    </tr>\n",
       "  </tbody>\n",
       "</table>\n",
       "<p>602 rows × 7 columns</p>\n",
       "</div>"
      ],
      "text/plain": [
       "          Data   Último  Abertura   Máxima   Mínima          Vol.    Var%\n",
       "0   2025-06-04  137.002   137.547  138.797  136.695  1.020000e+09  -0,40%\n",
       "1   2025-06-03  137.546   136.787  137.672  136.175  9.700000e+11   0,56%\n",
       "2   2025-06-02  136.787   137.026  138.471  136.483  9.100000e+11  -0,18%\n",
       "3   2025-05-30  137.027   138.546  138.637  136.726  1.514000e+12  -1,09%\n",
       "4   2025-05-29  138.534   138.869  139.108  137.993  8.830000e+11  -0,25%\n",
       "..         ...      ...       ...      ...      ...           ...     ...\n",
       "597 2023-01-10  110.817   109.129  111.193  108.478  1.370000e+09   1,55%\n",
       "598 2023-01-09  109.130   108.964  109.938  108.134  1.205000e+09   0,15%\n",
       "599 2023-01-06  108.964   107.642  109.433  107.642  1.263000e+09   1,23%\n",
       "600 2023-01-05  107.641   105.336  107.743  105.333  1.551000e+09   2,19%\n",
       "601 2023-01-04  105.334   104.167  105.627  103.915  1.445000e+09   1,12%\n",
       "\n",
       "[602 rows x 7 columns]"
      ]
     },
     "execution_count": 13,
     "metadata": {},
     "output_type": "execute_result"
    }
   ],
   "source": [
    "df_ibov_copia"
   ]
  },
  {
   "cell_type": "code",
   "execution_count": 14,
   "id": "5f0dca68",
   "metadata": {},
   "outputs": [],
   "source": [
    "# Substitui os caracteres (%) por (vázio) e (,) por (.) e converte tipo objeto para float \n",
    "df_ibov_copia['Var%'] = df_ibov_copia['Var%'].str.replace('%', '').str.replace(',', '.').astype(float)"
   ]
  },
  {
   "cell_type": "code",
   "execution_count": 15,
   "id": "0ba486e8",
   "metadata": {},
   "outputs": [
    {
     "name": "stdout",
     "output_type": "stream",
     "text": [
      "Vol.    float64\n",
      "Var%    float64\n",
      "dtype: object\n",
      "           Vol.  Var%\n",
      "0  1.020000e+09 -0.40\n",
      "1  9.700000e+11  0.56\n",
      "2  9.100000e+11 -0.18\n",
      "3  1.514000e+12 -1.09\n",
      "4  8.830000e+11 -0.25\n"
     ]
    }
   ],
   "source": [
    "print(df_ibov_copia[['Vol.', 'Var%']].dtypes)\n",
    "print(df_ibov_copia[['Vol.', 'Var%']].head())"
   ]
  },
  {
   "cell_type": "markdown",
   "id": "b85dcf37",
   "metadata": {},
   "source": [
    "# Evoluindo na análise exploratória com gráficos"
   ]
  },
  {
   "cell_type": "code",
   "execution_count": 16,
   "id": "a1805be8",
   "metadata": {},
   "outputs": [
    {
     "data": {
      "application/vnd.microsoft.datawrangler.viewer.v0+json": {
       "columns": [
        {
         "name": "index",
         "rawType": "object",
         "type": "string"
        },
        {
         "name": "Data",
         "rawType": "object",
         "type": "unknown"
        },
        {
         "name": "Último",
         "rawType": "float64",
         "type": "float"
        },
        {
         "name": "Abertura",
         "rawType": "float64",
         "type": "float"
        },
        {
         "name": "Máxima",
         "rawType": "float64",
         "type": "float"
        },
        {
         "name": "Mínima",
         "rawType": "float64",
         "type": "float"
        },
        {
         "name": "Vol.",
         "rawType": "float64",
         "type": "float"
        },
        {
         "name": "Var%",
         "rawType": "float64",
         "type": "float"
        }
       ],
       "ref": "b62ed6d1-6e5a-4c0f-9b61-d66976c194b4",
       "rows": [
        [
         "count",
         "602",
         "602.0",
         "602.0",
         "602.0",
         "602.0",
         "602.0",
         "602.0"
        ],
        [
         "mean",
         "2024-03-18 23:28:54.219269120",
         "122.67992358803987",
         "122.6257906976744",
         "123.47487209302327",
         "121.86729401993357",
         "183685664451.82724",
         "0.050166112956810636"
        ],
        [
         "min",
         "2023-01-04 00:00:00",
         "97.926",
         "97.926",
         "99.258",
         "96.997",
         "433000000.0",
         "-3.15"
        ],
        [
         "25%",
         "2023-08-10 06:00:00",
         "117.0685",
         "117.03125",
         "117.9605",
         "116.177",
         "920250000.0",
         "-0.5475000000000001"
        ],
        [
         "50%",
         "2024-03-20 12:00:00",
         "125.3675",
         "125.293",
         "126.206",
         "124.56700000000001",
         "1110500000.0",
         "0.03"
        ],
        [
         "75%",
         "2024-10-21 18:00:00",
         "129.1665",
         "129.125",
         "129.85225000000003",
         "128.209",
         "1488500000.0",
         "0.65"
        ],
        [
         "max",
         "2025-06-04 00:00:00",
         "140.11",
         "140.109",
         "140.382",
         "138.966",
         "2487000000000.0",
         "4.29"
        ],
        [
         "std",
         null,
         "9.312726503514405",
         "9.324911877519666",
         "9.25754418809839",
         "9.368048756407427",
         "419974356487.352",
         "0.9665303947494615"
        ]
       ],
       "shape": {
        "columns": 7,
        "rows": 8
       }
      },
      "text/html": [
       "<div>\n",
       "<style scoped>\n",
       "    .dataframe tbody tr th:only-of-type {\n",
       "        vertical-align: middle;\n",
       "    }\n",
       "\n",
       "    .dataframe tbody tr th {\n",
       "        vertical-align: top;\n",
       "    }\n",
       "\n",
       "    .dataframe thead th {\n",
       "        text-align: right;\n",
       "    }\n",
       "</style>\n",
       "<table border=\"1\" class=\"dataframe\">\n",
       "  <thead>\n",
       "    <tr style=\"text-align: right;\">\n",
       "      <th></th>\n",
       "      <th>Data</th>\n",
       "      <th>Último</th>\n",
       "      <th>Abertura</th>\n",
       "      <th>Máxima</th>\n",
       "      <th>Mínima</th>\n",
       "      <th>Vol.</th>\n",
       "      <th>Var%</th>\n",
       "    </tr>\n",
       "  </thead>\n",
       "  <tbody>\n",
       "    <tr>\n",
       "      <th>count</th>\n",
       "      <td>602</td>\n",
       "      <td>602.000000</td>\n",
       "      <td>602.000000</td>\n",
       "      <td>602.000000</td>\n",
       "      <td>602.000000</td>\n",
       "      <td>6.020000e+02</td>\n",
       "      <td>602.000000</td>\n",
       "    </tr>\n",
       "    <tr>\n",
       "      <th>mean</th>\n",
       "      <td>2024-03-18 23:28:54.219269120</td>\n",
       "      <td>122.679924</td>\n",
       "      <td>122.625791</td>\n",
       "      <td>123.474872</td>\n",
       "      <td>121.867294</td>\n",
       "      <td>1.836857e+11</td>\n",
       "      <td>0.050166</td>\n",
       "    </tr>\n",
       "    <tr>\n",
       "      <th>min</th>\n",
       "      <td>2023-01-04 00:00:00</td>\n",
       "      <td>97.926000</td>\n",
       "      <td>97.926000</td>\n",
       "      <td>99.258000</td>\n",
       "      <td>96.997000</td>\n",
       "      <td>4.330000e+08</td>\n",
       "      <td>-3.150000</td>\n",
       "    </tr>\n",
       "    <tr>\n",
       "      <th>25%</th>\n",
       "      <td>2023-08-10 06:00:00</td>\n",
       "      <td>117.068500</td>\n",
       "      <td>117.031250</td>\n",
       "      <td>117.960500</td>\n",
       "      <td>116.177000</td>\n",
       "      <td>9.202500e+08</td>\n",
       "      <td>-0.547500</td>\n",
       "    </tr>\n",
       "    <tr>\n",
       "      <th>50%</th>\n",
       "      <td>2024-03-20 12:00:00</td>\n",
       "      <td>125.367500</td>\n",
       "      <td>125.293000</td>\n",
       "      <td>126.206000</td>\n",
       "      <td>124.567000</td>\n",
       "      <td>1.110500e+09</td>\n",
       "      <td>0.030000</td>\n",
       "    </tr>\n",
       "    <tr>\n",
       "      <th>75%</th>\n",
       "      <td>2024-10-21 18:00:00</td>\n",
       "      <td>129.166500</td>\n",
       "      <td>129.125000</td>\n",
       "      <td>129.852250</td>\n",
       "      <td>128.209000</td>\n",
       "      <td>1.488500e+09</td>\n",
       "      <td>0.650000</td>\n",
       "    </tr>\n",
       "    <tr>\n",
       "      <th>max</th>\n",
       "      <td>2025-06-04 00:00:00</td>\n",
       "      <td>140.110000</td>\n",
       "      <td>140.109000</td>\n",
       "      <td>140.382000</td>\n",
       "      <td>138.966000</td>\n",
       "      <td>2.487000e+12</td>\n",
       "      <td>4.290000</td>\n",
       "    </tr>\n",
       "    <tr>\n",
       "      <th>std</th>\n",
       "      <td>NaN</td>\n",
       "      <td>9.312727</td>\n",
       "      <td>9.324912</td>\n",
       "      <td>9.257544</td>\n",
       "      <td>9.368049</td>\n",
       "      <td>4.199744e+11</td>\n",
       "      <td>0.966530</td>\n",
       "    </tr>\n",
       "  </tbody>\n",
       "</table>\n",
       "</div>"
      ],
      "text/plain": [
       "                                Data      Último    Abertura      Máxima  \\\n",
       "count                            602  602.000000  602.000000  602.000000   \n",
       "mean   2024-03-18 23:28:54.219269120  122.679924  122.625791  123.474872   \n",
       "min              2023-01-04 00:00:00   97.926000   97.926000   99.258000   \n",
       "25%              2023-08-10 06:00:00  117.068500  117.031250  117.960500   \n",
       "50%              2024-03-20 12:00:00  125.367500  125.293000  126.206000   \n",
       "75%              2024-10-21 18:00:00  129.166500  129.125000  129.852250   \n",
       "max              2025-06-04 00:00:00  140.110000  140.109000  140.382000   \n",
       "std                              NaN    9.312727    9.324912    9.257544   \n",
       "\n",
       "           Mínima          Vol.        Var%  \n",
       "count  602.000000  6.020000e+02  602.000000  \n",
       "mean   121.867294  1.836857e+11    0.050166  \n",
       "min     96.997000  4.330000e+08   -3.150000  \n",
       "25%    116.177000  9.202500e+08   -0.547500  \n",
       "50%    124.567000  1.110500e+09    0.030000  \n",
       "75%    128.209000  1.488500e+09    0.650000  \n",
       "max    138.966000  2.487000e+12    4.290000  \n",
       "std      9.368049  4.199744e+11    0.966530  "
      ]
     },
     "execution_count": 16,
     "metadata": {},
     "output_type": "execute_result"
    }
   ],
   "source": [
    "df_ibov_copia.describe()"
   ]
  },
  {
   "cell_type": "code",
   "execution_count": 17,
   "id": "3db9be7d",
   "metadata": {},
   "outputs": [
    {
     "data": {
      "text/plain": [
       "Text(0, 0.5, 'Valor em Porcentagem')"
      ]
     },
     "execution_count": 17,
     "metadata": {},
     "output_type": "execute_result"
    },
    {
     "data": {
      "image/png": "[encoded data removed]",
      "text/plain": [
       "<Figure size 2400x2000 with 6 Axes>"
      ]
     },
     "metadata": {},
     "output_type": "display_data"
    }
   ],
   "source": [
    "# Avaliando Outliers com Boxplot\n",
    "\n",
    "plt.figure(figsize=(24,20))\n",
    "\n",
    "plt.subplot(4, 2, 1) # Parametros -> linhas = 4, colunas = 2, posição = 1(1º gráfico)\n",
    "fig = df_ibov_copia.boxplot(column='Último')\n",
    "fig.set_title('')\n",
    "fig.set_ylabel('Valor em Pontos')\n",
    "\n",
    "plt.subplot(4, 2, 2) # Parametros -> linhas = 4, colunas = 2, posição = 1(1º gráfico)\n",
    "fig = df_ibov_copia.boxplot(column='Abertura')\n",
    "fig.set_title('')\n",
    "fig.set_ylabel('Valor em Pontos')\n",
    "\n",
    "plt.subplot(4, 2, 3) # Parametros -> linhas = 4, colunas = 2, posição = 1(1º gráfico)\n",
    "fig = df_ibov_copia.boxplot(column='Máxima')\n",
    "fig.set_title('')\n",
    "fig.set_ylabel('Valor em Pontos')\n",
    "\n",
    "plt.subplot(4, 2, 4) # Parametros -> linhas = 4, colunas = 2, posição = 1(1º gráfico)\n",
    "fig = df_ibov_copia.boxplot(column='Mínima')\n",
    "fig.set_title('')\n",
    "fig.set_ylabel('Valor em Pontos')\n",
    "\n",
    "plt.subplot(4, 2, 5) # Parametros -> linhas = 4, colunas = 2, posição = 1(1º gráfico)\n",
    "fig = df_ibov_copia.boxplot(column='Vol.')\n",
    "fig.set_title('')\n",
    "fig.set_ylabel('Valor em R$')\n",
    "\n",
    "plt.subplot(4, 2, 6) # Parametros -> linhas = 4, colunas = 2, posição = 1(1º gráfico)\n",
    "fig = df_ibov_copia.boxplot(column='Var%')\n",
    "fig.set_title('')\n",
    "fig.set_ylabel('Valor em Porcentagem')"
   ]
  },
  {
   "cell_type": "code",
   "execution_count": 18,
   "id": "ba656c95",
   "metadata": {},
   "outputs": [
    {
     "data": {
      "application/vnd.microsoft.datawrangler.viewer.v0+json": {
       "columns": [
        {
         "name": "index",
         "rawType": "int64",
         "type": "integer"
        },
        {
         "name": "Data",
         "rawType": "datetime64[ns]",
         "type": "datetime"
        },
        {
         "name": "Último",
         "rawType": "float64",
         "type": "float"
        },
        {
         "name": "Abertura",
         "rawType": "float64",
         "type": "float"
        },
        {
         "name": "Máxima",
         "rawType": "float64",
         "type": "float"
        },
        {
         "name": "Mínima",
         "rawType": "float64",
         "type": "float"
        },
        {
         "name": "Vol.",
         "rawType": "float64",
         "type": "float"
        },
        {
         "name": "Var%",
         "rawType": "float64",
         "type": "float"
        },
        {
         "name": "Mes_Ano",
         "rawType": "object",
         "type": "string"
        }
       ],
       "ref": "7c98397a-325e-48eb-8d4e-4d976b6ee4bf",
       "rows": [
        [
         "601",
         "2023-01-04 00:00:00",
         "105.334",
         "104.167",
         "105.627",
         "103.915",
         "1445000000.0",
         "1.12",
         "2023-01"
        ],
        [
         "582",
         "2023-01-31 00:00:00",
         "113.431",
         "112.273",
         "113.691",
         "112.145",
         "1290000000.0",
         "1.03",
         "2023-01"
        ],
        [
         "583",
         "2023-01-30 00:00:00",
         "112.273",
         "112.319",
         "112.92",
         "111.824",
         "1127000000.0",
         "-0.04",
         "2023-01"
        ],
        [
         "584",
         "2023-01-27 00:00:00",
         "112.316",
         "114.178",
         "114.191",
         "112.044",
         "1061000000.0",
         "-1.63",
         "2023-01"
        ],
        [
         "585",
         "2023-01-26 00:00:00",
         "114.178",
         "114.271",
         "114.835",
         "113.591",
         "1092000000.0",
         "-0.08",
         "2023-01"
        ],
        [
         "586",
         "2023-01-25 00:00:00",
         "114.27",
         "113.028",
         "114.426",
         "111.927",
         "1141000000.0",
         "1.1",
         "2023-01"
        ],
        [
         "587",
         "2023-01-24 00:00:00",
         "113.028",
         "111.746",
         "113.04",
         "111.669",
         "1155000000.0",
         "1.16",
         "2023-01"
        ],
        [
         "588",
         "2023-01-23 00:00:00",
         "111.737",
         "112.041",
         "113.061",
         "111.542",
         "1370000000.0",
         "-0.27",
         "2023-01"
        ],
        [
         "589",
         "2023-01-20 00:00:00",
         "112.041",
         "112.922",
         "113.025",
         "111.735",
         "1544000000.0",
         "-0.78",
         "2023-01"
        ],
        [
         "590",
         "2023-01-19 00:00:00",
         "112.922",
         "112.219",
         "113.172",
         "111.307",
         "1559000000.0",
         "0.62",
         "2023-01"
        ],
        [
         "600",
         "2023-01-05 00:00:00",
         "107.641",
         "105.336",
         "107.743",
         "105.333",
         "1551000000.0",
         "2.19",
         "2023-01"
        ],
        [
         "592",
         "2023-01-17 00:00:00",
         "111.439",
         "109.214",
         "111.577",
         "109.214",
         "1436000000.0",
         "2.04",
         "2023-01"
        ],
        [
         "599",
         "2023-01-06 00:00:00",
         "108.964",
         "107.642",
         "109.433",
         "107.642",
         "1263000000.0",
         "1.23",
         "2023-01"
        ],
        [
         "598",
         "2023-01-09 00:00:00",
         "109.13",
         "108.964",
         "109.938",
         "108.134",
         "1205000000.0",
         "0.15",
         "2023-01"
        ],
        [
         "597",
         "2023-01-10 00:00:00",
         "110.817",
         "109.129",
         "111.193",
         "108.478",
         "1370000000.0",
         "1.55",
         "2023-01"
        ],
        [
         "591",
         "2023-01-18 00:00:00",
         "112.228",
         "111.442",
         "113.306",
         "111.441",
         "1413000000.0",
         "0.71",
         "2023-01"
        ],
        [
         "595",
         "2023-01-12 00:00:00",
         "111.85",
         "112.516",
         "113.129",
         "110.982",
         "1984000000.0",
         "-0.59",
         "2023-01"
        ],
        [
         "594",
         "2023-01-13 00:00:00",
         "110.916",
         "111.843",
         "111.847",
         "110.428",
         "1594000000.0",
         "-0.84",
         "2023-01"
        ],
        [
         "593",
         "2023-01-16 00:00:00",
         "109.213",
         "110.908",
         "110.908",
         "108.753",
         "1251000000.0",
         "-1.54",
         "2023-01"
        ],
        [
         "596",
         "2023-01-11 00:00:00",
         "112.517",
         "110.816",
         "112.552",
         "110.752",
         "1446000000.0",
         "1.53",
         "2023-01"
        ],
        [
         "570",
         "2023-02-16 00:00:00",
         "109.941",
         "109.599",
         "110.437",
         "108.378",
         "1300000000.0",
         "0.31",
         "2023-02"
        ],
        [
         "564",
         "2023-02-28 00:00:00",
         "104.932",
         "105.706",
         "106.794",
         "104.932",
         "1567000000.0",
         "-0.74",
         "2023-02"
        ],
        [
         "565",
         "2023-02-27 00:00:00",
         "105.711",
         "105.807",
         "106.402",
         "105.227",
         "957000000.0",
         "-0.08",
         "2023-02"
        ],
        [
         "566",
         "2023-02-24 00:00:00",
         "105.798",
         "107.582",
         "107.611",
         "105.36",
         "1022000000.0",
         "-1.67",
         "2023-02"
        ],
        [
         "567",
         "2023-02-23 00:00:00",
         "107.593",
         "107.152",
         "108.663",
         "106.731",
         "1146000000.0",
         "0.41",
         "2023-02"
        ],
        [
         "568",
         "2023-02-22 00:00:00",
         "107.152",
         "109.174",
         "109.174",
         "106.72",
         "936000000.0",
         "-1.85",
         "2023-02"
        ],
        [
         "569",
         "2023-02-17 00:00:00",
         "109.177",
         "109.941",
         "109.941",
         "108.968",
         "1006000000.0",
         "-0.7",
         "2023-02"
        ],
        [
         "572",
         "2023-02-14 00:00:00",
         "107.849",
         "108.839",
         "109.564",
         "107.557",
         "1189000000.0",
         "-0.91",
         "2023-02"
        ],
        [
         "571",
         "2023-02-15 00:00:00",
         "109.6",
         "107.849",
         "110.21",
         "107.267",
         "1550000000.0",
         "1.62",
         "2023-02"
        ],
        [
         "574",
         "2023-02-10 00:00:00",
         "108.078",
         "108.002",
         "108.647",
         "107.62",
         "1446000000.0",
         "0.07",
         "2023-02"
        ],
        [
         "575",
         "2023-02-09 00:00:00",
         "108.008",
         "109.952",
         "110.046",
         "107.767",
         "1296000000.0",
         "-1.77",
         "2023-02"
        ],
        [
         "576",
         "2023-02-08 00:00:00",
         "109.951",
         "107.832",
         "110.175",
         "107.83",
         "1384000000.0",
         "1.97",
         "2023-02"
        ],
        [
         "577",
         "2023-02-07 00:00:00",
         "107.83",
         "108.727",
         "109.037",
         "107.234",
         "1296000000.0",
         "-0.82",
         "2023-02"
        ],
        [
         "578",
         "2023-02-06 00:00:00",
         "108.722",
         "108.518",
         "108.744",
         "107.416",
         "1151000000.0",
         "0.18",
         "2023-02"
        ],
        [
         "579",
         "2023-02-03 00:00:00",
         "108.523",
         "110.141",
         "110.57",
         "108.185",
         "1324000000.0",
         "-1.47",
         "2023-02"
        ],
        [
         "580",
         "2023-02-02 00:00:00",
         "110.141",
         "112.072",
         "112.943",
         "109.747",
         "1524000000.0",
         "-1.72",
         "2023-02"
        ],
        [
         "581",
         "2023-02-01 00:00:00",
         "112.074",
         "113.43",
         "113.598",
         "110.729",
         "1782000000.0",
         "-1.2",
         "2023-02"
        ],
        [
         "573",
         "2023-02-13 00:00:00",
         "108.836",
         "108.074",
         "109.193",
         "107.42",
         "997000000.0",
         "0.7",
         "2023-02"
        ],
        [
         "549",
         "2023-03-21 00:00:00",
         "100.998",
         "100.923",
         "101.67",
         "100.923",
         "967000000.0",
         "0.07",
         "2023-03"
        ],
        [
         "548",
         "2023-03-22 00:00:00",
         "100.221",
         "100.998",
         "101.888",
         "100.129",
         "1150000000.0",
         "-0.77",
         "2023-03"
        ],
        [
         "547",
         "2023-03-23 00:00:00",
         "97.926",
         "100.221",
         "101.126",
         "96.997",
         "1566000000.0",
         "-2.29",
         "2023-03"
        ],
        [
         "546",
         "2023-03-24 00:00:00",
         "98.829",
         "97.926",
         "99.258",
         "97.688",
         "1241000000.0",
         "0.92",
         "2023-03"
        ],
        [
         "541",
         "2023-03-31 00:00:00",
         "101.882",
         "103.714",
         "104.041",
         "101.476",
         "1512000000.0",
         "-1.77",
         "2023-03"
        ],
        [
         "544",
         "2023-03-28 00:00:00",
         "101.185",
         "99.672",
         "101.559",
         "99.488",
         "1350000000.0",
         "1.52",
         "2023-03"
        ],
        [
         "543",
         "2023-03-29 00:00:00",
         "101.793",
         "101.185",
         "102.213",
         "100.248",
         "1246000000.0",
         "0.6",
         "2023-03"
        ],
        [
         "542",
         "2023-03-30 00:00:00",
         "103.713",
         "101.796",
         "104.085",
         "101.796",
         "1490000000.0",
         "1.89",
         "2023-03"
        ],
        [
         "545",
         "2023-03-27 00:00:00",
         "99.67",
         "98.833",
         "99.997",
         "98.833",
         "999000000.0",
         "0.85",
         "2023-03"
        ],
        [
         "550",
         "2023-03-20 00:00:00",
         "100.923",
         "101.982",
         "102.328",
         "100.679",
         "1090000000.0",
         "-1.04",
         "2023-03"
        ],
        [
         "551",
         "2023-03-17 00:00:00",
         "101.982",
         "103.434",
         "103.434",
         "101.664",
         "1756000000.0",
         "-1.4",
         "2023-03"
        ],
        [
         "562",
         "2023-03-02 00:00:00",
         "103.326",
         "104.375",
         "104.912",
         "103.321",
         "1474000000.0",
         "-1.01",
         "2023-03"
        ]
       ],
       "shape": {
        "columns": 8,
        "rows": 602
       }
      },
      "text/html": [
       "<div>\n",
       "<style scoped>\n",
       "    .dataframe tbody tr th:only-of-type {\n",
       "        vertical-align: middle;\n",
       "    }\n",
       "\n",
       "    .dataframe tbody tr th {\n",
       "        vertical-align: top;\n",
       "    }\n",
       "\n",
       "    .dataframe thead th {\n",
       "        text-align: right;\n",
       "    }\n",
       "</style>\n",
       "<table border=\"1\" class=\"dataframe\">\n",
       "  <thead>\n",
       "    <tr style=\"text-align: right;\">\n",
       "      <th></th>\n",
       "      <th>Data</th>\n",
       "      <th>Último</th>\n",
       "      <th>Abertura</th>\n",
       "      <th>Máxima</th>\n",
       "      <th>Mínima</th>\n",
       "      <th>Vol.</th>\n",
       "      <th>Var%</th>\n",
       "      <th>Mes_Ano</th>\n",
       "    </tr>\n",
       "  </thead>\n",
       "  <tbody>\n",
       "    <tr>\n",
       "      <th>601</th>\n",
       "      <td>2023-01-04</td>\n",
       "      <td>105.334</td>\n",
       "      <td>104.167</td>\n",
       "      <td>105.627</td>\n",
       "      <td>103.915</td>\n",
       "      <td>1.445000e+09</td>\n",
       "      <td>1.12</td>\n",
       "      <td>2023-01</td>\n",
       "    </tr>\n",
       "    <tr>\n",
       "      <th>582</th>\n",
       "      <td>2023-01-31</td>\n",
       "      <td>113.431</td>\n",
       "      <td>112.273</td>\n",
       "      <td>113.691</td>\n",
       "      <td>112.145</td>\n",
       "      <td>1.290000e+09</td>\n",
       "      <td>1.03</td>\n",
       "      <td>2023-01</td>\n",
       "    </tr>\n",
       "    <tr>\n",
       "      <th>583</th>\n",
       "      <td>2023-01-30</td>\n",
       "      <td>112.273</td>\n",
       "      <td>112.319</td>\n",
       "      <td>112.920</td>\n",
       "      <td>111.824</td>\n",
       "      <td>1.127000e+09</td>\n",
       "      <td>-0.04</td>\n",
       "      <td>2023-01</td>\n",
       "    </tr>\n",
       "    <tr>\n",
       "      <th>584</th>\n",
       "      <td>2023-01-27</td>\n",
       "      <td>112.316</td>\n",
       "      <td>114.178</td>\n",
       "      <td>114.191</td>\n",
       "      <td>112.044</td>\n",
       "      <td>1.061000e+09</td>\n",
       "      <td>-1.63</td>\n",
       "      <td>2023-01</td>\n",
       "    </tr>\n",
       "    <tr>\n",
       "      <th>585</th>\n",
       "      <td>2023-01-26</td>\n",
       "      <td>114.178</td>\n",
       "      <td>114.271</td>\n",
       "      <td>114.835</td>\n",
       "      <td>113.591</td>\n",
       "      <td>1.092000e+09</td>\n",
       "      <td>-0.08</td>\n",
       "      <td>2023-01</td>\n",
       "    </tr>\n",
       "    <tr>\n",
       "      <th>...</th>\n",
       "      <td>...</td>\n",
       "      <td>...</td>\n",
       "      <td>...</td>\n",
       "      <td>...</td>\n",
       "      <td>...</td>\n",
       "      <td>...</td>\n",
       "      <td>...</td>\n",
       "      <td>...</td>\n",
       "    </tr>\n",
       "    <tr>\n",
       "      <th>23</th>\n",
       "      <td>2025-05-02</td>\n",
       "      <td>135.134</td>\n",
       "      <td>135.067</td>\n",
       "      <td>135.275</td>\n",
       "      <td>134.355</td>\n",
       "      <td>1.274000e+12</td>\n",
       "      <td>0.05</td>\n",
       "      <td>2025-05</td>\n",
       "    </tr>\n",
       "    <tr>\n",
       "      <th>13</th>\n",
       "      <td>2025-05-16</td>\n",
       "      <td>139.187</td>\n",
       "      <td>139.335</td>\n",
       "      <td>139.335</td>\n",
       "      <td>137.713</td>\n",
       "      <td>1.211000e+12</td>\n",
       "      <td>-0.11</td>\n",
       "      <td>2025-05</td>\n",
       "    </tr>\n",
       "    <tr>\n",
       "      <th>2</th>\n",
       "      <td>2025-06-02</td>\n",
       "      <td>136.787</td>\n",
       "      <td>137.026</td>\n",
       "      <td>138.471</td>\n",
       "      <td>136.483</td>\n",
       "      <td>9.100000e+11</td>\n",
       "      <td>-0.18</td>\n",
       "      <td>2025-06</td>\n",
       "    </tr>\n",
       "    <tr>\n",
       "      <th>1</th>\n",
       "      <td>2025-06-03</td>\n",
       "      <td>137.546</td>\n",
       "      <td>136.787</td>\n",
       "      <td>137.672</td>\n",
       "      <td>136.175</td>\n",
       "      <td>9.700000e+11</td>\n",
       "      <td>0.56</td>\n",
       "      <td>2025-06</td>\n",
       "    </tr>\n",
       "    <tr>\n",
       "      <th>0</th>\n",
       "      <td>2025-06-04</td>\n",
       "      <td>137.002</td>\n",
       "      <td>137.547</td>\n",
       "      <td>138.797</td>\n",
       "      <td>136.695</td>\n",
       "      <td>1.020000e+09</td>\n",
       "      <td>-0.40</td>\n",
       "      <td>2025-06</td>\n",
       "    </tr>\n",
       "  </tbody>\n",
       "</table>\n",
       "<p>602 rows × 8 columns</p>\n",
       "</div>"
      ],
      "text/plain": [
       "          Data   Último  Abertura   Máxima   Mínima          Vol.  Var%  \\\n",
       "601 2023-01-04  105.334   104.167  105.627  103.915  1.445000e+09  1.12   \n",
       "582 2023-01-31  113.431   112.273  113.691  112.145  1.290000e+09  1.03   \n",
       "583 2023-01-30  112.273   112.319  112.920  111.824  1.127000e+09 -0.04   \n",
       "584 2023-01-27  112.316   114.178  114.191  112.044  1.061000e+09 -1.63   \n",
       "585 2023-01-26  114.178   114.271  114.835  113.591  1.092000e+09 -0.08   \n",
       "..         ...      ...       ...      ...      ...           ...   ...   \n",
       "23  2025-05-02  135.134   135.067  135.275  134.355  1.274000e+12  0.05   \n",
       "13  2025-05-16  139.187   139.335  139.335  137.713  1.211000e+12 -0.11   \n",
       "2   2025-06-02  136.787   137.026  138.471  136.483  9.100000e+11 -0.18   \n",
       "1   2025-06-03  137.546   136.787  137.672  136.175  9.700000e+11  0.56   \n",
       "0   2025-06-04  137.002   137.547  138.797  136.695  1.020000e+09 -0.40   \n",
       "\n",
       "     Mes_Ano  \n",
       "601  2023-01  \n",
       "582  2023-01  \n",
       "583  2023-01  \n",
       "584  2023-01  \n",
       "585  2023-01  \n",
       "..       ...  \n",
       "23   2025-05  \n",
       "13   2025-05  \n",
       "2    2025-06  \n",
       "1    2025-06  \n",
       "0    2025-06  \n",
       "\n",
       "[602 rows x 8 columns]"
      ]
     },
     "execution_count": 18,
     "metadata": {},
     "output_type": "execute_result"
    }
   ],
   "source": [
    "df_ibov_copia['Mes_Ano'] = df_ibov_copia['Data'].dt.to_period('M').astype(str)\n",
    "df_ibov_copia.sort_values('Mes_Ano')"
   ]
  },
  {
   "cell_type": "code",
   "execution_count": 19,
   "id": "5c957b8a",
   "metadata": {},
   "outputs": [
    {
     "data": {
      "application/vnd.microsoft.datawrangler.viewer.v0+json": {
       "columns": [
        {
         "name": "index",
         "rawType": "int64",
         "type": "integer"
        },
        {
         "name": "Data",
         "rawType": "datetime64[ns]",
         "type": "datetime"
        },
        {
         "name": "Último",
         "rawType": "float64",
         "type": "float"
        },
        {
         "name": "Abertura",
         "rawType": "float64",
         "type": "float"
        },
        {
         "name": "Máxima",
         "rawType": "float64",
         "type": "float"
        },
        {
         "name": "Mínima",
         "rawType": "float64",
         "type": "float"
        },
        {
         "name": "Vol.",
         "rawType": "float64",
         "type": "float"
        },
        {
         "name": "Var%",
         "rawType": "float64",
         "type": "float"
        },
        {
         "name": "Mes_Ano",
         "rawType": "object",
         "type": "string"
        }
       ],
       "ref": "ba2c7c23-4390-4631-ac60-881e2371e92d",
       "rows": [
        [
         "160",
         "2024-10-08 00:00:00",
         "131.512",
         "132.016",
         "132.016",
         "130.371",
         "909000000.0",
         "-0.38",
         "2024-10"
        ],
        [
         "161",
         "2024-10-07 00:00:00",
         "132.018",
         "131.792",
         "132.943",
         "131.676",
         "770000000.0",
         "0.17",
         "2024-10"
        ],
        [
         "162",
         "2024-10-04 00:00:00",
         "131.792",
         "131.672",
         "131.936",
         "131.156",
         "705000000.0",
         "0.09",
         "2024-10"
        ],
        [
         "163",
         "2024-10-03 00:00:00",
         "131.672",
         "133.514",
         "133.514",
         "131.176",
         "982000000.0",
         "-1.38",
         "2024-10"
        ],
        [
         "164",
         "2024-10-02 00:00:00",
         "133.515",
         "132.495",
         "134.922",
         "132.495",
         "940000000.0",
         "0.77",
         "2024-10"
        ],
        [
         "165",
         "2024-10-01 00:00:00",
         "132.495",
         "131.817",
         "133.405",
         "131.817",
         "984000000.0",
         "0.51",
         "2024-10"
        ],
        [
         "166",
         "2024-09-30 00:00:00",
         "131.816",
         "132.761",
         "133.12",
         "131.816",
         "913000000.0",
         "-0.69",
         "2024-09"
        ],
        [
         "167",
         "2024-09-27 00:00:00",
         "132.73",
         "133.01",
         "133.923",
         "132.628",
         "934000000.0",
         "-0.21",
         "2024-09"
        ],
        [
         "168",
         "2024-09-26 00:00:00",
         "133.01",
         "131.595",
         "133.313",
         "131.594",
         "1162000000.0",
         "1.08",
         "2024-09"
        ],
        [
         "169",
         "2024-09-25 00:00:00",
         "131.586",
         "132.156",
         "132.982",
         "131.489",
         "1053000000.0",
         "-0.43",
         "2024-09"
        ],
        [
         "170",
         "2024-09-24 00:00:00",
         "132.156",
         "130.57",
         "133.073",
         "130.57",
         "937000000.0",
         "1.22",
         "2024-09"
        ],
        [
         "171",
         "2024-09-23 00:00:00",
         "130.568",
         "131.065",
         "131.065",
         "130.1",
         "914000000.0",
         "-0.38",
         "2024-09"
        ],
        [
         "172",
         "2024-09-20 00:00:00",
         "131.065",
         "133.121",
         "133.128",
         "130.907",
         "1361000000.0",
         "-1.55",
         "2024-09"
        ],
        [
         "173",
         "2024-09-19 00:00:00",
         "133.123",
         "133.748",
         "134.759",
         "133.123",
         "925000000.0",
         "-0.47",
         "2024-09"
        ],
        [
         "174",
         "2024-09-18 00:00:00",
         "133.748",
         "134.96",
         "135.203",
         "133.748",
         "979000000.0",
         "-0.9",
         "2024-09"
        ],
        [
         "175",
         "2024-09-17 00:00:00",
         "134.96",
         "135.118",
         "135.118",
         "134.18",
         "731000000.0",
         "-0.12",
         "2024-09"
        ],
        [
         "176",
         "2024-09-16 00:00:00",
         "135.118",
         "134.885",
         "135.715",
         "134.87",
         "671000000.0",
         "0.18",
         "2024-09"
        ],
        [
         "177",
         "2024-09-13 00:00:00",
         "134.882",
         "134.031",
         "135.879",
         "134.031",
         "887000000.0",
         "0.64",
         "2024-09"
        ],
        [
         "178",
         "2024-09-12 00:00:00",
         "134.029",
         "134.677",
         "134.777",
         "133.591",
         "700000000.0",
         "-0.48",
         "2024-09"
        ],
        [
         "179",
         "2024-09-11 00:00:00",
         "134.677",
         "134.319",
         "135.087",
         "133.757",
         "795000000.0",
         "0.27",
         "2024-09"
        ],
        [
         "180",
         "2024-09-10 00:00:00",
         "134.32",
         "134.738",
         "134.738",
         "133.754",
         "825000000.0",
         "-0.31",
         "2024-09"
        ],
        [
         "181",
         "2024-09-09 00:00:00",
         "134.737",
         "134.574",
         "135.25",
         "134.399",
         "659000000.0",
         "0.12",
         "2024-09"
        ],
        [
         "182",
         "2024-09-06 00:00:00",
         "134.572",
         "136.508",
         "136.653",
         "134.476",
         "756000000.0",
         "-1.41",
         "2024-09"
        ],
        [
         "183",
         "2024-09-05 00:00:00",
         "136.502",
         "136.112",
         "136.656",
         "135.959",
         "753000000.0",
         "0.29",
         "2024-09"
        ],
        [
         "184",
         "2024-09-04 00:00:00",
         "136.111",
         "134.359",
         "136.838",
         "134.359",
         "942000000.0",
         "1.31",
         "2024-09"
        ],
        [
         "185",
         "2024-09-03 00:00:00",
         "134.353",
         "134.907",
         "135.011",
         "134.171",
         "880000000.0",
         "-0.41",
         "2024-09"
        ],
        [
         "186",
         "2024-09-02 00:00:00",
         "134.906",
         "136.004",
         "136.004",
         "134.497",
         "553000000.0",
         "-0.81",
         "2024-09"
        ],
        [
         "187",
         "2024-08-30 00:00:00",
         "136.004",
         "136.041",
         "136.139",
         "134.91",
         "1840000000.0",
         "-0.03",
         "2024-08"
        ],
        [
         "188",
         "2024-08-29 00:00:00",
         "136.041",
         "137.349",
         "137.37",
         "135.858",
         "839000000.0",
         "-0.95",
         "2024-08"
        ],
        [
         "189",
         "2024-08-28 00:00:00",
         "137.344",
         "136.776",
         "137.469",
         "135.746",
         "746000000.0",
         "0.42",
         "2024-08"
        ],
        [
         "190",
         "2024-08-27 00:00:00",
         "136.776",
         "136.888",
         "137.213",
         "136.664",
         "675000000.0",
         "-0.08",
         "2024-08"
        ],
        [
         "191",
         "2024-08-26 00:00:00",
         "136.889",
         "135.608",
         "137.013",
         "135.596",
         "756000000.0",
         "0.94",
         "2024-08"
        ],
        [
         "192",
         "2024-08-23 00:00:00",
         "135.608",
         "135.174",
         "136.478",
         "135.174",
         "865000000.0",
         "0.32",
         "2024-08"
        ],
        [
         "193",
         "2024-08-22 00:00:00",
         "135.173",
         "136.462",
         "136.462",
         "134.836",
         "805000000.0",
         "-0.95",
         "2024-08"
        ],
        [
         "194",
         "2024-08-21 00:00:00",
         "136.464",
         "136.088",
         "137.04",
         "136.086",
         "957000000.0",
         "0.28",
         "2024-08"
        ],
        [
         "195",
         "2024-08-20 00:00:00",
         "136.087",
         "135.779",
         "136.33",
         "135.312",
         "811000000.0",
         "0.23",
         "2024-08"
        ],
        [
         "196",
         "2024-08-19 00:00:00",
         "135.778",
         "133.953",
         "136.179",
         "133.953",
         "1128000000.0",
         "1.36",
         "2024-08"
        ],
        [
         "197",
         "2024-08-16 00:00:00",
         "133.953",
         "134.154",
         "134.781",
         "133.852",
         "1087000000.0",
         "-0.15",
         "2024-08"
        ],
        [
         "198",
         "2024-08-15 00:00:00",
         "134.153",
         "133.319",
         "134.575",
         "133.319",
         "1053000000.0",
         "0.63",
         "2024-08"
        ],
        [
         "199",
         "2024-08-14 00:00:00",
         "133.318",
         "132.398",
         "133.777",
         "132.112",
         "1216000000.0",
         "0.69",
         "2024-08"
        ],
        [
         "200",
         "2024-08-13 00:00:00",
         "132.398",
         "131.115",
         "132.43",
         "131.115",
         "980000000.0",
         "0.98",
         "2024-08"
        ],
        [
         "201",
         "2024-08-12 00:00:00",
         "131.116",
         "130.615",
         "131.662",
         "130.615",
         "860000000.0",
         "0.38",
         "2024-08"
        ],
        [
         "202",
         "2024-08-09 00:00:00",
         "130.615",
         "128.662",
         "130.631",
         "128.662",
         "1132000000.0",
         "1.52",
         "2024-08"
        ],
        [
         "203",
         "2024-08-08 00:00:00",
         "128.661",
         "127.515",
         "128.793",
         "127.515",
         "862000000.0",
         "0.9",
         "2024-08"
        ],
        [
         "204",
         "2024-08-07 00:00:00",
         "127.514",
         "126.268",
         "127.517",
         "126.268",
         "884000000.0",
         "0.99",
         "2024-08"
        ],
        [
         "205",
         "2024-08-06 00:00:00",
         "126.267",
         "125.27",
         "126.966",
         "125.261",
         "1005000000.0",
         "0.8",
         "2024-08"
        ],
        [
         "206",
         "2024-08-05 00:00:00",
         "125.27",
         "125.851",
         "125.851",
         "123.073",
         "1089000000.0",
         "-0.46",
         "2024-08"
        ],
        [
         "207",
         "2024-08-02 00:00:00",
         "125.854",
         "127.395",
         "128.104",
         "125.731",
         "995000000.0",
         "-1.21",
         "2024-08"
        ],
        [
         "208",
         "2024-08-01 00:00:00",
         "127.395",
         "127.652",
         "128.762",
         "127.15",
         "981000000.0",
         "-0.2",
         "2024-08"
        ],
        [
         "209",
         "2024-07-31 00:00:00",
         "127.652",
         "126.139",
         "127.853",
         "126.139",
         "947000000.0",
         "1.2",
         "2024-07"
        ]
       ],
       "shape": {
        "columns": 8,
        "rows": 442
       }
      },
      "text/html": [
       "<div>\n",
       "<style scoped>\n",
       "    .dataframe tbody tr th:only-of-type {\n",
       "        vertical-align: middle;\n",
       "    }\n",
       "\n",
       "    .dataframe tbody tr th {\n",
       "        vertical-align: top;\n",
       "    }\n",
       "\n",
       "    .dataframe thead th {\n",
       "        text-align: right;\n",
       "    }\n",
       "</style>\n",
       "<table border=\"1\" class=\"dataframe\">\n",
       "  <thead>\n",
       "    <tr style=\"text-align: right;\">\n",
       "      <th></th>\n",
       "      <th>Data</th>\n",
       "      <th>Último</th>\n",
       "      <th>Abertura</th>\n",
       "      <th>Máxima</th>\n",
       "      <th>Mínima</th>\n",
       "      <th>Vol.</th>\n",
       "      <th>Var%</th>\n",
       "      <th>Mes_Ano</th>\n",
       "    </tr>\n",
       "  </thead>\n",
       "  <tbody>\n",
       "    <tr>\n",
       "      <th>160</th>\n",
       "      <td>2024-10-08</td>\n",
       "      <td>131.512</td>\n",
       "      <td>132.016</td>\n",
       "      <td>132.016</td>\n",
       "      <td>130.371</td>\n",
       "      <td>9.090000e+08</td>\n",
       "      <td>-0.38</td>\n",
       "      <td>2024-10</td>\n",
       "    </tr>\n",
       "    <tr>\n",
       "      <th>161</th>\n",
       "      <td>2024-10-07</td>\n",
       "      <td>132.018</td>\n",
       "      <td>131.792</td>\n",
       "      <td>132.943</td>\n",
       "      <td>131.676</td>\n",
       "      <td>7.700000e+08</td>\n",
       "      <td>0.17</td>\n",
       "      <td>2024-10</td>\n",
       "    </tr>\n",
       "    <tr>\n",
       "      <th>162</th>\n",
       "      <td>2024-10-04</td>\n",
       "      <td>131.792</td>\n",
       "      <td>131.672</td>\n",
       "      <td>131.936</td>\n",
       "      <td>131.156</td>\n",
       "      <td>7.050000e+08</td>\n",
       "      <td>0.09</td>\n",
       "      <td>2024-10</td>\n",
       "    </tr>\n",
       "    <tr>\n",
       "      <th>163</th>\n",
       "      <td>2024-10-03</td>\n",
       "      <td>131.672</td>\n",
       "      <td>133.514</td>\n",
       "      <td>133.514</td>\n",
       "      <td>131.176</td>\n",
       "      <td>9.820000e+08</td>\n",
       "      <td>-1.38</td>\n",
       "      <td>2024-10</td>\n",
       "    </tr>\n",
       "    <tr>\n",
       "      <th>164</th>\n",
       "      <td>2024-10-02</td>\n",
       "      <td>133.515</td>\n",
       "      <td>132.495</td>\n",
       "      <td>134.922</td>\n",
       "      <td>132.495</td>\n",
       "      <td>9.400000e+08</td>\n",
       "      <td>0.77</td>\n",
       "      <td>2024-10</td>\n",
       "    </tr>\n",
       "    <tr>\n",
       "      <th>...</th>\n",
       "      <td>...</td>\n",
       "      <td>...</td>\n",
       "      <td>...</td>\n",
       "      <td>...</td>\n",
       "      <td>...</td>\n",
       "      <td>...</td>\n",
       "      <td>...</td>\n",
       "      <td>...</td>\n",
       "    </tr>\n",
       "    <tr>\n",
       "      <th>597</th>\n",
       "      <td>2023-01-10</td>\n",
       "      <td>110.817</td>\n",
       "      <td>109.129</td>\n",
       "      <td>111.193</td>\n",
       "      <td>108.478</td>\n",
       "      <td>1.370000e+09</td>\n",
       "      <td>1.55</td>\n",
       "      <td>2023-01</td>\n",
       "    </tr>\n",
       "    <tr>\n",
       "      <th>598</th>\n",
       "      <td>2023-01-09</td>\n",
       "      <td>109.130</td>\n",
       "      <td>108.964</td>\n",
       "      <td>109.938</td>\n",
       "      <td>108.134</td>\n",
       "      <td>1.205000e+09</td>\n",
       "      <td>0.15</td>\n",
       "      <td>2023-01</td>\n",
       "    </tr>\n",
       "    <tr>\n",
       "      <th>599</th>\n",
       "      <td>2023-01-06</td>\n",
       "      <td>108.964</td>\n",
       "      <td>107.642</td>\n",
       "      <td>109.433</td>\n",
       "      <td>107.642</td>\n",
       "      <td>1.263000e+09</td>\n",
       "      <td>1.23</td>\n",
       "      <td>2023-01</td>\n",
       "    </tr>\n",
       "    <tr>\n",
       "      <th>600</th>\n",
       "      <td>2023-01-05</td>\n",
       "      <td>107.641</td>\n",
       "      <td>105.336</td>\n",
       "      <td>107.743</td>\n",
       "      <td>105.333</td>\n",
       "      <td>1.551000e+09</td>\n",
       "      <td>2.19</td>\n",
       "      <td>2023-01</td>\n",
       "    </tr>\n",
       "    <tr>\n",
       "      <th>601</th>\n",
       "      <td>2023-01-04</td>\n",
       "      <td>105.334</td>\n",
       "      <td>104.167</td>\n",
       "      <td>105.627</td>\n",
       "      <td>103.915</td>\n",
       "      <td>1.445000e+09</td>\n",
       "      <td>1.12</td>\n",
       "      <td>2023-01</td>\n",
       "    </tr>\n",
       "  </tbody>\n",
       "</table>\n",
       "<p>442 rows × 8 columns</p>\n",
       "</div>"
      ],
      "text/plain": [
       "          Data   Último  Abertura   Máxima   Mínima          Vol.  Var%  \\\n",
       "160 2024-10-08  131.512   132.016  132.016  130.371  9.090000e+08 -0.38   \n",
       "161 2024-10-07  132.018   131.792  132.943  131.676  7.700000e+08  0.17   \n",
       "162 2024-10-04  131.792   131.672  131.936  131.156  7.050000e+08  0.09   \n",
       "163 2024-10-03  131.672   133.514  133.514  131.176  9.820000e+08 -1.38   \n",
       "164 2024-10-02  133.515   132.495  134.922  132.495  9.400000e+08  0.77   \n",
       "..         ...      ...       ...      ...      ...           ...   ...   \n",
       "597 2023-01-10  110.817   109.129  111.193  108.478  1.370000e+09  1.55   \n",
       "598 2023-01-09  109.130   108.964  109.938  108.134  1.205000e+09  0.15   \n",
       "599 2023-01-06  108.964   107.642  109.433  107.642  1.263000e+09  1.23   \n",
       "600 2023-01-05  107.641   105.336  107.743  105.333  1.551000e+09  2.19   \n",
       "601 2023-01-04  105.334   104.167  105.627  103.915  1.445000e+09  1.12   \n",
       "\n",
       "     Mes_Ano  \n",
       "160  2024-10  \n",
       "161  2024-10  \n",
       "162  2024-10  \n",
       "163  2024-10  \n",
       "164  2024-10  \n",
       "..       ...  \n",
       "597  2023-01  \n",
       "598  2023-01  \n",
       "599  2023-01  \n",
       "600  2023-01  \n",
       "601  2023-01  \n",
       "\n",
       "[442 rows x 8 columns]"
      ]
     },
     "execution_count": 19,
     "metadata": {},
     "output_type": "execute_result"
    }
   ],
   "source": [
    "df_ibov_copia.iloc[160:, :]"
   ]
  },
  {
   "cell_type": "code",
   "execution_count": 20,
   "id": "9ed0be54",
   "metadata": {},
   "outputs": [
    {
     "data": {
      "image/png": "[encoded data removed]",
      "text/plain": [
       "<Figure size 1200x600 with 1 Axes>"
      ]
     },
     "metadata": {},
     "output_type": "display_data"
    }
   ],
   "source": [
    "# Observando volume negociado Vol.\n",
    "\n",
    "plt.figure(figsize=(12,6))\n",
    "sns.lineplot(data=df_ibov_copia.sort_values('Mes_Ano'), x='Mes_Ano', y='Vol.', markers='o')\n",
    "plt.title('Valor negociado em Volume Bruto')\n",
    "plt.xlabel('Ano/Mês')\n",
    "plt.ylabel('Valor em Bilhão')\n",
    "plt.xticks(rotation=45)\n",
    "plt.grid(alpha=0.3)\n",
    "plt.tight_layout()\n",
    "plt.show()"
   ]
  },
  {
   "cell_type": "code",
   "execution_count": 21,
   "id": "7c168c50",
   "metadata": {},
   "outputs": [
    {
     "data": {
      "image/png": "[encoded data removed]",
      "text/plain": [
       "<Figure size 1200x600 with 1 Axes>"
      ]
     },
     "metadata": {},
     "output_type": "display_data"
    }
   ],
   "source": [
    "# Observando volume negociado Vol Retirando as negociações a partir de 11/2024.\n",
    "\n",
    "plt.figure(figsize=(12,6))\n",
    "sns.lineplot(data=df_ibov_copia.iloc[160:, :].sort_values('Mes_Ano'), x='Mes_Ano', y='Vol.', markers='o')\n",
    "plt.title('Valor negociado em Volume Bruto')\n",
    "plt.xlabel('Ano/Mês')\n",
    "plt.ylabel('Valor em Bilhão')\n",
    "plt.xticks(rotation=45)\n",
    "plt.grid(alpha=0.3)\n",
    "plt.tight_layout()\n",
    "plt.show()"
   ]
  },
  {
   "cell_type": "markdown",
   "id": "36a0394e",
   "metadata": {},
   "source": [
    "Aqui podemos observar um volume de negociação muito grande no periodo do final do ano de 2024 até o final do segundo trimestre de 2025."
   ]
  },
  {
   "cell_type": "code",
   "execution_count": 22,
   "id": "6f4087bc",
   "metadata": {},
   "outputs": [
    {
     "data": {
      "image/png": "[encoded data removed]",
      "text/plain": [
       "<Figure size 1200x600 with 1 Axes>"
      ]
     },
     "metadata": {},
     "output_type": "display_data"
    }
   ],
   "source": [
    "# Observando Negociação do IBOVESPA.\n",
    "\n",
    "plt.figure(figsize=(12,6))\n",
    "sns.lineplot(data=df_ibov_copia.sort_values('Mes_Ano'), x='Mes_Ano', y='Último', markers='o')\n",
    "plt.title('Periodo de Negociação do IBOVESPA')\n",
    "plt.xlabel('Ano/Mês')\n",
    "plt.ylabel('Pontos')\n",
    "plt.xticks(rotation=45)\n",
    "plt.grid(alpha=0.3)\n",
    "plt.tight_layout()\n",
    "plt.show()"
   ]
  },
  {
   "cell_type": "code",
   "execution_count": 23,
   "id": "7964edb7",
   "metadata": {},
   "outputs": [
    {
     "data": {
      "image/png": "[encoded data removed]",
      "text/plain": [
       "<Figure size 1200x600 with 1 Axes>"
      ]
     },
     "metadata": {},
     "output_type": "display_data"
    }
   ],
   "source": [
    "# Observando Variação do IBOVESPA.\n",
    "\n",
    "plt.figure(figsize=(12,6))\n",
    "sns.lineplot(data=df_ibov_copia.sort_values('Mes_Ano'), x='Mes_Ano', y='Var%', markers='o')\n",
    "plt.title('Variação do IBOVESPA')\n",
    "plt.xlabel('Ano/Mês')\n",
    "plt.ylabel('Porcentagem (%)')\n",
    "plt.xticks(rotation=45)\n",
    "plt.grid(alpha=0.5)\n",
    "plt.tight_layout()\n",
    "plt.show()"
   ]
  },
  {
   "cell_type": "markdown",
   "id": "f1ade0b1",
   "metadata": {},
   "source": [
    "### Criar uma caracteristica (coluna) de fechamento positivo(1) ou negativo(0) utilizando a caracteristica [Último] como referência"
   ]
  },
  {
   "cell_type": "code",
   "execution_count": 24,
   "id": "783cc447",
   "metadata": {},
   "outputs": [
    {
     "data": {
      "application/vnd.microsoft.datawrangler.viewer.v0+json": {
       "columns": [
        {
         "name": "index",
         "rawType": "int64",
         "type": "integer"
        },
        {
         "name": "Preço",
         "rawType": "int64",
         "type": "integer"
        },
        {
         "name": "Anterior",
         "rawType": "float64",
         "type": "float"
        },
        {
         "name": "Seguinte",
         "rawType": "float64",
         "type": "float"
        }
       ],
       "ref": "ee097f4a-a8b8-47b5-98b6-6ccc2382ff28",
       "rows": [
        [
         "0",
         "100",
         null,
         "102.0"
        ],
        [
         "1",
         "102",
         "100.0",
         "101.0"
        ],
        [
         "2",
         "101",
         "102.0",
         "105.0"
        ],
        [
         "3",
         "105",
         "101.0",
         null
        ]
       ],
       "shape": {
        "columns": 3,
        "rows": 4
       }
      },
      "text/html": [
       "<div>\n",
       "<style scoped>\n",
       "    .dataframe tbody tr th:only-of-type {\n",
       "        vertical-align: middle;\n",
       "    }\n",
       "\n",
       "    .dataframe tbody tr th {\n",
       "        vertical-align: top;\n",
       "    }\n",
       "\n",
       "    .dataframe thead th {\n",
       "        text-align: right;\n",
       "    }\n",
       "</style>\n",
       "<table border=\"1\" class=\"dataframe\">\n",
       "  <thead>\n",
       "    <tr style=\"text-align: right;\">\n",
       "      <th></th>\n",
       "      <th>Preço</th>\n",
       "      <th>Anterior</th>\n",
       "      <th>Seguinte</th>\n",
       "    </tr>\n",
       "  </thead>\n",
       "  <tbody>\n",
       "    <tr>\n",
       "      <th>0</th>\n",
       "      <td>100</td>\n",
       "      <td>NaN</td>\n",
       "      <td>102.0</td>\n",
       "    </tr>\n",
       "    <tr>\n",
       "      <th>1</th>\n",
       "      <td>102</td>\n",
       "      <td>100.0</td>\n",
       "      <td>101.0</td>\n",
       "    </tr>\n",
       "    <tr>\n",
       "      <th>2</th>\n",
       "      <td>101</td>\n",
       "      <td>102.0</td>\n",
       "      <td>105.0</td>\n",
       "    </tr>\n",
       "    <tr>\n",
       "      <th>3</th>\n",
       "      <td>105</td>\n",
       "      <td>101.0</td>\n",
       "      <td>NaN</td>\n",
       "    </tr>\n",
       "  </tbody>\n",
       "</table>\n",
       "</div>"
      ],
      "text/plain": [
       "   Preço  Anterior  Seguinte\n",
       "0    100       NaN     102.0\n",
       "1    102     100.0     101.0\n",
       "2    101     102.0     105.0\n",
       "3    105     101.0       NaN"
      ]
     },
     "execution_count": 24,
     "metadata": {},
     "output_type": "execute_result"
    }
   ],
   "source": [
    "'''Exemplo do metodo Shift ele irá varrer o data frame e conforme o parametro colocado nele ele irá fazer o deslocamento\n",
    "para linha seguinte ou anterior\n",
    "Ex.: Shift(n) -> Compara valores anteriores (n>0)\n",
    "     Shift(n) -> Compara valores seguintes (n<0) Vamos usar este para buscar valores seguintes\n",
    "     Shift(n) -> Compara com o dia anterior (n=1)\n",
    "\n",
    "''' \n",
    "# Exemplos de uso\n",
    "df = pd.DataFrame({'Preço': [100, 102, 101, 105]})\n",
    "df['Anterior'] = df['Preço'].shift(1)\n",
    "df['Seguinte'] = df['Preço'].shift(-1)\n",
    "\n",
    "df\n",
    "\n",
    "## Não tem a necessidade de Rodar esse código"
   ]
  },
  {
   "cell_type": "code",
   "execution_count": 25,
   "id": "d41991b2",
   "metadata": {},
   "outputs": [
    {
     "data": {
      "text/plain": [
       "'fechamento = df_ibov[\\'Último\\'].values\\nfechamento_categoria = []\\n\\nfor i in range(len(fechamento) - 1):\\n    if fechamento[i + 1] > fechamento[i]:\\n        fechamento_categoria.append(1)\\n    else:\\n        fechamento_categoria.append(0)\\n\\n# Como comparamos até o penúltimo, o último dia não tem \"dia seguinte\"\\nfechamento_categoria.append(None)  # ou np.nan se preferir\\n\\n# Adiciona a nova coluna no DataFrame\\n#df_ibov[\\'Subiu_dia_seguinte\\'] = fechamento_categoria\\n\\nprint(fechamento_categoria)'"
      ]
     },
     "execution_count": 25,
     "metadata": {},
     "output_type": "execute_result"
    }
   ],
   "source": [
    "# Caso quisermos utilizar o loop for\n",
    "\n",
    "'''fechamento = df_ibov['Último'].values\n",
    "fechamento_categoria = []\n",
    "\n",
    "for i in range(len(fechamento) - 1):\n",
    "    if fechamento[i + 1] > fechamento[i]:\n",
    "        fechamento_categoria.append(1)\n",
    "    else:\n",
    "        fechamento_categoria.append(0)\n",
    "\n",
    "# Como comparamos até o penúltimo, o último dia não tem \"dia seguinte\"\n",
    "fechamento_categoria.append(None)  # ou np.nan se preferir\n",
    "\n",
    "# Adiciona a nova coluna no DataFrame\n",
    "#df_ibov['Subiu_dia_seguinte'] = fechamento_categoria\n",
    "\n",
    "print(fechamento_categoria)'''"
   ]
  },
  {
   "cell_type": "code",
   "execution_count": 26,
   "id": "a88ccdc2",
   "metadata": {},
   "outputs": [],
   "source": [
    "# Renomeando nome da Coluna Último para Fechamento_Diario\n",
    "df_ibov_copia = df_ibov_copia.rename(columns={\"Último\": \"Fechamento_Diario\"})"
   ]
  },
  {
   "cell_type": "code",
   "execution_count": 27,
   "id": "aca2a44b",
   "metadata": {},
   "outputs": [],
   "source": [
    "# Cria a coluna fechamento com valores Binarios 0 para negativo e 1 para positivo\n",
    "df_ibov_copia['Tendencia'] = (df_ibov['Último'].shift(-1) > df_ibov['Último']).astype('Int64')"
   ]
  },
  {
   "cell_type": "code",
   "execution_count": 28,
   "id": "fd3ab0c0",
   "metadata": {},
   "outputs": [
    {
     "data": {
      "application/vnd.microsoft.datawrangler.viewer.v0+json": {
       "columns": [
        {
         "name": "Data",
         "rawType": "datetime64[ns]",
         "type": "datetime"
        },
        {
         "name": "Fechamento_Diario",
         "rawType": "float64",
         "type": "float"
        },
        {
         "name": "Abertura",
         "rawType": "float64",
         "type": "float"
        },
        {
         "name": "Máxima",
         "rawType": "float64",
         "type": "float"
        },
        {
         "name": "Mínima",
         "rawType": "float64",
         "type": "float"
        },
        {
         "name": "Vol.",
         "rawType": "float64",
         "type": "float"
        },
        {
         "name": "Var%",
         "rawType": "float64",
         "type": "float"
        },
        {
         "name": "Mes_Ano",
         "rawType": "object",
         "type": "string"
        },
        {
         "name": "Tendencia",
         "rawType": "Int64",
         "type": "integer"
        }
       ],
       "ref": "be6472b0-0fdc-48bf-a25c-8809057c7f34",
       "rows": [
        [
         "2025-06-04 00:00:00",
         "137.002",
         "137.547",
         "138.797",
         "136.695",
         "1020000000.0",
         "-0.4",
         "2025-06",
         "1"
        ],
        [
         "2025-06-03 00:00:00",
         "137.546",
         "136.787",
         "137.672",
         "136.175",
         "970000000000.0",
         "0.56",
         "2025-06",
         "0"
        ],
        [
         "2025-06-02 00:00:00",
         "136.787",
         "137.026",
         "138.471",
         "136.483",
         "910000000000.0",
         "-0.18",
         "2025-06",
         "1"
        ],
        [
         "2025-05-30 00:00:00",
         "137.027",
         "138.546",
         "138.637",
         "136.726",
         "1514000000000.0",
         "-1.09",
         "2025-05",
         "1"
        ],
        [
         "2025-05-29 00:00:00",
         "138.534",
         "138.869",
         "139.108",
         "137.993",
         "883000000000.0",
         "-0.25",
         "2025-05",
         "1"
        ],
        [
         "2025-05-28 00:00:00",
         "138.888",
         "139.541",
         "139.547",
         "138.58",
         "973000000000.0",
         "-0.47",
         "2025-05",
         "1"
        ],
        [
         "2025-05-27 00:00:00",
         "139.541",
         "138.136",
         "140.382",
         "138.136",
         "1119000000000.0",
         "1.02",
         "2025-05",
         "0"
        ],
        [
         "2025-05-26 00:00:00",
         "138.136",
         "137.824",
         "138.8",
         "137.795",
         "555000000000.0",
         "0.23",
         "2025-05",
         "0"
        ],
        [
         "2025-05-23 00:00:00",
         "137.824",
         "137.273",
         "137.824",
         "134.997",
         "1068000000000.0",
         "0.4",
         "2025-05",
         "0"
        ],
        [
         "2025-05-22 00:00:00",
         "137.273",
         "137.881",
         "138.837",
         "137.088",
         "1322000000000.0",
         "-0.44",
         "2025-05",
         "1"
        ],
        [
         "2025-05-21 00:00:00",
         "137.881",
         "140.109",
         "140.109",
         "137.538",
         "1015000000000.0",
         "-1.59",
         "2025-05",
         "1"
        ],
        [
         "2025-05-20 00:00:00",
         "140.11",
         "139.636",
         "140.244",
         "138.966",
         "965000000000.0",
         "0.34",
         "2025-05",
         "0"
        ],
        [
         "2025-05-19 00:00:00",
         "139.636",
         "139.186",
         "140.203",
         "138.587",
         "959000000000.0",
         "0.32",
         "2025-05",
         "0"
        ],
        [
         "2025-05-16 00:00:00",
         "139.187",
         "139.335",
         "139.335",
         "137.713",
         "1211000000000.0",
         "-0.11",
         "2025-05",
         "1"
        ],
        [
         "2025-05-15 00:00:00",
         "139.334",
         "138.425",
         "139.408",
         "138.321",
         "1150000000000.0",
         "0.66",
         "2025-05",
         "0"
        ],
        [
         "2025-05-14 00:00:00",
         "138.423",
         "138.965",
         "139.362",
         "138.228",
         "1116000000000.0",
         "-0.39",
         "2025-05",
         "1"
        ],
        [
         "2025-05-13 00:00:00",
         "138.963",
         "136.565",
         "139.419",
         "136.55",
         "1307000000000.0",
         "1.76",
         "2025-05",
         "0"
        ],
        [
         "2025-05-12 00:00:00",
         "136.563",
         "136.516",
         "137.519",
         "136.356",
         "1092000000000.0",
         "0.04",
         "2025-05",
         "0"
        ],
        [
         "2025-05-09 00:00:00",
         "136.512",
         "136.232",
         "137.286",
         "136.105",
         "1388000000000.0",
         "0.21",
         "2025-05",
         "0"
        ],
        [
         "2025-05-08 00:00:00",
         "136.232",
         "133.458",
         "137.635",
         "133.458",
         "1720000000000.0",
         "2.12",
         "2025-05",
         "0"
        ],
        [
         "2025-05-07 00:00:00",
         "133.398",
         "133.517",
         "134.11",
         "132.872",
         "994000000000.0",
         "-0.09",
         "2025-05",
         "1"
        ],
        [
         "2025-05-06 00:00:00",
         "133.516",
         "133.499",
         "134.135",
         "133.26",
         "1114000000000.0",
         "0.02",
         "2025-05",
         "0"
        ],
        [
         "2025-05-05 00:00:00",
         "133.491",
         "135.131",
         "135.198",
         "133.39",
         "1080000000000.0",
         "-1.22",
         "2025-05",
         "1"
        ],
        [
         "2025-05-02 00:00:00",
         "135.134",
         "135.067",
         "135.275",
         "134.355",
         "1274000000000.0",
         "0.05",
         "2025-05",
         "0"
        ],
        [
         "2025-04-30 00:00:00",
         "135.067",
         "135.094",
         "135.171",
         "133.955",
         "1545000000000.0",
         "-0.02",
         "2025-04",
         "1"
        ],
        [
         "2025-04-29 00:00:00",
         "135.093",
         "135.017",
         "136.15",
         "134.899",
         "1276000000000.0",
         "0.06",
         "2025-04",
         "0"
        ],
        [
         "2025-04-28 00:00:00",
         "135.016",
         "134.741",
         "135.709",
         "134.711",
         "1145000000000.0",
         "0.21",
         "2025-04",
         "0"
        ],
        [
         "2025-04-25 00:00:00",
         "134.739",
         "134.579",
         "134.992",
         "134.186",
         "1305000000000.0",
         "0.12",
         "2025-04",
         "0"
        ],
        [
         "2025-04-24 00:00:00",
         "134.58",
         "132.245",
         "134.938",
         "132.223",
         "1411000000000.0",
         "1.79",
         "2025-04",
         "0"
        ],
        [
         "2025-04-23 00:00:00",
         "132.216",
         "130.468",
         "133.318",
         "130.468",
         "1134000000000.0",
         "1.34",
         "2025-04",
         "0"
        ],
        [
         "2025-04-22 00:00:00",
         "130.464",
         "129.65",
         "130.877",
         "128.726",
         "861000000000.0",
         "0.63",
         "2025-04",
         "0"
        ],
        [
         "2025-04-17 00:00:00",
         "129.65",
         "128.316",
         "130.091",
         "127.973",
         "998000000000.0",
         "1.04",
         "2025-04",
         "0"
        ],
        [
         "2025-04-16 00:00:00",
         "128.317",
         "129.245",
         "129.605",
         "128.149",
         "1154000000000.0",
         "-0.72",
         "2025-04",
         "1"
        ],
        [
         "2025-04-15 00:00:00",
         "129.245",
         "129.452",
         "129.927",
         "128.951",
         "884000000000.0",
         "-0.16",
         "2025-04",
         "1"
        ],
        [
         "2025-04-14 00:00:00",
         "129.454",
         "127.683",
         "129.955",
         "127.683",
         "1061000000000.0",
         "1.39",
         "2025-04",
         "0"
        ],
        [
         "2025-04-11 00:00:00",
         "127.682",
         "126.355",
         "128.386",
         "126.078",
         "1008000000000.0",
         "1.05",
         "2025-04",
         "0"
        ],
        [
         "2025-04-10 00:00:00",
         "126.355",
         "127.796",
         "127.797",
         "124.895",
         "1146000000000.0",
         "-1.13",
         "2025-04",
         "1"
        ],
        [
         "2025-04-09 00:00:00",
         "127.796",
         "123.928",
         "128.649",
         "122.887",
         "1692000000000.0",
         "3.12",
         "2025-04",
         "0"
        ],
        [
         "2025-04-08 00:00:00",
         "123.932",
         "125.588",
         "127.652",
         "123.454",
         "1281000000000.0",
         "-1.32",
         "2025-04",
         "1"
        ],
        [
         "2025-04-07 00:00:00",
         "125.588",
         "127.229",
         "128.411",
         "123.876",
         "1405000000000.0",
         "-1.31",
         "2025-04",
         "1"
        ],
        [
         "2025-04-04 00:00:00",
         "127.256",
         "131.139",
         "131.139",
         "126.466",
         "1318000000000.0",
         "-2.96",
         "2025-04",
         "1"
        ],
        [
         "2025-04-03 00:00:00",
         "131.141",
         "131.185",
         "132.552",
         "130.182",
         "1233000000000.0",
         "-0.04",
         "2025-04",
         "1"
        ],
        [
         "2025-04-02 00:00:00",
         "131.19",
         "131.151",
         "131.424",
         "130.393",
         "882000000000.0",
         "0.03",
         "2025-04",
         "0"
        ],
        [
         "2025-04-01 00:00:00",
         "131.147",
         "130.267",
         "131.982",
         "130.081",
         "897000000000.0",
         "0.68",
         "2025-04",
         "0"
        ],
        [
         "2025-03-31 00:00:00",
         "130.26",
         "131.9",
         "131.901",
         "130.115",
         "999000000000.0",
         "-1.25",
         "2025-03",
         "1"
        ],
        [
         "2025-03-28 00:00:00",
         "131.902",
         "133.143",
         "133.143",
         "131.315",
         "891000000000.0",
         "-0.94",
         "2025-03",
         "1"
        ],
        [
         "2025-03-27 00:00:00",
         "133.149",
         "132.522",
         "133.904",
         "132.479",
         "1002000000000.0",
         "0.47",
         "2025-03",
         "0"
        ],
        [
         "2025-03-26 00:00:00",
         "132.52",
         "132.069",
         "132.984",
         "132.068",
         "940000000000.0",
         "0.34",
         "2025-03",
         "0"
        ],
        [
         "2025-03-25 00:00:00",
         "132.068",
         "131.327",
         "133.471",
         "131.325",
         "924000000000.0",
         "0.57",
         "2025-03",
         "0"
        ],
        [
         "2025-03-24 00:00:00",
         "131.321",
         "132.344",
         "132.424",
         "130.992",
         "830000000000.0",
         "-0.77",
         "2025-03",
         "1"
        ]
       ],
       "shape": {
        "columns": 8,
        "rows": 602
       }
      },
      "text/html": [
       "<div>\n",
       "<style scoped>\n",
       "    .dataframe tbody tr th:only-of-type {\n",
       "        vertical-align: middle;\n",
       "    }\n",
       "\n",
       "    .dataframe tbody tr th {\n",
       "        vertical-align: top;\n",
       "    }\n",
       "\n",
       "    .dataframe thead th {\n",
       "        text-align: right;\n",
       "    }\n",
       "</style>\n",
       "<table border=\"1\" class=\"dataframe\">\n",
       "  <thead>\n",
       "    <tr style=\"text-align: right;\">\n",
       "      <th></th>\n",
       "      <th>Fechamento_Diario</th>\n",
       "      <th>Abertura</th>\n",
       "      <th>Máxima</th>\n",
       "      <th>Mínima</th>\n",
       "      <th>Vol.</th>\n",
       "      <th>Var%</th>\n",
       "      <th>Mes_Ano</th>\n",
       "      <th>Tendencia</th>\n",
       "    </tr>\n",
       "    <tr>\n",
       "      <th>Data</th>\n",
       "      <th></th>\n",
       "      <th></th>\n",
       "      <th></th>\n",
       "      <th></th>\n",
       "      <th></th>\n",
       "      <th></th>\n",
       "      <th></th>\n",
       "      <th></th>\n",
       "    </tr>\n",
       "  </thead>\n",
       "  <tbody>\n",
       "    <tr>\n",
       "      <th>2025-06-04</th>\n",
       "      <td>137.002</td>\n",
       "      <td>137.547</td>\n",
       "      <td>138.797</td>\n",
       "      <td>136.695</td>\n",
       "      <td>1.020000e+09</td>\n",
       "      <td>-0.40</td>\n",
       "      <td>2025-06</td>\n",
       "      <td>1</td>\n",
       "    </tr>\n",
       "    <tr>\n",
       "      <th>2025-06-03</th>\n",
       "      <td>137.546</td>\n",
       "      <td>136.787</td>\n",
       "      <td>137.672</td>\n",
       "      <td>136.175</td>\n",
       "      <td>9.700000e+11</td>\n",
       "      <td>0.56</td>\n",
       "      <td>2025-06</td>\n",
       "      <td>0</td>\n",
       "    </tr>\n",
       "    <tr>\n",
       "      <th>2025-06-02</th>\n",
       "      <td>136.787</td>\n",
       "      <td>137.026</td>\n",
       "      <td>138.471</td>\n",
       "      <td>136.483</td>\n",
       "      <td>9.100000e+11</td>\n",
       "      <td>-0.18</td>\n",
       "      <td>2025-06</td>\n",
       "      <td>1</td>\n",
       "    </tr>\n",
       "    <tr>\n",
       "      <th>2025-05-30</th>\n",
       "      <td>137.027</td>\n",
       "      <td>138.546</td>\n",
       "      <td>138.637</td>\n",
       "      <td>136.726</td>\n",
       "      <td>1.514000e+12</td>\n",
       "      <td>-1.09</td>\n",
       "      <td>2025-05</td>\n",
       "      <td>1</td>\n",
       "    </tr>\n",
       "    <tr>\n",
       "      <th>2025-05-29</th>\n",
       "      <td>138.534</td>\n",
       "      <td>138.869</td>\n",
       "      <td>139.108</td>\n",
       "      <td>137.993</td>\n",
       "      <td>8.830000e+11</td>\n",
       "      <td>-0.25</td>\n",
       "      <td>2025-05</td>\n",
       "      <td>1</td>\n",
       "    </tr>\n",
       "    <tr>\n",
       "      <th>...</th>\n",
       "      <td>...</td>\n",
       "      <td>...</td>\n",
       "      <td>...</td>\n",
       "      <td>...</td>\n",
       "      <td>...</td>\n",
       "      <td>...</td>\n",
       "      <td>...</td>\n",
       "      <td>...</td>\n",
       "    </tr>\n",
       "    <tr>\n",
       "      <th>2023-01-10</th>\n",
       "      <td>110.817</td>\n",
       "      <td>109.129</td>\n",
       "      <td>111.193</td>\n",
       "      <td>108.478</td>\n",
       "      <td>1.370000e+09</td>\n",
       "      <td>1.55</td>\n",
       "      <td>2023-01</td>\n",
       "      <td>0</td>\n",
       "    </tr>\n",
       "    <tr>\n",
       "      <th>2023-01-09</th>\n",
       "      <td>109.130</td>\n",
       "      <td>108.964</td>\n",
       "      <td>109.938</td>\n",
       "      <td>108.134</td>\n",
       "      <td>1.205000e+09</td>\n",
       "      <td>0.15</td>\n",
       "      <td>2023-01</td>\n",
       "      <td>0</td>\n",
       "    </tr>\n",
       "    <tr>\n",
       "      <th>2023-01-06</th>\n",
       "      <td>108.964</td>\n",
       "      <td>107.642</td>\n",
       "      <td>109.433</td>\n",
       "      <td>107.642</td>\n",
       "      <td>1.263000e+09</td>\n",
       "      <td>1.23</td>\n",
       "      <td>2023-01</td>\n",
       "      <td>0</td>\n",
       "    </tr>\n",
       "    <tr>\n",
       "      <th>2023-01-05</th>\n",
       "      <td>107.641</td>\n",
       "      <td>105.336</td>\n",
       "      <td>107.743</td>\n",
       "      <td>105.333</td>\n",
       "      <td>1.551000e+09</td>\n",
       "      <td>2.19</td>\n",
       "      <td>2023-01</td>\n",
       "      <td>0</td>\n",
       "    </tr>\n",
       "    <tr>\n",
       "      <th>2023-01-04</th>\n",
       "      <td>105.334</td>\n",
       "      <td>104.167</td>\n",
       "      <td>105.627</td>\n",
       "      <td>103.915</td>\n",
       "      <td>1.445000e+09</td>\n",
       "      <td>1.12</td>\n",
       "      <td>2023-01</td>\n",
       "      <td>0</td>\n",
       "    </tr>\n",
       "  </tbody>\n",
       "</table>\n",
       "<p>602 rows × 8 columns</p>\n",
       "</div>"
      ],
      "text/plain": [
       "            Fechamento_Diario  Abertura   Máxima   Mínima          Vol.  Var%  \\\n",
       "Data                                                                            \n",
       "2025-06-04            137.002   137.547  138.797  136.695  1.020000e+09 -0.40   \n",
       "2025-06-03            137.546   136.787  137.672  136.175  9.700000e+11  0.56   \n",
       "2025-06-02            136.787   137.026  138.471  136.483  9.100000e+11 -0.18   \n",
       "2025-05-30            137.027   138.546  138.637  136.726  1.514000e+12 -1.09   \n",
       "2025-05-29            138.534   138.869  139.108  137.993  8.830000e+11 -0.25   \n",
       "...                       ...       ...      ...      ...           ...   ...   \n",
       "2023-01-10            110.817   109.129  111.193  108.478  1.370000e+09  1.55   \n",
       "2023-01-09            109.130   108.964  109.938  108.134  1.205000e+09  0.15   \n",
       "2023-01-06            108.964   107.642  109.433  107.642  1.263000e+09  1.23   \n",
       "2023-01-05            107.641   105.336  107.743  105.333  1.551000e+09  2.19   \n",
       "2023-01-04            105.334   104.167  105.627  103.915  1.445000e+09  1.12   \n",
       "\n",
       "            Mes_Ano  Tendencia  \n",
       "Data                            \n",
       "2025-06-04  2025-06          1  \n",
       "2025-06-03  2025-06          0  \n",
       "2025-06-02  2025-06          1  \n",
       "2025-05-30  2025-05          1  \n",
       "2025-05-29  2025-05          1  \n",
       "...             ...        ...  \n",
       "2023-01-10  2023-01          0  \n",
       "2023-01-09  2023-01          0  \n",
       "2023-01-06  2023-01          0  \n",
       "2023-01-05  2023-01          0  \n",
       "2023-01-04  2023-01          0  \n",
       "\n",
       "[602 rows x 8 columns]"
      ]
     },
     "execution_count": 28,
     "metadata": {},
     "output_type": "execute_result"
    }
   ],
   "source": [
    "# Setando data como indice ()index\n",
    "df_ibov_copia = df_ibov_copia.set_index('Data')\n",
    "df_ibov_copia"
   ]
  },
  {
   "cell_type": "code",
   "execution_count": 29,
   "id": "775ac60f",
   "metadata": {},
   "outputs": [
    {
     "data": {
      "application/vnd.microsoft.datawrangler.viewer.v0+json": {
       "columns": [
        {
         "name": "index",
         "rawType": "object",
         "type": "string"
        },
        {
         "name": "0",
         "rawType": "int64",
         "type": "integer"
        }
       ],
       "ref": "32585ea0-65a1-4e16-ac27-ff4820150447",
       "rows": [
        [
         "Fechamento_Diario",
         "0"
        ],
        [
         "Abertura",
         "0"
        ],
        [
         "Máxima",
         "0"
        ],
        [
         "Mínima",
         "0"
        ],
        [
         "Vol.",
         "0"
        ],
        [
         "Var%",
         "0"
        ],
        [
         "Mes_Ano",
         "0"
        ],
        [
         "Tendencia",
         "0"
        ]
       ],
       "shape": {
        "columns": 1,
        "rows": 8
       }
      },
      "text/plain": [
       "Fechamento_Diario    0\n",
       "Abertura             0\n",
       "Máxima               0\n",
       "Mínima               0\n",
       "Vol.                 0\n",
       "Var%                 0\n",
       "Mes_Ano              0\n",
       "Tendencia            0\n",
       "dtype: int64"
      ]
     },
     "execution_count": 29,
     "metadata": {},
     "output_type": "execute_result"
    }
   ],
   "source": [
    "# Existe dados Nulos\n",
    "df_ibov_copia.isnull().sum()"
   ]
  },
  {
   "cell_type": "code",
   "execution_count": 30,
   "id": "2debccdb",
   "metadata": {},
   "outputs": [
    {
     "name": "stdout",
     "output_type": "stream",
     "text": [
      "Data Inicial: 2023-01-04 00:00:00\n",
      "Data Inicial: 2025-06-04 00:00:00\n"
     ]
    }
   ],
   "source": [
    "# Inicio e fim do ano de extraidos do dataset\n",
    "print(f'Data Inicial: {df_ibov_copia.index.min()}')\n",
    "print(f'Data Inicial: {df_ibov_copia.index.max()}')"
   ]
  },
  {
   "cell_type": "code",
   "execution_count": 31,
   "id": "2b5f96dd",
   "metadata": {},
   "outputs": [
    {
     "data": {
      "text/plain": [
       "np.int64(0)"
      ]
     },
     "execution_count": 31,
     "metadata": {},
     "output_type": "execute_result"
    }
   ],
   "source": [
    "# Temos dados duplicados\n",
    "df_ibov_copia.duplicated().sum()"
   ]
  },
  {
   "cell_type": "markdown",
   "id": "037c6976",
   "metadata": {},
   "source": [
    "O %b é um código de formatação de datas que representa o nome abreviado do mês, como:\n",
    "\n",
    "Código\tResultado Exemplo  \n",
    "%b\tJan, Feb, Mar...  \n",
    "%B\tJanuary, February, March... (nome completo do mês)  \n",
    "%m\t01, 02, 03... (número do mês com dois dígitos)  \n",
    "%Y\t2025 (ano com quatro dígitos)  \n",
    "%y\t25 (ano com dois dígitos)  "
   ]
  },
  {
   "cell_type": "code",
   "execution_count": 32,
   "id": "15252bb0",
   "metadata": {},
   "outputs": [
    {
     "data": {
      "image/png": "[encoded data removed]",
      "text/plain": [
       "<Figure size 1200x600 with 1 Axes>"
      ]
     },
     "metadata": {},
     "output_type": "display_data"
    }
   ],
   "source": [
    "import matplotlib.dates as mdates\n",
    "\n",
    "# Gráfico de linha\n",
    "fig, axes = plt.subplots(figsize=(12,6))\n",
    "\n",
    "sns.lineplot(data=df_ibov_copia, x=df_ibov_copia.index, y='Fechamento_Diario', ax=axes)\n",
    "\n",
    "# Formatação do eixo X para mostrar um rótulo por mês\n",
    "axes.xaxis.set_major_locator(mdates.MonthLocator(interval=1))  # Um tick por mês %b\tJan, Feb, Mar...\n",
    "axes.xaxis.set_major_formatter(mdates.DateFormatter('%b/%Y'))  # Exibe como Jan/2024\n",
    "\n",
    "# Rotaciona os rótulos para melhor visualização\n",
    "plt.setp(axes.get_xticklabels(), rotation=45, ha='right')\n",
    "\n",
    "axes.set_xlabel('Ano')\n",
    "axes.set_ylabel('Fechamento Diário (Milhar)')\n",
    "axes.set_title('Fechamento IBOVESPA dos últimos 2 anos')\n",
    "sns.despine()\n",
    "plt.show()"
   ]
  },
  {
   "cell_type": "markdown",
   "id": "5166034a",
   "metadata": {},
   "source": [
    "### **O gráfico de linha em ralação ao tempo nos mostra que o IBOVESPA vem am uma tendência de alta rompendo topos atrás de todos**"
   ]
  },
  {
   "cell_type": "code",
   "execution_count": 33,
   "id": "a49985d8",
   "metadata": {},
   "outputs": [
    {
     "data": {
      "image/png": "[encoded data removed]",
      "text/plain": [
       "<Figure size 1200x600 with 1 Axes>"
      ]
     },
     "metadata": {},
     "output_type": "display_data"
    }
   ],
   "source": [
    "import matplotlib.dates as mdates\n",
    "\n",
    "# Gráfico de de Dispersão\n",
    "fig, axes = plt.subplots(figsize=(12,6))\n",
    "\n",
    "sns.scatterplot(data=df_ibov_copia, x=\"Fechamento_Diario\", y='Abertura', ax=axes)\n",
    "\n",
    "# Rotaciona os rótulos para melhor visualização\n",
    "#plt.setp(axes.get_xticklabels(), rotation=45, ha='right')\n",
    "\n",
    "axes.set_xlabel('Ano')\n",
    "axes.set_ylabel('Variação em Porcentagem')\n",
    "axes.set_title('Variação IBOVESPA dos últimos 2 anos')\n",
    "plt.show()"
   ]
  },
  {
   "cell_type": "code",
   "execution_count": 34,
   "id": "eef63c18",
   "metadata": {},
   "outputs": [
    {
     "data": {
      "image/png": "[encoded data removed]",
      "text/plain": [
       "<Figure size 1200x600 with 1 Axes>"
      ]
     },
     "metadata": {},
     "output_type": "display_data"
    }
   ],
   "source": [
    "import matplotlib.dates as mdates\n",
    "\n",
    "# Gráfico de de Dispersão\n",
    "fig, axes = plt.subplots(figsize=(12,6))\n",
    "\n",
    "sns.scatterplot(data=df_ibov_copia, x=df_ibov_copia.index, y='Var%', ax=axes)\n",
    "\n",
    "# Linha horizontal na média da variação\n",
    "media = df_ibov_copia['Var%'].mean()\n",
    "axes.axhline(media, color='red', linestyle='--', linewidth=2, label=f'Média ({media:.2f}%)')\n",
    "\n",
    "# Formatação do eixo X para mostrar um rótulo por mês\n",
    "axes.xaxis.set_major_locator(mdates.MonthLocator(interval=1))  # Um tick por mês %b\tJan, Feb, Mar...\n",
    "axes.xaxis.set_major_formatter(mdates.DateFormatter('%b/%Y'))  # Exibe como Jan/2024\n",
    "\n",
    "# Rotaciona os rótulos para melhor visualização\n",
    "plt.setp(axes.get_xticklabels(), rotation=45, ha='right')\n",
    "\n",
    "axes.set_xlabel('Ano')\n",
    "axes.set_ylabel('Variação em Porcentagem')\n",
    "axes.set_title('Variação IBOVESPA dos últimos 2 anos')\n",
    "plt.show()"
   ]
  },
  {
   "cell_type": "code",
   "execution_count": 35,
   "id": "536d9518",
   "metadata": {},
   "outputs": [
    {
     "data": {
      "image/png": "[encoded data removed]",
      "text/plain": [
       "<Figure size 1200x600 with 1 Axes>"
      ]
     },
     "metadata": {},
     "output_type": "display_data"
    }
   ],
   "source": [
    "# Quantidade de dias que o IBOVESPA teve o fechamento Positivo e Negativo\n",
    "\n",
    "# Substitui 0 por 'Negativo' e 1 por 'Positivo'\n",
    "df_temp = df_ibov_copia.copy()\n",
    "df_temp['Tendencia'] = df_temp['Tendencia'].map({0: 'Negativo', 1: 'Positivo'})\n",
    "\n",
    "# Define as cores desejadas para cada categoria\n",
    "palette_cores = {'Negativo': 'red', 'Positivo': 'green'}\n",
    "\n",
    "# Gráfico de barra\n",
    "fig, axes = plt.subplots(figsize=(12,6))\n",
    "\n",
    "sns.countplot(data=df_temp, x='Tendencia', hue='Tendencia', ax=axes, palette=palette_cores, legend=False)\n",
    "\n",
    "# Adiciona os labels (valores) nas barras\n",
    "for p in axes.patches:\n",
    "    altura = p.get_height()\n",
    "    axes.annotate(f'{int(altura)}',  # texto (valor da barra)\n",
    "                  (p.get_x() + p.get_width() / 2, altura),  # posição do texto\n",
    "                  ha='center', va='bottom', fontsize=12, fontweight='bold')\n",
    "\n",
    "# Remove os números do eixo Y\n",
    "axes.set_yticks([])\n",
    "\n",
    "axes.set_xlabel('Tendência')\n",
    "axes.set_ylabel('Contagem')\n",
    "axes.set_ylim(0, 350)\n",
    "axes.set_title('Contagem dos Fechamentos do IBOVESPA nos últimos 2 anos')\n",
    "sns.despine(left=True)\n",
    "plt.show()"
   ]
  },
  {
   "cell_type": "code",
   "execution_count": 36,
   "id": "7b953a73",
   "metadata": {},
   "outputs": [
    {
     "data": {
      "image/png": "[encoded data removed]",
      "text/plain": [
       "<Figure size 1200x600 with 1 Axes>"
      ]
     },
     "metadata": {},
     "output_type": "display_data"
    }
   ],
   "source": [
    "from matplotlib.ticker import FuncFormatter, MultipleLocator\n",
    "\n",
    "# Copia e ajusta os dados\n",
    "df_temp_fech = df_ibov_copia.copy()\n",
    "df_temp_fech[\"Fechamento_Diario\"] = df_temp_fech[\"Fechamento_Diario\"] * 1000\n",
    "\n",
    "# Criação do gráfico\n",
    "fig, axes = plt.subplots(figsize=(12,6))\n",
    "sns.boxplot(data=df_temp_fech, x=\"Fechamento_Diario\", ax=axes)\n",
    "\n",
    "# Valores mínimo e máximo\n",
    "min_val = df_temp_fech['Fechamento_Diario'].min() - 5000\n",
    "max_val = df_temp_fech['Fechamento_Diario'].max()\n",
    "\n",
    "# Limites com margem de 2%\n",
    "axes.set_xlim(min_val * 0.98, max_val * 1.02)\n",
    "\n",
    "# Ticks de 5.000 em 5.000\n",
    "axes.xaxis.set_major_locator(MultipleLocator(5000))\n",
    "\n",
    "# Formata para exibir separador de milhar\n",
    "formatter = FuncFormatter(lambda x, _: f'{int(x):,}'.replace(',', '.')) # _: o segundo argumento é exigido pelo FuncFormatter, mas não precisamos dele aqui (por isso usamos _ como convenção de \"ignorado\").\n",
    "axes.xaxis.set_major_formatter(formatter)\n",
    "\n",
    "# Estética\n",
    "axes.set_xlabel('Fechamento Diário (R$)')\n",
    "axes.set_title('Boxplot do Fechamento Diário do IBOVESPA')\n",
    "plt.tight_layout()\n",
    "plt.show()"
   ]
  }
 ],
 "metadata": {
  "kernelspec": {
   "display_name": "base",
   "language": "python",
   "name": "python3"
  },
  "language_info": {
   "codemirror_mode": {
    "name": "ipython",
    "version": 3
   },
   "file_extension": ".py",
   "mimetype": "text/x-python",
   "name": "python",
   "nbconvert_exporter": "python",
   "pygments_lexer": "ipython3",
   "version": "3.12.9"
  }
 },
 "nbformat": 4,
 "nbformat_minor": 5
}
