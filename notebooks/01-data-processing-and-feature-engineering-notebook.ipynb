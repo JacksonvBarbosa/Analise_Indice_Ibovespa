{
  "cells": [
    {
      "cell_type": "markdown",
      "id": "hcSvZD7bwX40",
      "metadata": {
        "id": "hcSvZD7bwX40"
      },
      "source": [
        "# Modelo preditivo para a tendência do IBOVESPA"
      ]
    },
    {
      "cell_type": "markdown",
      "id": "ClTjjNWjxXku",
      "metadata": {
        "id": "ClTjjNWjxXku"
      },
      "source": [
        "O objetivo desse projeto é desenvolver um modelo de Machine Learning capaz de prever se o índice IBOVESPA vai fechar em alta ou baixa no dia seguinte, com acuracidade mínima de 75% em um conjunto de teste composto pelos últimos 30 dias de dados.\n",
        "\n",
        "> \"O Ibovespa é o principal indicador de desempenho das ações negociadas na B3 e reúne as empresas mais importantes do mercado de capitais brasileiro. Foi criado em 1968 e, ao longo desses 50 anos, consolidou-se como referência para investidores ao redor do mundo.\" [Referência](https://www.b3.com.br/pt_br/market-data-e-indices/indices/indices-amplos/ibovespa.htm)"
      ]
    },
    {
      "cell_type": "markdown",
      "id": "Uc6UBNOyNB-m",
      "metadata": {
        "id": "Uc6UBNOyNB-m"
      },
      "source": [
        "## Importação das bibliotecas"
      ]
    },
    {
      "cell_type": "code",
<<<<<<< HEAD
      "execution_count": 262,
=======
      "execution_count": 2,
>>>>>>> Jackson
      "id": "1d2c1e0d",
      "metadata": {
        "id": "1d2c1e0d"
      },
      "outputs": [],
      "source": [
        "import pandas as pd\n",
        "import yfinance as yf\n",
        "import pandas_ta as ta\n",
        "\n",
        "import warnings\n",
        "warnings.filterwarnings(\"ignore\", category=UserWarning)"
      ]
    },
    {
      "cell_type": "markdown",
      "id": "XeZiUraUzbQm",
      "metadata": {
        "id": "XeZiUraUzbQm"
      },
      "source": [
        "## Aquisição dos dados"
      ]
    },
    {
      "cell_type": "markdown",
      "id": "4MwyVRKM3zK7",
      "metadata": {
        "id": "4MwyVRKM3zK7"
      },
      "source": [
        "Utilizaremos os dados históricos do índice IBOVESPA, disponíveis publicamente no site do [br.investing](https://br.investing.com/indices/bovespa-historical-data)"
      ]
    },
    {
      "cell_type": "code",
<<<<<<< HEAD
      "execution_count": 263,
=======
      "execution_count": 3,
>>>>>>> Jackson
      "id": "4fb05152",
      "metadata": {
        "colab": {
          "base_uri": "https://localhost:8080/",
          "height": 206
        },
        "id": "4fb05152",
        "outputId": "4a6ed68c-7057-4403-d661-194fce438d5a"
      },
      "outputs": [
        {
          "data": {
            "application/vnd.microsoft.datawrangler.viewer.v0+json": {
              "columns": [
                {
                  "name": "ds",
                  "rawType": "datetime64[ns]",
                  "type": "datetime"
                },
                {
                  "name": "Último",
                  "rawType": "int64",
                  "type": "integer"
                },
                {
                  "name": "Abertura",
                  "rawType": "int64",
                  "type": "integer"
                },
                {
                  "name": "Máxima",
                  "rawType": "int64",
                  "type": "integer"
                },
                {
                  "name": "Mínima",
                  "rawType": "int64",
                  "type": "integer"
                },
                {
                  "name": "Vol.",
                  "rawType": "object",
                  "type": "string"
                },
                {
                  "name": "Var%",
                  "rawType": "object",
                  "type": "string"
                }
              ],
<<<<<<< HEAD
              "ref": "bf03bd2b-f7d0-4d6d-be8b-7a8ff0c1a01e",
=======
              "ref": "9306f2de-3f26-4069-a090-ac2acbf8d555",
>>>>>>> Jackson
              "rows": [
                [
                  "2025-06-12 00:00:00",
                  "137800",
                  "137127",
                  "137931",
                  "136175",
                  "7,12B",
                  "0,49%"
                ],
                [
                  "2025-06-13 00:00:00",
                  "137213",
                  "137800",
                  "137800",
                  "136586",
                  "8,63B",
                  "-0,43%"
                ],
                [
                  "2025-06-16 00:00:00",
                  "139256",
                  "137212",
                  "139988",
                  "137212",
                  "7,62B",
                  "1,49%"
                ],
                [
                  "2025-06-17 00:00:00",
                  "138840",
                  "139256",
                  "139497",
                  "138293",
                  "8,38B",
                  "-0,30%"
                ],
                [
                  "2025-06-18 00:00:00",
                  "138717",
                  "138844",
                  "139161",
                  "138443",
                  "8,32B",
                  "-0,09%"
                ]
              ],
              "shape": {
                "columns": 6,
                "rows": 5
              }
            },
            "text/html": [
              "<div>\n",
              "<style scoped>\n",
              "    .dataframe tbody tr th:only-of-type {\n",
              "        vertical-align: middle;\n",
              "    }\n",
              "\n",
              "    .dataframe tbody tr th {\n",
              "        vertical-align: top;\n",
              "    }\n",
              "\n",
              "    .dataframe thead th {\n",
              "        text-align: right;\n",
              "    }\n",
              "</style>\n",
              "<table border=\"1\" class=\"dataframe\">\n",
              "  <thead>\n",
              "    <tr style=\"text-align: right;\">\n",
              "      <th></th>\n",
              "      <th>Último</th>\n",
              "      <th>Abertura</th>\n",
              "      <th>Máxima</th>\n",
              "      <th>Mínima</th>\n",
              "      <th>Vol.</th>\n",
              "      <th>Var%</th>\n",
              "    </tr>\n",
              "    <tr>\n",
              "      <th>ds</th>\n",
              "      <th></th>\n",
              "      <th></th>\n",
              "      <th></th>\n",
              "      <th></th>\n",
              "      <th></th>\n",
              "      <th></th>\n",
              "    </tr>\n",
              "  </thead>\n",
              "  <tbody>\n",
              "    <tr>\n",
              "      <th>2025-06-12</th>\n",
              "      <td>137800</td>\n",
              "      <td>137127</td>\n",
              "      <td>137931</td>\n",
              "      <td>136175</td>\n",
              "      <td>7,12B</td>\n",
              "      <td>0,49%</td>\n",
              "    </tr>\n",
              "    <tr>\n",
              "      <th>2025-06-13</th>\n",
              "      <td>137213</td>\n",
              "      <td>137800</td>\n",
              "      <td>137800</td>\n",
              "      <td>136586</td>\n",
              "      <td>8,63B</td>\n",
              "      <td>-0,43%</td>\n",
              "    </tr>\n",
              "    <tr>\n",
              "      <th>2025-06-16</th>\n",
              "      <td>139256</td>\n",
              "      <td>137212</td>\n",
              "      <td>139988</td>\n",
              "      <td>137212</td>\n",
              "      <td>7,62B</td>\n",
              "      <td>1,49%</td>\n",
              "    </tr>\n",
              "    <tr>\n",
              "      <th>2025-06-17</th>\n",
              "      <td>138840</td>\n",
              "      <td>139256</td>\n",
              "      <td>139497</td>\n",
              "      <td>138293</td>\n",
              "      <td>8,38B</td>\n",
              "      <td>-0,30%</td>\n",
              "    </tr>\n",
              "    <tr>\n",
              "      <th>2025-06-18</th>\n",
              "      <td>138717</td>\n",
              "      <td>138844</td>\n",
              "      <td>139161</td>\n",
              "      <td>138443</td>\n",
              "      <td>8,32B</td>\n",
              "      <td>-0,09%</td>\n",
              "    </tr>\n",
              "  </tbody>\n",
              "</table>\n",
              "</div>"
            ],
            "text/plain": [
              "            Último  Abertura  Máxima  Mínima   Vol.    Var%\n",
              "ds                                                         \n",
              "2025-06-12  137800    137127  137931  136175  7,12B   0,49%\n",
              "2025-06-13  137213    137800  137800  136586  8,63B  -0,43%\n",
              "2025-06-16  139256    137212  139988  137212  7,62B   1,49%\n",
              "2025-06-17  138840    139256  139497  138293  8,38B  -0,30%\n",
              "2025-06-18  138717    138844  139161  138443  8,32B  -0,09%"
            ]
          },
<<<<<<< HEAD
          "execution_count": 263,
=======
          "execution_count": 3,
>>>>>>> Jackson
          "metadata": {},
          "output_type": "execute_result"
        }
      ],
      "source": [
        "input_path = '../data/raw/dados_historicos_ibovespa_2008-2025.csv'\n",
        "\n",
        "df = pd.read_csv(input_path, thousands='.', decimal=',', parse_dates=['Data'], date_format='%d.%m.%Y', index_col='Data')\n",
        "df = df.rename_axis('ds').sort_index()\n",
        "df.tail()"
      ]
    },
    {
      "cell_type": "code",
<<<<<<< HEAD
      "execution_count": 264,
=======
      "execution_count": 4,
>>>>>>> Jackson
      "id": "4388e644",
      "metadata": {
        "colab": {
          "base_uri": "https://localhost:8080/"
        },
        "id": "4388e644",
        "outputId": "4c8d8997-4e20-4636-a3a3-70e32ed6f18d"
      },
      "outputs": [
        {
          "data": {
            "text/plain": [
              "(4315, 6)"
            ]
          },
<<<<<<< HEAD
          "execution_count": 264,
=======
          "execution_count": 4,
>>>>>>> Jackson
          "metadata": {},
          "output_type": "execute_result"
        }
      ],
      "source": [
        "df.shape"
      ]
    },
    {
      "cell_type": "code",
<<<<<<< HEAD
      "execution_count": 265,
=======
      "execution_count": 5,
>>>>>>> Jackson
      "id": "ff422871",
      "metadata": {
        "colab": {
          "base_uri": "https://localhost:8080/"
        },
        "id": "ff422871",
        "outputId": "8b136df2-65d7-4790-bc93-2fe4fdd89955"
      },
      "outputs": [
        {
          "name": "stdout",
          "output_type": "stream",
          "text": [
            "<class 'pandas.core.frame.DataFrame'>\n",
            "DatetimeIndex: 4315 entries, 2008-01-18 to 2025-06-18\n",
            "Data columns (total 6 columns):\n",
            " #   Column    Non-Null Count  Dtype \n",
            "---  ------    --------------  ----- \n",
            " 0   Último    4315 non-null   int64 \n",
            " 1   Abertura  4315 non-null   int64 \n",
            " 2   Máxima    4315 non-null   int64 \n",
            " 3   Mínima    4315 non-null   int64 \n",
            " 4   Vol.      4314 non-null   object\n",
            " 5   Var%      4315 non-null   object\n",
            "dtypes: int64(4), object(2)\n",
            "memory usage: 236.0+ KB\n"
          ]
        }
      ],
      "source": [
        "# informações gerais do dataframe\n",
        "df.info()"
      ]
    },
    {
      "cell_type": "markdown",
      "id": "bcpbyEHPy1Cm",
      "metadata": {
        "id": "bcpbyEHPy1Cm"
      },
      "source": [
        "## Tratamento dos dados"
      ]
    },
    {
      "cell_type": "markdown",
      "id": "1TelLAa42j5h",
      "metadata": {
        "id": "1TelLAa42j5h"
      },
      "source": [
        "Vamos transformar os dados brutos em um formato adequado para o treinamento de um modelo de Machine Learning."
      ]
    },
    {
      "cell_type": "code",
<<<<<<< HEAD
      "execution_count": 266,
=======
      "execution_count": 6,
>>>>>>> Jackson
      "id": "dda056cd",
      "metadata": {
        "id": "dda056cd"
      },
      "outputs": [],
      "source": [
        "# renomeando as colunas para os nomes padrões utilizados no mercado financeiro\n",
        "colunas = {\n",
        "  'Último': 'close',              # fechamento da negociação diária\n",
        "  'Abertura': 'open',             # início da negociação diária\n",
        "  'Máxima': 'high',               # valor máximo do dia\n",
        "  'Mínima': 'low',                # valor mínimo do dia\n",
        "  'Vol.': 'volume',               # volume de negociação diária\n",
        "  'Var%': 'daily_return'          # variação percentual diária\n",
        "}\n",
        "\n",
        "df.rename(columns=colunas, inplace=True)"
      ]
    },
    {
      "cell_type": "code",
<<<<<<< HEAD
      "execution_count": 267,
=======
      "execution_count": 7,
>>>>>>> Jackson
      "id": "WBSchYd63__f",
      "metadata": {
        "colab": {
          "base_uri": "https://localhost:8080/"
        },
        "id": "WBSchYd63__f",
        "outputId": "b69bdd3c-3527-4852-ba83-5176e05661f7"
      },
      "outputs": [
        {
          "name": "stdout",
          "output_type": "stream",
          "text": [
            "Os dados vão de 2008-01-18 até 2025-06-18, o que dá aproximadamente 17 anos\n"
          ]
        }
      ],
      "source": [
        "# Data mínima, máxima e total de anos do DF levando em conta os anos bissextos\n",
        "print(f\"Os dados vão de {df.index.min().date()} até {df.index.max().date()}, o que dá aproximadamente {(df.index.max() - df.index.min()).days / 365.25:.0f} anos\")"
      ]
    },
    {
      "cell_type": "code",
<<<<<<< HEAD
      "execution_count": 268,
=======
      "execution_count": 8,
>>>>>>> Jackson
      "id": "RK9PpqYyWkfe",
      "metadata": {
        "colab": {
          "base_uri": "https://localhost:8080/"
        },
        "id": "RK9PpqYyWkfe",
        "outputId": "7161e1e2-25a2-4a85-ba2e-c8904c684f2d"
      },
      "outputs": [
        {
          "data": {
            "text/plain": [
              "0"
            ]
          },
<<<<<<< HEAD
          "execution_count": 268,
=======
          "execution_count": 8,
>>>>>>> Jackson
          "metadata": {},
          "output_type": "execute_result"
        }
      ],
      "source": [
        "# conferindo se há valores duplicados\n",
        "df.duplicated().sum()"
      ]
    },
    {
      "cell_type": "code",
<<<<<<< HEAD
      "execution_count": 269,
=======
      "execution_count": 9,
>>>>>>> Jackson
      "id": "c5520c66",
      "metadata": {
        "colab": {
          "base_uri": "https://localhost:8080/",
          "height": 303
        },
        "id": "c5520c66",
        "outputId": "955ead20-d9a9-4b4e-8934-64e24df5f28f"
      },
      "outputs": [
        {
          "data": {
            "application/vnd.microsoft.datawrangler.viewer.v0+json": {
              "columns": [
                {
                  "name": "index",
                  "rawType": "object",
                  "type": "string"
                },
                {
                  "name": "0",
                  "rawType": "int64",
                  "type": "integer"
                }
              ],
<<<<<<< HEAD
              "ref": "64af0422-1fbe-4783-bd0f-6005e6e0e0cb",
=======
              "ref": "5581693c-3815-4997-9cd8-352d3b164124",
>>>>>>> Jackson
              "rows": [
                [
                  "close",
                  "0"
                ],
                [
                  "open",
                  "0"
                ],
                [
                  "high",
                  "0"
                ],
                [
                  "low",
                  "0"
                ],
                [
                  "volume",
                  "1"
                ],
                [
                  "daily_return",
                  "0"
                ]
              ],
              "shape": {
                "columns": 1,
                "rows": 6
              }
            },
            "text/plain": [
              "close           0\n",
              "open            0\n",
              "high            0\n",
              "low             0\n",
              "volume          1\n",
              "daily_return    0\n",
              "dtype: int64"
            ]
          },
<<<<<<< HEAD
          "execution_count": 269,
=======
          "execution_count": 9,
>>>>>>> Jackson
          "metadata": {},
          "output_type": "execute_result"
        }
      ],
      "source": [
        "# conferindo se há valores nulos\n",
        "df.isnull().sum()"
      ]
    },
    {
      "cell_type": "code",
<<<<<<< HEAD
      "execution_count": 270,
=======
      "execution_count": 10,
>>>>>>> Jackson
      "id": "P7QEN53jaY04",
      "metadata": {
        "colab": {
          "base_uri": "https://localhost:8080/",
          "height": 81
        },
        "id": "P7QEN53jaY04",
        "outputId": "25533cd7-4143-4dea-86b1-f4531d4fad52"
      },
      "outputs": [
        {
          "data": {
            "application/vnd.microsoft.datawrangler.viewer.v0+json": {
              "columns": [
                {
                  "name": "ds",
                  "rawType": "datetime64[ns]",
                  "type": "datetime"
                },
                {
                  "name": "close",
                  "rawType": "int64",
                  "type": "integer"
                },
                {
                  "name": "open",
                  "rawType": "int64",
                  "type": "integer"
                },
                {
                  "name": "high",
                  "rawType": "int64",
                  "type": "integer"
                },
                {
                  "name": "low",
                  "rawType": "int64",
                  "type": "integer"
                },
                {
                  "name": "volume",
                  "rawType": "object",
                  "type": "unknown"
                },
                {
                  "name": "daily_return",
                  "rawType": "object",
                  "type": "string"
                }
              ],
<<<<<<< HEAD
              "ref": "f97a5b4d-357e-4686-8b69-3abd4aa4085a",
=======
              "ref": "bac9cf44-e5a5-4ce8-81e6-3ff30b2d421c",
>>>>>>> Jackson
              "rows": [
                [
                  "2016-02-10 00:00:00",
                  "40377",
                  "40592",
                  "40592",
                  "39960",
                  null,
                  "-0,53%"
                ]
              ],
              "shape": {
                "columns": 6,
                "rows": 1
              }
            },
            "text/html": [
              "<div>\n",
              "<style scoped>\n",
              "    .dataframe tbody tr th:only-of-type {\n",
              "        vertical-align: middle;\n",
              "    }\n",
              "\n",
              "    .dataframe tbody tr th {\n",
              "        vertical-align: top;\n",
              "    }\n",
              "\n",
              "    .dataframe thead th {\n",
              "        text-align: right;\n",
              "    }\n",
              "</style>\n",
              "<table border=\"1\" class=\"dataframe\">\n",
              "  <thead>\n",
              "    <tr style=\"text-align: right;\">\n",
              "      <th></th>\n",
              "      <th>close</th>\n",
              "      <th>open</th>\n",
              "      <th>high</th>\n",
              "      <th>low</th>\n",
              "      <th>volume</th>\n",
              "      <th>daily_return</th>\n",
              "    </tr>\n",
              "    <tr>\n",
              "      <th>ds</th>\n",
              "      <th></th>\n",
              "      <th></th>\n",
              "      <th></th>\n",
              "      <th></th>\n",
              "      <th></th>\n",
              "      <th></th>\n",
              "    </tr>\n",
              "  </thead>\n",
              "  <tbody>\n",
              "    <tr>\n",
              "      <th>2016-02-10</th>\n",
              "      <td>40377</td>\n",
              "      <td>40592</td>\n",
              "      <td>40592</td>\n",
              "      <td>39960</td>\n",
              "      <td>NaN</td>\n",
              "      <td>-0,53%</td>\n",
              "    </tr>\n",
              "  </tbody>\n",
              "</table>\n",
              "</div>"
            ],
            "text/plain": [
              "            close   open   high    low volume daily_return\n",
              "ds                                                        \n",
              "2016-02-10  40377  40592  40592  39960    NaN       -0,53%"
            ]
          },
<<<<<<< HEAD
          "execution_count": 270,
=======
          "execution_count": 10,
>>>>>>> Jackson
          "metadata": {},
          "output_type": "execute_result"
        }
      ],
      "source": [
        "df[df['volume'].isnull()]"
      ]
    },
    {
      "cell_type": "code",
<<<<<<< HEAD
      "execution_count": 271,
=======
      "execution_count": 11,
>>>>>>> Jackson
      "id": "5df27607",
      "metadata": {
        "id": "5df27607"
      },
      "outputs": [],
      "source": [
        "def converter_volume(vol: str | float) -> float:\n",
        "    \"\"\"\n",
        "    Converte uma string de volume com sufixos (K, M, B) para um número float.\n",
        "    \n",
        "    Parâmetro:\n",
        "        vol (string | float): o valor a ser convertido (ex: '8,3M'). Pode ser uma string ou um np.nan (que é float).\n",
        "        \n",
        "    Retorna:\n",
        "        float: o valor convertido ou np.nan caso não haja um valor.\n",
        "    \"\"\"\n",
        "    if not isinstance(vol, str):\n",
        "        return vol\n",
        "\n",
        "    multiplicadores = {'K': 1e3, 'M': 1e6, 'B': 1e9}\n",
        "    vol = vol.upper().replace(',', '.').strip()\n",
        "    sufixo = vol[-1]\n",
        "\n",
        "    if sufixo in multiplicadores:\n",
        "        return float(vol[:-1]) * multiplicadores[sufixo]\n",
        "    else:\n",
        "        return float(vol)\n",
        "\n",
        "df['volume'] = df['volume'].apply(converter_volume)"
      ]
    },
    {
      "cell_type": "code",
<<<<<<< HEAD
      "execution_count": 272,
=======
      "execution_count": 12,
>>>>>>> Jackson
      "id": "f0055685",
      "metadata": {},
      "outputs": [],
      "source": [
        "# substituir o volume nulo pela média do volume anterior e posterior daquela data\n",
        "df['volume'] = df['volume'].interpolate()"
      ]
    },
    {
      "cell_type": "code",
<<<<<<< HEAD
      "execution_count": 273,
=======
      "execution_count": 13,
>>>>>>> Jackson
      "id": "06f339aa",
      "metadata": {
        "colab": {
          "base_uri": "https://localhost:8080/",
          "height": 206
        },
        "id": "06f339aa",
        "outputId": "8f4dbdd1-ee5b-49ac-b783-75bc795961ef"
      },
      "outputs": [
        {
          "data": {
            "application/vnd.microsoft.datawrangler.viewer.v0+json": {
              "columns": [
                {
                  "name": "ds",
                  "rawType": "datetime64[ns]",
                  "type": "datetime"
                },
                {
                  "name": "close",
                  "rawType": "int64",
                  "type": "integer"
                },
                {
                  "name": "open",
                  "rawType": "int64",
                  "type": "integer"
                },
                {
                  "name": "high",
                  "rawType": "int64",
                  "type": "integer"
                },
                {
                  "name": "low",
                  "rawType": "int64",
                  "type": "integer"
                },
                {
                  "name": "volume",
                  "rawType": "float64",
                  "type": "float"
                },
                {
                  "name": "daily_return",
                  "rawType": "float64",
                  "type": "float"
                }
              ],
<<<<<<< HEAD
              "ref": "21257ed1-0c66-432a-a4d3-0838adf9b2e7",
=======
              "ref": "03e5ab39-51c4-4315-a3c6-b7170874e3a4",
>>>>>>> Jackson
              "rows": [
                [
                  "2008-01-18 00:00:00",
                  "57506",
                  "57039",
                  "58291",
                  "56241",
                  "5810000.0",
                  "0.0082"
                ],
                [
                  "2008-01-21 00:00:00",
                  "53709",
                  "57503",
                  "57503",
                  "53487",
                  "3570000.0",
                  "-0.066"
                ],
                [
                  "2008-01-22 00:00:00",
                  "56097",
                  "53705",
                  "56541",
                  "53610",
                  "3650000.0",
                  "0.0445"
                ],
                [
                  "2008-01-23 00:00:00",
                  "54235",
                  "56098",
                  "56098",
                  "53011",
                  "3720000.0",
                  "-0.0332"
                ],
                [
                  "2008-01-24 00:00:00",
                  "57463",
                  "54242",
                  "57675",
                  "54242",
                  "3800000.0",
                  "0.0595"
                ]
              ],
              "shape": {
                "columns": 6,
                "rows": 5
              }
            },
            "text/html": [
              "<div>\n",
              "<style scoped>\n",
              "    .dataframe tbody tr th:only-of-type {\n",
              "        vertical-align: middle;\n",
              "    }\n",
              "\n",
              "    .dataframe tbody tr th {\n",
              "        vertical-align: top;\n",
              "    }\n",
              "\n",
              "    .dataframe thead th {\n",
              "        text-align: right;\n",
              "    }\n",
              "</style>\n",
              "<table border=\"1\" class=\"dataframe\">\n",
              "  <thead>\n",
              "    <tr style=\"text-align: right;\">\n",
              "      <th></th>\n",
              "      <th>close</th>\n",
              "      <th>open</th>\n",
              "      <th>high</th>\n",
              "      <th>low</th>\n",
              "      <th>volume</th>\n",
              "      <th>daily_return</th>\n",
              "    </tr>\n",
              "    <tr>\n",
              "      <th>ds</th>\n",
              "      <th></th>\n",
              "      <th></th>\n",
              "      <th></th>\n",
              "      <th></th>\n",
              "      <th></th>\n",
              "      <th></th>\n",
              "    </tr>\n",
              "  </thead>\n",
              "  <tbody>\n",
              "    <tr>\n",
              "      <th>2008-01-18</th>\n",
              "      <td>57506</td>\n",
              "      <td>57039</td>\n",
              "      <td>58291</td>\n",
              "      <td>56241</td>\n",
              "      <td>5810000.0</td>\n",
              "      <td>0.0082</td>\n",
              "    </tr>\n",
              "    <tr>\n",
              "      <th>2008-01-21</th>\n",
              "      <td>53709</td>\n",
              "      <td>57503</td>\n",
              "      <td>57503</td>\n",
              "      <td>53487</td>\n",
              "      <td>3570000.0</td>\n",
              "      <td>-0.0660</td>\n",
              "    </tr>\n",
              "    <tr>\n",
              "      <th>2008-01-22</th>\n",
              "      <td>56097</td>\n",
              "      <td>53705</td>\n",
              "      <td>56541</td>\n",
              "      <td>53610</td>\n",
              "      <td>3650000.0</td>\n",
              "      <td>0.0445</td>\n",
              "    </tr>\n",
              "    <tr>\n",
              "      <th>2008-01-23</th>\n",
              "      <td>54235</td>\n",
              "      <td>56098</td>\n",
              "      <td>56098</td>\n",
              "      <td>53011</td>\n",
              "      <td>3720000.0</td>\n",
              "      <td>-0.0332</td>\n",
              "    </tr>\n",
              "    <tr>\n",
              "      <th>2008-01-24</th>\n",
              "      <td>57463</td>\n",
              "      <td>54242</td>\n",
              "      <td>57675</td>\n",
              "      <td>54242</td>\n",
              "      <td>3800000.0</td>\n",
              "      <td>0.0595</td>\n",
              "    </tr>\n",
              "  </tbody>\n",
              "</table>\n",
              "</div>"
            ],
            "text/plain": [
              "            close   open   high    low     volume  daily_return\n",
              "ds                                                             \n",
              "2008-01-18  57506  57039  58291  56241  5810000.0        0.0082\n",
              "2008-01-21  53709  57503  57503  53487  3570000.0       -0.0660\n",
              "2008-01-22  56097  53705  56541  53610  3650000.0        0.0445\n",
              "2008-01-23  54235  56098  56098  53011  3720000.0       -0.0332\n",
              "2008-01-24  57463  54242  57675  54242  3800000.0        0.0595"
            ]
          },
<<<<<<< HEAD
          "execution_count": 273,
=======
          "execution_count": 13,
>>>>>>> Jackson
          "metadata": {},
          "output_type": "execute_result"
        }
      ],
      "source": [
        "# ajustando a coluna variação percentual diária, que contém o pct_change() do fechamento\n",
        "df['daily_return'] = df['daily_return'].str.replace('%', '').str.replace(',', '.')\n",
        "df['daily_return'] = round(df['daily_return'].astype(float) / 100, 4)\n",
        "df.head()"
      ]
    },
    {
      "cell_type": "code",
<<<<<<< HEAD
      "execution_count": 274,
=======
      "execution_count": 14,
>>>>>>> Jackson
      "id": "a0bf4b57",
      "metadata": {
        "colab": {
          "base_uri": "https://localhost:8080/"
        },
        "id": "a0bf4b57",
        "outputId": "31a10e98-186f-4e70-db48-42dd2d49c254"
      },
      "outputs": [
        {
          "name": "stdout",
          "output_type": "stream",
          "text": [
            "<class 'pandas.core.frame.DataFrame'>\n",
            "DatetimeIndex: 4315 entries, 2008-01-18 to 2025-06-18\n",
            "Data columns (total 6 columns):\n",
            " #   Column        Non-Null Count  Dtype  \n",
            "---  ------        --------------  -----  \n",
            " 0   close         4315 non-null   int64  \n",
            " 1   open          4315 non-null   int64  \n",
            " 2   high          4315 non-null   int64  \n",
            " 3   low           4315 non-null   int64  \n",
            " 4   volume        4315 non-null   float64\n",
            " 5   daily_return  4315 non-null   float64\n",
            "dtypes: float64(2), int64(4)\n",
            "memory usage: 236.0 KB\n"
          ]
        }
      ],
      "source": [
        "# conferindo formato dos dados\n",
        "df.info()"
      ]
    },
    {
      "cell_type": "markdown",
      "id": "ZrOGRSaq0OQk",
      "metadata": {
        "id": "ZrOGRSaq0OQk"
      },
      "source": [
        "## Engenharia de atributos"
      ]
    },
    {
      "cell_type": "markdown",
      "id": "a185b2a7",
      "metadata": {},
      "source": [
        "### Baseados em dados internos"
      ]
    },
    {
      "cell_type": "markdown",
      "id": "833a9428",
      "metadata": {},
      "source": [
        "Agora, vamos criar **variáveis preditoras** através de uma **análise técnica** do mercado financeiro, ao invés de uma análise fundamentalista. Em vez de dar ao modelo os dados brutos de abertura, máxima e mínima, vamos criar features para extrair a informação das relações entre eles.\n",
        "\n",
        "Para as janelas de tempo, vamos utilizar as convenções do mercado financeiro para representar uma semana (5 dias), um mês (21 dias) e um trimestre (63 dias) de transações, levando em conta que a bolsa não abre em feriados e finais de semana."
      ]
    },
    {
      "cell_type": "markdown",
      "id": "09cdaaaa",
      "metadata": {},
      "source": [
        "---\n",
        "INDICADORES DE MOMENTUM"
      ]
    },
    {
      "cell_type": "code",
<<<<<<< HEAD
      "execution_count": 275,
=======
      "execution_count": 15,
>>>>>>> Jackson
      "id": "f096a014",
      "metadata": {},
      "outputs": [],
      "source": [
        "# retorno percentual com defasagem de 1 a 5 dias (tendência de curto prazo)\n",
        "for lag in range(1, 6):\n",
        "    df[f'return_lag_{lag}'] = df['daily_return'].shift(lag)\n",
        "\n",
        "# retorno percentual acumulado de uma semana, um mês e um trimestre\n",
        "for period in [5, 21, 63]:\n",
        "    df[f'momentum_{period}'] = df['close'].pct_change(period)\n",
        "\n",
        "# aceleração e consistência de momentum em 1 mês\n",
        "df['momentum_accel_21'] = df['momentum_21'].diff()\n",
        "df['momentum_consistency_21'] = (df['daily_return'] > 0).rolling(window=21).mean()"
      ]
    },
    {
      "cell_type": "markdown",
      "id": "2f427bb8",
      "metadata": {},
      "source": [
        "---\n",
        "INDICADORES DE TENDÊNCIA\n",
        "\n",
        "* **Média móvel simples (de 21 dias)**: para suavizar o ruído e identificar a tendência de médio prazo (mensal).\n",
        "* **Média móvel exponencial (de 50 dias)**: para identificar a tendência de prazo mais longo (trimestral), com maior peso nos dados recentes.\n",
        "* **MACD**: para mostrar a relação entre duas médias móveis exponenciais."
      ]
    },
    {
      "cell_type": "code",
<<<<<<< HEAD
      "execution_count": 276,
=======
      "execution_count": 16,
>>>>>>> Jackson
      "id": "67fe6032",
      "metadata": {},
      "outputs": [],
      "source": [
        "# média móvel simples de um mês (tendência de médio prazo)\n",
        "df['sma_21'] = ta.sma(df['close'], length=21)\n",
        "\n",
        "# média móvel exponencial de um trimestre (tendência de longo prazo)\n",
        "df['ema_50'] = ta.ema(df['close'], length=50)\n",
        "\n",
        "# moving average convergence divergence (MACD)\n",
        "df.ta.macd(append=True) # (fast=12, slow=26, signal=9)\n",
        "df.rename(columns={'MACD_12_26_9': 'macd',\n",
        "                   'MACDs_12_26_9': 'macd_signal',\n",
        "                   'MACDh_12_26_9': 'macd_hist'},\n",
        "          inplace=True)\n"
      ]
    },
    {
      "cell_type": "markdown",
      "id": "82285acc",
      "metadata": {},
      "source": [
        "Para a média móvel exponencial, é uma convenção utilizar 50 dias ou 200 dias para tendências de longo prazo. [Referência](https://www.investopedia.com/terms/e/ema.asp#citation-4)"
      ]
    },
    {
      "cell_type": "markdown",
      "id": "dc1b83c0",
      "metadata": {},
      "source": [
        "---\n",
        "INDICADORES DE OSCILAÇÃO\n",
        "\n",
        "* **Índice de Força Relativa**: para medir condições de sobrecompra ou sobrevenda, testando hipóteses de reversão à média.\n",
        "* **Oscilador Estocástico**: para comparar o preço de fechamento com sua faixa de preço (máxima-mínima) em um período, identificando condições de sobrecompra/sobrevenda."
      ]
    },
    {
      "cell_type": "code",
<<<<<<< HEAD
      "execution_count": 277,
=======
      "execution_count": 17,
>>>>>>> Jackson
      "id": "5e0f355c",
      "metadata": {},
      "outputs": [],
      "source": [
        "# índice de força relativa (IFR) varia de 0 a 100\n",
        "df['rsi_14'] = ta.rsi(df['close'], length=14)\n",
        "\n",
        "# oscilador estocástico \n",
        "df.ta.stoch(append=True) # (k=14, d=3, smooth_k=3)\n",
        "df.rename(columns={'STOCHk_14_3_3': 'stoch_k',\n",
        "                   'STOCHd_14_3_3': 'stoch_d'},\n",
        "          inplace=True)"
      ]
    },
    {
      "cell_type": "markdown",
      "id": "ec22d340",
      "metadata": {},
      "source": [
        "Por padrão, utiliza-se um período de 14 dias para o IFR. [Referência](https://blog.quantinsti.com/rsi-indicator/)"
      ]
    },
    {
      "cell_type": "markdown",
      "id": "70c1862e",
      "metadata": {},
      "source": [
        "---\n",
        "INDICADORES DE VOLATILIDADE\n",
        "\n",
        "* **Average True Range**: para medir a amplitude média real do movimento do preço, incluindo gaps, contextualizando o risco do mercado."
      ]
    },
    {
      "cell_type": "code",
<<<<<<< HEAD
      "execution_count": 278,
=======
      "execution_count": 18,
>>>>>>> Jackson
      "id": "4be9762d",
      "metadata": {},
      "outputs": [],
      "source": [
        "# volatilidade\n",
        "df[\"volatility\"] = df[\"high\"] - df[\"low\"]\n",
        "df[\"rel_volatility\"] = df[\"volatility\"] / df[\"low\"]\n",
        "\n",
        "# average true range\n",
        "df['atr_14'] = ta.atr(df['high'], df['low'], df['close'], length=14)"
      ]
    },
    {
      "cell_type": "markdown",
      "id": "efad42c2",
      "metadata": {},
      "source": [
        "Por padrão, utiliza-se um período de 14 dias para o ATR. [Referência](https://www.investopedia.com/terms/a/atr.asp)"
      ]
    },
    {
      "cell_type": "markdown",
      "id": "85268f99",
      "metadata": {},
      "source": [
        "---\n",
        "INDICADORES DE VOLUME\n",
        "\n",
        "* **On-Balance Volume**: para medir a pressão compradora e vendedora acumulada e, assim, buscar confirmar ou divergir da tendência de preços."
      ]
    },
    {
      "cell_type": "code",
<<<<<<< HEAD
      "execution_count": 279,
=======
      "execution_count": 19,
>>>>>>> Jackson
      "id": "4bbfd56a",
      "metadata": {},
      "outputs": [],
      "source": [
        "# on-balance volume \n",
        "df['obv'] = ta.obv(df['close'], df['volume'])"
      ]
    },
    {
      "cell_type": "markdown",
      "id": "67157ce1",
      "metadata": {},
      "source": [
        "Decidimos não usar as features de volume, uma vez que são dados com muito ruído e que vão de uma escala de mil até bilhão. (vide notebook EDA)"
      ]
    },
    {
      "cell_type": "markdown",
      "id": "7cd7e61a",
      "metadata": {},
      "source": [
        "---\n",
        "INDICADORES DE DATA\n",
        "\n",
        "* **Dia da semana, dia do mês, mês e ano**: para capturar possíveis anomalias de calendário ou sazonalidades no comportamento do mercado."
      ]
    },
    {
      "cell_type": "code",
<<<<<<< HEAD
      "execution_count": 280,
=======
      "execution_count": 20,
>>>>>>> Jackson
      "id": "b24d52d8",
      "metadata": {},
      "outputs": [],
      "source": [
        "# dia da semana (segunda=0 a sexta=4)\n",
        "df['day_of_week'] = df.index.dayofweek\n",
        "\n",
        "# dia do mês (1 a 30 ou 31)\n",
        "df['day_of_month'] = df.index.day\n",
        "\n",
        "# mês (janeiro=1 a dezembro=12)\n",
        "df['month'] = df.index.month\n",
        "\n",
        "# ano (pode não ser bom para previsões de curto prazo)\n",
        "df['year'] = df.index.year"
      ]
    },
    {
      "cell_type": "markdown",
      "id": "e3d1b71b",
      "metadata": {},
      "source": [
        "### Baseados em dados externos"
      ]
    },
    {
      "cell_type": "markdown",
      "id": "617515ff",
      "metadata": {},
      "source": [
        "> \"O desempenho do mercado de ações ao redor do mundo afeta diretamente o comportamento da bolsa brasileira\" [Referência](https://investnews.com.br/guias/bolsas-internacionais-quais-sao-como-afetam-ibovespa/) e [Referência](https://einvestidor.estadao.com.br/mercado/como-bolsas-internacionais-afetam-b3-ibovespa/)\n",
        "\n",
        "* **S&P 500** (`^GSPC`): Um dos principais índices da NYSE, o S&P 500 inclui 500 empresas líderes e representa aproximadamente 80% da capitalização de mercado disponível.\n",
        "* **Índice SSE Composite** (`000001.SS`): O principal índice do Shanghai Stock Exchange, o SSEC, abarca ações de grandes empresas da China, como a Alibaba (BABA34), o Bank of China e a China Petrol.\n",
        "* **Euronext 100** (`^N100`): O índice Euronext 100, engloba companhia de alguns países da União Europeia, e tem ações de empresas como L’Oréal, Louis Vuitton e Renault.\n",
        "* **Petróleo tipo Brent** (`BZ=F`): O valor do barril da commodity interfere no preço das ações. No caso da Petrobras, o barril do tipo Brent é a principal referência. [Referência](https://borainvestir.b3.com.br/noticias/empresas/quais-os-principais-fatores-que-afetam-as-acoes-da-petrobras/)"
      ]
    },
    {
      "cell_type": "code",
<<<<<<< HEAD
      "execution_count": 281,
=======
      "execution_count": 21,
>>>>>>> Jackson
      "id": "31b02518",
      "metadata": {},
      "outputs": [
        {
          "name": "stderr",
          "output_type": "stream",
          "text": [
            "[*********************100%***********************]  4 of 4 completed\n"
          ]
        },
        {
          "data": {
            "application/vnd.microsoft.datawrangler.viewer.v0+json": {
              "columns": [
                {
                  "name": "Date",
                  "rawType": "datetime64[ns]",
                  "type": "datetime"
                },
                {
                  "name": "('Close', '000001.SS')",
                  "rawType": "float64",
                  "type": "float"
                },
                {
                  "name": "('Close', 'BZ=F')",
                  "rawType": "float64",
                  "type": "float"
                },
                {
                  "name": "('Close', '^GSPC')",
                  "rawType": "float64",
                  "type": "float"
                },
                {
                  "name": "('Close', '^N100')",
                  "rawType": "float64",
                  "type": "float"
                },
                {
                  "name": "('High', '000001.SS')",
                  "rawType": "float64",
                  "type": "float"
                },
                {
                  "name": "('High', 'BZ=F')",
                  "rawType": "float64",
                  "type": "float"
                },
                {
                  "name": "('High', '^GSPC')",
                  "rawType": "float64",
                  "type": "float"
                },
                {
                  "name": "('High', '^N100')",
                  "rawType": "float64",
                  "type": "float"
                },
                {
                  "name": "('Low', '000001.SS')",
                  "rawType": "float64",
                  "type": "float"
                },
                {
                  "name": "('Low', 'BZ=F')",
                  "rawType": "float64",
                  "type": "float"
                },
                {
                  "name": "('Low', '^GSPC')",
                  "rawType": "float64",
                  "type": "float"
                },
                {
                  "name": "('Low', '^N100')",
                  "rawType": "float64",
                  "type": "float"
                },
                {
                  "name": "('Open', '000001.SS')",
                  "rawType": "float64",
                  "type": "float"
                },
                {
                  "name": "('Open', 'BZ=F')",
                  "rawType": "float64",
                  "type": "float"
                },
                {
                  "name": "('Open', '^GSPC')",
                  "rawType": "float64",
                  "type": "float"
                },
                {
                  "name": "('Open', '^N100')",
                  "rawType": "float64",
                  "type": "float"
                },
                {
                  "name": "('Volume', '000001.SS')",
                  "rawType": "float64",
                  "type": "float"
                },
                {
                  "name": "('Volume', 'BZ=F')",
                  "rawType": "float64",
                  "type": "float"
                },
                {
                  "name": "('Volume', '^GSPC')",
                  "rawType": "float64",
                  "type": "float"
                },
                {
                  "name": "('Volume', '^N100')",
                  "rawType": "float64",
                  "type": "float"
                }
              ],
<<<<<<< HEAD
              "ref": "97720e4f-60b2-4f3e-8435-e3d4c173fd60",
=======
              "ref": "daa6e9aa-9eaf-4be0-84c4-58d687276bb8",
>>>>>>> Jackson
              "rows": [
                [
                  "2010-01-04 00:00:00",
                  "3243.760009765625",
                  "80.12000274658203",
                  "1132.989990234375",
                  "696.989990234375",
                  "3295.279052734375",
                  "79.81999969482422",
                  "1133.8699951171875",
                  "696.989990234375",
                  "3243.319091796875",
                  "80.12000274658203",
                  "1116.56005859375",
                  "686.3699951171875",
                  "3289.75",
                  "80.12000274658203",
                  "1116.56005859375",
                  "686.3699951171875",
                  "109400.0",
                  "97.0",
                  "3991400000.0",
                  "237559300.0"
                ],
                [
                  "2010-01-05 00:00:00",
                  "3282.178955078125",
                  "80.58999633789062",
                  "1136.52001953125",
                  "697.5700073242188",
                  "3290.511962890625",
                  "80.26000213623047",
                  "1136.6300048828125",
                  "700.25",
                  "3221.4619140625",
                  "80.58999633789062",
                  "1129.6600341796875",
                  "694.4400024414062",
                  "3254.468017578125",
                  "80.58999633789062",
                  "1132.6600341796875",
                  "696.9099731445312",
                  "126200.0",
                  "97.0",
                  "2491020000.0",
                  "298451700.0"
                ],
                [
                  "2010-01-06 00:00:00",
                  "3254.215087890625",
                  "81.88999938964844",
                  "1137.1400146484375",
                  "698.27001953125",
                  "3295.867919921875",
                  "81.69999694824219",
                  "1139.18994140625",
                  "699.4199829101562",
                  "3253.0439453125",
                  "80.12999725341797",
                  "1133.949951171875",
                  "694.77001953125",
                  "3277.51708984375",
                  "81.12999725341797",
                  "1135.7099609375",
                  "697.7000122070312",
                  "123600.0",
                  "7.0",
                  "4972660000.0",
                  "223696900.0"
                ],
                [
                  "2010-01-07 00:00:00",
                  "3192.77587890625",
                  "81.51000213623047",
                  "1141.68994140625",
                  "697.760009765625",
                  "3268.819091796875",
                  "81.51000213623047",
                  "1142.4599609375",
                  "698.9099731445312",
                  "3176.70703125",
                  "81.62999725341797",
                  "1131.3199462890625",
                  "692.1699829101562",
                  "3253.990966796875",
                  "81.51000213623047",
                  "1136.27001953125",
                  "696.0700073242188",
                  "128600.0",
                  "7.0",
                  "5270680000.0",
                  "271033600.0"
                ],
                [
                  "2010-01-08 00:00:00",
                  "3195.9970703125",
                  "81.37000274658203",
                  "1144.97998046875",
                  "701.3800048828125",
                  "3198.919921875",
                  "81.52999877929688",
                  "1145.3900146484375",
                  "702.6300048828125",
                  "3149.01708984375",
                  "81.08999633789062",
                  "1136.219970703125",
                  "695.8699951171875",
                  "3177.259033203125",
                  "81.37000274658203",
                  "1140.52001953125",
                  "701.3499755859375",
                  "98400.0",
                  "7.0",
                  "4389590000.0",
                  "329450900.0"
                ]
              ],
              "shape": {
                "columns": 20,
                "rows": 5
              }
            },
            "text/html": [
              "<div>\n",
              "<style scoped>\n",
              "    .dataframe tbody tr th:only-of-type {\n",
              "        vertical-align: middle;\n",
              "    }\n",
              "\n",
              "    .dataframe tbody tr th {\n",
              "        vertical-align: top;\n",
              "    }\n",
              "\n",
              "    .dataframe thead tr th {\n",
              "        text-align: left;\n",
              "    }\n",
              "\n",
              "    .dataframe thead tr:last-of-type th {\n",
              "        text-align: right;\n",
              "    }\n",
              "</style>\n",
              "<table border=\"1\" class=\"dataframe\">\n",
              "  <thead>\n",
              "    <tr>\n",
              "      <th>Price</th>\n",
              "      <th colspan=\"4\" halign=\"left\">Close</th>\n",
              "      <th colspan=\"4\" halign=\"left\">High</th>\n",
              "      <th colspan=\"4\" halign=\"left\">Low</th>\n",
              "      <th colspan=\"4\" halign=\"left\">Open</th>\n",
              "      <th colspan=\"4\" halign=\"left\">Volume</th>\n",
              "    </tr>\n",
              "    <tr>\n",
              "      <th>Ticker</th>\n",
              "      <th>000001.SS</th>\n",
              "      <th>BZ=F</th>\n",
              "      <th>^GSPC</th>\n",
              "      <th>^N100</th>\n",
              "      <th>000001.SS</th>\n",
              "      <th>BZ=F</th>\n",
              "      <th>^GSPC</th>\n",
              "      <th>^N100</th>\n",
              "      <th>000001.SS</th>\n",
              "      <th>BZ=F</th>\n",
              "      <th>^GSPC</th>\n",
              "      <th>^N100</th>\n",
              "      <th>000001.SS</th>\n",
              "      <th>BZ=F</th>\n",
              "      <th>^GSPC</th>\n",
              "      <th>^N100</th>\n",
              "      <th>000001.SS</th>\n",
              "      <th>BZ=F</th>\n",
              "      <th>^GSPC</th>\n",
              "      <th>^N100</th>\n",
              "    </tr>\n",
              "    <tr>\n",
              "      <th>Date</th>\n",
              "      <th></th>\n",
              "      <th></th>\n",
              "      <th></th>\n",
              "      <th></th>\n",
              "      <th></th>\n",
              "      <th></th>\n",
              "      <th></th>\n",
              "      <th></th>\n",
              "      <th></th>\n",
              "      <th></th>\n",
              "      <th></th>\n",
              "      <th></th>\n",
              "      <th></th>\n",
              "      <th></th>\n",
              "      <th></th>\n",
              "      <th></th>\n",
              "      <th></th>\n",
              "      <th></th>\n",
              "      <th></th>\n",
              "      <th></th>\n",
              "    </tr>\n",
              "  </thead>\n",
              "  <tbody>\n",
              "    <tr>\n",
              "      <th>2010-01-04</th>\n",
              "      <td>3243.760010</td>\n",
              "      <td>80.120003</td>\n",
              "      <td>1132.989990</td>\n",
              "      <td>696.989990</td>\n",
              "      <td>3295.279053</td>\n",
              "      <td>79.820000</td>\n",
              "      <td>1133.869995</td>\n",
              "      <td>696.989990</td>\n",
              "      <td>3243.319092</td>\n",
              "      <td>80.120003</td>\n",
              "      <td>1116.560059</td>\n",
              "      <td>686.369995</td>\n",
              "      <td>3289.750000</td>\n",
              "      <td>80.120003</td>\n",
              "      <td>1116.560059</td>\n",
              "      <td>686.369995</td>\n",
              "      <td>109400.0</td>\n",
              "      <td>97.0</td>\n",
              "      <td>3.991400e+09</td>\n",
              "      <td>237559300.0</td>\n",
              "    </tr>\n",
              "    <tr>\n",
              "      <th>2010-01-05</th>\n",
              "      <td>3282.178955</td>\n",
              "      <td>80.589996</td>\n",
              "      <td>1136.520020</td>\n",
              "      <td>697.570007</td>\n",
              "      <td>3290.511963</td>\n",
              "      <td>80.260002</td>\n",
              "      <td>1136.630005</td>\n",
              "      <td>700.250000</td>\n",
              "      <td>3221.461914</td>\n",
              "      <td>80.589996</td>\n",
              "      <td>1129.660034</td>\n",
              "      <td>694.440002</td>\n",
              "      <td>3254.468018</td>\n",
              "      <td>80.589996</td>\n",
              "      <td>1132.660034</td>\n",
              "      <td>696.909973</td>\n",
              "      <td>126200.0</td>\n",
              "      <td>97.0</td>\n",
              "      <td>2.491020e+09</td>\n",
              "      <td>298451700.0</td>\n",
              "    </tr>\n",
              "    <tr>\n",
              "      <th>2010-01-06</th>\n",
              "      <td>3254.215088</td>\n",
              "      <td>81.889999</td>\n",
              "      <td>1137.140015</td>\n",
              "      <td>698.270020</td>\n",
              "      <td>3295.867920</td>\n",
              "      <td>81.699997</td>\n",
              "      <td>1139.189941</td>\n",
              "      <td>699.419983</td>\n",
              "      <td>3253.043945</td>\n",
              "      <td>80.129997</td>\n",
              "      <td>1133.949951</td>\n",
              "      <td>694.770020</td>\n",
              "      <td>3277.517090</td>\n",
              "      <td>81.129997</td>\n",
              "      <td>1135.709961</td>\n",
              "      <td>697.700012</td>\n",
              "      <td>123600.0</td>\n",
              "      <td>7.0</td>\n",
              "      <td>4.972660e+09</td>\n",
              "      <td>223696900.0</td>\n",
              "    </tr>\n",
              "    <tr>\n",
              "      <th>2010-01-07</th>\n",
              "      <td>3192.775879</td>\n",
              "      <td>81.510002</td>\n",
              "      <td>1141.689941</td>\n",
              "      <td>697.760010</td>\n",
              "      <td>3268.819092</td>\n",
              "      <td>81.510002</td>\n",
              "      <td>1142.459961</td>\n",
              "      <td>698.909973</td>\n",
              "      <td>3176.707031</td>\n",
              "      <td>81.629997</td>\n",
              "      <td>1131.319946</td>\n",
              "      <td>692.169983</td>\n",
              "      <td>3253.990967</td>\n",
              "      <td>81.510002</td>\n",
              "      <td>1136.270020</td>\n",
              "      <td>696.070007</td>\n",
              "      <td>128600.0</td>\n",
              "      <td>7.0</td>\n",
              "      <td>5.270680e+09</td>\n",
              "      <td>271033600.0</td>\n",
              "    </tr>\n",
              "    <tr>\n",
              "      <th>2010-01-08</th>\n",
              "      <td>3195.997070</td>\n",
              "      <td>81.370003</td>\n",
              "      <td>1144.979980</td>\n",
              "      <td>701.380005</td>\n",
              "      <td>3198.919922</td>\n",
              "      <td>81.529999</td>\n",
              "      <td>1145.390015</td>\n",
              "      <td>702.630005</td>\n",
              "      <td>3149.017090</td>\n",
              "      <td>81.089996</td>\n",
              "      <td>1136.219971</td>\n",
              "      <td>695.869995</td>\n",
              "      <td>3177.259033</td>\n",
              "      <td>81.370003</td>\n",
              "      <td>1140.520020</td>\n",
              "      <td>701.349976</td>\n",
              "      <td>98400.0</td>\n",
              "      <td>7.0</td>\n",
              "      <td>4.389590e+09</td>\n",
              "      <td>329450900.0</td>\n",
              "    </tr>\n",
              "  </tbody>\n",
              "</table>\n",
              "</div>"
            ],
            "text/plain": [
              "Price             Close                                             High  \\\n",
              "Ticker        000001.SS       BZ=F        ^GSPC       ^N100    000001.SS   \n",
              "Date                                                                       \n",
              "2010-01-04  3243.760010  80.120003  1132.989990  696.989990  3295.279053   \n",
              "2010-01-05  3282.178955  80.589996  1136.520020  697.570007  3290.511963   \n",
              "2010-01-06  3254.215088  81.889999  1137.140015  698.270020  3295.867920   \n",
              "2010-01-07  3192.775879  81.510002  1141.689941  697.760010  3268.819092   \n",
              "2010-01-08  3195.997070  81.370003  1144.979980  701.380005  3198.919922   \n",
              "\n",
              "Price                                                   Low             \\\n",
              "Ticker           BZ=F        ^GSPC       ^N100    000001.SS       BZ=F   \n",
              "Date                                                                     \n",
              "2010-01-04  79.820000  1133.869995  696.989990  3243.319092  80.120003   \n",
              "2010-01-05  80.260002  1136.630005  700.250000  3221.461914  80.589996   \n",
              "2010-01-06  81.699997  1139.189941  699.419983  3253.043945  80.129997   \n",
              "2010-01-07  81.510002  1142.459961  698.909973  3176.707031  81.629997   \n",
              "2010-01-08  81.529999  1145.390015  702.630005  3149.017090  81.089996   \n",
              "\n",
              "Price                                       Open                          \\\n",
              "Ticker            ^GSPC       ^N100    000001.SS       BZ=F        ^GSPC   \n",
              "Date                                                                       \n",
              "2010-01-04  1116.560059  686.369995  3289.750000  80.120003  1116.560059   \n",
              "2010-01-05  1129.660034  694.440002  3254.468018  80.589996  1132.660034   \n",
              "2010-01-06  1133.949951  694.770020  3277.517090  81.129997  1135.709961   \n",
              "2010-01-07  1131.319946  692.169983  3253.990967  81.510002  1136.270020   \n",
              "2010-01-08  1136.219971  695.869995  3177.259033  81.370003  1140.520020   \n",
              "\n",
              "Price                     Volume                                   \n",
              "Ticker           ^N100 000001.SS  BZ=F         ^GSPC        ^N100  \n",
              "Date                                                               \n",
              "2010-01-04  686.369995  109400.0  97.0  3.991400e+09  237559300.0  \n",
              "2010-01-05  696.909973  126200.0  97.0  2.491020e+09  298451700.0  \n",
              "2010-01-06  697.700012  123600.0   7.0  4.972660e+09  223696900.0  \n",
              "2010-01-07  696.070007  128600.0   7.0  5.270680e+09  271033600.0  \n",
              "2010-01-08  701.349976   98400.0   7.0  4.389590e+09  329450900.0  "
            ]
          },
<<<<<<< HEAD
          "execution_count": 281,
=======
          "execution_count": 21,
>>>>>>> Jackson
          "metadata": {},
          "output_type": "execute_result"
        }
      ],
      "source": [
        "tickers = ['^GSPC', '000001.SS', '^N100', 'BZ=F']\n",
        "df_global = yf.download(tickers, start='2010-01-01', end='2025-06-19', auto_adjust=True, multi_level_index=False)\n",
        "df_global.head()"
      ]
    },
    {
      "cell_type": "code",
<<<<<<< HEAD
      "execution_count": 282,
=======
      "execution_count": 22,
>>>>>>> Jackson
      "id": "ac26ef4e",
      "metadata": {},
      "outputs": [],
      "source": [
        "# selecionar apenas a coluna de fechamento\n",
        "df_global = df_global['Close']\n",
        "\n",
        "# lidar com dados ausentes (feriados de outros mercados)\n",
        "df_global.ffill(inplace=True)"
      ]
    },
    {
      "cell_type": "code",
<<<<<<< HEAD
      "execution_count": 283,
=======
      "execution_count": 23,
>>>>>>> Jackson
      "id": "3c0dc14e",
      "metadata": {},
      "outputs": [
        {
          "data": {
            "application/vnd.microsoft.datawrangler.viewer.v0+json": {
              "columns": [
                {
                  "name": "Date",
                  "rawType": "datetime64[ns]",
                  "type": "datetime"
                },
                {
                  "name": "eua_return",
                  "rawType": "float64",
                  "type": "float"
                },
                {
                  "name": "china_return",
                  "rawType": "float64",
                  "type": "float"
                },
                {
                  "name": "europe_return",
                  "rawType": "float64",
                  "type": "float"
                },
                {
                  "name": "oil_return",
                  "rawType": "float64",
                  "type": "float"
                }
              ],
<<<<<<< HEAD
              "ref": "a30ae3a0-46f1-4327-a818-1c578296b86d",
=======
              "ref": "abbda084-58ba-4b26-8aee-b1cee09bf8dc",
>>>>>>> Jackson
              "rows": [
                [
                  "2010-01-04 00:00:00",
                  null,
                  null,
                  null,
                  null
                ],
                [
                  "2010-01-05 00:00:00",
                  "0.0031156756258232665",
                  "0.011843954298973003",
                  "0.0008321742033177149",
                  "0.0058661205091963264"
                ],
                [
                  "2010-01-06 00:00:00",
                  "0.0005455206301101523",
                  "-0.008519909356019317",
                  "0.0010035010101945296",
                  "0.016131072227715038"
                ],
                [
                  "2010-01-07 00:00:00",
                  "0.00400120187417663",
                  "-0.018879885725131884",
                  "-0.0007303904669534456",
                  "-0.004640337724388877"
                ],
                [
                  "2010-01-08 00:00:00",
                  "0.0028817272914287706",
                  "0.0010088999442559032",
                  "0.005188023197837621",
                  "-0.001717573131877148"
                ]
              ],
              "shape": {
                "columns": 4,
                "rows": 5
              }
            },
            "text/html": [
              "<div>\n",
              "<style scoped>\n",
              "    .dataframe tbody tr th:only-of-type {\n",
              "        vertical-align: middle;\n",
              "    }\n",
              "\n",
              "    .dataframe tbody tr th {\n",
              "        vertical-align: top;\n",
              "    }\n",
              "\n",
              "    .dataframe thead th {\n",
              "        text-align: right;\n",
              "    }\n",
              "</style>\n",
              "<table border=\"1\" class=\"dataframe\">\n",
              "  <thead>\n",
              "    <tr style=\"text-align: right;\">\n",
              "      <th></th>\n",
              "      <th>eua_return</th>\n",
              "      <th>china_return</th>\n",
              "      <th>europe_return</th>\n",
              "      <th>oil_return</th>\n",
              "    </tr>\n",
              "    <tr>\n",
              "      <th>Date</th>\n",
              "      <th></th>\n",
              "      <th></th>\n",
              "      <th></th>\n",
              "      <th></th>\n",
              "    </tr>\n",
              "  </thead>\n",
              "  <tbody>\n",
              "    <tr>\n",
              "      <th>2010-01-04</th>\n",
              "      <td>NaN</td>\n",
              "      <td>NaN</td>\n",
              "      <td>NaN</td>\n",
              "      <td>NaN</td>\n",
              "    </tr>\n",
              "    <tr>\n",
              "      <th>2010-01-05</th>\n",
              "      <td>0.003116</td>\n",
              "      <td>0.011844</td>\n",
              "      <td>0.000832</td>\n",
              "      <td>0.005866</td>\n",
              "    </tr>\n",
              "    <tr>\n",
              "      <th>2010-01-06</th>\n",
              "      <td>0.000546</td>\n",
              "      <td>-0.008520</td>\n",
              "      <td>0.001004</td>\n",
              "      <td>0.016131</td>\n",
              "    </tr>\n",
              "    <tr>\n",
              "      <th>2010-01-07</th>\n",
              "      <td>0.004001</td>\n",
              "      <td>-0.018880</td>\n",
              "      <td>-0.000730</td>\n",
              "      <td>-0.004640</td>\n",
              "    </tr>\n",
              "    <tr>\n",
              "      <th>2010-01-08</th>\n",
              "      <td>0.002882</td>\n",
              "      <td>0.001009</td>\n",
              "      <td>0.005188</td>\n",
              "      <td>-0.001718</td>\n",
              "    </tr>\n",
              "  </tbody>\n",
              "</table>\n",
              "</div>"
            ],
            "text/plain": [
              "            eua_return  china_return  europe_return  oil_return\n",
              "Date                                                           \n",
              "2010-01-04         NaN           NaN            NaN         NaN\n",
              "2010-01-05    0.003116      0.011844       0.000832    0.005866\n",
              "2010-01-06    0.000546     -0.008520       0.001004    0.016131\n",
              "2010-01-07    0.004001     -0.018880      -0.000730   -0.004640\n",
              "2010-01-08    0.002882      0.001009       0.005188   -0.001718"
            ]
          },
<<<<<<< HEAD
          "execution_count": 283,
=======
          "execution_count": 23,
>>>>>>> Jackson
          "metadata": {},
          "output_type": "execute_result"
        }
      ],
      "source": [
        "# calcular retorno diário\n",
        "external_features = pd.DataFrame(index=df_global.index)\n",
        "\n",
        "external_features ['eua_return'] = df_global['^GSPC'].pct_change()\n",
        "external_features ['china_return'] = df_global['000001.SS'].pct_change()\n",
        "external_features ['europe_return'] = df_global['^N100'].pct_change()\n",
        "external_features ['oil_return'] = df_global['BZ=F'].pct_change()\n",
        "\n",
        "external_features.head()"
      ]
    },
    {
      "cell_type": "code",
<<<<<<< HEAD
      "execution_count": 284,
=======
      "execution_count": 24,
>>>>>>> Jackson
      "id": "4e1bf14b",
      "metadata": {},
      "outputs": [],
      "source": [
        "# juntar com o dataframe do ibovespa\n",
        "df_merged = df.merge(external_features, left_index=True, right_index=True, how='left')"
      ]
    },
    {
      "cell_type": "markdown",
      "id": "315258f4",
      "metadata": {},
      "source": [
        "## Exportação dos dados"
      ]
    },
    {
      "cell_type": "code",
<<<<<<< HEAD
      "execution_count": 285,
=======
      "execution_count": 25,
>>>>>>> Jackson
      "id": "1e438405",
      "metadata": {},
      "outputs": [
        {
          "data": {
            "application/vnd.microsoft.datawrangler.viewer.v0+json": {
              "columns": [
                {
                  "name": "ds",
                  "rawType": "datetime64[ns]",
                  "type": "datetime"
                },
                {
                  "name": "close",
                  "rawType": "int64",
                  "type": "integer"
                },
                {
                  "name": "open",
                  "rawType": "int64",
                  "type": "integer"
                },
                {
                  "name": "high",
                  "rawType": "int64",
                  "type": "integer"
                },
                {
                  "name": "low",
                  "rawType": "int64",
                  "type": "integer"
                },
                {
                  "name": "volume",
                  "rawType": "float64",
                  "type": "float"
                },
                {
                  "name": "daily_return",
                  "rawType": "float64",
                  "type": "float"
                },
                {
                  "name": "return_lag_1",
                  "rawType": "float64",
                  "type": "float"
                },
                {
                  "name": "return_lag_2",
                  "rawType": "float64",
                  "type": "float"
                },
                {
                  "name": "return_lag_3",
                  "rawType": "float64",
                  "type": "float"
                },
                {
                  "name": "return_lag_4",
                  "rawType": "float64",
                  "type": "float"
                },
                {
                  "name": "return_lag_5",
                  "rawType": "float64",
                  "type": "float"
                },
                {
                  "name": "momentum_5",
                  "rawType": "float64",
                  "type": "float"
                },
                {
                  "name": "momentum_21",
                  "rawType": "float64",
                  "type": "float"
                },
                {
                  "name": "momentum_63",
                  "rawType": "float64",
                  "type": "float"
                },
                {
                  "name": "momentum_accel_21",
                  "rawType": "float64",
                  "type": "float"
                },
                {
                  "name": "momentum_consistency_21",
                  "rawType": "float64",
                  "type": "float"
                },
                {
                  "name": "sma_21",
                  "rawType": "float64",
                  "type": "float"
                },
                {
                  "name": "ema_50",
                  "rawType": "float64",
                  "type": "float"
                },
                {
                  "name": "macd",
                  "rawType": "float64",
                  "type": "float"
                },
                {
                  "name": "macd_hist",
                  "rawType": "float64",
                  "type": "float"
                },
                {
                  "name": "macd_signal",
                  "rawType": "float64",
                  "type": "float"
                },
                {
                  "name": "rsi_14",
                  "rawType": "float64",
                  "type": "float"
                },
                {
                  "name": "stoch_k",
                  "rawType": "float64",
                  "type": "float"
                },
                {
                  "name": "stoch_d",
                  "rawType": "float64",
                  "type": "float"
                },
                {
                  "name": "volatility",
                  "rawType": "int64",
                  "type": "integer"
                },
                {
                  "name": "rel_volatility",
                  "rawType": "float64",
                  "type": "float"
                },
                {
                  "name": "atr_14",
                  "rawType": "float64",
                  "type": "float"
                },
                {
                  "name": "obv",
                  "rawType": "float64",
                  "type": "float"
                },
                {
                  "name": "day_of_week",
                  "rawType": "int32",
                  "type": "integer"
                },
                {
                  "name": "day_of_month",
                  "rawType": "int32",
                  "type": "integer"
                },
                {
                  "name": "month",
                  "rawType": "int32",
                  "type": "integer"
                },
                {
                  "name": "year",
                  "rawType": "int32",
                  "type": "integer"
                },
                {
                  "name": "eua_return",
                  "rawType": "float64",
                  "type": "float"
                },
                {
                  "name": "china_return",
                  "rawType": "float64",
                  "type": "float"
                },
                {
                  "name": "europe_return",
                  "rawType": "float64",
                  "type": "float"
                },
                {
                  "name": "oil_return",
                  "rawType": "float64",
                  "type": "float"
                }
              ],
<<<<<<< HEAD
              "ref": "4bff7bcd-556a-4c32-9b29-e4c04b05df7f",
=======
              "ref": "95894a76-14b5-4a82-a7ec-2832482ad365",
>>>>>>> Jackson
              "rows": [
                [
                  "2015-06-17 00:00:00",
                  "53249",
                  "53698",
                  "53755",
                  "52965",
                  "3090000.0",
                  "-0.0084",
                  "0.0106",
                  "-0.0039",
                  "-0.0064",
                  "-0.0035",
                  "0.0201",
                  "-0.011637835028584176",
                  "-0.05257632908689769",
                  "0.09009580740255485",
                  "0.009381085016405444",
                  "0.38095238095238093",
                  "53785.28571428572",
                  "53919.57585611795",
                  "-448.42856737354305",
                  "-4.093050737574117",
                  "-444.33551663596893",
                  "44.35667212107073",
                  "45.147845771726374",
                  "40.086734667342505",
                  "790",
                  "0.014915510242613046",
                  "889.081392418144",
                  "78500090.0",
                  "2",
                  "17",
                  "6",
                  "2015",
                  "0.0019796413026920145",
                  "0.016463823576514214",
                  "-0.008862678936046309",
                  "0.019798784011211046"
                ],
                [
                  "2015-06-18 00:00:00",
                  "54239",
                  "53251",
                  "54352",
                  "53214",
                  "2750000.0",
                  "0.0186",
                  "-0.0084",
                  "0.0106",
                  "-0.0039",
                  "-0.0064",
                  "-0.0035",
                  "0.010244184097301101",
                  "-0.022703111767779616",
                  "0.07863179874714121",
                  "0.029873217319118073",
                  "0.42857142857142855",
                  "53725.28571428572",
                  "53932.102293132935",
                  "-359.4946503370593",
                  "67.87269303912774",
                  "-427.367343376187",
                  "51.52540703198037",
                  "66.85093302226278",
                  "51.30298505257869",
                  "1138",
                  "0.021385349719998496",
                  "906.8612929597051",
                  "81250090.0",
                  "3",
                  "18",
                  "6",
                  "2015",
                  "0.009902710578908236",
                  "-0.03674431199139394",
                  "0.002264733879167702",
                  "0.006106203395456866"
                ],
                [
                  "2015-06-19 00:00:00",
                  "53749",
                  "54236",
                  "54236",
                  "53479",
                  "2950000.0",
                  "-0.009",
                  "0.0186",
                  "-0.0084",
                  "0.0106",
                  "-0.0039",
                  "-0.0064",
                  "0.007516682912199091",
                  "-0.020983224349283236",
                  "0.04314326747661368",
                  "0.0017198874184963797",
                  "0.42857142857142855",
                  "53670.42857142857",
                  "53924.921811049295",
                  "-324.80859396560845",
                  "82.04699952846289",
                  "-406.85559349407134",
                  "48.21445951598873",
                  "66.99842442945088",
                  "59.66573440781334",
                  "757",
                  "0.014155088913405263",
                  "896.3712006054404",
                  "78300090.0",
                  "4",
                  "19",
                  "6",
                  "2015",
                  "-0.0053035017498218595",
                  "-0.06415242465901172",
                  "0.003585679400712749",
                  "-0.019296633010344566"
                ],
                [
                  "2015-06-22 00:00:00",
                  "53864",
                  "53750",
                  "54342",
                  "53655",
                  "2430000.0",
                  "0.0021",
                  "-0.009",
                  "0.0186",
                  "-0.0084",
                  "0.0106",
                  "-0.0039",
                  "0.013662539049267952",
                  "-0.022644796051676574",
                  "0.05711033481179095",
                  "-0.0016615717023933385",
                  "0.42857142857142855",
                  "53611.0",
                  "53922.53272041991",
                  "-284.7575971621627",
                  "97.67839706552695",
                  "-382.43599422768966",
                  "49.04207581925598",
                  "77.75314116777533",
                  "70.53416620649631",
                  "687",
                  "0.012804025719876991",
                  "881.416114847909",
                  "80730090.0",
                  "0",
                  "22",
                  "6",
                  "2015",
                  "0.006094866554531064",
                  "0.0",
                  "0.03505208395162929",
                  "0.005077748214849409"
                ],
                [
                  "2015-06-23 00:00:00",
                  "53772",
                  "53865",
                  "54361",
                  "53772",
                  "2710000.0",
                  "-0.0017",
                  "0.0021",
                  "-0.009",
                  "0.0186",
                  "-0.0084",
                  "0.0106",
                  "0.0013034896279469077",
                  "-0.011126027548411965",
                  "0.034733580926357144",
                  "0.01151876850326461",
                  "0.42857142857142855",
                  "53582.19047619047",
                  "53916.62947648188",
                  "-257.47254157926363",
                  "99.97076211874082",
                  "-357.44330369800446",
                  "48.37599775749576",
                  "69.01189732200187",
                  "71.25448763974266",
                  "589",
                  "0.010953656177936472",
                  "860.5292495016297",
                  "78020090.0",
                  "1",
                  "23",
                  "6",
                  "2015",
                  "0.0006358685039113965",
                  "0.021911667523833334",
                  "0.012091777756930933",
                  "0.017524420476480618"
                ]
              ],
              "shape": {
                "columns": 36,
                "rows": 5
              }
            },
            "text/html": [
              "<div>\n",
              "<style scoped>\n",
              "    .dataframe tbody tr th:only-of-type {\n",
              "        vertical-align: middle;\n",
              "    }\n",
              "\n",
              "    .dataframe tbody tr th {\n",
              "        vertical-align: top;\n",
              "    }\n",
              "\n",
              "    .dataframe thead th {\n",
              "        text-align: right;\n",
              "    }\n",
              "</style>\n",
              "<table border=\"1\" class=\"dataframe\">\n",
              "  <thead>\n",
              "    <tr style=\"text-align: right;\">\n",
              "      <th></th>\n",
              "      <th>close</th>\n",
              "      <th>open</th>\n",
              "      <th>high</th>\n",
              "      <th>low</th>\n",
              "      <th>volume</th>\n",
              "      <th>daily_return</th>\n",
              "      <th>return_lag_1</th>\n",
              "      <th>return_lag_2</th>\n",
              "      <th>return_lag_3</th>\n",
              "      <th>return_lag_4</th>\n",
              "      <th>...</th>\n",
              "      <th>atr_14</th>\n",
              "      <th>obv</th>\n",
              "      <th>day_of_week</th>\n",
              "      <th>day_of_month</th>\n",
              "      <th>month</th>\n",
              "      <th>year</th>\n",
              "      <th>eua_return</th>\n",
              "      <th>china_return</th>\n",
              "      <th>europe_return</th>\n",
              "      <th>oil_return</th>\n",
              "    </tr>\n",
              "    <tr>\n",
              "      <th>ds</th>\n",
              "      <th></th>\n",
              "      <th></th>\n",
              "      <th></th>\n",
              "      <th></th>\n",
              "      <th></th>\n",
              "      <th></th>\n",
              "      <th></th>\n",
              "      <th></th>\n",
              "      <th></th>\n",
              "      <th></th>\n",
              "      <th></th>\n",
              "      <th></th>\n",
              "      <th></th>\n",
              "      <th></th>\n",
              "      <th></th>\n",
              "      <th></th>\n",
              "      <th></th>\n",
              "      <th></th>\n",
              "      <th></th>\n",
              "      <th></th>\n",
              "      <th></th>\n",
              "    </tr>\n",
              "  </thead>\n",
              "  <tbody>\n",
              "    <tr>\n",
              "      <th>2015-06-17</th>\n",
              "      <td>53249</td>\n",
              "      <td>53698</td>\n",
              "      <td>53755</td>\n",
              "      <td>52965</td>\n",
              "      <td>3090000.0</td>\n",
              "      <td>-0.0084</td>\n",
              "      <td>0.0106</td>\n",
              "      <td>-0.0039</td>\n",
              "      <td>-0.0064</td>\n",
              "      <td>-0.0035</td>\n",
              "      <td>...</td>\n",
              "      <td>889.081392</td>\n",
              "      <td>78500090.0</td>\n",
              "      <td>2</td>\n",
              "      <td>17</td>\n",
              "      <td>6</td>\n",
              "      <td>2015</td>\n",
              "      <td>0.001980</td>\n",
              "      <td>0.016464</td>\n",
              "      <td>-0.008863</td>\n",
              "      <td>0.019799</td>\n",
              "    </tr>\n",
              "    <tr>\n",
              "      <th>2015-06-18</th>\n",
              "      <td>54239</td>\n",
              "      <td>53251</td>\n",
              "      <td>54352</td>\n",
              "      <td>53214</td>\n",
              "      <td>2750000.0</td>\n",
              "      <td>0.0186</td>\n",
              "      <td>-0.0084</td>\n",
              "      <td>0.0106</td>\n",
              "      <td>-0.0039</td>\n",
              "      <td>-0.0064</td>\n",
              "      <td>...</td>\n",
              "      <td>906.861293</td>\n",
              "      <td>81250090.0</td>\n",
              "      <td>3</td>\n",
              "      <td>18</td>\n",
              "      <td>6</td>\n",
              "      <td>2015</td>\n",
              "      <td>0.009903</td>\n",
              "      <td>-0.036744</td>\n",
              "      <td>0.002265</td>\n",
              "      <td>0.006106</td>\n",
              "    </tr>\n",
              "    <tr>\n",
              "      <th>2015-06-19</th>\n",
              "      <td>53749</td>\n",
              "      <td>54236</td>\n",
              "      <td>54236</td>\n",
              "      <td>53479</td>\n",
              "      <td>2950000.0</td>\n",
              "      <td>-0.0090</td>\n",
              "      <td>0.0186</td>\n",
              "      <td>-0.0084</td>\n",
              "      <td>0.0106</td>\n",
              "      <td>-0.0039</td>\n",
              "      <td>...</td>\n",
              "      <td>896.371201</td>\n",
              "      <td>78300090.0</td>\n",
              "      <td>4</td>\n",
              "      <td>19</td>\n",
              "      <td>6</td>\n",
              "      <td>2015</td>\n",
              "      <td>-0.005304</td>\n",
              "      <td>-0.064152</td>\n",
              "      <td>0.003586</td>\n",
              "      <td>-0.019297</td>\n",
              "    </tr>\n",
              "    <tr>\n",
              "      <th>2015-06-22</th>\n",
              "      <td>53864</td>\n",
              "      <td>53750</td>\n",
              "      <td>54342</td>\n",
              "      <td>53655</td>\n",
              "      <td>2430000.0</td>\n",
              "      <td>0.0021</td>\n",
              "      <td>-0.0090</td>\n",
              "      <td>0.0186</td>\n",
              "      <td>-0.0084</td>\n",
              "      <td>0.0106</td>\n",
              "      <td>...</td>\n",
              "      <td>881.416115</td>\n",
              "      <td>80730090.0</td>\n",
              "      <td>0</td>\n",
              "      <td>22</td>\n",
              "      <td>6</td>\n",
              "      <td>2015</td>\n",
              "      <td>0.006095</td>\n",
              "      <td>0.000000</td>\n",
              "      <td>0.035052</td>\n",
              "      <td>0.005078</td>\n",
              "    </tr>\n",
              "    <tr>\n",
              "      <th>2015-06-23</th>\n",
              "      <td>53772</td>\n",
              "      <td>53865</td>\n",
              "      <td>54361</td>\n",
              "      <td>53772</td>\n",
              "      <td>2710000.0</td>\n",
              "      <td>-0.0017</td>\n",
              "      <td>0.0021</td>\n",
              "      <td>-0.0090</td>\n",
              "      <td>0.0186</td>\n",
              "      <td>-0.0084</td>\n",
              "      <td>...</td>\n",
              "      <td>860.529250</td>\n",
              "      <td>78020090.0</td>\n",
              "      <td>1</td>\n",
              "      <td>23</td>\n",
              "      <td>6</td>\n",
              "      <td>2015</td>\n",
              "      <td>0.000636</td>\n",
              "      <td>0.021912</td>\n",
              "      <td>0.012092</td>\n",
              "      <td>0.017524</td>\n",
              "    </tr>\n",
              "  </tbody>\n",
              "</table>\n",
              "<p>5 rows × 36 columns</p>\n",
              "</div>"
            ],
            "text/plain": [
              "            close   open   high    low     volume  daily_return  return_lag_1  \\\n",
              "ds                                                                              \n",
              "2015-06-17  53249  53698  53755  52965  3090000.0       -0.0084        0.0106   \n",
              "2015-06-18  54239  53251  54352  53214  2750000.0        0.0186       -0.0084   \n",
              "2015-06-19  53749  54236  54236  53479  2950000.0       -0.0090        0.0186   \n",
              "2015-06-22  53864  53750  54342  53655  2430000.0        0.0021       -0.0090   \n",
              "2015-06-23  53772  53865  54361  53772  2710000.0       -0.0017        0.0021   \n",
              "\n",
              "            return_lag_2  return_lag_3  return_lag_4  ...      atr_14  \\\n",
              "ds                                                    ...               \n",
              "2015-06-17       -0.0039       -0.0064       -0.0035  ...  889.081392   \n",
              "2015-06-18        0.0106       -0.0039       -0.0064  ...  906.861293   \n",
              "2015-06-19       -0.0084        0.0106       -0.0039  ...  896.371201   \n",
              "2015-06-22        0.0186       -0.0084        0.0106  ...  881.416115   \n",
              "2015-06-23       -0.0090        0.0186       -0.0084  ...  860.529250   \n",
              "\n",
              "                   obv  day_of_week  day_of_month  month  year  eua_return  \\\n",
              "ds                                                                           \n",
              "2015-06-17  78500090.0            2            17      6  2015    0.001980   \n",
              "2015-06-18  81250090.0            3            18      6  2015    0.009903   \n",
              "2015-06-19  78300090.0            4            19      6  2015   -0.005304   \n",
              "2015-06-22  80730090.0            0            22      6  2015    0.006095   \n",
              "2015-06-23  78020090.0            1            23      6  2015    0.000636   \n",
              "\n",
              "            china_return  europe_return  oil_return  \n",
              "ds                                                   \n",
              "2015-06-17      0.016464      -0.008863    0.019799  \n",
              "2015-06-18     -0.036744       0.002265    0.006106  \n",
              "2015-06-19     -0.064152       0.003586   -0.019297  \n",
              "2015-06-22      0.000000       0.035052    0.005078  \n",
              "2015-06-23      0.021912       0.012092    0.017524  \n",
              "\n",
              "[5 rows x 36 columns]"
            ]
          },
<<<<<<< HEAD
          "execution_count": 285,
=======
          "execution_count": 25,
>>>>>>> Jackson
          "metadata": {},
          "output_type": "execute_result"
        }
      ],
      "source": [
        "# selecionando apenas 10 anos de dados\n",
        "df_10years = df_merged.loc[df.index >= '2015-06-17'].dropna()\n",
        "df_10years.head()"
      ]
    },
    {
      "cell_type": "code",
<<<<<<< HEAD
      "execution_count": 286,
=======
      "execution_count": 26,
>>>>>>> Jackson
      "id": "9448e0bd",
      "metadata": {},
      "outputs": [
        {
          "data": {
            "application/vnd.microsoft.datawrangler.viewer.v0+json": {
              "columns": [
                {
                  "name": "index",
                  "rawType": "object",
                  "type": "string"
                },
                {
                  "name": "0",
                  "rawType": "int64",
                  "type": "integer"
                }
              ],
<<<<<<< HEAD
              "ref": "12c7216a-b1e0-43d3-b8d0-9ca41ec24ccc",
=======
              "ref": "d4a93d0a-0974-44b4-ac72-938e6cf21aca",
>>>>>>> Jackson
              "rows": [
                [
                  "close",
                  "0"
                ],
                [
                  "open",
                  "0"
                ],
                [
                  "high",
                  "0"
                ],
                [
                  "low",
                  "0"
                ],
                [
                  "volume",
                  "0"
                ],
                [
                  "daily_return",
                  "0"
                ],
                [
                  "return_lag_1",
                  "0"
                ],
                [
                  "return_lag_2",
                  "0"
                ],
                [
                  "return_lag_3",
                  "0"
                ],
                [
                  "return_lag_4",
                  "0"
                ],
                [
                  "return_lag_5",
                  "0"
                ],
                [
                  "momentum_5",
                  "0"
                ],
                [
                  "momentum_21",
                  "0"
                ],
                [
                  "momentum_63",
                  "0"
                ],
                [
                  "momentum_accel_21",
                  "0"
                ],
                [
                  "momentum_consistency_21",
                  "0"
                ],
                [
                  "sma_21",
                  "0"
                ],
                [
                  "ema_50",
                  "0"
                ],
                [
                  "macd",
                  "0"
                ],
                [
                  "macd_hist",
                  "0"
                ],
                [
                  "macd_signal",
                  "0"
                ],
                [
                  "rsi_14",
                  "0"
                ],
                [
                  "stoch_k",
                  "0"
                ],
                [
                  "stoch_d",
                  "0"
                ],
                [
                  "volatility",
                  "0"
                ],
                [
                  "rel_volatility",
                  "0"
                ],
                [
                  "atr_14",
                  "0"
                ],
                [
                  "obv",
                  "0"
                ],
                [
                  "day_of_week",
                  "0"
                ],
                [
                  "day_of_month",
                  "0"
                ],
                [
                  "month",
                  "0"
                ],
                [
                  "year",
                  "0"
                ],
                [
                  "eua_return",
                  "0"
                ],
                [
                  "china_return",
                  "0"
                ],
                [
                  "europe_return",
                  "0"
                ],
                [
                  "oil_return",
                  "0"
                ]
              ],
              "shape": {
                "columns": 1,
                "rows": 36
              }
            },
            "text/plain": [
              "close                      0\n",
              "open                       0\n",
              "high                       0\n",
              "low                        0\n",
              "volume                     0\n",
              "daily_return               0\n",
              "return_lag_1               0\n",
              "return_lag_2               0\n",
              "return_lag_3               0\n",
              "return_lag_4               0\n",
              "return_lag_5               0\n",
              "momentum_5                 0\n",
              "momentum_21                0\n",
              "momentum_63                0\n",
              "momentum_accel_21          0\n",
              "momentum_consistency_21    0\n",
              "sma_21                     0\n",
              "ema_50                     0\n",
              "macd                       0\n",
              "macd_hist                  0\n",
              "macd_signal                0\n",
              "rsi_14                     0\n",
              "stoch_k                    0\n",
              "stoch_d                    0\n",
              "volatility                 0\n",
              "rel_volatility             0\n",
              "atr_14                     0\n",
              "obv                        0\n",
              "day_of_week                0\n",
              "day_of_month               0\n",
              "month                      0\n",
              "year                       0\n",
              "eua_return                 0\n",
              "china_return               0\n",
              "europe_return              0\n",
              "oil_return                 0\n",
              "dtype: int64"
            ]
          },
<<<<<<< HEAD
          "execution_count": 286,
=======
          "execution_count": 26,
>>>>>>> Jackson
          "metadata": {},
          "output_type": "execute_result"
        }
      ],
      "source": [
        "df_10years.isnull().sum()"
      ]
    },
    {
      "cell_type": "code",
<<<<<<< HEAD
      "execution_count": 287,
=======
      "execution_count": 27,
>>>>>>> Jackson
      "id": "8c215ef5",
      "metadata": {},
      "outputs": [],
      "source": [
        "# Salvar o CSV já limpo e processado com a data no índice\n",
        "output_path = '../data/processed/dados_historicos_ibovespa_2015-2025_processed.csv'\n",
        "\n",
        "df_10years.to_csv(output_path, index=True)"
      ]
    }
  ],
  "metadata": {
    "colab": {
      "provenance": []
    },
    "kernelspec": {
<<<<<<< HEAD
      "display_name": ".venv",
=======
      "display_name": "ibov_p_11",
>>>>>>> Jackson
      "language": "python",
      "name": "python3"
    },
    "language_info": {
      "codemirror_mode": {
        "name": "ipython",
        "version": 3
      },
      "file_extension": ".py",
      "mimetype": "text/x-python",
      "name": "python",
      "nbconvert_exporter": "python",
      "pygments_lexer": "ipython3",
      "version": "3.11.13"
    }
  },
  "nbformat": 4,
  "nbformat_minor": 5
}
