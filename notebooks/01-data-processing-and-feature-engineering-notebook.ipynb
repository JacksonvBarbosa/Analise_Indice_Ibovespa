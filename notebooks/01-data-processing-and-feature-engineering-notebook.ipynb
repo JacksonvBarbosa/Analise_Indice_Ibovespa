{
  "cells": [
    {
      "cell_type": "markdown",
      "id": "hcSvZD7bwX40",
      "metadata": {
        "id": "hcSvZD7bwX40"
      },
      "source": [
        "# Modelo preditivo para a tendência do IBOVESPA"
      ]
    },
    {
      "cell_type": "markdown",
      "id": "ClTjjNWjxXku",
      "metadata": {
        "id": "ClTjjNWjxXku"
      },
      "source": [
        "O objetivo desse projeto é desenvolver um modelo de Machine Learning capaz de prever se o índice IBOVESPA vai fechar em alta ou baixa no dia seguinte, com acuracidade mínima de 75% em um conjunto de teste composto pelos últimos 30 dias de dados.\n",
        "\n",
        "> O Ibovespa é o principal indicador de desempenho das ações negociadas na B3 e reúne as empresas mais importantes do mercado de capitais brasileiro. Foi criado em 1968 e, ao longo desses 50 anos, consolidou-se como referência para investidores ao redor do mundo. [Referência](https://www.b3.com.br/pt_br/market-data-e-indices/indices/indices-amplos/ibovespa.htm)"
      ]
    },
    {
      "cell_type": "markdown",
      "id": "Uc6UBNOyNB-m",
      "metadata": {
        "id": "Uc6UBNOyNB-m"
      },
      "source": [
        "## Importação das bibliotecas"
      ]
    },
    {
      "cell_type": "code",
      "execution_count": 78,
      "id": "1d2c1e0d",
      "metadata": {
        "id": "1d2c1e0d"
      },
      "outputs": [],
      "source": [
        "import pandas as pd\n",
        "import numpy as np\n",
        "import talib"
      ]
    },
    {
      "cell_type": "markdown",
      "id": "XeZiUraUzbQm",
      "metadata": {
        "id": "XeZiUraUzbQm"
      },
      "source": [
        "## Aquisição dos dados"
      ]
    },
    {
      "cell_type": "markdown",
      "id": "4MwyVRKM3zK7",
      "metadata": {
        "id": "4MwyVRKM3zK7"
      },
      "source": [
        "Utilizaremos os dados históricos do índice IBOVESPA, disponíveis publicamente no site do [br.investing](https://br.investing.com/indices/bovespa-historical-data)"
      ]
    },
    {
      "cell_type": "code",
      "execution_count": 79,
      "id": "4fb05152",
      "metadata": {
        "colab": {
          "base_uri": "https://localhost:8080/",
          "height": 206
        },
        "id": "4fb05152",
        "outputId": "4a6ed68c-7057-4403-d661-194fce438d5a"
      },
      "outputs": [
        {
          "data": {
            "application/vnd.microsoft.datawrangler.viewer.v0+json": {
              "columns": [
                {
                  "name": "ds",
                  "rawType": "datetime64[ns]",
                  "type": "datetime"
                },
                {
                  "name": "Último",
                  "rawType": "int64",
                  "type": "integer"
                },
                {
                  "name": "Abertura",
                  "rawType": "int64",
                  "type": "integer"
                },
                {
                  "name": "Máxima",
                  "rawType": "int64",
                  "type": "integer"
                },
                {
                  "name": "Mínima",
                  "rawType": "int64",
                  "type": "integer"
                },
                {
                  "name": "Vol.",
                  "rawType": "object",
                  "type": "string"
                },
                {
                  "name": "Var%",
                  "rawType": "object",
                  "type": "string"
                }
              ],
              "ref": "ef9e6c02-75eb-41bd-a53e-222949c602ef",
              "rows": [
                [
                  "2025-06-12 00:00:00",
                  "137800",
                  "137127",
                  "137931",
                  "136175",
                  "7,12B",
                  "0,49%"
                ],
                [
                  "2025-06-13 00:00:00",
                  "137213",
                  "137800",
                  "137800",
                  "136586",
                  "8,63B",
                  "-0,43%"
                ],
                [
                  "2025-06-16 00:00:00",
                  "139256",
                  "137212",
                  "139988",
                  "137212",
                  "7,62B",
                  "1,49%"
                ],
                [
                  "2025-06-17 00:00:00",
                  "138840",
                  "139256",
                  "139497",
                  "138293",
                  "8,38B",
                  "-0,30%"
                ],
                [
                  "2025-06-18 00:00:00",
                  "138717",
                  "138844",
                  "139161",
                  "138443",
                  "8,32B",
                  "-0,09%"
                ]
              ],
              "shape": {
                "columns": 6,
                "rows": 5
              }
            },
            "text/html": [
              "<div>\n",
              "<style scoped>\n",
              "    .dataframe tbody tr th:only-of-type {\n",
              "        vertical-align: middle;\n",
              "    }\n",
              "\n",
              "    .dataframe tbody tr th {\n",
              "        vertical-align: top;\n",
              "    }\n",
              "\n",
              "    .dataframe thead th {\n",
              "        text-align: right;\n",
              "    }\n",
              "</style>\n",
              "<table border=\"1\" class=\"dataframe\">\n",
              "  <thead>\n",
              "    <tr style=\"text-align: right;\">\n",
              "      <th></th>\n",
              "      <th>Último</th>\n",
              "      <th>Abertura</th>\n",
              "      <th>Máxima</th>\n",
              "      <th>Mínima</th>\n",
              "      <th>Vol.</th>\n",
              "      <th>Var%</th>\n",
              "    </tr>\n",
              "    <tr>\n",
              "      <th>ds</th>\n",
              "      <th></th>\n",
              "      <th></th>\n",
              "      <th></th>\n",
              "      <th></th>\n",
              "      <th></th>\n",
              "      <th></th>\n",
              "    </tr>\n",
              "  </thead>\n",
              "  <tbody>\n",
              "    <tr>\n",
              "      <th>2025-06-12</th>\n",
              "      <td>137800</td>\n",
              "      <td>137127</td>\n",
              "      <td>137931</td>\n",
              "      <td>136175</td>\n",
              "      <td>7,12B</td>\n",
              "      <td>0,49%</td>\n",
              "    </tr>\n",
              "    <tr>\n",
              "      <th>2025-06-13</th>\n",
              "      <td>137213</td>\n",
              "      <td>137800</td>\n",
              "      <td>137800</td>\n",
              "      <td>136586</td>\n",
              "      <td>8,63B</td>\n",
              "      <td>-0,43%</td>\n",
              "    </tr>\n",
              "    <tr>\n",
              "      <th>2025-06-16</th>\n",
              "      <td>139256</td>\n",
              "      <td>137212</td>\n",
              "      <td>139988</td>\n",
              "      <td>137212</td>\n",
              "      <td>7,62B</td>\n",
              "      <td>1,49%</td>\n",
              "    </tr>\n",
              "    <tr>\n",
              "      <th>2025-06-17</th>\n",
              "      <td>138840</td>\n",
              "      <td>139256</td>\n",
              "      <td>139497</td>\n",
              "      <td>138293</td>\n",
              "      <td>8,38B</td>\n",
              "      <td>-0,30%</td>\n",
              "    </tr>\n",
              "    <tr>\n",
              "      <th>2025-06-18</th>\n",
              "      <td>138717</td>\n",
              "      <td>138844</td>\n",
              "      <td>139161</td>\n",
              "      <td>138443</td>\n",
              "      <td>8,32B</td>\n",
              "      <td>-0,09%</td>\n",
              "    </tr>\n",
              "  </tbody>\n",
              "</table>\n",
              "</div>"
            ],
            "text/plain": [
              "            Último  Abertura  Máxima  Mínima   Vol.    Var%\n",
              "ds                                                         \n",
              "2025-06-12  137800    137127  137931  136175  7,12B   0,49%\n",
              "2025-06-13  137213    137800  137800  136586  8,63B  -0,43%\n",
              "2025-06-16  139256    137212  139988  137212  7,62B   1,49%\n",
              "2025-06-17  138840    139256  139497  138293  8,38B  -0,30%\n",
              "2025-06-18  138717    138844  139161  138443  8,32B  -0,09%"
            ]
          },
          "execution_count": 79,
          "metadata": {},
          "output_type": "execute_result"
        }
      ],
      "source": [
        "input_path = '../data/raw/dados_historicos_ibovespa_2008-2025.csv'\n",
        "\n",
        "df = pd.read_csv(input_path, thousands='.', decimal=',', parse_dates=['Data'], date_format='%d.%m.%Y', index_col='Data')\n",
        "df = df.rename_axis('ds').sort_index()\n",
        "df.tail()"
      ]
    },
    {
      "cell_type": "code",
      "execution_count": 80,
      "id": "4388e644",
      "metadata": {
        "colab": {
          "base_uri": "https://localhost:8080/"
        },
        "id": "4388e644",
        "outputId": "4c8d8997-4e20-4636-a3a3-70e32ed6f18d"
      },
      "outputs": [
        {
          "data": {
            "text/plain": [
              "(4315, 6)"
            ]
          },
          "execution_count": 80,
          "metadata": {},
          "output_type": "execute_result"
        }
      ],
      "source": [
        "df.shape"
      ]
    },
    {
      "cell_type": "code",
      "execution_count": 81,
      "id": "ff422871",
      "metadata": {
        "colab": {
          "base_uri": "https://localhost:8080/"
        },
        "id": "ff422871",
        "outputId": "8b136df2-65d7-4790-bc93-2fe4fdd89955"
      },
      "outputs": [
        {
          "name": "stdout",
          "output_type": "stream",
          "text": [
            "<class 'pandas.core.frame.DataFrame'>\n",
            "DatetimeIndex: 4315 entries, 2008-01-18 to 2025-06-18\n",
            "Data columns (total 6 columns):\n",
            " #   Column    Non-Null Count  Dtype \n",
            "---  ------    --------------  ----- \n",
            " 0   Último    4315 non-null   int64 \n",
            " 1   Abertura  4315 non-null   int64 \n",
            " 2   Máxima    4315 non-null   int64 \n",
            " 3   Mínima    4315 non-null   int64 \n",
            " 4   Vol.      4314 non-null   object\n",
            " 5   Var%      4315 non-null   object\n",
            "dtypes: int64(4), object(2)\n",
            "memory usage: 236.0+ KB\n"
          ]
        }
      ],
      "source": [
        "# informações gerais do dataframe\n",
        "df.info()"
      ]
    },
    {
      "cell_type": "markdown",
      "id": "bcpbyEHPy1Cm",
      "metadata": {
        "id": "bcpbyEHPy1Cm"
      },
      "source": [
        "## Tratamento dos dados"
      ]
    },
    {
      "cell_type": "markdown",
      "id": "1TelLAa42j5h",
      "metadata": {
        "id": "1TelLAa42j5h"
      },
      "source": [
        "Vamos transformar os dados brutos em um formato adequado para o treinamento de um modelo de Machine Learning."
      ]
    },
    {
      "cell_type": "code",
      "execution_count": 82,
      "id": "dda056cd",
      "metadata": {
        "id": "dda056cd"
      },
      "outputs": [],
      "source": [
        "# renomeando as colunas para os nomes padrões utilizados no mercado financeiro\n",
        "colunas = {\n",
        "  'Último': 'close',              # fechamento da negociação diária\n",
        "  'Abertura': 'open',             # início da negociação diária\n",
        "  'Máxima': 'high',               # valor máximo do dia\n",
        "  'Mínima': 'low',                # valor mínimo do dia\n",
        "  'Vol.': 'volume',               # volume de negociação diária\n",
        "  'Var%': 'daily_return'          # variação percentual diária\n",
        "}\n",
        "\n",
        "df.rename(columns=colunas, inplace=True)"
      ]
    },
    {
      "cell_type": "code",
      "execution_count": 83,
      "id": "WBSchYd63__f",
      "metadata": {
        "colab": {
          "base_uri": "https://localhost:8080/"
        },
        "id": "WBSchYd63__f",
        "outputId": "b69bdd3c-3527-4852-ba83-5176e05661f7"
      },
      "outputs": [
        {
          "name": "stdout",
          "output_type": "stream",
          "text": [
            "Os dados vão de 2008-01-18 até 2025-06-18, o que dá aproximadamente 17 anos\n"
          ]
        }
      ],
      "source": [
        "# Data mínima, máxima e total de anos do DF levando em conta os anos bissextos\n",
        "print(f\"Os dados vão de {df.index.min().date()} até {df.index.max().date()}, o que dá aproximadamente {(df.index.max() - df.index.min()).days / 365.25:.0f} anos\")"
      ]
    },
    {
      "cell_type": "code",
      "execution_count": 84,
      "id": "RK9PpqYyWkfe",
      "metadata": {
        "colab": {
          "base_uri": "https://localhost:8080/"
        },
        "id": "RK9PpqYyWkfe",
        "outputId": "7161e1e2-25a2-4a85-ba2e-c8904c684f2d"
      },
      "outputs": [
        {
          "data": {
            "text/plain": [
              "np.int64(0)"
            ]
          },
          "execution_count": 84,
          "metadata": {},
          "output_type": "execute_result"
        }
      ],
      "source": [
        "# conferindo se há valores duplicados\n",
        "df.duplicated().sum()"
      ]
    },
    {
      "cell_type": "code",
      "execution_count": 85,
      "id": "c5520c66",
      "metadata": {
        "colab": {
          "base_uri": "https://localhost:8080/",
          "height": 303
        },
        "id": "c5520c66",
        "outputId": "955ead20-d9a9-4b4e-8934-64e24df5f28f"
      },
      "outputs": [
        {
          "data": {
            "application/vnd.microsoft.datawrangler.viewer.v0+json": {
              "columns": [
                {
                  "name": "index",
                  "rawType": "object",
                  "type": "string"
                },
                {
                  "name": "0",
                  "rawType": "int64",
                  "type": "integer"
                }
              ],
              "ref": "fbe85216-14fb-4d74-9328-1d2dd237970c",
              "rows": [
                [
                  "close",
                  "0"
                ],
                [
                  "open",
                  "0"
                ],
                [
                  "high",
                  "0"
                ],
                [
                  "low",
                  "0"
                ],
                [
                  "volume",
                  "1"
                ],
                [
                  "daily_return",
                  "0"
                ]
              ],
              "shape": {
                "columns": 1,
                "rows": 6
              }
            },
            "text/plain": [
              "close           0\n",
              "open            0\n",
              "high            0\n",
              "low             0\n",
              "volume          1\n",
              "daily_return    0\n",
              "dtype: int64"
            ]
          },
          "execution_count": 85,
          "metadata": {},
          "output_type": "execute_result"
        }
      ],
      "source": [
        "# conferindo se há valores nulos\n",
        "df.isnull().sum()"
      ]
    },
    {
      "cell_type": "code",
      "execution_count": 86,
      "id": "P7QEN53jaY04",
      "metadata": {
        "colab": {
          "base_uri": "https://localhost:8080/",
          "height": 81
        },
        "id": "P7QEN53jaY04",
        "outputId": "25533cd7-4143-4dea-86b1-f4531d4fad52"
      },
      "outputs": [
        {
          "data": {
            "application/vnd.microsoft.datawrangler.viewer.v0+json": {
              "columns": [
                {
                  "name": "ds",
                  "rawType": "datetime64[ns]",
                  "type": "datetime"
                },
                {
                  "name": "close",
                  "rawType": "int64",
                  "type": "integer"
                },
                {
                  "name": "open",
                  "rawType": "int64",
                  "type": "integer"
                },
                {
                  "name": "high",
                  "rawType": "int64",
                  "type": "integer"
                },
                {
                  "name": "low",
                  "rawType": "int64",
                  "type": "integer"
                },
                {
                  "name": "volume",
                  "rawType": "object",
                  "type": "unknown"
                },
                {
                  "name": "daily_return",
                  "rawType": "object",
                  "type": "string"
                }
              ],
              "ref": "13e4717d-4061-4235-a856-e8dff8a6b934",
              "rows": [
                [
                  "2016-02-10 00:00:00",
                  "40377",
                  "40592",
                  "40592",
                  "39960",
                  null,
                  "-0,53%"
                ]
              ],
              "shape": {
                "columns": 6,
                "rows": 1
              }
            },
            "text/html": [
              "<div>\n",
              "<style scoped>\n",
              "    .dataframe tbody tr th:only-of-type {\n",
              "        vertical-align: middle;\n",
              "    }\n",
              "\n",
              "    .dataframe tbody tr th {\n",
              "        vertical-align: top;\n",
              "    }\n",
              "\n",
              "    .dataframe thead th {\n",
              "        text-align: right;\n",
              "    }\n",
              "</style>\n",
              "<table border=\"1\" class=\"dataframe\">\n",
              "  <thead>\n",
              "    <tr style=\"text-align: right;\">\n",
              "      <th></th>\n",
              "      <th>close</th>\n",
              "      <th>open</th>\n",
              "      <th>high</th>\n",
              "      <th>low</th>\n",
              "      <th>volume</th>\n",
              "      <th>daily_return</th>\n",
              "    </tr>\n",
              "    <tr>\n",
              "      <th>ds</th>\n",
              "      <th></th>\n",
              "      <th></th>\n",
              "      <th></th>\n",
              "      <th></th>\n",
              "      <th></th>\n",
              "      <th></th>\n",
              "    </tr>\n",
              "  </thead>\n",
              "  <tbody>\n",
              "    <tr>\n",
              "      <th>2016-02-10</th>\n",
              "      <td>40377</td>\n",
              "      <td>40592</td>\n",
              "      <td>40592</td>\n",
              "      <td>39960</td>\n",
              "      <td>NaN</td>\n",
              "      <td>-0,53%</td>\n",
              "    </tr>\n",
              "  </tbody>\n",
              "</table>\n",
              "</div>"
            ],
            "text/plain": [
              "            close   open   high    low volume daily_return\n",
              "ds                                                        \n",
              "2016-02-10  40377  40592  40592  39960    NaN       -0,53%"
            ]
          },
          "execution_count": 86,
          "metadata": {},
          "output_type": "execute_result"
        }
      ],
      "source": [
        "df[df['volume'].isnull()]"
      ]
    },
    {
      "cell_type": "code",
      "execution_count": 87,
      "id": "5df27607",
      "metadata": {
        "id": "5df27607"
      },
      "outputs": [],
      "source": [
        "# ajustando a coluna volume (de texto para float)\n",
        "def converter_volume(vol):\n",
        "    if pd.isna(vol):    \n",
        "        return np.nan\n",
        "    vol = vol.upper().replace(',', '.').strip()\n",
        "    if vol.endswith('B'):\n",
        "        return float(vol[:-1]) * 1e9\n",
        "    elif vol.endswith('M'):\n",
        "        return float(vol[:-1]) * 1e6\n",
        "    elif vol.endswith('K'):\n",
        "        return float(vol[:-1]) * 1e3\n",
        "    else:\n",
        "        return float(vol)\n",
        "\n",
        "df['volume'] = df['volume'].apply(converter_volume)"
      ]
    },
    {
      "cell_type": "code",
      "execution_count": 88,
      "id": "80f9ccc8",
      "metadata": {},
      "outputs": [],
      "source": [
        "# Substituir o volume nulo pela média do volume daquele mês\n",
        "media_volume = df.loc['2016-02', 'volume'].mean().round(1)\n",
        "df.fillna(media_volume, inplace=True)"
      ]
    },
    {
      "cell_type": "code",
      "execution_count": 89,
      "id": "06f339aa",
      "metadata": {
        "colab": {
          "base_uri": "https://localhost:8080/",
          "height": 206
        },
        "id": "06f339aa",
        "outputId": "8f4dbdd1-ee5b-49ac-b783-75bc795961ef"
      },
      "outputs": [
        {
          "data": {
            "application/vnd.microsoft.datawrangler.viewer.v0+json": {
              "columns": [
                {
                  "name": "ds",
                  "rawType": "datetime64[ns]",
                  "type": "datetime"
                },
                {
                  "name": "close",
                  "rawType": "int64",
                  "type": "integer"
                },
                {
                  "name": "open",
                  "rawType": "int64",
                  "type": "integer"
                },
                {
                  "name": "high",
                  "rawType": "int64",
                  "type": "integer"
                },
                {
                  "name": "low",
                  "rawType": "int64",
                  "type": "integer"
                },
                {
                  "name": "volume",
                  "rawType": "float64",
                  "type": "float"
                },
                {
                  "name": "daily_return",
                  "rawType": "float64",
                  "type": "float"
                }
              ],
              "ref": "6efae438-3235-4719-bb6b-4d985df1d6d8",
              "rows": [
                [
                  "2008-01-18 00:00:00",
                  "57506",
                  "57039",
                  "58291",
                  "56241",
                  "5810000.0",
                  "0.0082"
                ],
                [
                  "2008-01-21 00:00:00",
                  "53709",
                  "57503",
                  "57503",
                  "53487",
                  "3570000.0",
                  "-0.066"
                ],
                [
                  "2008-01-22 00:00:00",
                  "56097",
                  "53705",
                  "56541",
                  "53610",
                  "3650000.0",
                  "0.0445"
                ],
                [
                  "2008-01-23 00:00:00",
                  "54235",
                  "56098",
                  "56098",
                  "53011",
                  "3720000.0",
                  "-0.0332"
                ],
                [
                  "2008-01-24 00:00:00",
                  "57463",
                  "54242",
                  "57675",
                  "54242",
                  "3800000.0",
                  "0.0595"
                ]
              ],
              "shape": {
                "columns": 6,
                "rows": 5
              }
            },
            "text/html": [
              "<div>\n",
              "<style scoped>\n",
              "    .dataframe tbody tr th:only-of-type {\n",
              "        vertical-align: middle;\n",
              "    }\n",
              "\n",
              "    .dataframe tbody tr th {\n",
              "        vertical-align: top;\n",
              "    }\n",
              "\n",
              "    .dataframe thead th {\n",
              "        text-align: right;\n",
              "    }\n",
              "</style>\n",
              "<table border=\"1\" class=\"dataframe\">\n",
              "  <thead>\n",
              "    <tr style=\"text-align: right;\">\n",
              "      <th></th>\n",
              "      <th>close</th>\n",
              "      <th>open</th>\n",
              "      <th>high</th>\n",
              "      <th>low</th>\n",
              "      <th>volume</th>\n",
              "      <th>daily_return</th>\n",
              "    </tr>\n",
              "    <tr>\n",
              "      <th>ds</th>\n",
              "      <th></th>\n",
              "      <th></th>\n",
              "      <th></th>\n",
              "      <th></th>\n",
              "      <th></th>\n",
              "      <th></th>\n",
              "    </tr>\n",
              "  </thead>\n",
              "  <tbody>\n",
              "    <tr>\n",
              "      <th>2008-01-18</th>\n",
              "      <td>57506</td>\n",
              "      <td>57039</td>\n",
              "      <td>58291</td>\n",
              "      <td>56241</td>\n",
              "      <td>5810000.0</td>\n",
              "      <td>0.0082</td>\n",
              "    </tr>\n",
              "    <tr>\n",
              "      <th>2008-01-21</th>\n",
              "      <td>53709</td>\n",
              "      <td>57503</td>\n",
              "      <td>57503</td>\n",
              "      <td>53487</td>\n",
              "      <td>3570000.0</td>\n",
              "      <td>-0.0660</td>\n",
              "    </tr>\n",
              "    <tr>\n",
              "      <th>2008-01-22</th>\n",
              "      <td>56097</td>\n",
              "      <td>53705</td>\n",
              "      <td>56541</td>\n",
              "      <td>53610</td>\n",
              "      <td>3650000.0</td>\n",
              "      <td>0.0445</td>\n",
              "    </tr>\n",
              "    <tr>\n",
              "      <th>2008-01-23</th>\n",
              "      <td>54235</td>\n",
              "      <td>56098</td>\n",
              "      <td>56098</td>\n",
              "      <td>53011</td>\n",
              "      <td>3720000.0</td>\n",
              "      <td>-0.0332</td>\n",
              "    </tr>\n",
              "    <tr>\n",
              "      <th>2008-01-24</th>\n",
              "      <td>57463</td>\n",
              "      <td>54242</td>\n",
              "      <td>57675</td>\n",
              "      <td>54242</td>\n",
              "      <td>3800000.0</td>\n",
              "      <td>0.0595</td>\n",
              "    </tr>\n",
              "  </tbody>\n",
              "</table>\n",
              "</div>"
            ],
            "text/plain": [
              "            close   open   high    low     volume  daily_return\n",
              "ds                                                             \n",
              "2008-01-18  57506  57039  58291  56241  5810000.0        0.0082\n",
              "2008-01-21  53709  57503  57503  53487  3570000.0       -0.0660\n",
              "2008-01-22  56097  53705  56541  53610  3650000.0        0.0445\n",
              "2008-01-23  54235  56098  56098  53011  3720000.0       -0.0332\n",
              "2008-01-24  57463  54242  57675  54242  3800000.0        0.0595"
            ]
          },
          "execution_count": 89,
          "metadata": {},
          "output_type": "execute_result"
        }
      ],
      "source": [
        "# ajustando a coluna variação percentual diária, que contém o pct_change() do fechamento\n",
        "df['daily_return'] = df['daily_return'].str.replace('%', '').str.replace(',', '.')\n",
        "df['daily_return'] = round(df['daily_return'].astype(float) / 100, 4)\n",
        "df.head()"
      ]
    },
    {
      "cell_type": "code",
      "execution_count": 90,
      "id": "a0bf4b57",
      "metadata": {
        "colab": {
          "base_uri": "https://localhost:8080/"
        },
        "id": "a0bf4b57",
        "outputId": "31a10e98-186f-4e70-db48-42dd2d49c254"
      },
      "outputs": [
        {
          "name": "stdout",
          "output_type": "stream",
          "text": [
            "<class 'pandas.core.frame.DataFrame'>\n",
            "DatetimeIndex: 4315 entries, 2008-01-18 to 2025-06-18\n",
            "Data columns (total 6 columns):\n",
            " #   Column        Non-Null Count  Dtype  \n",
            "---  ------        --------------  -----  \n",
            " 0   close         4315 non-null   int64  \n",
            " 1   open          4315 non-null   int64  \n",
            " 2   high          4315 non-null   int64  \n",
            " 3   low           4315 non-null   int64  \n",
            " 4   volume        4315 non-null   float64\n",
            " 5   daily_return  4315 non-null   float64\n",
            "dtypes: float64(2), int64(4)\n",
            "memory usage: 236.0 KB\n"
          ]
        }
      ],
      "source": [
        "# conferindo formato dos dados\n",
        "df.info()"
      ]
    },
    {
      "cell_type": "markdown",
      "id": "ZrOGRSaq0OQk",
      "metadata": {
        "id": "ZrOGRSaq0OQk"
      },
      "source": [
        "## Engenharia de atributos"
      ]
    },
    {
      "cell_type": "markdown",
      "id": "3ftcH53l3Gvh",
      "metadata": {
        "id": "3ftcH53l3Gvh"
      },
      "source": [
        "Primeiro, vamos criar a **variável alvo** com horizonte de 1 dia para que o modelo de classificação consiga prever se o fechamento de amanhã será maior que o de hoje.\n",
        "\n",
        "* `1` para dias de **Alta**\n",
        "* `0` para dias de **Baixa**"
      ]
    },
    {
      "cell_type": "code",
      "execution_count": 91,
      "id": "33a01166",
      "metadata": {
        "colab": {
          "base_uri": "https://localhost:8080/",
          "height": 206
        },
        "id": "33a01166",
        "outputId": "c179721e-a34a-4c06-dd7a-2413d9bcfc4f"
      },
      "outputs": [],
      "source": [
        "# criando uma coluna de direção (baixa = 0 ou alta = 1)\n",
        "target_values = (df['close'].shift(-1) > df['close']).astype(int)\n",
        "df.insert(0, 'target', target_values)"
      ]
    },
    {
      "cell_type": "markdown",
      "id": "833a9428",
      "metadata": {},
      "source": [
        "Agora, vamos criar **variáveis preditoras** através de uma análise técnica do mercado financeiro, ao invés de uma análise fundamentalista. Em vez de dar ao modelo os dados brutos de abertura, máxima e mínima, vamos criar features para extrair a informação das relações entre eles.\n",
        "\n",
        "Para as janelas de tempo, vamos utilizar as convenções do mercado financeiro para representar uma semana (5 dias), um mês (21 dias) e um trimestre (63 dias) de transações."
      ]
    },
    {
      "cell_type": "code",
      "execution_count": 92,
      "id": "f096a014",
      "metadata": {},
      "outputs": [],
      "source": [
        "# indicadores de momentum\n",
        "\n",
        "# retorno percentual de 1 a 5 dias (tendência de curto prazo)\n",
        "for lag in range(1, 6):\n",
        "    df[f'return_lag_{lag}'] = df['daily_return'].shift(lag)\n",
        "\n",
        "# retorno percentual acumulado de uma semana, um mês e um trimestre\n",
        "for period in [5, 21, 63]:\n",
        "    df[f'momentum_{period}'] = df['close'].pct_change(period)"
      ]
    },
    {
      "cell_type": "code",
      "execution_count": 93,
      "id": "67fe6032",
      "metadata": {},
      "outputs": [],
      "source": [
        "# indicadores de tendência\n",
        "\n",
        "# média móvel simples de um mês (tendência de médio prazo)\n",
        "df['sma_21'] = talib.SMA(df['close'], timeperiod=21)\n",
        "\n",
        "# média móvel exponencial de um trimestre (tendência de longo prazo)\n",
        "df['ema_50'] = talib.EMA(df['close'], timeperiod=50)"
      ]
    },
    {
      "cell_type": "markdown",
      "id": "82285acc",
      "metadata": {},
      "source": [
        "Para a média móvel exponencial, é uma convenção utilizar 50 dias ou 200 dias para tendências de longo prazo. [Referência](https://www.investopedia.com/terms/e/ema.asp#citation-4)"
      ]
    },
    {
      "cell_type": "code",
      "execution_count": 94,
      "id": "5e0f355c",
      "metadata": {},
      "outputs": [],
      "source": [
        "# indicadores de osciladores\n",
        "\n",
        "# índice de força relativa (IFR) varia de 0 a 100\n",
        "df['rsi_14'] = talib.RSI(df['close'], timeperiod=14)"
      ]
    },
    {
      "cell_type": "markdown",
      "id": "ec22d340",
      "metadata": {},
      "source": [
        "Por padrão, utiliza-se um período de 14 dias para o IFR. [Referência](https://blog.quantinsti.com/rsi-indicator/)"
      ]
    },
    {
      "cell_type": "code",
      "execution_count": 95,
      "id": "4be9762d",
      "metadata": {},
      "outputs": [],
      "source": [
        "# indicadores de volatilidade\n",
        "\n",
        "# average true range\n",
        "df['atr_14'] = talib.ATR(df['high'], df['low'], df['close'], timeperiod=14)"
      ]
    },
    {
      "cell_type": "markdown",
      "id": "efad42c2",
      "metadata": {},
      "source": [
        "Por padrão, utiliza-se um período de 14 dias para o ATR. [Referência](https://www.investopedia.com/terms/a/atr.asp)\n",
        "\n",
        "Por padrão, utiliza-se um período de 20 dias (um mês) para e 2 desvios-padrão para as bandas para conter cerca de 95% dos dados. [Referência](https://www.infomoney.com.br/guias/bandas-bollinger/)"
      ]
    },
    {
      "cell_type": "code",
      "execution_count": 96,
      "id": "4bbfd56a",
      "metadata": {},
      "outputs": [],
      "source": [
        "# indicadores de volume\n",
        "\n",
        "# on-balance volume \n",
        "df['obv'] = talib.OBV(df['close'], df['volume'])"
      ]
    },
    {
      "cell_type": "markdown",
      "id": "67157ce1",
      "metadata": {},
      "source": [
        "Decidimos não usar as features de volume, uma vez que são dados com muito ruído e que vão de uma escala de mil até bilhão. (vide notebook EDA)"
      ]
    },
    {
      "cell_type": "code",
      "execution_count": 97,
      "id": "b24d52d8",
      "metadata": {},
      "outputs": [],
      "source": [
        "# indicadores de data\n",
        "\n",
        "# dia da semana (segunda=0 a sexta=4)\n",
        "df['day_of_week'] = df.index.dayofweek\n",
        "\n",
        "# dia do mês (1 a 30 ou 31)\n",
        "df['day_of_month'] = df.index.day\n",
        "\n",
        "# mês (janeiro=1 a dezembro=12)\n",
        "df['month'] = df.index.month\n",
        "\n",
        "# ano (pode não ser bom para previsões de curto prazo)\n",
        "# df['year'] = df.index.year"
      ]
    },
    {
      "cell_type": "markdown",
      "id": "315258f4",
      "metadata": {},
      "source": [
        "## Exportação dos dados"
      ]
    },
    {
      "cell_type": "code",
      "execution_count": 98,
      "id": "1e438405",
      "metadata": {},
      "outputs": [
        {
          "data": {
            "application/vnd.microsoft.datawrangler.viewer.v0+json": {
              "columns": [
                {
                  "name": "ds",
                  "rawType": "datetime64[ns]",
                  "type": "datetime"
                },
                {
                  "name": "target",
                  "rawType": "int64",
                  "type": "integer"
                },
                {
                  "name": "close",
                  "rawType": "int64",
                  "type": "integer"
                },
                {
                  "name": "open",
                  "rawType": "int64",
                  "type": "integer"
                },
                {
                  "name": "high",
                  "rawType": "int64",
                  "type": "integer"
                },
                {
                  "name": "low",
                  "rawType": "int64",
                  "type": "integer"
                },
                {
                  "name": "volume",
                  "rawType": "float64",
                  "type": "float"
                },
                {
                  "name": "daily_return",
                  "rawType": "float64",
                  "type": "float"
                },
                {
                  "name": "return_lag_1",
                  "rawType": "float64",
                  "type": "float"
                },
                {
                  "name": "return_lag_2",
                  "rawType": "float64",
                  "type": "float"
                },
                {
                  "name": "return_lag_3",
                  "rawType": "float64",
                  "type": "float"
                },
                {
                  "name": "return_lag_4",
                  "rawType": "float64",
                  "type": "float"
                },
                {
                  "name": "return_lag_5",
                  "rawType": "float64",
                  "type": "float"
                },
                {
                  "name": "momentum_5",
                  "rawType": "float64",
                  "type": "float"
                },
                {
                  "name": "momentum_21",
                  "rawType": "float64",
                  "type": "float"
                },
                {
                  "name": "momentum_63",
                  "rawType": "float64",
                  "type": "float"
                },
                {
                  "name": "sma_21",
                  "rawType": "float64",
                  "type": "float"
                },
                {
                  "name": "ema_50",
                  "rawType": "float64",
                  "type": "float"
                },
                {
                  "name": "rsi_14",
                  "rawType": "float64",
                  "type": "float"
                },
                {
                  "name": "atr_14",
                  "rawType": "float64",
                  "type": "float"
                },
                {
                  "name": "obv",
                  "rawType": "float64",
                  "type": "float"
                },
                {
                  "name": "day_of_week",
                  "rawType": "int32",
                  "type": "integer"
                },
                {
                  "name": "day_of_month",
                  "rawType": "int32",
                  "type": "integer"
                },
                {
                  "name": "month",
                  "rawType": "int32",
                  "type": "integer"
                }
              ],
              "ref": "1f893ab6-79af-487e-8e44-533b96f7b756",
              "rows": [
                [
                  "2015-06-17 00:00:00",
                  "1",
                  "53249",
                  "53698",
                  "53755",
                  "52965",
                  "3090000.0",
                  "-0.0084",
                  "0.0106",
                  "-0.0039",
                  "-0.0064",
                  "-0.0035",
                  "0.0201",
                  "-0.011637835028584176",
                  "-0.05257632908689769",
                  "0.09009580740255485",
                  "53785.28571428572",
                  "53919.575856117895",
                  "44.35667212107073",
                  "889.0813924181439",
                  "78500090.0",
                  "2",
                  "17",
                  "6"
                ],
                [
                  "2015-06-18 00:00:00",
                  "0",
                  "54239",
                  "53251",
                  "54352",
                  "53214",
                  "2750000.0",
                  "0.0186",
                  "-0.0084",
                  "0.0106",
                  "-0.0039",
                  "-0.0064",
                  "-0.0035",
                  "0.010244184097301101",
                  "-0.022703111767779616",
                  "0.07863179874714121",
                  "53725.28571428572",
                  "53932.10229313288",
                  "51.52540703198037",
                  "906.861292959705",
                  "81250090.0",
                  "3",
                  "18",
                  "6"
                ],
                [
                  "2015-06-19 00:00:00",
                  "1",
                  "53749",
                  "54236",
                  "54236",
                  "53479",
                  "2950000.0",
                  "-0.009",
                  "0.0186",
                  "-0.0084",
                  "0.0106",
                  "-0.0039",
                  "-0.0064",
                  "0.007516682912199091",
                  "-0.020983224349283236",
                  "0.04314326747661368",
                  "53670.42857142857",
                  "53924.92181104924",
                  "48.21445951598873",
                  "896.3712006054403",
                  "78300090.0",
                  "4",
                  "19",
                  "6"
                ],
                [
                  "2015-06-22 00:00:00",
                  "0",
                  "53864",
                  "53750",
                  "54342",
                  "53655",
                  "2430000.0",
                  "0.0021",
                  "-0.009",
                  "0.0186",
                  "-0.0084",
                  "0.0106",
                  "-0.0039",
                  "0.013662539049267952",
                  "-0.022644796051676574",
                  "0.05711033481179095",
                  "53611.0",
                  "53922.532720419855",
                  "49.042075819255984",
                  "881.4161148479088",
                  "80730090.0",
                  "0",
                  "22",
                  "6"
                ],
                [
                  "2015-06-23 00:00:00",
                  "1",
                  "53772",
                  "53865",
                  "54361",
                  "53772",
                  "2710000.0",
                  "-0.0017",
                  "0.0021",
                  "-0.009",
                  "0.0186",
                  "-0.0084",
                  "0.0106",
                  "0.0013034896279469077",
                  "-0.011126027548411965",
                  "0.034733580926357144",
                  "53582.19047619047",
                  "53916.62947648182",
                  "48.37599775749576",
                  "860.5292495016296",
                  "78020090.0",
                  "1",
                  "23",
                  "6"
                ]
              ],
              "shape": {
                "columns": 23,
                "rows": 5
              }
            },
            "text/html": [
              "<div>\n",
              "<style scoped>\n",
              "    .dataframe tbody tr th:only-of-type {\n",
              "        vertical-align: middle;\n",
              "    }\n",
              "\n",
              "    .dataframe tbody tr th {\n",
              "        vertical-align: top;\n",
              "    }\n",
              "\n",
              "    .dataframe thead th {\n",
              "        text-align: right;\n",
              "    }\n",
              "</style>\n",
              "<table border=\"1\" class=\"dataframe\">\n",
              "  <thead>\n",
              "    <tr style=\"text-align: right;\">\n",
              "      <th></th>\n",
              "      <th>target</th>\n",
              "      <th>close</th>\n",
              "      <th>open</th>\n",
              "      <th>high</th>\n",
              "      <th>low</th>\n",
              "      <th>volume</th>\n",
              "      <th>daily_return</th>\n",
              "      <th>return_lag_1</th>\n",
              "      <th>return_lag_2</th>\n",
              "      <th>return_lag_3</th>\n",
              "      <th>...</th>\n",
              "      <th>momentum_21</th>\n",
              "      <th>momentum_63</th>\n",
              "      <th>sma_21</th>\n",
              "      <th>ema_50</th>\n",
              "      <th>rsi_14</th>\n",
              "      <th>atr_14</th>\n",
              "      <th>obv</th>\n",
              "      <th>day_of_week</th>\n",
              "      <th>day_of_month</th>\n",
              "      <th>month</th>\n",
              "    </tr>\n",
              "    <tr>\n",
              "      <th>ds</th>\n",
              "      <th></th>\n",
              "      <th></th>\n",
              "      <th></th>\n",
              "      <th></th>\n",
              "      <th></th>\n",
              "      <th></th>\n",
              "      <th></th>\n",
              "      <th></th>\n",
              "      <th></th>\n",
              "      <th></th>\n",
              "      <th></th>\n",
              "      <th></th>\n",
              "      <th></th>\n",
              "      <th></th>\n",
              "      <th></th>\n",
              "      <th></th>\n",
              "      <th></th>\n",
              "      <th></th>\n",
              "      <th></th>\n",
              "      <th></th>\n",
              "      <th></th>\n",
              "    </tr>\n",
              "  </thead>\n",
              "  <tbody>\n",
              "    <tr>\n",
              "      <th>2015-06-17</th>\n",
              "      <td>1</td>\n",
              "      <td>53249</td>\n",
              "      <td>53698</td>\n",
              "      <td>53755</td>\n",
              "      <td>52965</td>\n",
              "      <td>3090000.0</td>\n",
              "      <td>-0.0084</td>\n",
              "      <td>0.0106</td>\n",
              "      <td>-0.0039</td>\n",
              "      <td>-0.0064</td>\n",
              "      <td>...</td>\n",
              "      <td>-0.052576</td>\n",
              "      <td>0.090096</td>\n",
              "      <td>53785.285714</td>\n",
              "      <td>53919.575856</td>\n",
              "      <td>44.356672</td>\n",
              "      <td>889.081392</td>\n",
              "      <td>78500090.0</td>\n",
              "      <td>2</td>\n",
              "      <td>17</td>\n",
              "      <td>6</td>\n",
              "    </tr>\n",
              "    <tr>\n",
              "      <th>2015-06-18</th>\n",
              "      <td>0</td>\n",
              "      <td>54239</td>\n",
              "      <td>53251</td>\n",
              "      <td>54352</td>\n",
              "      <td>53214</td>\n",
              "      <td>2750000.0</td>\n",
              "      <td>0.0186</td>\n",
              "      <td>-0.0084</td>\n",
              "      <td>0.0106</td>\n",
              "      <td>-0.0039</td>\n",
              "      <td>...</td>\n",
              "      <td>-0.022703</td>\n",
              "      <td>0.078632</td>\n",
              "      <td>53725.285714</td>\n",
              "      <td>53932.102293</td>\n",
              "      <td>51.525407</td>\n",
              "      <td>906.861293</td>\n",
              "      <td>81250090.0</td>\n",
              "      <td>3</td>\n",
              "      <td>18</td>\n",
              "      <td>6</td>\n",
              "    </tr>\n",
              "    <tr>\n",
              "      <th>2015-06-19</th>\n",
              "      <td>1</td>\n",
              "      <td>53749</td>\n",
              "      <td>54236</td>\n",
              "      <td>54236</td>\n",
              "      <td>53479</td>\n",
              "      <td>2950000.0</td>\n",
              "      <td>-0.0090</td>\n",
              "      <td>0.0186</td>\n",
              "      <td>-0.0084</td>\n",
              "      <td>0.0106</td>\n",
              "      <td>...</td>\n",
              "      <td>-0.020983</td>\n",
              "      <td>0.043143</td>\n",
              "      <td>53670.428571</td>\n",
              "      <td>53924.921811</td>\n",
              "      <td>48.214460</td>\n",
              "      <td>896.371201</td>\n",
              "      <td>78300090.0</td>\n",
              "      <td>4</td>\n",
              "      <td>19</td>\n",
              "      <td>6</td>\n",
              "    </tr>\n",
              "    <tr>\n",
              "      <th>2015-06-22</th>\n",
              "      <td>0</td>\n",
              "      <td>53864</td>\n",
              "      <td>53750</td>\n",
              "      <td>54342</td>\n",
              "      <td>53655</td>\n",
              "      <td>2430000.0</td>\n",
              "      <td>0.0021</td>\n",
              "      <td>-0.0090</td>\n",
              "      <td>0.0186</td>\n",
              "      <td>-0.0084</td>\n",
              "      <td>...</td>\n",
              "      <td>-0.022645</td>\n",
              "      <td>0.057110</td>\n",
              "      <td>53611.000000</td>\n",
              "      <td>53922.532720</td>\n",
              "      <td>49.042076</td>\n",
              "      <td>881.416115</td>\n",
              "      <td>80730090.0</td>\n",
              "      <td>0</td>\n",
              "      <td>22</td>\n",
              "      <td>6</td>\n",
              "    </tr>\n",
              "    <tr>\n",
              "      <th>2015-06-23</th>\n",
              "      <td>1</td>\n",
              "      <td>53772</td>\n",
              "      <td>53865</td>\n",
              "      <td>54361</td>\n",
              "      <td>53772</td>\n",
              "      <td>2710000.0</td>\n",
              "      <td>-0.0017</td>\n",
              "      <td>0.0021</td>\n",
              "      <td>-0.0090</td>\n",
              "      <td>0.0186</td>\n",
              "      <td>...</td>\n",
              "      <td>-0.011126</td>\n",
              "      <td>0.034734</td>\n",
              "      <td>53582.190476</td>\n",
              "      <td>53916.629476</td>\n",
              "      <td>48.375998</td>\n",
              "      <td>860.529250</td>\n",
              "      <td>78020090.0</td>\n",
              "      <td>1</td>\n",
              "      <td>23</td>\n",
              "      <td>6</td>\n",
              "    </tr>\n",
              "  </tbody>\n",
              "</table>\n",
              "<p>5 rows × 23 columns</p>\n",
              "</div>"
            ],
            "text/plain": [
              "            target  close   open   high    low     volume  daily_return  \\\n",
              "ds                                                                        \n",
              "2015-06-17       1  53249  53698  53755  52965  3090000.0       -0.0084   \n",
              "2015-06-18       0  54239  53251  54352  53214  2750000.0        0.0186   \n",
              "2015-06-19       1  53749  54236  54236  53479  2950000.0       -0.0090   \n",
              "2015-06-22       0  53864  53750  54342  53655  2430000.0        0.0021   \n",
              "2015-06-23       1  53772  53865  54361  53772  2710000.0       -0.0017   \n",
              "\n",
              "            return_lag_1  return_lag_2  return_lag_3  ...  momentum_21  \\\n",
              "ds                                                    ...                \n",
              "2015-06-17        0.0106       -0.0039       -0.0064  ...    -0.052576   \n",
              "2015-06-18       -0.0084        0.0106       -0.0039  ...    -0.022703   \n",
              "2015-06-19        0.0186       -0.0084        0.0106  ...    -0.020983   \n",
              "2015-06-22       -0.0090        0.0186       -0.0084  ...    -0.022645   \n",
              "2015-06-23        0.0021       -0.0090        0.0186  ...    -0.011126   \n",
              "\n",
              "            momentum_63        sma_21        ema_50     rsi_14      atr_14  \\\n",
              "ds                                                                           \n",
              "2015-06-17     0.090096  53785.285714  53919.575856  44.356672  889.081392   \n",
              "2015-06-18     0.078632  53725.285714  53932.102293  51.525407  906.861293   \n",
              "2015-06-19     0.043143  53670.428571  53924.921811  48.214460  896.371201   \n",
              "2015-06-22     0.057110  53611.000000  53922.532720  49.042076  881.416115   \n",
              "2015-06-23     0.034734  53582.190476  53916.629476  48.375998  860.529250   \n",
              "\n",
              "                   obv  day_of_week  day_of_month  month  \n",
              "ds                                                        \n",
              "2015-06-17  78500090.0            2            17      6  \n",
              "2015-06-18  81250090.0            3            18      6  \n",
              "2015-06-19  78300090.0            4            19      6  \n",
              "2015-06-22  80730090.0            0            22      6  \n",
              "2015-06-23  78020090.0            1            23      6  \n",
              "\n",
              "[5 rows x 23 columns]"
            ]
          },
          "execution_count": 98,
          "metadata": {},
          "output_type": "execute_result"
        }
      ],
      "source": [
        "# selecionando apenas 10 anos de dados\n",
        "df_10years = df.loc[df.index >= '2015-06-17']\n",
        "df_10years.head()"
      ]
    },
    {
      "cell_type": "code",
      "execution_count": 99,
      "id": "9448e0bd",
      "metadata": {},
      "outputs": [
        {
          "data": {
            "application/vnd.microsoft.datawrangler.viewer.v0+json": {
              "columns": [
                {
                  "name": "index",
                  "rawType": "object",
                  "type": "string"
                },
                {
                  "name": "0",
                  "rawType": "int64",
                  "type": "integer"
                }
              ],
              "ref": "5b24bf7f-ad37-4089-b58f-39be1fcafb4e",
              "rows": [
                [
                  "target",
                  "0"
                ],
                [
                  "close",
                  "0"
                ],
                [
                  "open",
                  "0"
                ],
                [
                  "high",
                  "0"
                ],
                [
                  "low",
                  "0"
                ],
                [
                  "volume",
                  "0"
                ],
                [
                  "daily_return",
                  "0"
                ],
                [
                  "return_lag_1",
                  "0"
                ],
                [
                  "return_lag_2",
                  "0"
                ],
                [
                  "return_lag_3",
                  "0"
                ],
                [
                  "return_lag_4",
                  "0"
                ],
                [
                  "return_lag_5",
                  "0"
                ],
                [
                  "momentum_5",
                  "0"
                ],
                [
                  "momentum_21",
                  "0"
                ],
                [
                  "momentum_63",
                  "0"
                ],
                [
                  "sma_21",
                  "0"
                ],
                [
                  "ema_50",
                  "0"
                ],
                [
                  "rsi_14",
                  "0"
                ],
                [
                  "atr_14",
                  "0"
                ],
                [
                  "obv",
                  "0"
                ],
                [
                  "day_of_week",
                  "0"
                ],
                [
                  "day_of_month",
                  "0"
                ],
                [
                  "month",
                  "0"
                ]
              ],
              "shape": {
                "columns": 1,
                "rows": 23
              }
            },
            "text/plain": [
              "target          0\n",
              "close           0\n",
              "open            0\n",
              "high            0\n",
              "low             0\n",
              "volume          0\n",
              "daily_return    0\n",
              "return_lag_1    0\n",
              "return_lag_2    0\n",
              "return_lag_3    0\n",
              "return_lag_4    0\n",
              "return_lag_5    0\n",
              "momentum_5      0\n",
              "momentum_21     0\n",
              "momentum_63     0\n",
              "sma_21          0\n",
              "ema_50          0\n",
              "rsi_14          0\n",
              "atr_14          0\n",
              "obv             0\n",
              "day_of_week     0\n",
              "day_of_month    0\n",
              "month           0\n",
              "dtype: int64"
            ]
          },
          "execution_count": 99,
          "metadata": {},
          "output_type": "execute_result"
        }
      ],
      "source": [
        "df_10years.isnull().sum()"
      ]
    },
    {
      "cell_type": "code",
      "execution_count": 100,
      "id": "8c215ef5",
      "metadata": {},
      "outputs": [],
      "source": [
        "# Salvar o CSV já limpo e processado com a data no índice\n",
        "output_path = '../data/processed/dados_historicos_ibovespa_2015-2025_processed.csv'\n",
        "\n",
        "df_10years.to_csv(output_path, index=True)"
      ]
    }
  ],
  "metadata": {
    "colab": {
      "provenance": []
    },
    "kernelspec": {
      "display_name": ".venv",
      "language": "python",
      "name": "python3"
    },
    "language_info": {
      "codemirror_mode": {
        "name": "ipython",
        "version": 3
      },
      "file_extension": ".py",
      "mimetype": "text/x-python",
      "name": "python",
      "nbconvert_exporter": "python",
      "pygments_lexer": "ipython3",
      "version": "3.11.13"
    }
  },
  "nbformat": 4,
  "nbformat_minor": 5
}
