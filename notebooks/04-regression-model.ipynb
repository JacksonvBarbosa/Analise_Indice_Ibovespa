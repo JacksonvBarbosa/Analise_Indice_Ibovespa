{
 "cells": [
  {
   "cell_type": "markdown",
   "id": "c37cfc72",
   "metadata": {},
   "source": [
    "## Importação das bibliotecas"
   ]
  },
  {
   "cell_type": "code",
   "execution_count": 11,
   "id": "d4924445",
   "metadata": {},
   "outputs": [],
   "source": [
    "import pandas as pd\n",
    "import numpy as np\n",
    "\n",
    "from sklearn.metrics import mean_squared_error, mean_absolute_error, r2_score\n",
    "from sklearn.model_selection import train_test_split\n",
    "from sklearn.linear_model import LinearRegression\n",
    "from sklearn.tree import DecisionTreeRegressor\n",
    "from sklearn.ensemble import RandomForestRegressor\n",
    "from sklearn.svm import SVR\n",
    "from sklearn.pipeline import Pipeline\n",
    "from sklearn.preprocessing import StandardScaler\n",
    "\n",
    "import xgboost as xgb"
   ]
  },
  {
   "cell_type": "markdown",
   "id": "24aca151",
   "metadata": {},
   "source": [
    "## Aquisição dos dados"
   ]
  },
  {
   "cell_type": "code",
   "execution_count": 12,
   "id": "29238f9e",
   "metadata": {},
   "outputs": [
    {
     "data": {
      "application/vnd.microsoft.datawrangler.viewer.v0+json": {
       "columns": [
        {
         "name": "ds",
         "rawType": "datetime64[ns]",
         "type": "datetime"
        },
        {
         "name": "target",
         "rawType": "int64",
         "type": "integer"
        },
        {
         "name": "close",
         "rawType": "int64",
         "type": "integer"
        },
        {
         "name": "open",
         "rawType": "int64",
         "type": "integer"
        },
        {
         "name": "high",
         "rawType": "int64",
         "type": "integer"
        },
        {
         "name": "low",
         "rawType": "int64",
         "type": "integer"
        },
        {
         "name": "volume",
         "rawType": "float64",
         "type": "float"
        },
        {
         "name": "daily_return",
         "rawType": "float64",
         "type": "float"
        },
        {
         "name": "return_lag_1",
         "rawType": "float64",
         "type": "float"
        },
        {
         "name": "return_lag_2",
         "rawType": "float64",
         "type": "float"
        },
        {
         "name": "return_lag_3",
         "rawType": "float64",
         "type": "float"
        },
        {
         "name": "return_lag_4",
         "rawType": "float64",
         "type": "float"
        },
        {
         "name": "return_lag_5",
         "rawType": "float64",
         "type": "float"
        },
        {
         "name": "momentum_5",
         "rawType": "float64",
         "type": "float"
        },
        {
         "name": "momentum_21",
         "rawType": "float64",
         "type": "float"
        },
        {
         "name": "momentum_63",
         "rawType": "float64",
         "type": "float"
        },
        {
         "name": "sma_21",
         "rawType": "float64",
         "type": "float"
        },
        {
         "name": "ema_50",
         "rawType": "float64",
         "type": "float"
        },
        {
         "name": "rsi_14",
         "rawType": "float64",
         "type": "float"
        },
        {
         "name": "atr_14",
         "rawType": "float64",
         "type": "float"
        },
        {
         "name": "obv",
         "rawType": "float64",
         "type": "float"
        },
        {
         "name": "day_of_week",
         "rawType": "int64",
         "type": "integer"
        },
        {
         "name": "day_of_month",
         "rawType": "int64",
         "type": "integer"
        },
        {
         "name": "month",
         "rawType": "int64",
         "type": "integer"
        }
       ],
       "ref": "f491a25a-604b-45ad-a860-9d3a6917efc9",
       "rows": [
        [
         "2025-06-12 00:00:00",
         "0",
         "137800",
         "137127",
         "137931",
         "136175",
         "7120000000.0",
         "0.0049",
         "0.0051",
         "0.0054",
         "-0.003",
         "-0.001",
         "-0.0056",
         "0.0114800786869844",
         "-0.0045006971384813",
         "0.1125104953820319",
         "137814.61904761905",
         "134894.97767024042",
         "56.42943933126229",
         "1746.3688791949978",
         "136513059062.2",
         "3",
         "12",
         "6"
        ],
        [
         "2025-06-13 00:00:00",
         "1",
         "137213",
         "137800",
         "137800",
         "136586",
         "8630000000.0",
         "-0.0043",
         "0.0049",
         "0.0051",
         "0.0054",
         "-0.003",
         "-0.001",
         "0.0081629954005084",
         "-0.015222415203755",
         "0.0921384623956318",
         "137713.61904761905",
         "134985.8805067016",
         "53.14965032902142",
         "1708.342530681069",
         "127883059062.2",
         "4",
         "13",
         "6"
        ],
        [
         "2025-06-16 00:00:00",
         "0",
         "139256",
         "137212",
         "139988",
         "137212",
         "7620000000.0",
         "0.0149",
         "-0.0043",
         "0.0049",
         "0.0051",
         "0.0054",
         "-0.003",
         "0.0262124260311424",
         "0.0004957359523518",
         "0.0798638305791852",
         "137716.90476190476",
         "135153.33617310546",
         "61.5302402906534",
         "1784.6037784895643",
         "135503059062.2",
         "0",
         "16",
         "6"
        ],
        [
         "2025-06-17 00:00:00",
         "0",
         "138840",
         "139256",
         "139497",
         "138293",
         "8380000000.000001",
         "-0.003",
         "0.0149",
         "-0.0043",
         "0.0049",
         "0.0051",
         "0.0054",
         "0.0176199829956902",
         "-0.0057005356784782",
         "0.0611920448812999",
         "137679.0",
         "135297.91122514056",
         "59.207770308180535",
         "1743.132080026024",
         "127123059062.2",
         "1",
         "17",
         "6"
        ],
        [
         "2025-06-18 00:00:00",
         "0",
         "138717",
         "138844",
         "139161",
         "138443",
         "8320000000.0",
         "-0.0009",
         "-0.003",
         "0.0149",
         "-0.0043",
         "0.0049",
         "0.0051",
         "0.0115877136689808",
         "-0.0099421882806366",
         "0.0550827153451225",
         "137612.66666666666",
         "135431.99313788014",
         "58.50462007359364",
         "1669.9083600241654",
         "118803059062.2",
         "2",
         "18",
         "6"
        ]
       ],
       "shape": {
        "columns": 23,
        "rows": 5
       }
      },
      "text/html": [
       "<div>\n",
       "<style scoped>\n",
       "    .dataframe tbody tr th:only-of-type {\n",
       "        vertical-align: middle;\n",
       "    }\n",
       "\n",
       "    .dataframe tbody tr th {\n",
       "        vertical-align: top;\n",
       "    }\n",
       "\n",
       "    .dataframe thead th {\n",
       "        text-align: right;\n",
       "    }\n",
       "</style>\n",
       "<table border=\"1\" class=\"dataframe\">\n",
       "  <thead>\n",
       "    <tr style=\"text-align: right;\">\n",
       "      <th></th>\n",
       "      <th>target</th>\n",
       "      <th>close</th>\n",
       "      <th>open</th>\n",
       "      <th>high</th>\n",
       "      <th>low</th>\n",
       "      <th>volume</th>\n",
       "      <th>daily_return</th>\n",
       "      <th>return_lag_1</th>\n",
       "      <th>return_lag_2</th>\n",
       "      <th>return_lag_3</th>\n",
       "      <th>...</th>\n",
       "      <th>momentum_21</th>\n",
       "      <th>momentum_63</th>\n",
       "      <th>sma_21</th>\n",
       "      <th>ema_50</th>\n",
       "      <th>rsi_14</th>\n",
       "      <th>atr_14</th>\n",
       "      <th>obv</th>\n",
       "      <th>day_of_week</th>\n",
       "      <th>day_of_month</th>\n",
       "      <th>month</th>\n",
       "    </tr>\n",
       "    <tr>\n",
       "      <th>ds</th>\n",
       "      <th></th>\n",
       "      <th></th>\n",
       "      <th></th>\n",
       "      <th></th>\n",
       "      <th></th>\n",
       "      <th></th>\n",
       "      <th></th>\n",
       "      <th></th>\n",
       "      <th></th>\n",
       "      <th></th>\n",
       "      <th></th>\n",
       "      <th></th>\n",
       "      <th></th>\n",
       "      <th></th>\n",
       "      <th></th>\n",
       "      <th></th>\n",
       "      <th></th>\n",
       "      <th></th>\n",
       "      <th></th>\n",
       "      <th></th>\n",
       "      <th></th>\n",
       "    </tr>\n",
       "  </thead>\n",
       "  <tbody>\n",
       "    <tr>\n",
       "      <th>2025-06-12</th>\n",
       "      <td>0</td>\n",
       "      <td>137800</td>\n",
       "      <td>137127</td>\n",
       "      <td>137931</td>\n",
       "      <td>136175</td>\n",
       "      <td>7.120000e+09</td>\n",
       "      <td>0.0049</td>\n",
       "      <td>0.0051</td>\n",
       "      <td>0.0054</td>\n",
       "      <td>-0.0030</td>\n",
       "      <td>...</td>\n",
       "      <td>-0.004501</td>\n",
       "      <td>0.112510</td>\n",
       "      <td>137814.619048</td>\n",
       "      <td>134894.977670</td>\n",
       "      <td>56.429439</td>\n",
       "      <td>1746.368879</td>\n",
       "      <td>1.365131e+11</td>\n",
       "      <td>3</td>\n",
       "      <td>12</td>\n",
       "      <td>6</td>\n",
       "    </tr>\n",
       "    <tr>\n",
       "      <th>2025-06-13</th>\n",
       "      <td>1</td>\n",
       "      <td>137213</td>\n",
       "      <td>137800</td>\n",
       "      <td>137800</td>\n",
       "      <td>136586</td>\n",
       "      <td>8.630000e+09</td>\n",
       "      <td>-0.0043</td>\n",
       "      <td>0.0049</td>\n",
       "      <td>0.0051</td>\n",
       "      <td>0.0054</td>\n",
       "      <td>...</td>\n",
       "      <td>-0.015222</td>\n",
       "      <td>0.092138</td>\n",
       "      <td>137713.619048</td>\n",
       "      <td>134985.880507</td>\n",
       "      <td>53.149650</td>\n",
       "      <td>1708.342531</td>\n",
       "      <td>1.278831e+11</td>\n",
       "      <td>4</td>\n",
       "      <td>13</td>\n",
       "      <td>6</td>\n",
       "    </tr>\n",
       "    <tr>\n",
       "      <th>2025-06-16</th>\n",
       "      <td>0</td>\n",
       "      <td>139256</td>\n",
       "      <td>137212</td>\n",
       "      <td>139988</td>\n",
       "      <td>137212</td>\n",
       "      <td>7.620000e+09</td>\n",
       "      <td>0.0149</td>\n",
       "      <td>-0.0043</td>\n",
       "      <td>0.0049</td>\n",
       "      <td>0.0051</td>\n",
       "      <td>...</td>\n",
       "      <td>0.000496</td>\n",
       "      <td>0.079864</td>\n",
       "      <td>137716.904762</td>\n",
       "      <td>135153.336173</td>\n",
       "      <td>61.530240</td>\n",
       "      <td>1784.603778</td>\n",
       "      <td>1.355031e+11</td>\n",
       "      <td>0</td>\n",
       "      <td>16</td>\n",
       "      <td>6</td>\n",
       "    </tr>\n",
       "    <tr>\n",
       "      <th>2025-06-17</th>\n",
       "      <td>0</td>\n",
       "      <td>138840</td>\n",
       "      <td>139256</td>\n",
       "      <td>139497</td>\n",
       "      <td>138293</td>\n",
       "      <td>8.380000e+09</td>\n",
       "      <td>-0.0030</td>\n",
       "      <td>0.0149</td>\n",
       "      <td>-0.0043</td>\n",
       "      <td>0.0049</td>\n",
       "      <td>...</td>\n",
       "      <td>-0.005701</td>\n",
       "      <td>0.061192</td>\n",
       "      <td>137679.000000</td>\n",
       "      <td>135297.911225</td>\n",
       "      <td>59.207770</td>\n",
       "      <td>1743.132080</td>\n",
       "      <td>1.271231e+11</td>\n",
       "      <td>1</td>\n",
       "      <td>17</td>\n",
       "      <td>6</td>\n",
       "    </tr>\n",
       "    <tr>\n",
       "      <th>2025-06-18</th>\n",
       "      <td>0</td>\n",
       "      <td>138717</td>\n",
       "      <td>138844</td>\n",
       "      <td>139161</td>\n",
       "      <td>138443</td>\n",
       "      <td>8.320000e+09</td>\n",
       "      <td>-0.0009</td>\n",
       "      <td>-0.0030</td>\n",
       "      <td>0.0149</td>\n",
       "      <td>-0.0043</td>\n",
       "      <td>...</td>\n",
       "      <td>-0.009942</td>\n",
       "      <td>0.055083</td>\n",
       "      <td>137612.666667</td>\n",
       "      <td>135431.993138</td>\n",
       "      <td>58.504620</td>\n",
       "      <td>1669.908360</td>\n",
       "      <td>1.188031e+11</td>\n",
       "      <td>2</td>\n",
       "      <td>18</td>\n",
       "      <td>6</td>\n",
       "    </tr>\n",
       "  </tbody>\n",
       "</table>\n",
       "<p>5 rows × 23 columns</p>\n",
       "</div>"
      ],
      "text/plain": [
       "            target   close    open    high     low        volume  \\\n",
       "ds                                                                 \n",
       "2025-06-12       0  137800  137127  137931  136175  7.120000e+09   \n",
       "2025-06-13       1  137213  137800  137800  136586  8.630000e+09   \n",
       "2025-06-16       0  139256  137212  139988  137212  7.620000e+09   \n",
       "2025-06-17       0  138840  139256  139497  138293  8.380000e+09   \n",
       "2025-06-18       0  138717  138844  139161  138443  8.320000e+09   \n",
       "\n",
       "            daily_return  return_lag_1  return_lag_2  return_lag_3  ...  \\\n",
       "ds                                                                  ...   \n",
       "2025-06-12        0.0049        0.0051        0.0054       -0.0030  ...   \n",
       "2025-06-13       -0.0043        0.0049        0.0051        0.0054  ...   \n",
       "2025-06-16        0.0149       -0.0043        0.0049        0.0051  ...   \n",
       "2025-06-17       -0.0030        0.0149       -0.0043        0.0049  ...   \n",
       "2025-06-18       -0.0009       -0.0030        0.0149       -0.0043  ...   \n",
       "\n",
       "            momentum_21  momentum_63         sma_21         ema_50     rsi_14  \\\n",
       "ds                                                                              \n",
       "2025-06-12    -0.004501     0.112510  137814.619048  134894.977670  56.429439   \n",
       "2025-06-13    -0.015222     0.092138  137713.619048  134985.880507  53.149650   \n",
       "2025-06-16     0.000496     0.079864  137716.904762  135153.336173  61.530240   \n",
       "2025-06-17    -0.005701     0.061192  137679.000000  135297.911225  59.207770   \n",
       "2025-06-18    -0.009942     0.055083  137612.666667  135431.993138  58.504620   \n",
       "\n",
       "                 atr_14           obv  day_of_week  day_of_month  month  \n",
       "ds                                                                       \n",
       "2025-06-12  1746.368879  1.365131e+11            3            12      6  \n",
       "2025-06-13  1708.342531  1.278831e+11            4            13      6  \n",
       "2025-06-16  1784.603778  1.355031e+11            0            16      6  \n",
       "2025-06-17  1743.132080  1.271231e+11            1            17      6  \n",
       "2025-06-18  1669.908360  1.188031e+11            2            18      6  \n",
       "\n",
       "[5 rows x 23 columns]"
      ]
     },
     "execution_count": 12,
     "metadata": {},
     "output_type": "execute_result"
    }
   ],
   "source": [
    "input_path = '../data/processed/dados_historicos_ibovespa_2015-2025_processed.csv'\n",
    "\n",
    "df = pd.read_csv(input_path, index_col='ds', parse_dates=['ds'])\n",
    "df.tail()"
   ]
  },
  {
   "cell_type": "code",
   "execution_count": 13,
   "id": "63b76f7f",
   "metadata": {},
   "outputs": [],
   "source": [
    "# Ao invés do target categórico, vamos criar um target numérico (baseado no retorno diário)\n",
    "df.drop('target', axis=1, inplace=True)\n",
    "df['target'] = df['daily_return'].shift(-1)\n",
    "df.dropna(inplace=True)"
   ]
  },
  {
   "cell_type": "markdown",
   "id": "6ff6937a",
   "metadata": {},
   "source": [
    "## Construção do modelo de classificação"
   ]
  },
  {
   "cell_type": "code",
   "execution_count": 14,
   "id": "5b500646",
   "metadata": {},
   "outputs": [],
   "source": [
    "# definindo variáveis preditoras e variável alvo\n",
    "remove_features = ['open', 'high', 'low', 'close', 'volume', 'target', 'ema_50', 'obv']\n",
    "\n",
    "X = df.drop(columns=remove_features)\n",
    "y = df['target']"
   ]
  },
  {
   "cell_type": "code",
   "execution_count": 15,
   "id": "a684fb1e",
   "metadata": {},
   "outputs": [
    {
     "name": "stdout",
     "output_type": "stream",
     "text": [
      "Tamanho do treino: 2451 amostras\n",
      "Tamanho do teste: 30 amostras\n"
     ]
    }
   ],
   "source": [
    "# divisão entre treino e teste (30 dias de pregão, conforme requisito) de forma cronológica (sem aleatoriedade)\n",
    "X_train, X_test, y_train, y_test = train_test_split(X, y, test_size=30, shuffle=False)\n",
    "\n",
    "print(f\"Tamanho do treino: {len(X_train)} amostras\")\n",
    "print(f\"Tamanho do teste: {len(X_test)} amostras\")"
   ]
  },
  {
   "cell_type": "code",
   "execution_count": 16,
   "id": "76440661",
   "metadata": {},
   "outputs": [],
   "source": [
    "# definindo modelos de classificação\n",
    "seed = 42\n",
    "models = {\n",
    "    'Linear Regression': LinearRegression(),\n",
    "    'Decision Tree Regressor': DecisionTreeRegressor(random_state=seed),\n",
    "    'Random Forest Regressor': RandomForestRegressor(n_estimators=100, random_state=seed, n_jobs=-1),\n",
    "    'XGBoost Regressor': xgb.XGBRegressor(random_state=seed, n_jobs=-1),\n",
    "    'SVR': Pipeline([\n",
    "        ('scaler', StandardScaler()),\n",
    "        ('model', SVR())\n",
    "    ])\n",
    "}"
   ]
  },
  {
   "cell_type": "code",
   "execution_count": 17,
   "id": "da475200",
   "metadata": {},
   "outputs": [
    {
     "name": "stdout",
     "output_type": "stream",
     "text": [
      "Treinando Linear Regression...\n",
      "Treinando Decision Tree Regressor...\n",
      "Treinando Random Forest Regressor...\n",
      "Treinando XGBoost Regressor...\n",
      "Treinando SVR...\n",
      "Todos os modelos foram treinados!\n"
     ]
    }
   ],
   "source": [
    "# treinando os modelos\n",
    "for name, model in models.items():\n",
    "    print(f\"Treinando {name}...\")\n",
    "    model.fit(X_train, y_train)\n",
    "\n",
    "print(\"Todos os modelos foram treinados!\")"
   ]
  },
  {
   "cell_type": "code",
   "execution_count": 18,
   "id": "975ab8b1",
   "metadata": {},
   "outputs": [
    {
     "data": {
      "application/vnd.microsoft.datawrangler.viewer.v0+json": {
       "columns": [
        {
         "name": "index",
         "rawType": "object",
         "type": "string"
        },
        {
         "name": "MAE",
         "rawType": "float64",
         "type": "float"
        },
        {
         "name": "MSE",
         "rawType": "float64",
         "type": "float"
        },
        {
         "name": "R2 Score",
         "rawType": "float64",
         "type": "float"
        },
        {
         "name": "Acurácia Direcional (%)",
         "rawType": "float64",
         "type": "float"
        }
       ],
       "ref": "c3fd607e-c5a6-4865-a793-743b00b163ed",
       "rows": [
        [
         "Linear Regression",
         "0.005607163894324379",
         "5.6496316532024146e-05",
         "0.03621865106126676",
         "56.666666666666664"
        ],
        [
         "Decision Tree Regressor",
         "0.013816666666666666",
         "0.0002552943333333333",
         "-3.3551143164695665",
         "53.333333333333336"
        ],
        [
         "Random Forest Regressor",
         "0.006096066666666667",
         "7.025165026666666e-05",
         "-0.1984361886814554",
         "53.333333333333336"
        ],
        [
         "XGBoost Regressor",
         "0.006708854768182305",
         "8.69363355774193e-05",
         "-0.4830633909929636",
         "53.333333333333336"
        ],
        [
         "SVR",
         "0.01616393688284587",
         "0.0003174096198441647",
         "-4.414750736999585",
         "50.0"
        ]
       ],
       "shape": {
        "columns": 4,
        "rows": 5
       }
      },
      "text/html": [
       "<div>\n",
       "<style scoped>\n",
       "    .dataframe tbody tr th:only-of-type {\n",
       "        vertical-align: middle;\n",
       "    }\n",
       "\n",
       "    .dataframe tbody tr th {\n",
       "        vertical-align: top;\n",
       "    }\n",
       "\n",
       "    .dataframe thead th {\n",
       "        text-align: right;\n",
       "    }\n",
       "</style>\n",
       "<table border=\"1\" class=\"dataframe\">\n",
       "  <thead>\n",
       "    <tr style=\"text-align: right;\">\n",
       "      <th></th>\n",
       "      <th>MAE</th>\n",
       "      <th>MSE</th>\n",
       "      <th>R2 Score</th>\n",
       "      <th>Acurácia Direcional (%)</th>\n",
       "    </tr>\n",
       "  </thead>\n",
       "  <tbody>\n",
       "    <tr>\n",
       "      <th>Linear Regression</th>\n",
       "      <td>0.005607</td>\n",
       "      <td>0.000056</td>\n",
       "      <td>0.036219</td>\n",
       "      <td>56.666667</td>\n",
       "    </tr>\n",
       "    <tr>\n",
       "      <th>Decision Tree Regressor</th>\n",
       "      <td>0.013817</td>\n",
       "      <td>0.000255</td>\n",
       "      <td>-3.355114</td>\n",
       "      <td>53.333333</td>\n",
       "    </tr>\n",
       "    <tr>\n",
       "      <th>Random Forest Regressor</th>\n",
       "      <td>0.006096</td>\n",
       "      <td>0.000070</td>\n",
       "      <td>-0.198436</td>\n",
       "      <td>53.333333</td>\n",
       "    </tr>\n",
       "    <tr>\n",
       "      <th>XGBoost Regressor</th>\n",
       "      <td>0.006709</td>\n",
       "      <td>0.000087</td>\n",
       "      <td>-0.483063</td>\n",
       "      <td>53.333333</td>\n",
       "    </tr>\n",
       "    <tr>\n",
       "      <th>SVR</th>\n",
       "      <td>0.016164</td>\n",
       "      <td>0.000317</td>\n",
       "      <td>-4.414751</td>\n",
       "      <td>50.000000</td>\n",
       "    </tr>\n",
       "  </tbody>\n",
       "</table>\n",
       "</div>"
      ],
      "text/plain": [
       "                              MAE       MSE  R2 Score  Acurácia Direcional (%)\n",
       "Linear Regression        0.005607  0.000056  0.036219                56.666667\n",
       "Decision Tree Regressor  0.013817  0.000255 -3.355114                53.333333\n",
       "Random Forest Regressor  0.006096  0.000070 -0.198436                53.333333\n",
       "XGBoost Regressor        0.006709  0.000087 -0.483063                53.333333\n",
       "SVR                      0.016164  0.000317 -4.414751                50.000000"
      ]
     },
     "execution_count": 18,
     "metadata": {},
     "output_type": "execute_result"
    }
   ],
   "source": [
    "# comparando o desempenho dos modelos\n",
    "resultados_regressao = {}\n",
    "\n",
    "for nome, modelo in models.items():\n",
    "    y_pred = modelo.predict(X_test)\n",
    "    \n",
    "    # Calcula as métricas de regressão\n",
    "    mae = mean_absolute_error(y_test, y_pred)\n",
    "    mse = mean_squared_error(y_test, y_pred)\n",
    "    r2 = r2_score(y_test, y_pred)\n",
    "    \n",
    "    # Calcula a acurácia direcional\n",
    "    # Compara o sinal (+) ou (-) da previsão com o sinal do valor real\n",
    "    acuracia_direcional = np.mean(np.sign(y_pred) == np.sign(y_test)) * 100\n",
    "    \n",
    "    # Armazena todos os resultados no dicionário\n",
    "    resultados_regressao[nome] = {\n",
    "        'MAE': mae,\n",
    "        'MSE': mse,\n",
    "        'R2 Score': r2,\n",
    "        'Acurácia Direcional (%)': acuracia_direcional\n",
    "    }\n",
    "\n",
    "\n",
    "df_resultados = pd.DataFrame.from_dict(resultados_regressao, orient='index').sort_values(by='Acurácia Direcional (%)', ascending=False)\n",
    "df_resultados"
   ]
  },
  {
   "cell_type": "markdown",
   "id": "9f14432b",
   "metadata": {},
   "source": [
    "Resultado desanimador kkk"
   ]
  }
 ],
 "metadata": {
  "kernelspec": {
   "display_name": ".venv",
   "language": "python",
   "name": "python3"
  },
  "language_info": {
   "codemirror_mode": {
    "name": "ipython",
    "version": 3
   },
   "file_extension": ".py",
   "mimetype": "text/x-python",
   "name": "python",
   "nbconvert_exporter": "python",
   "pygments_lexer": "ipython3",
   "version": "3.11.13"
  }
 },
 "nbformat": 4,
 "nbformat_minor": 5
}
