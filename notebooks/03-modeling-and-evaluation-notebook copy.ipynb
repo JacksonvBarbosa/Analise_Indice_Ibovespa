{
  "cells": [
    {
      "cell_type": "markdown",
      "id": "hcSvZD7bwX40",
      "metadata": {
        "id": "hcSvZD7bwX40"
      },
      "source": [
        "# Notebook de modelagem e avaliação "
      ]
    },
    {
      "cell_type": "markdown",
      "id": "Uc6UBNOyNB-m",
      "metadata": {
        "id": "Uc6UBNOyNB-m"
      },
      "source": [
        "## Importação das bibliotecas"
      ]
    },
    {
      "cell_type": "code",
      "execution_count": 1,
      "id": "1d2c1e0d",
      "metadata": {
        "id": "1d2c1e0d"
      },
      "outputs": [],
      "source": [
        "import pandas as pd\n",
        "import matplotlib as mpl\n",
        "import matplotlib.pyplot as plt\n",
        "import seaborn as sns\n",
        "\n",
        "from sklearn.metrics import classification_report, confusion_matrix\n",
        "from sklearn.model_selection import train_test_split, GridSearchCV, TimeSeriesSplit\n",
        "from sklearn.pipeline import Pipeline\n",
        "from sklearn.linear_model import LogisticRegression\n",
        "from sklearn.preprocessing import StandardScaler\n",
        "from sklearn.tree import DecisionTreeClassifier\n",
        "from sklearn.ensemble import RandomForestClassifier\n",
        "from sklearn.svm import SVC\n",
        "import xgboost as xgb\n"
      ]
    },
    {
      "cell_type": "code",
      "execution_count": 30,
      "id": "lqvnaT3qPJGy",
      "metadata": {
        "id": "lqvnaT3qPJGy"
      },
      "outputs": [],
      "source": [
        "# Configurar paleta de cores e estilo\n",
        "\n",
        "# Matplotlib\n",
        "mpl.rcParams[\"figure.figsize\"] = (20, 7)\n",
        "mpl.rcParams[\"axes.facecolor\"] = \"white\"\n",
        "mpl.rcParams[\"font.size\"] = 12\n",
        "mpl.rcParams[\"figure.titlesize\"] = 25\n",
        "mpl.rcParams[\"figure.dpi\"] = 100\n",
        "\n",
        "# Seaborn\n",
        "sns.set_style('whitegrid', {\"grid.color\": \".8\", \"grid.linestyle\": \"--\"})\n",
        "sns.set_palette(palette='mako')"
      ]
    },
    {
      "cell_type": "markdown",
      "id": "XeZiUraUzbQm",
      "metadata": {
        "id": "XeZiUraUzbQm"
      },
      "source": [
        "## Aquisição dos dados"
      ]
    },
    {
      "cell_type": "code",
      "execution_count": 2,
      "id": "4fb05152",
      "metadata": {
        "colab": {
          "base_uri": "https://localhost:8080/",
          "height": 206
        },
        "id": "4fb05152",
        "outputId": "4a6ed68c-7057-4403-d661-194fce438d5a"
      },
      "outputs": [
        {
          "data": {
            "application/vnd.microsoft.datawrangler.viewer.v0+json": {
              "columns": [
                {
                  "name": "ds",
                  "rawType": "datetime64[ns]",
                  "type": "datetime"
                },
                {
                  "name": "target",
                  "rawType": "int64",
                  "type": "integer"
                },
                {
                  "name": "close",
                  "rawType": "int64",
                  "type": "integer"
                },
                {
                  "name": "open",
                  "rawType": "int64",
                  "type": "integer"
                },
                {
                  "name": "high",
                  "rawType": "int64",
                  "type": "integer"
                },
                {
                  "name": "low",
                  "rawType": "int64",
                  "type": "integer"
                },
                {
                  "name": "volume",
                  "rawType": "float64",
                  "type": "float"
                },
                {
                  "name": "daily_return",
                  "rawType": "float64",
                  "type": "float"
                },
                {
                  "name": "return_lag_1",
                  "rawType": "float64",
                  "type": "float"
                },
                {
                  "name": "return_lag_2",
                  "rawType": "float64",
                  "type": "float"
                },
                {
                  "name": "return_lag_3",
                  "rawType": "float64",
                  "type": "float"
                },
                {
                  "name": "return_lag_4",
                  "rawType": "float64",
                  "type": "float"
                },
                {
                  "name": "return_lag_5",
                  "rawType": "float64",
                  "type": "float"
                },
                {
                  "name": "momentum_5",
                  "rawType": "float64",
                  "type": "float"
                },
                {
                  "name": "momentum_21",
                  "rawType": "float64",
                  "type": "float"
                },
                {
                  "name": "momentum_63",
                  "rawType": "float64",
                  "type": "float"
                },
                {
                  "name": "sma_21",
                  "rawType": "float64",
                  "type": "float"
                },
                {
                  "name": "ema_50",
                  "rawType": "float64",
                  "type": "float"
                },
                {
                  "name": "rsi_14",
                  "rawType": "float64",
                  "type": "float"
                },
                {
                  "name": "atr_14",
                  "rawType": "float64",
                  "type": "float"
                },
                {
                  "name": "obv",
                  "rawType": "float64",
                  "type": "float"
                },
                {
                  "name": "day_of_week",
                  "rawType": "int64",
                  "type": "integer"
                },
                {
                  "name": "day_of_month",
                  "rawType": "int64",
                  "type": "integer"
                },
                {
                  "name": "month",
                  "rawType": "int64",
                  "type": "integer"
                },
                {
                  "name": "year",
                  "rawType": "int64",
                  "type": "integer"
                },
                {
                  "name": "eua_return_lag1",
                  "rawType": "float64",
                  "type": "float"
                },
                {
                  "name": "china_return_lag1",
                  "rawType": "float64",
                  "type": "float"
                },
                {
                  "name": "europe_return_lag1",
                  "rawType": "float64",
                  "type": "float"
                },
                {
                  "name": "oil_return_lag1",
                  "rawType": "float64",
                  "type": "float"
                }
              ],
              "ref": "6a2bdbaa-56c1-492f-b21e-4651f4de2f9a",
              "rows": [
                [
                  "2025-06-12 00:00:00",
                  "0",
                  "137800",
                  "137127",
                  "137931",
                  "136175",
                  "7120000000.0",
                  "0.0049",
                  "0.0051",
                  "0.0054",
                  "-0.003",
                  "-0.001",
                  "-0.0056",
                  "0.0114800786869844",
                  "-0.0045006971384813",
                  "0.1125104953820319",
                  "137814.61904761905",
                  "134894.97767024042",
                  "56.42943933126229",
                  "1746.3688791949978",
                  "136513059062.2",
                  "3",
                  "12",
                  "6",
                  "2025",
                  "-0.0027438889546078",
                  "0.0051701482219752",
                  "-0.002228281494819",
                  "0.0433676353726875"
                ],
                [
                  "2025-06-13 00:00:00",
                  "1",
                  "137213",
                  "137800",
                  "137800",
                  "136586",
                  "8630000000.0",
                  "-0.0043",
                  "0.0049",
                  "0.0051",
                  "0.0054",
                  "-0.003",
                  "-0.001",
                  "0.0081629954005084",
                  "-0.015222415203755",
                  "0.0921384623956318",
                  "137713.61904761905",
                  "134985.8805067016",
                  "53.14965032902142",
                  "1708.342530681069",
                  "127883059062.2",
                  "4",
                  "13",
                  "6",
                  "2025",
                  "0.0038224199557175",
                  "0.0001005318212274",
                  "-0.0024715618385522",
                  "-0.0058763946171923"
                ],
                [
                  "2025-06-16 00:00:00",
                  "0",
                  "139256",
                  "137212",
                  "139988",
                  "137212",
                  "7620000000.0",
                  "0.0149",
                  "-0.0043",
                  "0.0049",
                  "0.0051",
                  "0.0054",
                  "-0.003",
                  "0.0262124260311424",
                  "0.0004957359523518",
                  "0.0798638305791852",
                  "137716.90476190476",
                  "135153.33617310546",
                  "61.5302402906534",
                  "1784.6037784895643",
                  "135503059062.2",
                  "0",
                  "16",
                  "6",
                  "2025",
                  "-0.0112963798792506",
                  "-0.0075417116688492",
                  "-0.0086846426558799",
                  "0.0702134184505069"
                ],
                [
                  "2025-06-17 00:00:00",
                  "0",
                  "138840",
                  "139256",
                  "139497",
                  "138293",
                  "8380000000.000001",
                  "-0.003",
                  "0.0149",
                  "-0.0043",
                  "0.0049",
                  "0.0051",
                  "0.0054",
                  "0.0176199829956902",
                  "-0.0057005356784782",
                  "0.0611920448812999",
                  "137679.0",
                  "135297.91122514056",
                  "59.207770308180535",
                  "1743.132080026024",
                  "127123059062.2",
                  "1",
                  "17",
                  "6",
                  "2025",
                  "0.0093926598961591",
                  "0.0034743629635713",
                  "0.0062676070026028",
                  "-0.0134716415839497"
                ],
                [
                  "2025-06-18 00:00:00",
                  "0",
                  "138717",
                  "138844",
                  "139161",
                  "138443",
                  "8320000000.0",
                  "-0.0009",
                  "-0.003",
                  "0.0149",
                  "-0.0043",
                  "0.0049",
                  "0.0051",
                  "0.0115877136689808",
                  "-0.0099421882806366",
                  "0.0550827153451225",
                  "137612.66666666666",
                  "135431.99313788014",
                  "58.50462007359364",
                  "1669.9083600241654",
                  "118803059062.2",
                  "2",
                  "18",
                  "6",
                  "2025",
                  "-0.0083521847901663",
                  "-0.0003906994651531",
                  "-0.0075776803038952",
                  "0.0439709605858391"
                ]
              ],
              "shape": {
                "columns": 28,
                "rows": 5
              }
            },
            "text/html": [
              "<div>\n",
              "<style scoped>\n",
              "    .dataframe tbody tr th:only-of-type {\n",
              "        vertical-align: middle;\n",
              "    }\n",
              "\n",
              "    .dataframe tbody tr th {\n",
              "        vertical-align: top;\n",
              "    }\n",
              "\n",
              "    .dataframe thead th {\n",
              "        text-align: right;\n",
              "    }\n",
              "</style>\n",
              "<table border=\"1\" class=\"dataframe\">\n",
              "  <thead>\n",
              "    <tr style=\"text-align: right;\">\n",
              "      <th></th>\n",
              "      <th>target</th>\n",
              "      <th>close</th>\n",
              "      <th>open</th>\n",
              "      <th>high</th>\n",
              "      <th>low</th>\n",
              "      <th>volume</th>\n",
              "      <th>daily_return</th>\n",
              "      <th>return_lag_1</th>\n",
              "      <th>return_lag_2</th>\n",
              "      <th>return_lag_3</th>\n",
              "      <th>...</th>\n",
              "      <th>atr_14</th>\n",
              "      <th>obv</th>\n",
              "      <th>day_of_week</th>\n",
              "      <th>day_of_month</th>\n",
              "      <th>month</th>\n",
              "      <th>year</th>\n",
              "      <th>eua_return_lag1</th>\n",
              "      <th>china_return_lag1</th>\n",
              "      <th>europe_return_lag1</th>\n",
              "      <th>oil_return_lag1</th>\n",
              "    </tr>\n",
              "    <tr>\n",
              "      <th>ds</th>\n",
              "      <th></th>\n",
              "      <th></th>\n",
              "      <th></th>\n",
              "      <th></th>\n",
              "      <th></th>\n",
              "      <th></th>\n",
              "      <th></th>\n",
              "      <th></th>\n",
              "      <th></th>\n",
              "      <th></th>\n",
              "      <th></th>\n",
              "      <th></th>\n",
              "      <th></th>\n",
              "      <th></th>\n",
              "      <th></th>\n",
              "      <th></th>\n",
              "      <th></th>\n",
              "      <th></th>\n",
              "      <th></th>\n",
              "      <th></th>\n",
              "      <th></th>\n",
              "    </tr>\n",
              "  </thead>\n",
              "  <tbody>\n",
              "    <tr>\n",
              "      <th>2025-06-12</th>\n",
              "      <td>0</td>\n",
              "      <td>137800</td>\n",
              "      <td>137127</td>\n",
              "      <td>137931</td>\n",
              "      <td>136175</td>\n",
              "      <td>7.120000e+09</td>\n",
              "      <td>0.0049</td>\n",
              "      <td>0.0051</td>\n",
              "      <td>0.0054</td>\n",
              "      <td>-0.0030</td>\n",
              "      <td>...</td>\n",
              "      <td>1746.368879</td>\n",
              "      <td>1.365131e+11</td>\n",
              "      <td>3</td>\n",
              "      <td>12</td>\n",
              "      <td>6</td>\n",
              "      <td>2025</td>\n",
              "      <td>-0.002744</td>\n",
              "      <td>0.005170</td>\n",
              "      <td>-0.002228</td>\n",
              "      <td>0.043368</td>\n",
              "    </tr>\n",
              "    <tr>\n",
              "      <th>2025-06-13</th>\n",
              "      <td>1</td>\n",
              "      <td>137213</td>\n",
              "      <td>137800</td>\n",
              "      <td>137800</td>\n",
              "      <td>136586</td>\n",
              "      <td>8.630000e+09</td>\n",
              "      <td>-0.0043</td>\n",
              "      <td>0.0049</td>\n",
              "      <td>0.0051</td>\n",
              "      <td>0.0054</td>\n",
              "      <td>...</td>\n",
              "      <td>1708.342531</td>\n",
              "      <td>1.278831e+11</td>\n",
              "      <td>4</td>\n",
              "      <td>13</td>\n",
              "      <td>6</td>\n",
              "      <td>2025</td>\n",
              "      <td>0.003822</td>\n",
              "      <td>0.000101</td>\n",
              "      <td>-0.002472</td>\n",
              "      <td>-0.005876</td>\n",
              "    </tr>\n",
              "    <tr>\n",
              "      <th>2025-06-16</th>\n",
              "      <td>0</td>\n",
              "      <td>139256</td>\n",
              "      <td>137212</td>\n",
              "      <td>139988</td>\n",
              "      <td>137212</td>\n",
              "      <td>7.620000e+09</td>\n",
              "      <td>0.0149</td>\n",
              "      <td>-0.0043</td>\n",
              "      <td>0.0049</td>\n",
              "      <td>0.0051</td>\n",
              "      <td>...</td>\n",
              "      <td>1784.603778</td>\n",
              "      <td>1.355031e+11</td>\n",
              "      <td>0</td>\n",
              "      <td>16</td>\n",
              "      <td>6</td>\n",
              "      <td>2025</td>\n",
              "      <td>-0.011296</td>\n",
              "      <td>-0.007542</td>\n",
              "      <td>-0.008685</td>\n",
              "      <td>0.070213</td>\n",
              "    </tr>\n",
              "    <tr>\n",
              "      <th>2025-06-17</th>\n",
              "      <td>0</td>\n",
              "      <td>138840</td>\n",
              "      <td>139256</td>\n",
              "      <td>139497</td>\n",
              "      <td>138293</td>\n",
              "      <td>8.380000e+09</td>\n",
              "      <td>-0.0030</td>\n",
              "      <td>0.0149</td>\n",
              "      <td>-0.0043</td>\n",
              "      <td>0.0049</td>\n",
              "      <td>...</td>\n",
              "      <td>1743.132080</td>\n",
              "      <td>1.271231e+11</td>\n",
              "      <td>1</td>\n",
              "      <td>17</td>\n",
              "      <td>6</td>\n",
              "      <td>2025</td>\n",
              "      <td>0.009393</td>\n",
              "      <td>0.003474</td>\n",
              "      <td>0.006268</td>\n",
              "      <td>-0.013472</td>\n",
              "    </tr>\n",
              "    <tr>\n",
              "      <th>2025-06-18</th>\n",
              "      <td>0</td>\n",
              "      <td>138717</td>\n",
              "      <td>138844</td>\n",
              "      <td>139161</td>\n",
              "      <td>138443</td>\n",
              "      <td>8.320000e+09</td>\n",
              "      <td>-0.0009</td>\n",
              "      <td>-0.0030</td>\n",
              "      <td>0.0149</td>\n",
              "      <td>-0.0043</td>\n",
              "      <td>...</td>\n",
              "      <td>1669.908360</td>\n",
              "      <td>1.188031e+11</td>\n",
              "      <td>2</td>\n",
              "      <td>18</td>\n",
              "      <td>6</td>\n",
              "      <td>2025</td>\n",
              "      <td>-0.008352</td>\n",
              "      <td>-0.000391</td>\n",
              "      <td>-0.007578</td>\n",
              "      <td>0.043971</td>\n",
              "    </tr>\n",
              "  </tbody>\n",
              "</table>\n",
              "<p>5 rows × 28 columns</p>\n",
              "</div>"
            ],
            "text/plain": [
              "            target   close    open    high     low        volume  \\\n",
              "ds                                                                 \n",
              "2025-06-12       0  137800  137127  137931  136175  7.120000e+09   \n",
              "2025-06-13       1  137213  137800  137800  136586  8.630000e+09   \n",
              "2025-06-16       0  139256  137212  139988  137212  7.620000e+09   \n",
              "2025-06-17       0  138840  139256  139497  138293  8.380000e+09   \n",
              "2025-06-18       0  138717  138844  139161  138443  8.320000e+09   \n",
              "\n",
              "            daily_return  return_lag_1  return_lag_2  return_lag_3  ...  \\\n",
              "ds                                                                  ...   \n",
              "2025-06-12        0.0049        0.0051        0.0054       -0.0030  ...   \n",
              "2025-06-13       -0.0043        0.0049        0.0051        0.0054  ...   \n",
              "2025-06-16        0.0149       -0.0043        0.0049        0.0051  ...   \n",
              "2025-06-17       -0.0030        0.0149       -0.0043        0.0049  ...   \n",
              "2025-06-18       -0.0009       -0.0030        0.0149       -0.0043  ...   \n",
              "\n",
              "                 atr_14           obv  day_of_week  day_of_month  month  year  \\\n",
              "ds                                                                              \n",
              "2025-06-12  1746.368879  1.365131e+11            3            12      6  2025   \n",
              "2025-06-13  1708.342531  1.278831e+11            4            13      6  2025   \n",
              "2025-06-16  1784.603778  1.355031e+11            0            16      6  2025   \n",
              "2025-06-17  1743.132080  1.271231e+11            1            17      6  2025   \n",
              "2025-06-18  1669.908360  1.188031e+11            2            18      6  2025   \n",
              "\n",
              "            eua_return_lag1  china_return_lag1  europe_return_lag1  \\\n",
              "ds                                                                   \n",
              "2025-06-12        -0.002744           0.005170           -0.002228   \n",
              "2025-06-13         0.003822           0.000101           -0.002472   \n",
              "2025-06-16        -0.011296          -0.007542           -0.008685   \n",
              "2025-06-17         0.009393           0.003474            0.006268   \n",
              "2025-06-18        -0.008352          -0.000391           -0.007578   \n",
              "\n",
              "            oil_return_lag1  \n",
              "ds                           \n",
              "2025-06-12         0.043368  \n",
              "2025-06-13        -0.005876  \n",
              "2025-06-16         0.070213  \n",
              "2025-06-17        -0.013472  \n",
              "2025-06-18         0.043971  \n",
              "\n",
              "[5 rows x 28 columns]"
            ]
          },
          "execution_count": 2,
          "metadata": {},
          "output_type": "execute_result"
        }
      ],
      "source": [
        "input_path = '../data/processed/dados_historicos_ibovespa_2015-2025_processed.csv'\n",
        "\n",
        "df = pd.read_csv(input_path, index_col='ds', parse_dates=['ds'])\n",
        "df.tail()"
      ]
    },
    {
      "cell_type": "markdown",
      "id": "7cbea93b",
      "metadata": {},
      "source": [
        "## Construção do modelo de classificação"
      ]
    },
    {
      "cell_type": "code",
      "execution_count": 32,
      "id": "852a34f4",
      "metadata": {},
      "outputs": [],
      "source": [
        "# definindo variáveis preditoras e variável alvo\n",
        "remove_features = ['open', 'high', 'low', 'close', 'volume', 'target', 'ema_50', 'obv']\n",
        "\n",
        "X = df.drop(columns=remove_features)\n",
        "y = df['target']"
      ]
    },
    {
      "cell_type": "code",
      "execution_count": 33,
      "id": "7221ae06",
      "metadata": {},
      "outputs": [
        {
          "name": "stdout",
          "output_type": "stream",
          "text": [
            "Tamanho do treino: 2452 amostras\n",
            "Tamanho do teste: 30 amostras\n"
          ]
        }
      ],
      "source": [
        "# divisão entre treino e teste (30 dias de pregão, conforme requisito) de forma cronológica (sem aleatoriedade)\n",
        "X_train, X_test, y_train, y_test = train_test_split(X, y, test_size=30, shuffle=False)\n",
        "\n",
        "print(f\"Tamanho do treino: {len(X_train)} amostras\")\n",
        "print(f\"Tamanho do teste: {len(X_test)} amostras\")"
      ]
    },
    {
      "cell_type": "markdown",
      "id": "b6d639fd",
      "metadata": {},
      "source": [
        "Diferente dos demais modelos utilizados, a Regressão Logística (que será o modelo de baseline) e o SVM são sensíveis à escala das features. Por isso, vamos padronizar os dados para esses dois modelos. Como dados financeiros podem ter eventos extremos em épocas de crise, escolhemos o método de escalonamento do `StandardScaler()`, pois é mais robusto a outliers."
      ]
    },
    {
      "cell_type": "code",
      "execution_count": 34,
      "id": "b72d5e25",
      "metadata": {},
      "outputs": [],
      "source": [
        "# definindo modelos de classificação\n",
        "seed = 2934\n",
        "models = {\n",
        "    'Logistic Regression': Pipeline([\n",
        "        ('scaler', StandardScaler()),\n",
        "        ('model', LogisticRegression(random_state=seed, n_jobs=-1))\n",
        "    ]),\n",
        "    'SVM': Pipeline([\n",
        "        ('scaler', StandardScaler()),\n",
        "        ('model', SVC(random_state=seed))\n",
        "    ]),\n",
        "    'Decision Tree': DecisionTreeClassifier(max_depth=20, random_state=seed),\n",
        "    'Random Forest': RandomForestClassifier(n_estimators=100, max_depth=20, random_state=seed, n_jobs=-1),\n",
        "    'XGBoost': xgb.XGBClassifier(eval_metric='logloss', random_state=seed, n_jobs=-1)\n",
        "}"
      ]
    },
    {
      "cell_type": "code",
      "execution_count": 35,
      "id": "4e548e71",
      "metadata": {},
      "outputs": [
        {
          "name": "stdout",
          "output_type": "stream",
          "text": [
            "Treinando Logistic Regression...\n",
            "Treinando SVM...\n",
            "Treinando Decision Tree...\n",
            "Treinando Random Forest...\n",
            "Treinando XGBoost...\n",
            "Todos os modelos foram treinados!\n"
          ]
        }
      ],
      "source": [
        "# treinando os modelos\n",
        "for name, model in models.items():\n",
        "    print(f\"Treinando {name}...\")\n",
        "    model.fit(X_train, y_train)\n",
        "\n",
        "print(\"Todos os modelos foram treinados!\")"
      ]
    },
    {
      "cell_type": "code",
      "execution_count": 36,
      "id": "ab5151e4",
      "metadata": {},
      "outputs": [
        {
          "data": {
            "application/vnd.microsoft.datawrangler.viewer.v0+json": {
              "columns": [
                {
                  "name": "Model",
                  "rawType": "object",
                  "type": "string"
                },
                {
                  "name": "Accuracy",
                  "rawType": "object",
                  "type": "string"
                },
                {
                  "name": "Precision",
                  "rawType": "object",
                  "type": "string"
                },
                {
                  "name": "Recall",
                  "rawType": "object",
                  "type": "string"
                },
                {
                  "name": "F1-Score",
                  "rawType": "object",
                  "type": "string"
                }
              ],
              "ref": "31ac8647-c833-449e-a86f-57ab00949678",
              "rows": [
                [
                  "SVM",
                  "66.67 %",
                  "68.94 %",
                  "66.67 %",
                  "64.75 %"
                ],
                [
                  "Random Forest",
                  "60.00 %",
                  "60.68 %",
                  "60.00 %",
                  "57.70 %"
                ],
                [
                  "Decision Tree",
                  "53.33 %",
                  "54.44 %",
                  "53.33 %",
                  "52.92 %"
                ],
                [
                  "XGBoost",
                  "53.33 %",
                  "52.67 %",
                  "53.33 %",
                  "52.04 %"
                ],
                [
                  "Logistic Regression",
                  "50.00 %",
                  "51.85 %",
                  "50.00 %",
                  "48.00 %"
                ]
              ],
              "shape": {
                "columns": 4,
                "rows": 5
              }
            },
            "text/html": [
              "<div>\n",
              "<style scoped>\n",
              "    .dataframe tbody tr th:only-of-type {\n",
              "        vertical-align: middle;\n",
              "    }\n",
              "\n",
              "    .dataframe tbody tr th {\n",
              "        vertical-align: top;\n",
              "    }\n",
              "\n",
              "    .dataframe thead th {\n",
              "        text-align: right;\n",
              "    }\n",
              "</style>\n",
              "<table border=\"1\" class=\"dataframe\">\n",
              "  <thead>\n",
              "    <tr style=\"text-align: right;\">\n",
              "      <th></th>\n",
              "      <th>Accuracy</th>\n",
              "      <th>Precision</th>\n",
              "      <th>Recall</th>\n",
              "      <th>F1-Score</th>\n",
              "    </tr>\n",
              "    <tr>\n",
              "      <th>Model</th>\n",
              "      <th></th>\n",
              "      <th></th>\n",
              "      <th></th>\n",
              "      <th></th>\n",
              "    </tr>\n",
              "  </thead>\n",
              "  <tbody>\n",
              "    <tr>\n",
              "      <th>SVM</th>\n",
              "      <td>66.67 %</td>\n",
              "      <td>68.94 %</td>\n",
              "      <td>66.67 %</td>\n",
              "      <td>64.75 %</td>\n",
              "    </tr>\n",
              "    <tr>\n",
              "      <th>Random Forest</th>\n",
              "      <td>60.00 %</td>\n",
              "      <td>60.68 %</td>\n",
              "      <td>60.00 %</td>\n",
              "      <td>57.70 %</td>\n",
              "    </tr>\n",
              "    <tr>\n",
              "      <th>Decision Tree</th>\n",
              "      <td>53.33 %</td>\n",
              "      <td>54.44 %</td>\n",
              "      <td>53.33 %</td>\n",
              "      <td>52.92 %</td>\n",
              "    </tr>\n",
              "    <tr>\n",
              "      <th>XGBoost</th>\n",
              "      <td>53.33 %</td>\n",
              "      <td>52.67 %</td>\n",
              "      <td>53.33 %</td>\n",
              "      <td>52.04 %</td>\n",
              "    </tr>\n",
              "    <tr>\n",
              "      <th>Logistic Regression</th>\n",
              "      <td>50.00 %</td>\n",
              "      <td>51.85 %</td>\n",
              "      <td>50.00 %</td>\n",
              "      <td>48.00 %</td>\n",
              "    </tr>\n",
              "  </tbody>\n",
              "</table>\n",
              "</div>"
            ],
            "text/plain": [
              "                    Accuracy Precision   Recall F1-Score\n",
              "Model                                                   \n",
              "SVM                  66.67 %   68.94 %  66.67 %  64.75 %\n",
              "Random Forest        60.00 %   60.68 %  60.00 %  57.70 %\n",
              "Decision Tree        53.33 %   54.44 %  53.33 %  52.92 %\n",
              "XGBoost              53.33 %   52.67 %  53.33 %  52.04 %\n",
              "Logistic Regression  50.00 %   51.85 %  50.00 %  48.00 %"
            ]
          },
          "execution_count": 36,
          "metadata": {},
          "output_type": "execute_result"
        }
      ],
      "source": [
        "# comparando o desempenho dos modelos\n",
        "performance = pd.DataFrame(\n",
        "    columns=[\"Model\", \"Accuracy\", \"Precision\", \"Recall\", \"F1-Score\"]\n",
        ")\n",
        "\n",
        "for name, model in models.items():\n",
        "    y_pred = model.predict(X_test)\n",
        "    report = classification_report(y_test, y_pred, output_dict=True, zero_division=0)\n",
        "    performance.loc[performance.shape[0]] = {\n",
        "        \"Model\": name,\n",
        "        \"Accuracy\": report[\"accuracy\"],\n",
        "        \"Precision\": report[\"weighted avg\"][\"precision\"],\n",
        "        \"Recall\": report[\"weighted avg\"][\"recall\"],\n",
        "        \"F1-Score\": report[\"weighted avg\"][\"f1-score\"],\n",
        "    }\n",
        "performance.set_index(\"Model\", inplace=True)\n",
        "performance = performance.map(lambda x: f\"{100 * x:2.2f} %\")\n",
        "performance.sort_values(\"F1-Score\", ascending=False, inplace=True)\n",
        "\n",
        "performance"
      ]
    },
    {
      "cell_type": "code",
      "execution_count": 37,
      "id": "e3f1153b",
      "metadata": {},
      "outputs": [
        {
          "data": {
            "image/png": "[encoded data removed]",
            "text/plain": [
              "<Figure size 2000x700 with 2 Axes>"
            ]
          },
          "metadata": {},
          "output_type": "display_data"
        }
      ],
      "source": [
        "# matriz de confusão para o melhor modelo\n",
        "best_model_name = performance.idxmax().iloc[0]\n",
        "best_model = models[best_model_name]\n",
        "cm = confusion_matrix(y_test, best_model.predict(X_test))\n",
        "\n",
        "sns.heatmap(cm, annot=True, fmt='d', \n",
        "            xticklabels=['Previsto Baixa', 'Previsto Alta'], \n",
        "            yticklabels=['Real Baixa', 'Real Alta'])\n",
        "plt.title(f'Matriz de Confusão - {best_model_name}')\n",
        "plt.ylabel('Classe Real')\n",
        "plt.xlabel('Classe Prevista')\n",
        "plt.show()"
      ]
    },
    {
      "cell_type": "markdown",
      "id": "63cc8ad4",
      "metadata": {},
      "source": [
        "O modelo acerta muito bem a classe \"Baixa\", mas tem dificuldade de prever a classe \"Alta\"."
      ]
    },
    {
      "cell_type": "markdown",
      "id": "e4d90cea",
      "metadata": {},
      "source": [
        "## Seleção das features"
      ]
    },
    {
      "cell_type": "code",
      "execution_count": 38,
      "id": "b5fa1b98",
      "metadata": {},
      "outputs": [
        {
          "data": {
            "image/png": "[encoded data removed]",
            "text/plain": [
              "<Figure size 2000x700 with 1 Axes>"
            ]
          },
          "metadata": {},
          "output_type": "display_data"
        }
      ],
      "source": [
        "feature_importances = pd.Series(models['Random Forest'].feature_importances_, index=X_train.columns).sort_values(ascending=False).reset_index(name='importancia')\n",
        "\n",
        "# plotando as features em ordem de importância para a previsão do modelo\n",
        "sns.barplot(data=feature_importances, x='importancia', y='index')\n",
        "plt.title('Importância das features (no Random Forest)')\n",
        "plt.ylabel('')\n",
        "plt.xlabel('Importância relativa')\n",
        "plt.show()"
      ]
    },
    {
      "cell_type": "code",
      "execution_count": 39,
      "id": "3d289c69",
      "metadata": {},
      "outputs": [
        {
          "name": "stdout",
          "output_type": "stream",
          "text": [
            "Número de features original: 20\n",
            "Número de features após seleção com limiar de 0.045: 16\n",
            "\n",
            "Features que serão mantidas para a otimização:\n",
            "['momentum_63', 'china_return_lag1', 'return_lag_5', 'europe_return_lag1', 'rsi_14', 'return_lag_2', 'momentum_21', 'daily_return', 'oil_return_lag1', 'eua_return_lag1', 'return_lag_1', 'return_lag_3', 'return_lag_4', 'sma_21', 'atr_14', 'momentum_5']\n"
          ]
        }
      ],
      "source": [
        "# filtrar as features que atendem ao critério\n",
        "importance_threshold = 0.045\n",
        "best_features = feature_importances[feature_importances['importancia'] > importance_threshold]['index'].tolist()\n",
        "\n",
        "print(f\"Número de features original: {len(feature_importances)}\")\n",
        "print(f\"Número de features após seleção com limiar de {importance_threshold}: {len(best_features)}\")\n",
        "print(\"\\nFeatures que serão mantidas para a otimização:\")\n",
        "print(list(best_features))"
      ]
    },
    {
      "cell_type": "code",
      "execution_count": 40,
      "id": "2b7df2fd",
      "metadata": {},
      "outputs": [],
      "source": [
        "# dividir treino e testar novamente com as novas features\n",
        "X_train_selected = X_train[best_features]\n",
        "X_test_selected = X_test[best_features]"
      ]
    },
    {
      "cell_type": "markdown",
      "id": "d247162b",
      "metadata": {},
      "source": [
        "## Ajuste de hiperparâmetros com validação cruzada"
      ]
    },
    {
      "cell_type": "markdown",
      "id": "6f2ef69d",
      "metadata": {},
      "source": [
        "A validação cruzada ajuda a garantir que o modelo não está sobreajustado aos dados de treinamento e terá um bom desempenho em dados novos. "
      ]
    },
    {
      "cell_type": "code",
      "execution_count": 41,
      "id": "02de3562",
      "metadata": {},
      "outputs": [
        {
          "name": "stdout",
          "output_type": "stream",
          "text": [
            "Melhores parâmetros para o SVM:  {'model__C': 1, 'model__gamma': 1, 'model__kernel': 'rbf'}\n",
            "Melhor acurácia na validação cruzada do SVM: 53.04%\n"
          ]
        }
      ],
      "source": [
        "# hiperparâmetros que iremos testar\n",
        "# usamos 'model__parametro' por causa do pipeline\n",
        "param_grid_svm = {\n",
        "    'model__C': [0.1, 1, 10, 100],\n",
        "    'model__gamma': ['scale', 'auto', 0.1, 1],\n",
        "    'model__kernel': ['rbf']\n",
        "}\n",
        "\n",
        "# validação cruzada para dados de séries temporais\n",
        "tscv = TimeSeriesSplit(n_splits=5)\n",
        "\n",
        "# configuração do GridSearchCV\n",
        "grid_search_svm = GridSearchCV(\n",
        "    estimator=models['SVM'],\n",
        "    param_grid=param_grid_svm,\n",
        "    scoring='accuracy',\n",
        "    cv=tscv,\n",
        "    n_jobs=-1\n",
        ")\n",
        "\n",
        "grid_search_svm.fit(X_train_selected, y_train)\n",
        "\n",
        "# análise dos resultados\n",
        "print(\"Melhores parâmetros para o SVM: \", grid_search_svm.best_params_)\n",
        "print(\"Melhor acurácia na validação cruzada do SVM: {:.2%}\".format(grid_search_svm.best_score_))"
      ]
    },
    {
      "cell_type": "code",
      "execution_count": 42,
      "id": "6ebd1c9c",
      "metadata": {},
      "outputs": [
        {
          "name": "stdout",
          "output_type": "stream",
          "text": [
            "Relatório de classificação do SVM:\n",
            "\n",
            "              precision    recall  f1-score   support\n",
            "\n",
            "           0       0.53      0.56      0.55        16\n",
            "           1       0.46      0.43      0.44        14\n",
            "\n",
            "    accuracy                           0.50        30\n",
            "   macro avg       0.50      0.50      0.49        30\n",
            "weighted avg       0.50      0.50      0.50        30\n",
            "\n"
          ]
        }
      ],
      "source": [
        "# melhor SVM no conjunto de teste\n",
        "best_svm = grid_search_svm.best_estimator_\n",
        "pred_test_svm = best_svm.predict(X_test_selected)\n",
        "\n",
        "print(\"Relatório de classificação do SVM:\\n\")\n",
        "print(classification_report(y_test, pred_test_svm))"
      ]
    },
    {
      "cell_type": "code",
      "execution_count": 43,
      "id": "c83b6ccf",
      "metadata": {},
      "outputs": [
        {
          "name": "stdout",
          "output_type": "stream",
          "text": [
            "Melhores parâmetros para o Random Forest:  {'max_depth': None, 'max_features': 'sqrt', 'min_samples_leaf': 10, 'n_estimators': 100}\n",
            "Melhor acurácia na validação cruzada do Random Forest: 53.82%\n"
          ]
        }
      ],
      "source": [
        "# hiperparâmetros que iremos testar\n",
        "param_grid_rf = {\n",
        "    'n_estimators': [100, 200],          # Número de árvores\n",
        "    'max_depth': [10, 20, None],         # Profundidade máxima de cada árvore\n",
        "    'min_samples_leaf': [1, 5, 10],      # Número mínimo de amostras em uma folha\n",
        "    'max_features': ['sqrt', 'log2']     # Número de features a considerar em cada split\n",
        "}\n",
        "\n",
        "# validação cruzada para dados de séries temporais\n",
        "tscv = TimeSeriesSplit(n_splits=5)\n",
        "\n",
        "# configuração do GridSearchCV\n",
        "grid_search_rf = GridSearchCV(\n",
        "    estimator=models['Random Forest'],\n",
        "    param_grid=param_grid_rf,\n",
        "    scoring='accuracy',\n",
        "    cv=tscv,\n",
        "    n_jobs=-1\n",
        ")\n",
        "\n",
        "grid_search_rf.fit(X_train_selected, y_train)\n",
        "\n",
        "# análise dos resultados\n",
        "print(\"Melhores parâmetros para o Random Forest: \", grid_search_rf.best_params_)\n",
        "print(\"Melhor acurácia na validação cruzada do Random Forest: {:.2%}\".format(grid_search_rf.best_score_))"
      ]
    },
    {
      "cell_type": "code",
      "execution_count": 44,
      "id": "675c4178",
      "metadata": {},
      "outputs": [
        {
          "name": "stdout",
          "output_type": "stream",
          "text": [
            "Relatório de classificação do Random Forest:\n",
            "\n",
            "              precision    recall  f1-score   support\n",
            "\n",
            "           0       0.58      0.69      0.63        16\n",
            "           1       0.55      0.43      0.48        14\n",
            "\n",
            "    accuracy                           0.57        30\n",
            "   macro avg       0.56      0.56      0.55        30\n",
            "weighted avg       0.56      0.57      0.56        30\n",
            "\n"
          ]
        }
      ],
      "source": [
        "# melhor Random Forest no conjunto de teste\n",
        "best_rf = grid_search_rf.best_estimator_\n",
        "pred_test_rf = best_rf.predict(X_test_selected)\n",
        "\n",
        "print(\"Relatório de classificação do Random Forest:\\n\")\n",
        "print(classification_report(y_test, pred_test_rf))"
      ]
    },
    {
      "cell_type": "markdown",
      "id": "18e0ba57",
      "metadata": {},
      "source": [
        "## Exportação do modelo"
      ]
    },
    {
      "cell_type": "code",
      "execution_count": 45,
      "id": "6768039a",
      "metadata": {},
      "outputs": [],
      "source": [
        "# import joblib\n",
        "\n",
        "# # salvar o melhor modelo\n",
        "# model_filename = f\"models/{best_model_name.replace(' ', '_')}.joblib\"\n",
        "# joblib.dump(best_model, model_filename)"
      ]
    },
    {
      "cell_type": "code",
      "execution_count": 46,
      "id": "2c44d86a",
      "metadata": {},
      "outputs": [],
      "source": [
        "# import json\n",
        "\n",
        "# # salvar as métricas de performance\n",
        "# report_dict = classification_report(y_test, y_pred, output_dict=True)\n",
        "# metrics_filename = f\"reports/metrics_{best_model_name.replace(' ', '_')}.json\"\n",
        "\n",
        "# with open(metrics_filename, 'w', encoding='utf-8') as f:\n",
        "#     json.dump(report_dict, f, ensure_ascii=False, indent=4)"
      ]
    }
  ],
  "metadata": {
    "colab": {
      "provenance": []
    },
    "kernelspec": {
      "display_name": ".venv",
      "language": "python",
      "name": "python3"
    },
    "language_info": {
      "codemirror_mode": {
        "name": "ipython",
        "version": 3
      },
      "file_extension": ".py",
      "mimetype": "text/x-python",
      "name": "python",
      "nbconvert_exporter": "python",
      "pygments_lexer": "ipython3",
      "version": "3.11.13"
    }
  },
  "nbformat": 4,
  "nbformat_minor": 5
}
