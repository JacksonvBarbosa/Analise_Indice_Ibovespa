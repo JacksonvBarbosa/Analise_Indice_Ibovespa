{
 "cells": [
  {
   "cell_type": "markdown",
   "id": "3a94c28f",
   "metadata": {},
   "source": [
    "# Notebook de modelagem e avaliação \n",
    "\n",
    "## Importação das bibliotecas"
   ]
  },
  {
   "cell_type": "code",
   "execution_count": 72,
   "id": "e1bb3c30",
   "metadata": {},
   "outputs": [],
   "source": [
    "import pandas as pd\n",
    "import numpy as np\n",
    "import matplotlib as mpl\n",
    "import matplotlib.pyplot as plt\n",
    "import seaborn as sns\n",
    "from scipy.stats import randint, uniform\n",
    "\n",
    "from sklearn.metrics import classification_report, confusion_matrix, roc_auc_score\n",
    "from sklearn.model_selection import train_test_split, GridSearchCV, TimeSeriesSplit\n",
    "from sklearn.pipeline import Pipeline\n",
    "from sklearn.feature_selection import SelectKBest, f_classif, mutual_info_classif \n",
    "from sklearn.linear_model import LogisticRegression\n",
    "from sklearn.preprocessing import StandardScaler\n",
    "from sklearn.tree import DecisionTreeClassifier\n",
    "from sklearn.ensemble import RandomForestClassifier\n",
    "from sklearn.svm import SVC\n",
    "import xgboost as xgb\n",
    "\n",
    "import joblib\n",
    "import json"
   ]
  },
  {
   "cell_type": "code",
   "execution_count": 73,
   "id": "914b8a79",
   "metadata": {},
   "outputs": [],
   "source": [
    "# Configurar paleta de cores e estilo\n",
    "\n",
    "# Matplotlib\n",
    "mpl.rcParams[\"figure.figsize\"] = (20, 7)\n",
    "mpl.rcParams[\"axes.facecolor\"] = \"white\"\n",
    "mpl.rcParams[\"font.size\"] = 12\n",
    "mpl.rcParams[\"figure.titlesize\"] = 25\n",
    "mpl.rcParams[\"figure.dpi\"] = 100\n",
    "\n",
    "# Seaborn\n",
    "sns.set_style('whitegrid', {\"grid.color\": \".8\", \"grid.linestyle\": \"--\"})\n",
    "sns.set_palette(palette='mako')"
   ]
  },
  {
   "cell_type": "code",
   "execution_count": 74,
   "id": "28b90c78",
   "metadata": {},
   "outputs": [
    {
     "data": {
      "application/vnd.microsoft.datawrangler.viewer.v0+json": {
       "columns": [
        {
         "name": "index",
         "rawType": "int64",
         "type": "integer"
        },
        {
         "name": "target",
         "rawType": "float64",
         "type": "float"
        },
        {
         "name": "delta",
         "rawType": "float64",
         "type": "float"
        },
        {
         "name": "return",
         "rawType": "float64",
         "type": "float"
        },
        {
         "name": "return_1d",
         "rawType": "float64",
         "type": "float"
        },
        {
         "name": "return_2d",
         "rawType": "float64",
         "type": "float"
        },
        {
         "name": "return_3d",
         "rawType": "float64",
         "type": "float"
        },
        {
         "name": "return_5d",
         "rawType": "float64",
         "type": "float"
        },
        {
         "name": "momentum_aceel",
         "rawType": "float64",
         "type": "float"
        },
        {
         "name": "momentum_consistency",
         "rawType": "int64",
         "type": "integer"
        },
        {
         "name": "vol_3d",
         "rawType": "float64",
         "type": "float"
        },
        {
         "name": "vol_10d",
         "rawType": "float64",
         "type": "float"
        },
        {
         "name": "vol_regime",
         "rawType": "float64",
         "type": "float"
        },
        {
         "name": "open",
         "rawType": "int64",
         "type": "integer"
        },
        {
         "name": "high",
         "rawType": "float64",
         "type": "float"
        },
        {
         "name": "low",
         "rawType": "float64",
         "type": "float"
        },
        {
         "name": "rsi_9",
         "rawType": "float64",
         "type": "float"
        },
        {
         "name": "rsi_14",
         "rawType": "float64",
         "type": "float"
        },
        {
         "name": "rsi_divergence",
         "rawType": "float64",
         "type": "float"
        },
        {
         "name": "adx",
         "rawType": "float64",
         "type": "float"
        },
        {
         "name": "bb_upper",
         "rawType": "float64",
         "type": "float"
        },
        {
         "name": "bb_lower",
         "rawType": "float64",
         "type": "float"
        },
        {
         "name": "bb_position",
         "rawType": "float64",
         "type": "float"
        },
        {
         "name": "z_score",
         "rawType": "float64",
         "type": "float"
        },
        {
         "name": "macd",
         "rawType": "float64",
         "type": "float"
        },
        {
         "name": "macd_signal",
         "rawType": "float64",
         "type": "float"
        },
        {
         "name": "macd_hist",
         "rawType": "float64",
         "type": "float"
        },
        {
         "name": "stoch_k",
         "rawType": "float64",
         "type": "float"
        },
        {
         "name": "stoch_d",
         "rawType": "float64",
         "type": "float"
        },
        {
         "name": "volatilidade",
         "rawType": "float64",
         "type": "float"
        },
        {
         "name": "volatilidade_relativa",
         "rawType": "float64",
         "type": "float"
        },
        {
         "name": "ema_5",
         "rawType": "float64",
         "type": "float"
        },
        {
         "name": "ema_10",
         "rawType": "float64",
         "type": "float"
        },
        {
         "name": "ema_cross",
         "rawType": "int64",
         "type": "integer"
        },
        {
         "name": "target_lag1",
         "rawType": "float64",
         "type": "float"
        },
        {
         "name": "target_lag2",
         "rawType": "float64",
         "type": "float"
        },
        {
         "name": "target_lag3",
         "rawType": "float64",
         "type": "float"
        },
        {
         "name": "target_lag4",
         "rawType": "float64",
         "type": "float"
        },
        {
         "name": "target_lag5",
         "rawType": "float64",
         "type": "float"
        },
        {
         "name": "target_lag6",
         "rawType": "float64",
         "type": "float"
        },
        {
         "name": "target_lag7",
         "rawType": "float64",
         "type": "float"
        },
        {
         "name": "close_lag1",
         "rawType": "float64",
         "type": "float"
        },
        {
         "name": "close_lag3",
         "rawType": "float64",
         "type": "float"
        },
        {
         "name": "close_lag5",
         "rawType": "float64",
         "type": "float"
        },
        {
         "name": "close_lag7",
         "rawType": "float64",
         "type": "float"
        }
       ],
       "ref": "e1b2eb8c-a63c-40d7-b06b-49f340d7cb4b",
       "rows": [
        [
         "2486",
         "1.0",
         "692.0",
         "0.0050719751385264",
         "0.0050719751385264",
         "0.0105306597690477",
         "0.0075384637992095",
         "0.0009196946029985",
         "-0.0054586846305213",
         "1",
         "0.0047449296755152",
         "0.0053190321499195",
         "0.8920663650410635",
         "137127",
         "137531.0",
         "135628.0",
         "51.63675313779994",
         "53.370157148435545",
         "1.7334040106356028",
         "14.46797040219331",
         "140431.54050287968",
         "135199.15949712033",
         "0.4970663451336762",
         "-0.0117346194652949",
         "397.02000665391097",
         "835.3442011517332",
         "-438.3241944978222",
         "88.18874560375147",
         "57.16452557605455",
         "1903.0",
         "1.0140310260418204",
         "137027.059648898",
         "137043.95039776267",
         "0",
         "1.0",
         "1.0",
         "0.0",
         "0.0",
         "0.0",
         "0.0",
         "1.0",
         "137128.0",
         "135699.0",
         "136236.0",
         "137546.0"
        ],
        [
         "2487",
         "0.0",
         "672.0",
         "0.0049005308908465",
         "0.0049005308908465",
         "0.0099973614002168",
         "0.0154827964833934",
         "0.0114800786869844",
         "-0.0050968305093703",
         "1",
         "0.0002707812939482",
         "0.0056312291719441",
         "0.0480856462559382",
         "137800",
         "137931.0",
         "136175.0",
         "57.00203274754108",
         "56.42895898797239",
         "-0.5730737595686932",
         "13.814095046407232",
         "140255.4328482514",
         "135221.8671517486",
         "0.3955710461144467",
         "-0.4177158155422124",
         "435.8944999374216",
         "755.454260908871",
         "-319.5597609714493",
         "96.56348373557188",
         "78.09398096404124",
         "1756.0",
         "1.0128951716541217",
         "137089.039765932",
         "137074.68668907855",
         "1",
         "1.0",
         "1.0",
         "1.0",
         "0.0",
         "0.0",
         "0.0",
         "0.0",
         "137800.0",
         "136436.0",
         "136102.0",
         "137002.0"
        ],
        [
         "2488",
         "1.0",
         "-587.0",
         "-0.0042597968069666",
         "-0.0042597968069666",
         "0.0006198588180386",
         "0.0056949778650796",
         "0.0081629954005084",
         "-0.0048796556250052",
         "0",
         "0.0053388975813375",
         "0.0045663982350692",
         "1.1691703847324544",
         "137212",
         "137800.0",
         "136586.0",
         "51.39865366689317",
         "53.149230561115495",
         "1.750576894222327",
         "12.90580829176534",
         "140070.94230118286",
         "135208.95769881716",
         "0.832384845318857",
         "1.329539381275432",
         "414.5580545050034",
         "687.2750196280975",
         "-272.71696512309416",
         "81.16474291710388",
         "88.63899075214242",
         "1214.0",
         "1.0088881730191968",
         "137811.35984395465",
         "137471.28910924608",
         "1",
         "0.0",
         "1.0",
         "1.0",
         "1.0",
         "0.0",
         "0.0",
         "0.0",
         "137213.0",
         "137128.0",
         "135699.0",
         "136236.0"
        ],
        [
         "2489",
         "0.0",
         "2043.0",
         "0.0148892597640164",
         "0.0148892597640164",
         "0.0105660377358489",
         "0.0155183478210139",
         "0.0262124260311424",
         "0.0043232220281674",
         "1",
         "0.0095775142529409",
         "0.0064443941851407",
         "1.486177595253952",
         "139256",
         "139988.0",
         "137212.0",
         "64.90611869551708",
         "61.52982709063102",
         "-3.376291604886063",
         "12.062399162455009",
         "139991.44268474093",
         "135250.4573152591",
         "0.7571300911087228",
         "1.02852036443489",
         "556.0915168641368",
         "661.0383190753055",
         "-104.94680221116867",
         "83.21100917431193",
         "86.97974527566258",
         "2776.0",
         "1.0202314666355712",
         "138154.23989596975",
         "137720.1456348377",
         "1",
         "1.0",
         "0.0",
         "1.0",
         "1.0",
         "1.0",
         "0.0",
         "0.0",
         "139256.0",
         "137800.0",
         "136436.0",
         "136102.0"
        ],
        [
         "2490",
         "0.0",
         "-416.0",
         "-0.0029873039581777",
         "-0.0029873039581777",
         "0.0118574770612114",
         "0.0075471698113207",
         "0.0176199829956902",
         "-0.0148447810193891",
         "0",
         "0.0107072960804194",
         "0.0064593253698226",
         "1.6576492849304088",
         "138844",
         "139497.0",
         "138293.0",
         "61.02118445934194",
         "59.20739097610704",
         "-1.813793483234896",
         "12.547997690864454",
         "139704.73405935688",
         "135410.16594064314",
         "0.7700038671984749",
         "1.0800154687939034",
         "627.4571467254136",
         "654.3220846053272",
         "-26.864937879913555",
         "73.6697247706422",
         "79.34849228735268",
         "1204.0",
         "1.008706152878309",
         "138341.8265973132",
         "137901.39188304904",
         "1",
         "0.0",
         "1.0",
         "0.0",
         "1.0",
         "1.0",
         "1.0",
         "0.0",
         "138840.0",
         "137213.0",
         "137128.0",
         "135699.0"
        ]
       ],
       "shape": {
        "columns": 44,
        "rows": 5
       }
      },
      "text/html": [
       "<div>\n",
       "<style scoped>\n",
       "    .dataframe tbody tr th:only-of-type {\n",
       "        vertical-align: middle;\n",
       "    }\n",
       "\n",
       "    .dataframe tbody tr th {\n",
       "        vertical-align: top;\n",
       "    }\n",
       "\n",
       "    .dataframe thead th {\n",
       "        text-align: right;\n",
       "    }\n",
       "</style>\n",
       "<table border=\"1\" class=\"dataframe\">\n",
       "  <thead>\n",
       "    <tr style=\"text-align: right;\">\n",
       "      <th></th>\n",
       "      <th>target</th>\n",
       "      <th>delta</th>\n",
       "      <th>return</th>\n",
       "      <th>return_1d</th>\n",
       "      <th>return_2d</th>\n",
       "      <th>return_3d</th>\n",
       "      <th>return_5d</th>\n",
       "      <th>momentum_aceel</th>\n",
       "      <th>momentum_consistency</th>\n",
       "      <th>vol_3d</th>\n",
       "      <th>...</th>\n",
       "      <th>target_lag2</th>\n",
       "      <th>target_lag3</th>\n",
       "      <th>target_lag4</th>\n",
       "      <th>target_lag5</th>\n",
       "      <th>target_lag6</th>\n",
       "      <th>target_lag7</th>\n",
       "      <th>close_lag1</th>\n",
       "      <th>close_lag3</th>\n",
       "      <th>close_lag5</th>\n",
       "      <th>close_lag7</th>\n",
       "    </tr>\n",
       "  </thead>\n",
       "  <tbody>\n",
       "    <tr>\n",
       "      <th>2486</th>\n",
       "      <td>1.0</td>\n",
       "      <td>692.0</td>\n",
       "      <td>0.005072</td>\n",
       "      <td>0.005072</td>\n",
       "      <td>0.010531</td>\n",
       "      <td>0.007538</td>\n",
       "      <td>0.000920</td>\n",
       "      <td>-0.005459</td>\n",
       "      <td>1</td>\n",
       "      <td>0.004745</td>\n",
       "      <td>...</td>\n",
       "      <td>1.0</td>\n",
       "      <td>0.0</td>\n",
       "      <td>0.0</td>\n",
       "      <td>0.0</td>\n",
       "      <td>0.0</td>\n",
       "      <td>1.0</td>\n",
       "      <td>137128.0</td>\n",
       "      <td>135699.0</td>\n",
       "      <td>136236.0</td>\n",
       "      <td>137546.0</td>\n",
       "    </tr>\n",
       "    <tr>\n",
       "      <th>2487</th>\n",
       "      <td>0.0</td>\n",
       "      <td>672.0</td>\n",
       "      <td>0.004901</td>\n",
       "      <td>0.004901</td>\n",
       "      <td>0.009997</td>\n",
       "      <td>0.015483</td>\n",
       "      <td>0.011480</td>\n",
       "      <td>-0.005097</td>\n",
       "      <td>1</td>\n",
       "      <td>0.000271</td>\n",
       "      <td>...</td>\n",
       "      <td>1.0</td>\n",
       "      <td>1.0</td>\n",
       "      <td>0.0</td>\n",
       "      <td>0.0</td>\n",
       "      <td>0.0</td>\n",
       "      <td>0.0</td>\n",
       "      <td>137800.0</td>\n",
       "      <td>136436.0</td>\n",
       "      <td>136102.0</td>\n",
       "      <td>137002.0</td>\n",
       "    </tr>\n",
       "    <tr>\n",
       "      <th>2488</th>\n",
       "      <td>1.0</td>\n",
       "      <td>-587.0</td>\n",
       "      <td>-0.004260</td>\n",
       "      <td>-0.004260</td>\n",
       "      <td>0.000620</td>\n",
       "      <td>0.005695</td>\n",
       "      <td>0.008163</td>\n",
       "      <td>-0.004880</td>\n",
       "      <td>0</td>\n",
       "      <td>0.005339</td>\n",
       "      <td>...</td>\n",
       "      <td>1.0</td>\n",
       "      <td>1.0</td>\n",
       "      <td>1.0</td>\n",
       "      <td>0.0</td>\n",
       "      <td>0.0</td>\n",
       "      <td>0.0</td>\n",
       "      <td>137213.0</td>\n",
       "      <td>137128.0</td>\n",
       "      <td>135699.0</td>\n",
       "      <td>136236.0</td>\n",
       "    </tr>\n",
       "    <tr>\n",
       "      <th>2489</th>\n",
       "      <td>0.0</td>\n",
       "      <td>2043.0</td>\n",
       "      <td>0.014889</td>\n",
       "      <td>0.014889</td>\n",
       "      <td>0.010566</td>\n",
       "      <td>0.015518</td>\n",
       "      <td>0.026212</td>\n",
       "      <td>0.004323</td>\n",
       "      <td>1</td>\n",
       "      <td>0.009578</td>\n",
       "      <td>...</td>\n",
       "      <td>0.0</td>\n",
       "      <td>1.0</td>\n",
       "      <td>1.0</td>\n",
       "      <td>1.0</td>\n",
       "      <td>0.0</td>\n",
       "      <td>0.0</td>\n",
       "      <td>139256.0</td>\n",
       "      <td>137800.0</td>\n",
       "      <td>136436.0</td>\n",
       "      <td>136102.0</td>\n",
       "    </tr>\n",
       "    <tr>\n",
       "      <th>2490</th>\n",
       "      <td>0.0</td>\n",
       "      <td>-416.0</td>\n",
       "      <td>-0.002987</td>\n",
       "      <td>-0.002987</td>\n",
       "      <td>0.011857</td>\n",
       "      <td>0.007547</td>\n",
       "      <td>0.017620</td>\n",
       "      <td>-0.014845</td>\n",
       "      <td>0</td>\n",
       "      <td>0.010707</td>\n",
       "      <td>...</td>\n",
       "      <td>1.0</td>\n",
       "      <td>0.0</td>\n",
       "      <td>1.0</td>\n",
       "      <td>1.0</td>\n",
       "      <td>1.0</td>\n",
       "      <td>0.0</td>\n",
       "      <td>138840.0</td>\n",
       "      <td>137213.0</td>\n",
       "      <td>137128.0</td>\n",
       "      <td>135699.0</td>\n",
       "    </tr>\n",
       "  </tbody>\n",
       "</table>\n",
       "<p>5 rows × 44 columns</p>\n",
       "</div>"
      ],
      "text/plain": [
       "      target   delta    return  return_1d  return_2d  return_3d  return_5d  \\\n",
       "2486     1.0   692.0  0.005072   0.005072   0.010531   0.007538   0.000920   \n",
       "2487     0.0   672.0  0.004901   0.004901   0.009997   0.015483   0.011480   \n",
       "2488     1.0  -587.0 -0.004260  -0.004260   0.000620   0.005695   0.008163   \n",
       "2489     0.0  2043.0  0.014889   0.014889   0.010566   0.015518   0.026212   \n",
       "2490     0.0  -416.0 -0.002987  -0.002987   0.011857   0.007547   0.017620   \n",
       "\n",
       "      momentum_aceel  momentum_consistency    vol_3d  ...  target_lag2  \\\n",
       "2486       -0.005459                     1  0.004745  ...          1.0   \n",
       "2487       -0.005097                     1  0.000271  ...          1.0   \n",
       "2488       -0.004880                     0  0.005339  ...          1.0   \n",
       "2489        0.004323                     1  0.009578  ...          0.0   \n",
       "2490       -0.014845                     0  0.010707  ...          1.0   \n",
       "\n",
       "      target_lag3  target_lag4  target_lag5  target_lag6  target_lag7  \\\n",
       "2486          0.0          0.0          0.0          0.0          1.0   \n",
       "2487          1.0          0.0          0.0          0.0          0.0   \n",
       "2488          1.0          1.0          0.0          0.0          0.0   \n",
       "2489          1.0          1.0          1.0          0.0          0.0   \n",
       "2490          0.0          1.0          1.0          1.0          0.0   \n",
       "\n",
       "      close_lag1  close_lag3  close_lag5  close_lag7  \n",
       "2486    137128.0    135699.0    136236.0    137546.0  \n",
       "2487    137800.0    136436.0    136102.0    137002.0  \n",
       "2488    137213.0    137128.0    135699.0    136236.0  \n",
       "2489    139256.0    137800.0    136436.0    136102.0  \n",
       "2490    138840.0    137213.0    137128.0    135699.0  \n",
       "\n",
       "[5 rows x 44 columns]"
      ]
     },
     "execution_count": 74,
     "metadata": {},
     "output_type": "execute_result"
    }
   ],
   "source": [
    "input_path_c_out = '../data/processed/arquivo-modelo.csv'\n",
    "input_path_s_out = '../data/processed/arquivo_modelo_s_out.csv'\n",
    "\n",
    "df = pd.read_csv(input_path_s_out)\n",
    "df.tail()"
   ]
  },
  {
   "cell_type": "code",
   "execution_count": 75,
   "id": "109b5b19",
   "metadata": {},
   "outputs": [
    {
     "data": {
      "application/vnd.microsoft.datawrangler.viewer.v0+json": {
       "columns": [
        {
         "name": "target",
         "rawType": "float64",
         "type": "float"
        },
        {
         "name": "proportion",
         "rawType": "float64",
         "type": "float"
        }
       ],
       "ref": "e033d73c-d8f2-472a-a78e-9d54edf0bb1e",
       "rows": [
        [
         "1.0",
         "0.5186672019269369"
        ],
        [
         "0.0",
         "0.481332798073063"
        ]
       ],
       "shape": {
        "columns": 1,
        "rows": 2
       }
      },
      "text/plain": [
       "target\n",
       "1.0    0.518667\n",
       "0.0    0.481333\n",
       "Name: proportion, dtype: float64"
      ]
     },
     "execution_count": 75,
     "metadata": {},
     "output_type": "execute_result"
    }
   ],
   "source": [
    "# Porcentagem da distribuição da tendência\n",
    "df['target'].value_counts(normalize=True)"
   ]
  },
  {
   "cell_type": "markdown",
   "id": "1e53e6ba",
   "metadata": {},
   "source": [
    "## Construção do modelo de classificação"
   ]
  },
  {
   "cell_type": "code",
   "execution_count": 76,
   "id": "dcdd3fe0",
   "metadata": {},
   "outputs": [],
   "source": [
    "X = df.iloc[:,1:]\n",
    "y = df['target']"
   ]
  },
  {
   "cell_type": "code",
   "execution_count": 77,
   "id": "f9ee2a27",
   "metadata": {},
   "outputs": [
    {
     "data": {
      "text/plain": [
       "43"
      ]
     },
     "execution_count": 77,
     "metadata": {},
     "output_type": "execute_result"
    }
   ],
   "source": [
    "len(X.columns)"
   ]
  },
  {
   "cell_type": "code",
   "execution_count": 78,
   "id": "afd613a3",
   "metadata": {},
   "outputs": [],
   "source": [
    "# Selecionando features para o modelo\n",
    "mt_if_classif = SelectKBest(score_func=mutual_info_classif, k=22)\n",
    "\n",
    "fit = mt_if_classif.fit(X ,y)"
   ]
  },
  {
   "cell_type": "code",
   "execution_count": 79,
   "id": "2ce2be0c",
   "metadata": {},
   "outputs": [
    {
     "name": "stdout",
     "output_type": "stream",
     "text": [
      "[[-1.76781484e-02 -1.76781484e-02 -5.77963601e-03 ...  1.00000000e+00\n",
      "   4.85100000e+04  4.93010000e+04]\n",
      " [-5.56586271e-03 -5.56586271e-03 -2.31456169e-02 ...  0.00000000e+00\n",
      "   4.82400000e+04  4.92340000e+04]\n",
      " [ 2.68034826e-02  2.68034826e-02  2.10884354e-02 ...  0.00000000e+00\n",
      "   4.95330000e+04  4.87920000e+04]\n",
      " ...\n",
      " [-4.25979681e-03 -4.25979681e-03  6.19858818e-04 ...  1.00000000e+00\n",
      "   1.37213000e+05  1.35699000e+05]\n",
      " [ 1.48892598e-02  1.48892598e-02  1.05660377e-02 ...  0.00000000e+00\n",
      "   1.39256000e+05  1.36436000e+05]\n",
      " [-2.98730396e-03 -2.98730396e-03  1.18574771e-02 ...  1.00000000e+00\n",
      "   1.38840000e+05  1.37128000e+05]]\n"
     ]
    }
   ],
   "source": [
    "features = fit.transform(X)\n",
    "print(features)"
   ]
  },
  {
   "cell_type": "code",
   "execution_count": 80,
   "id": "307d454a",
   "metadata": {},
   "outputs": [
    {
     "data": {
      "text/plain": [
       "Index(['delta', 'return', 'return_1d', 'return_3d', 'return_5d',\n",
       "       'momentum_aceel', 'momentum_consistency', 'vol_10d', 'vol_regime',\n",
       "       'open', 'low', 'rsi_9', 'bb_upper', 'bb_lower', 'bb_position', 'macd',\n",
       "       'stoch_k', 'stoch_d', 'ema_10', 'target_lag1', 'target_lag7',\n",
       "       'close_lag3'],\n",
       "      dtype='object')"
      ]
     },
     "execution_count": 80,
     "metadata": {},
     "output_type": "execute_result"
    }
   ],
   "source": [
    "cols = fit.get_support(indices=True)\n",
    "df.iloc[:,cols].columns\n"
   ]
  },
  {
   "cell_type": "code",
   "execution_count": 81,
   "id": "839622a1",
   "metadata": {},
   "outputs": [
    {
     "name": "stdout",
     "output_type": "stream",
     "text": [
      "(2461, 21) (2461,) (30, 21) (30,)\n"
     ]
    }
   ],
   "source": [
    "features_de_otimizacao = ['delta', 'return_1d', 'return_2d', 'return_3d', 'return_5d',\n",
    "       'momentum_consistency', 'vol_regime', 'adx', \n",
    "        'macd', 'macd_signal', 'ema_10', 'z_score', 'bb_upper', 'bb_lower',\n",
    "       'target_lag1', 'target_lag2', 'bb_position','target_lag3', 'target_lag7',\n",
    "       'close_lag1', 'close_lag5']\n",
    "\n",
    "# Separação das features\n",
    "X, y = df[features_de_otimizacao], df['target']\n",
    "\n",
    "# Separação de treino e teste\n",
    "X_train, X_test = X.iloc[:-30], X.iloc[-30:]\n",
    "y_train, y_test = y.iloc[:-30], y.iloc[-30:]\n",
    "\n",
    "print(X_train.shape, y_train.shape, X_test.shape, y_test.shape)"
   ]
  },
  {
   "cell_type": "code",
   "execution_count": 82,
   "id": "a425c6a1",
   "metadata": {},
   "outputs": [],
   "source": [
    "# definindo modelos de classificação\n",
    "seed = 1222\n",
    "models = {\n",
    "    'Logistic Regression': Pipeline([\n",
    "        ('scaler', StandardScaler()),\n",
    "        ('model', LogisticRegression(random_state=seed, n_jobs=-1))\n",
    "    ]),\n",
    "    'SVM': Pipeline([\n",
    "        ('scaler', StandardScaler()),\n",
    "        ('model', SVC(random_state=seed))\n",
    "    ]),\n",
    "    'Decision Tree': DecisionTreeClassifier(max_depth=20, random_state=seed),\n",
    "    'Random Forest': RandomForestClassifier(n_estimators=200, max_depth=20, random_state=seed, n_jobs=-1),\n",
    "    'XGBoost': xgb.XGBClassifier(eval_metric='logloss', random_state=seed, n_jobs=-1)\n",
    "}"
   ]
  },
  {
   "cell_type": "code",
   "execution_count": 83,
   "id": "0002c9df",
   "metadata": {},
   "outputs": [
    {
     "name": "stdout",
     "output_type": "stream",
     "text": [
      "Treinando Logistic Regression...\n",
      "Treinando SVM...\n",
      "Treinando Decision Tree...\n",
      "Treinando Random Forest...\n",
      "Treinando XGBoost...\n",
      "Todos os modelos foram treinados!\n"
     ]
    }
   ],
   "source": [
    "# treinando os modelos\n",
    "for name, model in models.items():\n",
    "    print(f\"Treinando {name}...\")\n",
    "    model.fit(X_train, y_train)\n",
    "\n",
    "print(\"Todos os modelos foram treinados!\")"
   ]
  },
  {
   "cell_type": "markdown",
   "id": "80ec6417",
   "metadata": {},
   "source": [
    "## Avaliação do modelo"
   ]
  },
  {
   "cell_type": "code",
   "execution_count": 84,
   "id": "35c061b1",
   "metadata": {},
   "outputs": [
    {
     "data": {
      "application/vnd.microsoft.datawrangler.viewer.v0+json": {
       "columns": [
        {
         "name": "Model",
         "rawType": "object",
         "type": "string"
        },
        {
         "name": "Accuracy",
         "rawType": "object",
         "type": "string"
        },
        {
         "name": "Precision",
         "rawType": "object",
         "type": "string"
        },
        {
         "name": "Recall",
         "rawType": "object",
         "type": "string"
        },
        {
         "name": "F1-Score",
         "rawType": "object",
         "type": "string"
        }
       ],
       "ref": "d62fe567-18fa-4428-a101-b50a9c6491d2",
       "rows": [
        [
         "Random Forest",
         "80.00 %",
         "80.54 %",
         "80.00 %",
         "79.91 %"
        ],
        [
         "XGBoost",
         "80.00 %",
         "80.54 %",
         "80.00 %",
         "79.91 %"
        ],
        [
         "Logistic Regression",
         "76.67 %",
         "77.78 %",
         "76.67 %",
         "76.43 %"
        ],
        [
         "SVM",
         "70.00 %",
         "70.09 %",
         "70.00 %",
         "69.97 %"
        ],
        [
         "Decision Tree",
         "63.33 %",
         "63.89 %",
         "63.33 %",
         "62.96 %"
        ]
       ],
       "shape": {
        "columns": 4,
        "rows": 5
       }
      },
      "text/html": [
       "<div>\n",
       "<style scoped>\n",
       "    .dataframe tbody tr th:only-of-type {\n",
       "        vertical-align: middle;\n",
       "    }\n",
       "\n",
       "    .dataframe tbody tr th {\n",
       "        vertical-align: top;\n",
       "    }\n",
       "\n",
       "    .dataframe thead th {\n",
       "        text-align: right;\n",
       "    }\n",
       "</style>\n",
       "<table border=\"1\" class=\"dataframe\">\n",
       "  <thead>\n",
       "    <tr style=\"text-align: right;\">\n",
       "      <th></th>\n",
       "      <th>Accuracy</th>\n",
       "      <th>Precision</th>\n",
       "      <th>Recall</th>\n",
       "      <th>F1-Score</th>\n",
       "    </tr>\n",
       "    <tr>\n",
       "      <th>Model</th>\n",
       "      <th></th>\n",
       "      <th></th>\n",
       "      <th></th>\n",
       "      <th></th>\n",
       "    </tr>\n",
       "  </thead>\n",
       "  <tbody>\n",
       "    <tr>\n",
       "      <th>Random Forest</th>\n",
       "      <td>80.00 %</td>\n",
       "      <td>80.54 %</td>\n",
       "      <td>80.00 %</td>\n",
       "      <td>79.91 %</td>\n",
       "    </tr>\n",
       "    <tr>\n",
       "      <th>XGBoost</th>\n",
       "      <td>80.00 %</td>\n",
       "      <td>80.54 %</td>\n",
       "      <td>80.00 %</td>\n",
       "      <td>79.91 %</td>\n",
       "    </tr>\n",
       "    <tr>\n",
       "      <th>Logistic Regression</th>\n",
       "      <td>76.67 %</td>\n",
       "      <td>77.78 %</td>\n",
       "      <td>76.67 %</td>\n",
       "      <td>76.43 %</td>\n",
       "    </tr>\n",
       "    <tr>\n",
       "      <th>SVM</th>\n",
       "      <td>70.00 %</td>\n",
       "      <td>70.09 %</td>\n",
       "      <td>70.00 %</td>\n",
       "      <td>69.97 %</td>\n",
       "    </tr>\n",
       "    <tr>\n",
       "      <th>Decision Tree</th>\n",
       "      <td>63.33 %</td>\n",
       "      <td>63.89 %</td>\n",
       "      <td>63.33 %</td>\n",
       "      <td>62.96 %</td>\n",
       "    </tr>\n",
       "  </tbody>\n",
       "</table>\n",
       "</div>"
      ],
      "text/plain": [
       "                    Accuracy Precision   Recall F1-Score\n",
       "Model                                                   \n",
       "Random Forest        80.00 %   80.54 %  80.00 %  79.91 %\n",
       "XGBoost              80.00 %   80.54 %  80.00 %  79.91 %\n",
       "Logistic Regression  76.67 %   77.78 %  76.67 %  76.43 %\n",
       "SVM                  70.00 %   70.09 %  70.00 %  69.97 %\n",
       "Decision Tree        63.33 %   63.89 %  63.33 %  62.96 %"
      ]
     },
     "execution_count": 84,
     "metadata": {},
     "output_type": "execute_result"
    }
   ],
   "source": [
    "# comparando o desempenho dos modelos\n",
    "performance = pd.DataFrame(\n",
    "    columns=[\"Model\", \"Accuracy\", \"Precision\", \"Recall\", \"F1-Score\"]\n",
    ")\n",
    "\n",
    "for name, model in models.items():\n",
    "    y_pred = model.predict(X_test)\n",
    "    report = classification_report(y_test, y_pred, output_dict=True, zero_division=0)\n",
    "    performance.loc[performance.shape[0]] = {\n",
    "        \"Model\": name,\n",
    "        \"Accuracy\": report[\"accuracy\"],\n",
    "        \"Precision\": report[\"weighted avg\"][\"precision\"],\n",
    "        \"Recall\": report[\"weighted avg\"][\"recall\"],\n",
    "        \"F1-Score\": report[\"weighted avg\"][\"f1-score\"],\n",
    "    }\n",
    "performance.set_index(\"Model\", inplace=True)\n",
    "performance = performance.map(lambda x: f\"{100 * x:2.2f} %\")\n",
    "performance.sort_values(\"F1-Score\", ascending=False, inplace=True)\n",
    "\n",
    "performance"
   ]
  },
  {
   "cell_type": "code",
   "execution_count": 85,
   "id": "c02aa41e",
   "metadata": {},
   "outputs": [
    {
     "data": {
      "image/png": "[encoded data removed]",
      "text/plain": [
       "<Figure size 2000x700 with 2 Axes>"
      ]
     },
     "metadata": {},
     "output_type": "display_data"
    }
   ],
   "source": [
    "# matriz de confusão para o melhor modelo\n",
    "best_model_name = performance.idxmax().iloc[0]\n",
    "best_model = models[best_model_name]\n",
    "cm = confusion_matrix(y_test, best_model.predict(X_test))\n",
    "\n",
    "sns.heatmap(cm, annot=True, fmt='d', \n",
    "            xticklabels=['Previsto Baixa', 'Previsto Alta'], \n",
    "            yticklabels=['Real Baixa', 'Real Alta'])\n",
    "plt.title(f'Matriz de Confusão - {best_model_name}')\n",
    "plt.ylabel('Classe Real')\n",
    "plt.xlabel('Classe Prevista')\n",
    "plt.show()"
   ]
  },
  {
   "cell_type": "code",
   "execution_count": 94,
   "id": "a73efaf6",
   "metadata": {},
   "outputs": [
    {
     "data": {
      "image/png": "[encoded data removed]",
      "text/plain": [
       "<Figure size 2000x700 with 2 Axes>"
      ]
     },
     "metadata": {},
     "output_type": "display_data"
    }
   ],
   "source": [
    "cm = confusion_matrix(y_test, models['XGBoost'].predict(X_test))\n",
    "\n",
    "sns.heatmap(cm, annot=True, fmt='d', \n",
    "            xticklabels=['Previsto Baixa', 'Previsto Alta'], \n",
    "            yticklabels=['Real Baixa', 'Real Alta'])\n",
    "plt.title(f'Matriz de Confusão - XGBoost')\n",
    "plt.ylabel('Classe Real')\n",
    "plt.xlabel('Classe Prevista')\n",
    "plt.show()"
   ]
  },
  {
   "cell_type": "markdown",
   "id": "60a68a0d",
   "metadata": {},
   "source": [
    "## Features mais relevantes"
   ]
  },
  {
   "cell_type": "code",
   "execution_count": 86,
   "id": "64b7d6ff",
   "metadata": {},
   "outputs": [
    {
     "data": {
      "image/png": "[encoded data removed]",
      "text/plain": [
       "<Figure size 2000x700 with 1 Axes>"
      ]
     },
     "metadata": {},
     "output_type": "display_data"
    }
   ],
   "source": [
    "feature_importances = pd.Series(models['XGBoost'].feature_importances_, index=X_train.columns).sort_values(ascending=False).reset_index(name='importancia')\n",
    "\n",
    "# plotando as features em ordem de importância para a previsão do modelo\n",
    "sns.barplot(data=feature_importances, x='importancia', y='index')\n",
    "plt.title('Importância das features')\n",
    "plt.ylabel('')\n",
    "plt.xlabel('Importância relativa')\n",
    "plt.show()"
   ]
  },
  {
   "cell_type": "code",
   "execution_count": 87,
   "id": "06d0158d",
   "metadata": {},
   "outputs": [
    {
     "name": "stdout",
     "output_type": "stream",
     "text": [
      "Número de features original: 21\n",
      "Número de features após seleção com limiar de 95%: 17\n",
      "\n",
      "Features que serão mantidas para a otimização:\n",
      "['adx', 'bb_lower', 'bb_position', 'bb_upper', 'close_lag1', 'delta', 'ema_10', 'macd', 'macd_signal', 'momentum_consistency', 'return_1d', 'return_2d', 'return_3d', 'return_5d', 'target_lag3', 'target_lag7', 'z_score']\n"
     ]
    }
   ],
   "source": [
    "# filtrar as features que atendem ao critério 95% \n",
    "feature_importances['acum'] = feature_importances['importancia'].cumsum()\n",
    "best_features = feature_importances[feature_importances['acum'] < 0.96]['index'].sort_values().to_list()\n",
    "\n",
    "print(f\"Número de features original: {len(feature_importances)}\")\n",
    "print(f\"Número de features após seleção com limiar de 95%: {len(best_features)}\")\n",
    "print(\"\\nFeatures que serão mantidas para a otimização:\")\n",
    "print(list(best_features))"
   ]
  },
  {
   "cell_type": "markdown",
   "id": "1d0cc7b1",
   "metadata": {},
   "source": [
    "## Ajuste de hiperparâmetros com validação cruzada\n",
    "\n",
    "A validação cruzada ajuda a garantir que o modelo não está sobreajustado aos dados de treinamento e terá um bom desempenho em dados novos. "
   ]
  },
  {
   "cell_type": "code",
   "execution_count": 88,
   "id": "df5606ad",
   "metadata": {},
   "outputs": [
    {
     "name": "stdout",
     "output_type": "stream",
     "text": [
      "Melhores parâmetros para o XGBoost:  {'colsample_bylevel': 0.5, 'colsample_bytree': 0.5, 'gamma': 1.2, 'learning_rate': 0.06, 'max_depth': 5, 'min_child_weight': 3, 'n_estimators': 150, 'reg_alpha': 0.1, 'reg_lambda': 0.7, 'subsample': 0.5}\n",
      "Melhor acurácia na validação cruzada do XGBoost: 77.71%\n"
     ]
    }
   ],
   "source": [
    "# hiperparâmetros que iremos testar\n",
    "param_grid_xgb = {\n",
    "    'n_estimators':[100, 150],              # Menos árvores\n",
    "    'max_depth': [2, 5],                    # Árvores mais rasas\n",
    "    'learning_rate': [0.03, 0.06],          # Learning rate menor\n",
    "    'subsample': [0.5],                     # Entre 0.5 e 0.9\n",
    "    'colsample_bytree': [0.5],              # Entre 0.5 e 0.9\n",
    "    'colsample_bylevel': [ 0.5],            # Entre 0.5 e 0.9\n",
    "    'reg_alpha': [0.1, 0.3, 0.6],           # Regularização L1 maior\n",
    "    'reg_lambda': [0.5, 0.7],               # Regularização L2 maior\n",
    "    'min_child_weight': [3, 5],             # Peso mínimo maior\n",
    "    'gamma': [0.6, 1.2],                    # Poda mais agressiva\n",
    "}\n",
    "\n",
    "# validação cruzada para dados de séries temporais\n",
    "tscv = TimeSeriesSplit(n_splits=5)\n",
    "\n",
    "# configuração do GridSearchCV\n",
    "grid_search_xgb = GridSearchCV(\n",
    "    estimator=models['XGBoost'],\n",
    "    param_grid=param_grid_xgb,\n",
    "    scoring='accuracy',\n",
    "    cv=tscv,\n",
    "    n_jobs=-1\n",
    ")\n",
    "\n",
    "grid_search_xgb.fit(X_train, y_train)\n",
    "\n",
    "# análise dos resultados\n",
    "print(\"Melhores parâmetros para o XGBoost: \", grid_search_xgb.best_params_)\n",
    "print(\"Melhor acurácia na validação cruzada do XGBoost: {:.2%}\".format(grid_search_xgb.best_score_))"
   ]
  },
  {
   "cell_type": "code",
   "execution_count": 89,
   "id": "8e9b2c68",
   "metadata": {},
   "outputs": [
    {
     "name": "stdout",
     "output_type": "stream",
     "text": [
      "Relatório de classificação do XGBoost:\n",
      "\n",
      "              precision    recall  f1-score   support\n",
      "\n",
      "         0.0       0.86      0.80      0.83        15\n",
      "         1.0       0.81      0.87      0.84        15\n",
      "\n",
      "    accuracy                           0.83        30\n",
      "   macro avg       0.83      0.83      0.83        30\n",
      "weighted avg       0.83      0.83      0.83        30\n",
      "\n"
     ]
    }
   ],
   "source": [
    "# melhor XGB no conjunto de teste\n",
    "best_xgb = grid_search_xgb.best_estimator_\n",
    "pred_test_xgb = best_xgb.predict(X_test)\n",
    "\n",
    "print(\"Relatório de classificação do XGBoost:\\n\")\n",
    "print(classification_report(y_test, pred_test_xgb))"
   ]
  },
  {
   "cell_type": "code",
   "execution_count": 90,
   "id": "6f59681d",
   "metadata": {},
   "outputs": [
    {
     "name": "stdout",
     "output_type": "stream",
     "text": [
      "Melhores parâmetros para o Random Forest:  {'class_weight': 'balanced', 'max_depth': None, 'max_features': 'sqrt', 'min_samples_leaf': 1, 'n_estimators': 100}\n",
      "Melhor acurácia na validação cruzada do Random Forest: 75.37%\n"
     ]
    }
   ],
   "source": [
    "# hiperparâmetros que iremos testar\n",
    "param_grid_rf = {\n",
    "    'n_estimators': [100, 200],          # Número de árvores\n",
    "    'max_depth': [10, 20, None],         # Profundidade máxima de cada árvore\n",
    "    'min_samples_leaf': [1, 5, 10],      # Número mínimo de amostras em uma folha\n",
    "    'class_weight': ['balanced', None],  # Tratamento de desbalanceamento\n",
    "    'max_features': ['sqrt', 'log2']     # Número de features a considerar em cada split\n",
    "}\n",
    "\n",
    "# validação cruzada para dados de séries temporais\n",
    "tscv = TimeSeriesSplit(n_splits=5)\n",
    "\n",
    "# configuração do GridSearchCV\n",
    "grid_search_rf = GridSearchCV(\n",
    "    estimator=models['Random Forest'],\n",
    "    param_grid=param_grid_rf,\n",
    "    scoring='accuracy',\n",
    "    cv=tscv,\n",
    "    n_jobs=-1\n",
    ")\n",
    "\n",
    "grid_search_rf.fit(X_train, y_train)\n",
    "\n",
    "# análise dos resultados\n",
    "print(\"Melhores parâmetros para o Random Forest: \", grid_search_rf.best_params_)\n",
    "print(\"Melhor acurácia na validação cruzada do Random Forest: {:.2%}\".format(grid_search_rf.best_score_))"
   ]
  },
  {
   "cell_type": "code",
   "execution_count": 91,
   "id": "5f7ec33e",
   "metadata": {},
   "outputs": [
    {
     "name": "stdout",
     "output_type": "stream",
     "text": [
      "Relatório de classificação do Random Forest:\n",
      "\n",
      "              precision    recall  f1-score   support\n",
      "\n",
      "         0.0       0.73      0.73      0.73        15\n",
      "         1.0       0.73      0.73      0.73        15\n",
      "\n",
      "    accuracy                           0.73        30\n",
      "   macro avg       0.73      0.73      0.73        30\n",
      "weighted avg       0.73      0.73      0.73        30\n",
      "\n"
     ]
    }
   ],
   "source": [
    "# melhor Random Forest no conjunto de teste\n",
    "best_rf = grid_search_rf.best_estimator_\n",
    "pred_test_rf = best_rf.predict(X_test)\n",
    "\n",
    "print(\"Relatório de classificação do Random Forest:\\n\")\n",
    "print(classification_report(y_test, pred_test_rf))"
   ]
  },
  {
   "cell_type": "markdown",
   "id": "4ca4f79c",
   "metadata": {},
   "source": [
    "## Exportação do modelo"
   ]
  },
  {
   "cell_type": "code",
   "execution_count": 92,
   "id": "045ac7b3",
   "metadata": {},
   "outputs": [
    {
     "data": {
      "text/plain": [
       "['../models/Random_Forest.joblib']"
      ]
     },
     "execution_count": 92,
     "metadata": {},
     "output_type": "execute_result"
    }
   ],
   "source": [
    "# salvar o melhor modelo\n",
    "model_filename = f\"../models/{best_model_name.replace(' ', '_')}.joblib\"\n",
    "joblib.dump(best_xgb, model_filename)"
   ]
  },
  {
   "cell_type": "code",
   "execution_count": 93,
   "id": "ba5347a7",
   "metadata": {},
   "outputs": [],
   "source": [
    "# salvar as métricas de performance\n",
    "report_dict = classification_report(y_test, pred_test_xgb, output_dict=True)\n",
    "metrics_filename = f\"../reports/metrics_{best_model_name.replace(' ', '_')}.json\"\n",
    "\n",
    "with open(metrics_filename, 'w', encoding='utf-8') as f:\n",
    "    json.dump(report_dict, f, ensure_ascii=False, indent=4)"
   ]
  }
 ],
 "metadata": {
  "kernelspec": {
   "display_name": ".venv",
   "language": "python",
   "name": "python3"
  },
  "language_info": {
   "codemirror_mode": {
    "name": "ipython",
    "version": 3
   },
   "file_extension": ".py",
   "mimetype": "text/x-python",
   "name": "python",
   "nbconvert_exporter": "python",
   "pygments_lexer": "ipython3",
   "version": "3.11.13"
  }
 },
 "nbformat": 4,
 "nbformat_minor": 5
}
