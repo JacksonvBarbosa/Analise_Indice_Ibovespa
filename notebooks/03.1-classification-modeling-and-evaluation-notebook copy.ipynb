{
 "cells": [
  {
   "cell_type": "markdown",
   "id": "3a94c28f",
   "metadata": {},
   "source": [
    "# Notebook de modelagem e avaliação \n",
    "\n",
    "## Importação das bibliotecas"
   ]
  },
  {
   "cell_type": "code",
   "execution_count": 108,
   "id": "e1bb3c30",
   "metadata": {},
   "outputs": [],
   "source": [
    "import pandas as pd\n",
    "import numpy as np\n",
    "import matplotlib as mpl\n",
    "import matplotlib.pyplot as plt\n",
    "import seaborn as sns\n",
    "\n",
    "from sklearn.metrics import classification_report, confusion_matrix\n",
    "from sklearn.model_selection import train_test_split, GridSearchCV, TimeSeriesSplit\n",
    "from sklearn.pipeline import Pipeline\n",
    "from sklearn.linear_model import LogisticRegression\n",
    "from sklearn.preprocessing import StandardScaler\n",
    "from sklearn.tree import DecisionTreeClassifier\n",
    "from sklearn.ensemble import RandomForestClassifier\n",
    "from sklearn.svm import SVC\n",
    "from catboost import CatBoostClassifier\n",
    "import xgboost as xgb\n"
   ]
  },
  {
   "cell_type": "code",
   "execution_count": 109,
   "id": "914b8a79",
   "metadata": {},
   "outputs": [],
   "source": [
    "# Configurar paleta de cores e estilo\n",
    "\n",
    "# Matplotlib\n",
    "mpl.rcParams[\"figure.figsize\"] = (20, 7)\n",
    "mpl.rcParams[\"axes.facecolor\"] = \"white\"\n",
    "mpl.rcParams[\"font.size\"] = 12\n",
    "mpl.rcParams[\"figure.titlesize\"] = 25\n",
    "mpl.rcParams[\"figure.dpi\"] = 100\n",
    "\n",
    "# Seaborn\n",
    "sns.set_style('whitegrid', {\"grid.color\": \".8\", \"grid.linestyle\": \"--\"})\n",
    "sns.set_palette(palette='mako')"
   ]
  },
  {
   "cell_type": "code",
   "execution_count": 110,
   "id": "28b90c78",
   "metadata": {},
   "outputs": [
    {
     "data": {
      "application/vnd.microsoft.datawrangler.viewer.v0+json": {
       "columns": [
        {
         "name": "index",
         "rawType": "int64",
         "type": "integer"
        },
        {
         "name": "target",
         "rawType": "float64",
         "type": "float"
        },
        {
         "name": "delta",
         "rawType": "float64",
         "type": "float"
        },
        {
         "name": "return",
         "rawType": "float64",
         "type": "float"
        },
        {
         "name": "return_1d",
         "rawType": "float64",
         "type": "float"
        },
        {
         "name": "return_2d",
         "rawType": "float64",
         "type": "float"
        },
        {
         "name": "return_3d",
         "rawType": "float64",
         "type": "float"
        },
        {
         "name": "return_5d",
         "rawType": "float64",
         "type": "float"
        },
        {
         "name": "momentum_aceel",
         "rawType": "float64",
         "type": "float"
        },
        {
         "name": "momentum_consistency",
         "rawType": "int64",
         "type": "integer"
        },
        {
         "name": "vol_3d",
         "rawType": "float64",
         "type": "float"
        },
        {
         "name": "vol_10d",
         "rawType": "float64",
         "type": "float"
        },
        {
         "name": "vol_regime",
         "rawType": "float64",
         "type": "float"
        },
        {
         "name": "open",
         "rawType": "int64",
         "type": "integer"
        },
        {
         "name": "high",
         "rawType": "float64",
         "type": "float"
        },
        {
         "name": "low",
         "rawType": "float64",
         "type": "float"
        },
        {
         "name": "rsi_9",
         "rawType": "float64",
         "type": "float"
        },
        {
         "name": "rsi_14",
         "rawType": "float64",
         "type": "float"
        },
        {
         "name": "rsi_divergence",
         "rawType": "float64",
         "type": "float"
        },
        {
         "name": "adx",
         "rawType": "float64",
         "type": "float"
        },
        {
         "name": "bb_upper",
         "rawType": "float64",
         "type": "float"
        },
        {
         "name": "bb_lower",
         "rawType": "float64",
         "type": "float"
        },
        {
         "name": "bb_position",
         "rawType": "float64",
         "type": "float"
        },
        {
         "name": "z_score",
         "rawType": "float64",
         "type": "float"
        },
        {
         "name": "macd",
         "rawType": "float64",
         "type": "float"
        },
        {
         "name": "macd_signal",
         "rawType": "float64",
         "type": "float"
        },
        {
         "name": "macd_hist",
         "rawType": "float64",
         "type": "float"
        },
        {
         "name": "stoch_k",
         "rawType": "float64",
         "type": "float"
        },
        {
         "name": "stoch_d",
         "rawType": "float64",
         "type": "float"
        },
        {
         "name": "volatilidade",
         "rawType": "float64",
         "type": "float"
        },
        {
         "name": "volatilidade_relativa",
         "rawType": "float64",
         "type": "float"
        },
        {
         "name": "ema_5",
         "rawType": "float64",
         "type": "float"
        },
        {
         "name": "ema_10",
         "rawType": "float64",
         "type": "float"
        },
        {
         "name": "ema_cross",
         "rawType": "int64",
         "type": "integer"
        },
        {
         "name": "target_lag1",
         "rawType": "float64",
         "type": "float"
        },
        {
         "name": "target_lag2",
         "rawType": "float64",
         "type": "float"
        },
        {
         "name": "target_lag3",
         "rawType": "float64",
         "type": "float"
        },
        {
         "name": "target_lag4",
         "rawType": "float64",
         "type": "float"
        },
        {
         "name": "target_lag5",
         "rawType": "float64",
         "type": "float"
        },
        {
         "name": "target_lag6",
         "rawType": "float64",
         "type": "float"
        },
        {
         "name": "target_lag7",
         "rawType": "float64",
         "type": "float"
        },
        {
         "name": "close_lag1",
         "rawType": "float64",
         "type": "float"
        },
        {
         "name": "close_lag3",
         "rawType": "float64",
         "type": "float"
        },
        {
         "name": "close_lag5",
         "rawType": "float64",
         "type": "float"
        },
        {
         "name": "close_lag7",
         "rawType": "float64",
         "type": "float"
        }
       ],
       "ref": "4354a469-96fc-431b-9b03-ae7f697655a6",
       "rows": [
        [
         "4282",
         "1.0",
         "692.0",
         "0.0050719751385264",
         "0.0050719751385264",
         "0.0105306597690477",
         "0.0075384637992095",
         "0.0009196946029985",
         "-0.0054586846305213",
         "1",
         "0.0047449296755154",
         "0.0053190321499193",
         "0.8920663650411316",
         "137127",
         "137531.0",
         "135628.0",
         "51.63676031011197",
         "53.37063660678452",
         "1.7338762966725485",
         "14.47815196502929",
         "140431.54050288344",
         "135199.15949711658",
         "0.4970663451336805",
         "-0.0117346194652781",
         "397.08231895722565",
         "835.4358299793846",
         "-438.35351102215895",
         "88.18874560375147",
         "57.16452557605459",
         "1903.0",
         "1.0140310260418204",
         "137027.059648898",
         "137043.95039770304",
         "0",
         "1.0",
         "1.0",
         "0.0",
         "0.0",
         "0.0",
         "0.0",
         "1.0",
         "137128.0",
         "135699.0",
         "136236.0",
         "137546.0"
        ],
        [
         "4283",
         "0.0",
         "672.0",
         "0.0049005308908465",
         "0.0049005308908465",
         "0.0099973614002168",
         "0.0154827964833934",
         "0.0114800786869844",
         "-0.0050968305093703",
         "1",
         "0.0002707812939507",
         "0.0056312291719439",
         "0.0480856462563806",
         "137800",
         "137931.0",
         "136175.0",
         "57.00203995254233",
         "56.42943933126229",
         "-0.5726006212800456",
         "13.823435535671075",
         "140255.4328482553",
         "135221.8671517447",
         "0.3955710461146085",
         "-0.4177158155415665",
         "435.9521967660985",
         "755.5391033367275",
         "-319.586906570629",
         "96.56348373557188",
         "78.09398096404128",
         "1756.0",
         "1.0128951716541217",
         "137089.039765932",
         "137074.68668902977",
         "1",
         "1.0",
         "1.0",
         "1.0",
         "0.0",
         "0.0",
         "0.0",
         "0.0",
         "137800.0",
         "136436.0",
         "136102.0",
         "137002.0"
        ],
        [
         "4284",
         "1.0",
         "-587.0",
         "-0.0042597968069666",
         "-0.0042597968069666",
         "0.0006198588180386",
         "0.0056949778650796",
         "0.0081629954005084",
         "-0.0048796556250052",
         "0",
         "0.0053388975813376",
         "0.004566398235069",
         "1.1691703847325534",
         "137212",
         "137800.0",
         "136586.0",
         "51.39865938354971",
         "53.14965032902141",
         "1.750990945471699",
         "12.914362178163294",
         "140070.94230118688",
         "135208.95769881314",
         "0.8323848453183079",
         "1.3295393812732288",
         "414.61147770739626",
         "687.3535782108613",
         "-272.74210050346505",
         "81.16474291710388",
         "88.63899075214245",
         "1214.0",
         "1.0088881730191968",
         "137811.35984395465",
         "137471.28910920618",
         "1",
         "0.0",
         "1.0",
         "1.0",
         "1.0",
         "0.0",
         "0.0",
         "0.0",
         "137213.0",
         "137128.0",
         "135699.0",
         "136236.0"
        ],
        [
         "4285",
         "0.0",
         "2043.0",
         "0.0148892597640164",
         "0.0148892597640164",
         "0.0105660377358489",
         "0.0155183478210139",
         "0.0262124260311424",
         "0.0043232220281674",
         "1",
         "0.009577514252941",
         "0.0064443941851405",
         "1.4861775952540028",
         "139256",
         "139988.0",
         "137212.0",
         "64.90612418121653",
         "61.5302402906534",
         "-3.375883890563124",
         "12.070222631906066",
         "139991.44268474507",
         "135250.45731525496",
         "0.7571300911082745",
         "1.0285203644330971",
         "556.1409829723707",
         "661.1110591631632",
         "-104.9700761907925",
         "83.21100917431193",
         "86.97974527566261",
         "2776.0",
         "1.0202314666355712",
         "138154.23989596975",
         "137720.14563480506",
         "1",
         "1.0",
         "0.0",
         "1.0",
         "1.0",
         "1.0",
         "0.0",
         "0.0",
         "139256.0",
         "137800.0",
         "136436.0",
         "136102.0"
        ],
        [
         "4286",
         "0.0",
         "-416.0",
         "-0.0029873039581777",
         "-0.0029873039581777",
         "0.0118574770612114",
         "0.0075471698113207",
         "0.0176199829956902",
         "-0.0148447810193891",
         "0",
         "0.0107072960804195",
         "0.0064593253698225",
         "1.6576492849304656",
         "138844",
         "139497.0",
         "138293.0",
         "61.02118924953901",
         "59.207770308180535",
         "-1.8134189413584776",
         "12.555396802682742",
         "139704.73405936142",
         "135410.1659406386",
         "0.770003867197904",
         "1.0800154687916093",
         "627.5029488298751",
         "654.3894370965056",
         "-26.88648826663052",
         "73.6697247706422",
         "79.34849228735273",
         "1204.0",
         "1.008706152878309",
         "138341.8265973132",
         "137901.39188302233",
         "1",
         "0.0",
         "1.0",
         "0.0",
         "1.0",
         "1.0",
         "1.0",
         "0.0",
         "138840.0",
         "137213.0",
         "137128.0",
         "135699.0"
        ]
       ],
       "shape": {
        "columns": 44,
        "rows": 5
       }
      },
      "text/html": [
       "<div>\n",
       "<style scoped>\n",
       "    .dataframe tbody tr th:only-of-type {\n",
       "        vertical-align: middle;\n",
       "    }\n",
       "\n",
       "    .dataframe tbody tr th {\n",
       "        vertical-align: top;\n",
       "    }\n",
       "\n",
       "    .dataframe thead th {\n",
       "        text-align: right;\n",
       "    }\n",
       "</style>\n",
       "<table border=\"1\" class=\"dataframe\">\n",
       "  <thead>\n",
       "    <tr style=\"text-align: right;\">\n",
       "      <th></th>\n",
       "      <th>target</th>\n",
       "      <th>delta</th>\n",
       "      <th>return</th>\n",
       "      <th>return_1d</th>\n",
       "      <th>return_2d</th>\n",
       "      <th>return_3d</th>\n",
       "      <th>return_5d</th>\n",
       "      <th>momentum_aceel</th>\n",
       "      <th>momentum_consistency</th>\n",
       "      <th>vol_3d</th>\n",
       "      <th>...</th>\n",
       "      <th>target_lag2</th>\n",
       "      <th>target_lag3</th>\n",
       "      <th>target_lag4</th>\n",
       "      <th>target_lag5</th>\n",
       "      <th>target_lag6</th>\n",
       "      <th>target_lag7</th>\n",
       "      <th>close_lag1</th>\n",
       "      <th>close_lag3</th>\n",
       "      <th>close_lag5</th>\n",
       "      <th>close_lag7</th>\n",
       "    </tr>\n",
       "  </thead>\n",
       "  <tbody>\n",
       "    <tr>\n",
       "      <th>4282</th>\n",
       "      <td>1.0</td>\n",
       "      <td>692.0</td>\n",
       "      <td>0.005072</td>\n",
       "      <td>0.005072</td>\n",
       "      <td>0.010531</td>\n",
       "      <td>0.007538</td>\n",
       "      <td>0.000920</td>\n",
       "      <td>-0.005459</td>\n",
       "      <td>1</td>\n",
       "      <td>0.004745</td>\n",
       "      <td>...</td>\n",
       "      <td>1.0</td>\n",
       "      <td>0.0</td>\n",
       "      <td>0.0</td>\n",
       "      <td>0.0</td>\n",
       "      <td>0.0</td>\n",
       "      <td>1.0</td>\n",
       "      <td>137128.0</td>\n",
       "      <td>135699.0</td>\n",
       "      <td>136236.0</td>\n",
       "      <td>137546.0</td>\n",
       "    </tr>\n",
       "    <tr>\n",
       "      <th>4283</th>\n",
       "      <td>0.0</td>\n",
       "      <td>672.0</td>\n",
       "      <td>0.004901</td>\n",
       "      <td>0.004901</td>\n",
       "      <td>0.009997</td>\n",
       "      <td>0.015483</td>\n",
       "      <td>0.011480</td>\n",
       "      <td>-0.005097</td>\n",
       "      <td>1</td>\n",
       "      <td>0.000271</td>\n",
       "      <td>...</td>\n",
       "      <td>1.0</td>\n",
       "      <td>1.0</td>\n",
       "      <td>0.0</td>\n",
       "      <td>0.0</td>\n",
       "      <td>0.0</td>\n",
       "      <td>0.0</td>\n",
       "      <td>137800.0</td>\n",
       "      <td>136436.0</td>\n",
       "      <td>136102.0</td>\n",
       "      <td>137002.0</td>\n",
       "    </tr>\n",
       "    <tr>\n",
       "      <th>4284</th>\n",
       "      <td>1.0</td>\n",
       "      <td>-587.0</td>\n",
       "      <td>-0.004260</td>\n",
       "      <td>-0.004260</td>\n",
       "      <td>0.000620</td>\n",
       "      <td>0.005695</td>\n",
       "      <td>0.008163</td>\n",
       "      <td>-0.004880</td>\n",
       "      <td>0</td>\n",
       "      <td>0.005339</td>\n",
       "      <td>...</td>\n",
       "      <td>1.0</td>\n",
       "      <td>1.0</td>\n",
       "      <td>1.0</td>\n",
       "      <td>0.0</td>\n",
       "      <td>0.0</td>\n",
       "      <td>0.0</td>\n",
       "      <td>137213.0</td>\n",
       "      <td>137128.0</td>\n",
       "      <td>135699.0</td>\n",
       "      <td>136236.0</td>\n",
       "    </tr>\n",
       "    <tr>\n",
       "      <th>4285</th>\n",
       "      <td>0.0</td>\n",
       "      <td>2043.0</td>\n",
       "      <td>0.014889</td>\n",
       "      <td>0.014889</td>\n",
       "      <td>0.010566</td>\n",
       "      <td>0.015518</td>\n",
       "      <td>0.026212</td>\n",
       "      <td>0.004323</td>\n",
       "      <td>1</td>\n",
       "      <td>0.009578</td>\n",
       "      <td>...</td>\n",
       "      <td>0.0</td>\n",
       "      <td>1.0</td>\n",
       "      <td>1.0</td>\n",
       "      <td>1.0</td>\n",
       "      <td>0.0</td>\n",
       "      <td>0.0</td>\n",
       "      <td>139256.0</td>\n",
       "      <td>137800.0</td>\n",
       "      <td>136436.0</td>\n",
       "      <td>136102.0</td>\n",
       "    </tr>\n",
       "    <tr>\n",
       "      <th>4286</th>\n",
       "      <td>0.0</td>\n",
       "      <td>-416.0</td>\n",
       "      <td>-0.002987</td>\n",
       "      <td>-0.002987</td>\n",
       "      <td>0.011857</td>\n",
       "      <td>0.007547</td>\n",
       "      <td>0.017620</td>\n",
       "      <td>-0.014845</td>\n",
       "      <td>0</td>\n",
       "      <td>0.010707</td>\n",
       "      <td>...</td>\n",
       "      <td>1.0</td>\n",
       "      <td>0.0</td>\n",
       "      <td>1.0</td>\n",
       "      <td>1.0</td>\n",
       "      <td>1.0</td>\n",
       "      <td>0.0</td>\n",
       "      <td>138840.0</td>\n",
       "      <td>137213.0</td>\n",
       "      <td>137128.0</td>\n",
       "      <td>135699.0</td>\n",
       "    </tr>\n",
       "  </tbody>\n",
       "</table>\n",
       "<p>5 rows × 44 columns</p>\n",
       "</div>"
      ],
      "text/plain": [
       "      target   delta    return  return_1d  return_2d  return_3d  return_5d  \\\n",
       "4282     1.0   692.0  0.005072   0.005072   0.010531   0.007538   0.000920   \n",
       "4283     0.0   672.0  0.004901   0.004901   0.009997   0.015483   0.011480   \n",
       "4284     1.0  -587.0 -0.004260  -0.004260   0.000620   0.005695   0.008163   \n",
       "4285     0.0  2043.0  0.014889   0.014889   0.010566   0.015518   0.026212   \n",
       "4286     0.0  -416.0 -0.002987  -0.002987   0.011857   0.007547   0.017620   \n",
       "\n",
       "      momentum_aceel  momentum_consistency    vol_3d  ...  target_lag2  \\\n",
       "4282       -0.005459                     1  0.004745  ...          1.0   \n",
       "4283       -0.005097                     1  0.000271  ...          1.0   \n",
       "4284       -0.004880                     0  0.005339  ...          1.0   \n",
       "4285        0.004323                     1  0.009578  ...          0.0   \n",
       "4286       -0.014845                     0  0.010707  ...          1.0   \n",
       "\n",
       "      target_lag3  target_lag4  target_lag5  target_lag6  target_lag7  \\\n",
       "4282          0.0          0.0          0.0          0.0          1.0   \n",
       "4283          1.0          0.0          0.0          0.0          0.0   \n",
       "4284          1.0          1.0          0.0          0.0          0.0   \n",
       "4285          1.0          1.0          1.0          0.0          0.0   \n",
       "4286          0.0          1.0          1.0          1.0          0.0   \n",
       "\n",
       "      close_lag1  close_lag3  close_lag5  close_lag7  \n",
       "4282    137128.0    135699.0    136236.0    137546.0  \n",
       "4283    137800.0    136436.0    136102.0    137002.0  \n",
       "4284    137213.0    137128.0    135699.0    136236.0  \n",
       "4285    139256.0    137800.0    136436.0    136102.0  \n",
       "4286    138840.0    137213.0    137128.0    135699.0  \n",
       "\n",
       "[5 rows x 44 columns]"
      ]
     },
     "execution_count": 110,
     "metadata": {},
     "output_type": "execute_result"
    }
   ],
   "source": [
    "input_path = '../data/processed/arquivo-modelo.csv'\n",
    "\n",
    "df = pd.read_csv(input_path)\n",
    "df.tail()"
   ]
  },
  {
   "cell_type": "code",
   "execution_count": 111,
   "id": "109b5b19",
   "metadata": {},
   "outputs": [
    {
     "data": {
      "application/vnd.microsoft.datawrangler.viewer.v0+json": {
       "columns": [
        {
         "name": "target",
         "rawType": "float64",
         "type": "float"
        },
        {
         "name": "proportion",
         "rawType": "float64",
         "type": "float"
        }
       ],
       "ref": "e4db2340-f404-420c-8703-63d4835daf5d",
       "rows": [
        [
         "1.0",
         "0.5138791695824586"
        ],
        [
         "0.0",
         "0.4861208304175414"
        ]
       ],
       "shape": {
        "columns": 1,
        "rows": 2
       }
      },
      "text/plain": [
       "target\n",
       "1.0    0.513879\n",
       "0.0    0.486121\n",
       "Name: proportion, dtype: float64"
      ]
     },
     "execution_count": 111,
     "metadata": {},
     "output_type": "execute_result"
    }
   ],
   "source": [
    "# Porcentagem da distribuição da tendência\n",
    "df['target'].value_counts(normalize=True)"
   ]
  },
  {
   "cell_type": "markdown",
   "id": "1e53e6ba",
   "metadata": {},
   "source": [
    "## Construção do modelo de classificação"
   ]
  },
  {
   "cell_type": "code",
   "execution_count": 112,
   "id": "a5a790d8",
   "metadata": {},
   "outputs": [],
   "source": [
    "# Selecionando features para o modelo\n",
    "# f_classif -> fazer teste univariados\n",
    "# f_regression -> mesma lógica do f_classif mais para regressão\n",
    "# mutual_info_classif -> Utilizado quando não existe uma dependência linear entre as variáveis podemos utilizar esses metodo de seleção\n",
    "from sklearn.feature_selection import SelectKBest\n",
    "from sklearn.feature_selection import f_classif, mutual_info_classif "
   ]
  },
  {
   "cell_type": "code",
   "execution_count": 113,
   "id": "dcdd3fe0",
   "metadata": {},
   "outputs": [],
   "source": [
    "X = df.iloc[:,1:]\n",
    "y = df['target']"
   ]
  },
  {
   "cell_type": "code",
   "execution_count": 114,
   "id": "f9ee2a27",
   "metadata": {},
   "outputs": [
    {
     "data": {
      "text/plain": [
       "43"
      ]
     },
     "execution_count": 114,
     "metadata": {},
     "output_type": "execute_result"
    }
   ],
   "source": [
    "len(X.columns)"
   ]
  },
  {
   "cell_type": "code",
   "execution_count": 115,
   "id": "afd613a3",
   "metadata": {},
   "outputs": [],
   "source": [
    "mt_if_classif = SelectKBest(score_func=mutual_info_classif, k=22)\n",
    "\n",
    "fit = mt_if_classif.fit(X ,y)"
   ]
  },
  {
   "cell_type": "code",
   "execution_count": 116,
   "id": "2ce2be0c",
   "metadata": {},
   "outputs": [
    {
     "name": "stdout",
     "output_type": "stream",
     "text": [
      "[[ 9.16100466e-04  9.16100466e-04  5.70700950e-03 ...  6.55550000e+04\n",
      "   6.51830000e+04  6.37470000e+04]\n",
      " [-3.15155213e-02 -3.15155213e-02 -3.06282922e-02 ...  6.34890000e+04\n",
      "   6.54950000e+04  6.37920000e+04]\n",
      " [ 1.57665107e-02  1.57665107e-02 -1.62459004e-02 ...  6.44900000e+04\n",
      "   6.55550000e+04  6.46090000e+04]\n",
      " ...\n",
      " [-4.25979681e-03 -4.25979681e-03  6.19858818e-04 ...  1.37213000e+05\n",
      "   1.37128000e+05  1.36236000e+05]\n",
      " [ 1.48892598e-02  1.48892598e-02  1.05660377e-02 ...  1.39256000e+05\n",
      "   1.37800000e+05  1.36102000e+05]\n",
      " [-2.98730396e-03 -2.98730396e-03  1.18574771e-02 ...  1.38840000e+05\n",
      "   1.37213000e+05  1.35699000e+05]]\n"
     ]
    }
   ],
   "source": [
    "features = fit.transform(X)\n",
    "print(features)"
   ]
  },
  {
   "cell_type": "code",
   "execution_count": 117,
   "id": "307d454a",
   "metadata": {},
   "outputs": [
    {
     "data": {
      "text/plain": [
       "Index(['delta', 'return', 'return_1d', 'return_2d', 'return_3d', 'return_5d',\n",
       "       'momentum_consistency', 'vol_regime', 'adx', 'bb_upper', 'bb_lower',\n",
       "       'bb_position', 'z_score', 'macd', 'macd_signal', 'ema_10',\n",
       "       'target_lag1', 'target_lag2', 'target_lag3', 'target_lag7',\n",
       "       'close_lag1', 'close_lag5'],\n",
       "      dtype='object')"
      ]
     },
     "execution_count": 117,
     "metadata": {},
     "output_type": "execute_result"
    }
   ],
   "source": [
    "cols = fit.get_support(indices=True)\n",
    "df.iloc[:,cols].columns\n"
   ]
  },
  {
   "cell_type": "code",
   "execution_count": 118,
   "id": "839622a1",
   "metadata": {},
   "outputs": [
    {
     "name": "stdout",
     "output_type": "stream",
     "text": [
      "(4257, 22) (4257,) (30, 22) (30,)\n"
     ]
    }
   ],
   "source": [
    "best_features1 = ['close_lag3', 'close_lag5', 'close_lag7', 'delta', 'ema_10', 'ema_cross', 'macd', 'macd_hist',\n",
    "                'macd_signal', 'momentum_aceel', 'return_2d', 'return_3d', 'return_5d', 'rsi_14', 'rsi_9', 'stoch_d',\n",
    "                'vol_10d', 'vol_3d', 'volatilidade','volatilidade_relativa'\n",
    "]\n",
    "\n",
    "best_features2 = ['delta', 'return', 'return_1d', 'return_2d', 'return_3d',\n",
    "                'return_5d', 'momentum_aceel', 'momentum_consistency', 'vol_regime',\n",
    "                'rsi_divergence', 'macd', 'macd_hist', 'stoch_k', 'ema_10',\n",
    "                'target_lag1', 'target_lag3', 'target_lag4', 'target_lag7',\n",
    "                'close_lag1']\n",
    "\n",
    "features_de_otimizacao = ['delta', 'return', 'return_1d', 'return_2d', 'return_3d', 'return_5d',\n",
    "       'momentum_consistency', 'vol_regime', 'rsi_divergence', 'macd',\n",
    "       'macd_signal', 'ema_10', 'target_lag1', 'target_lag2', 'target_lag3',\n",
    "       'target_lag4', 'target_lag5', 'target_lag6', 'target_lag7',\n",
    "       'close_lag1']\n",
    "\n",
    "features_de_otimizacao1 = ['delta', 'return', 'return_1d', 'return_2d', 'return_3d', 'return_5d',\n",
    "       'momentum_consistency', 'vol_regime', 'adx', 'bb_upper', 'bb_lower',\n",
    "       'bb_position', 'z_score', 'macd', 'macd_signal', 'ema_10',\n",
    "       'target_lag1', 'target_lag2', 'target_lag3', 'target_lag7',\n",
    "       'close_lag1', 'close_lag5']\n",
    "# Variáveis resposta\n",
    "target = 'target'\n",
    "\n",
    "# Separação das features\n",
    "X, y = df[features_de_otimizacao1], df[target]\n",
    "\n",
    "# Separação de treino e teste\n",
    "X_train, X_test = X.iloc[:-30], X.iloc[-30:]\n",
    "y_train, y_test = y.iloc[:-30], y.iloc[-30:]\n",
    "\n",
    "print(X_train.shape, y_train.shape, X_test.shape, y_test.shape)"
   ]
  },
  {
   "cell_type": "code",
   "execution_count": 119,
   "id": "fa47a482",
   "metadata": {},
   "outputs": [],
   "source": [
    "# Objeto para válidação cruzada de series temporais\n",
    "tscv = TimeSeriesSplit(n_splits=5)"
   ]
  },
  {
   "cell_type": "code",
   "execution_count": 120,
   "id": "a425c6a1",
   "metadata": {},
   "outputs": [],
   "source": [
    "# definindo modelos de classificação\n",
    "seed = 42\n",
    "models = {\n",
    "    'Logistic Regression': Pipeline([\n",
    "        ('scaler', StandardScaler()),\n",
    "        ('model', LogisticRegression(random_state=seed, n_jobs=-1))\n",
    "    ]),\n",
    "    'SVM': Pipeline([\n",
    "        ('scaler', StandardScaler()),\n",
    "        ('model', SVC(random_state=seed))\n",
    "    ]),\n",
    "    'Cat Boost': CatBoostClassifier(verbose=0),\n",
    "    'Decision Tree': DecisionTreeClassifier(max_depth=20, random_state=seed),\n",
    "    'Random Forest': RandomForestClassifier(n_estimators=200, max_depth=20, random_state=seed, n_jobs=-1),\n",
    "    'XGBoost': xgb.XGBClassifier(eval_metric='logloss', random_state=seed, n_jobs=-1)\n",
    "}"
   ]
  },
  {
   "cell_type": "code",
   "execution_count": 121,
   "id": "0002c9df",
   "metadata": {},
   "outputs": [
    {
     "name": "stdout",
     "output_type": "stream",
     "text": [
      "Treinando Logistic Regression...\n",
      "Treinando SVM...\n",
      "Treinando Cat Boost...\n",
      "Treinando Decision Tree...\n",
      "Treinando Random Forest...\n",
      "Treinando XGBoost...\n",
      "Todos os modelos foram treinados!\n"
     ]
    }
   ],
   "source": [
    "# treinando os modelos\n",
    "for name, model in models.items():\n",
    "    print(f\"Treinando {name}...\")\n",
    "    model.fit(X_train, y_train)\n",
    "\n",
    "print(\"Todos os modelos foram treinados!\")"
   ]
  },
  {
   "cell_type": "markdown",
   "id": "80ec6417",
   "metadata": {},
   "source": [
    "## Avaliação do modelo"
   ]
  },
  {
   "cell_type": "code",
   "execution_count": 122,
   "id": "35c061b1",
   "metadata": {},
   "outputs": [
    {
     "data": {
      "application/vnd.microsoft.datawrangler.viewer.v0+json": {
       "columns": [
        {
         "name": "Model",
         "rawType": "object",
         "type": "string"
        },
        {
         "name": "Accuracy",
         "rawType": "object",
         "type": "string"
        },
        {
         "name": "Precision",
         "rawType": "object",
         "type": "string"
        },
        {
         "name": "Recall",
         "rawType": "object",
         "type": "string"
        },
        {
         "name": "F1-Score",
         "rawType": "object",
         "type": "string"
        }
       ],
       "ref": "c13f3a98-a6ca-4ba2-90db-2c5f82f96ed4",
       "rows": [
        [
         "XGBoost",
         "83.33 %",
         "83.48 %",
         "83.33 %",
         "83.31 %"
        ],
        [
         "Cat Boost",
         "80.00 %",
         "80.54 %",
         "80.00 %",
         "79.91 %"
        ],
        [
         "Logistic Regression",
         "76.67 %",
         "76.79 %",
         "76.67 %",
         "76.64 %"
        ],
        [
         "Decision Tree",
         "76.67 %",
         "77.78 %",
         "76.67 %",
         "76.43 %"
        ],
        [
         "Random Forest",
         "70.00 %",
         "70.09 %",
         "70.00 %",
         "69.97 %"
        ],
        [
         "SVM",
         "66.67 %",
         "66.67 %",
         "66.67 %",
         "66.67 %"
        ]
       ],
       "shape": {
        "columns": 4,
        "rows": 6
       }
      },
      "text/html": [
       "<div>\n",
       "<style scoped>\n",
       "    .dataframe tbody tr th:only-of-type {\n",
       "        vertical-align: middle;\n",
       "    }\n",
       "\n",
       "    .dataframe tbody tr th {\n",
       "        vertical-align: top;\n",
       "    }\n",
       "\n",
       "    .dataframe thead th {\n",
       "        text-align: right;\n",
       "    }\n",
       "</style>\n",
       "<table border=\"1\" class=\"dataframe\">\n",
       "  <thead>\n",
       "    <tr style=\"text-align: right;\">\n",
       "      <th></th>\n",
       "      <th>Accuracy</th>\n",
       "      <th>Precision</th>\n",
       "      <th>Recall</th>\n",
       "      <th>F1-Score</th>\n",
       "    </tr>\n",
       "    <tr>\n",
       "      <th>Model</th>\n",
       "      <th></th>\n",
       "      <th></th>\n",
       "      <th></th>\n",
       "      <th></th>\n",
       "    </tr>\n",
       "  </thead>\n",
       "  <tbody>\n",
       "    <tr>\n",
       "      <th>XGBoost</th>\n",
       "      <td>83.33 %</td>\n",
       "      <td>83.48 %</td>\n",
       "      <td>83.33 %</td>\n",
       "      <td>83.31 %</td>\n",
       "    </tr>\n",
       "    <tr>\n",
       "      <th>Cat Boost</th>\n",
       "      <td>80.00 %</td>\n",
       "      <td>80.54 %</td>\n",
       "      <td>80.00 %</td>\n",
       "      <td>79.91 %</td>\n",
       "    </tr>\n",
       "    <tr>\n",
       "      <th>Logistic Regression</th>\n",
       "      <td>76.67 %</td>\n",
       "      <td>76.79 %</td>\n",
       "      <td>76.67 %</td>\n",
       "      <td>76.64 %</td>\n",
       "    </tr>\n",
       "    <tr>\n",
       "      <th>Decision Tree</th>\n",
       "      <td>76.67 %</td>\n",
       "      <td>77.78 %</td>\n",
       "      <td>76.67 %</td>\n",
       "      <td>76.43 %</td>\n",
       "    </tr>\n",
       "    <tr>\n",
       "      <th>Random Forest</th>\n",
       "      <td>70.00 %</td>\n",
       "      <td>70.09 %</td>\n",
       "      <td>70.00 %</td>\n",
       "      <td>69.97 %</td>\n",
       "    </tr>\n",
       "    <tr>\n",
       "      <th>SVM</th>\n",
       "      <td>66.67 %</td>\n",
       "      <td>66.67 %</td>\n",
       "      <td>66.67 %</td>\n",
       "      <td>66.67 %</td>\n",
       "    </tr>\n",
       "  </tbody>\n",
       "</table>\n",
       "</div>"
      ],
      "text/plain": [
       "                    Accuracy Precision   Recall F1-Score\n",
       "Model                                                   \n",
       "XGBoost              83.33 %   83.48 %  83.33 %  83.31 %\n",
       "Cat Boost            80.00 %   80.54 %  80.00 %  79.91 %\n",
       "Logistic Regression  76.67 %   76.79 %  76.67 %  76.64 %\n",
       "Decision Tree        76.67 %   77.78 %  76.67 %  76.43 %\n",
       "Random Forest        70.00 %   70.09 %  70.00 %  69.97 %\n",
       "SVM                  66.67 %   66.67 %  66.67 %  66.67 %"
      ]
     },
     "execution_count": 122,
     "metadata": {},
     "output_type": "execute_result"
    }
   ],
   "source": [
    "# comparando o desempenho dos modelos\n",
    "performance = pd.DataFrame(\n",
    "    columns=[\"Model\", \"Accuracy\", \"Precision\", \"Recall\", \"F1-Score\"]\n",
    ")\n",
    "\n",
    "for name, model in models.items():\n",
    "    y_pred = model.predict(X_test)\n",
    "    report = classification_report(y_test, y_pred, output_dict=True, zero_division=0)\n",
    "    performance.loc[performance.shape[0]] = {\n",
    "        \"Model\": name,\n",
    "        \"Accuracy\": report[\"accuracy\"],\n",
    "        \"Precision\": report[\"weighted avg\"][\"precision\"],\n",
    "        \"Recall\": report[\"weighted avg\"][\"recall\"],\n",
    "        \"F1-Score\": report[\"weighted avg\"][\"f1-score\"],\n",
    "    }\n",
    "performance.set_index(\"Model\", inplace=True)\n",
    "performance = performance.map(lambda x: f\"{100 * x:2.2f} %\")\n",
    "performance.sort_values(\"F1-Score\", ascending=False, inplace=True)\n",
    "\n",
    "performance"
   ]
  },
  {
   "cell_type": "code",
   "execution_count": 72,
   "id": "c02aa41e",
   "metadata": {},
   "outputs": [
    {
     "data": {
      "image/png": "[encoded data removed]",
      "text/plain": [
       "<Figure size 2000x700 with 2 Axes>"
      ]
     },
     "metadata": {},
     "output_type": "display_data"
    }
   ],
   "source": [
    "# matriz de confusão para o melhor modelo\n",
    "best_model_name = performance.idxmax().iloc[0]\n",
    "best_model = models[best_model_name]\n",
    "cm = confusion_matrix(y_test, best_model.predict(X_test))\n",
    "\n",
    "sns.heatmap(cm, annot=True, fmt='d', \n",
    "            xticklabels=['Previsto Baixa', 'Previsto Alta'], \n",
    "            yticklabels=['Real Baixa', 'Real Alta'])\n",
    "plt.title(f'Matriz de Confusão - {best_model_name}')\n",
    "plt.ylabel('Classe Real')\n",
    "plt.xlabel('Classe Prevista')\n",
    "plt.show()"
   ]
  },
  {
   "cell_type": "code",
   "execution_count": 52,
   "id": "a5223e08",
   "metadata": {},
   "outputs": [
    {
     "ename": "AttributeError",
     "evalue": "'Pipeline' object has no attribute 'feature_importances_'",
     "output_type": "error",
     "traceback": [
      "\u001b[31m---------------------------------------------------------------------------\u001b[39m",
      "\u001b[31mAttributeError\u001b[39m                            Traceback (most recent call last)",
      "\u001b[36mCell\u001b[39m\u001b[36m \u001b[39m\u001b[32mIn[52]\u001b[39m\u001b[32m, line 1\u001b[39m\n\u001b[32m----> \u001b[39m\u001b[32m1\u001b[39m feature_importances = pd.Series(\u001b[43mmodels\u001b[49m\u001b[43m[\u001b[49m\u001b[33;43m'\u001b[39;49m\u001b[33;43mLogistic Regression\u001b[39;49m\u001b[33;43m'\u001b[39;49m\u001b[43m]\u001b[49m\u001b[43m.\u001b[49m\u001b[43mfeature_importances_\u001b[49m, index=X_train.columns).sort_values(ascending=\u001b[38;5;28;01mFalse\u001b[39;00m).reset_index(name=\u001b[33m'\u001b[39m\u001b[33mimportancia\u001b[39m\u001b[33m'\u001b[39m)\n\u001b[32m      3\u001b[39m \u001b[38;5;66;03m# plotando as features em ordem de importância para a previsão do modelo\u001b[39;00m\n\u001b[32m      4\u001b[39m sns.barplot(data=feature_importances, x=\u001b[33m'\u001b[39m\u001b[33mimportancia\u001b[39m\u001b[33m'\u001b[39m, y=\u001b[33m'\u001b[39m\u001b[33mindex\u001b[39m\u001b[33m'\u001b[39m)\n",
      "\u001b[31mAttributeError\u001b[39m: 'Pipeline' object has no attribute 'feature_importances_'"
     ]
    }
   ],
   "source": [
    "feature_importances = pd.Series(models['Random Forest'].feature_importances_, index=X_train.columns).sort_values(ascending=False).reset_index(name='importancia')\n",
    "\n",
    "# plotando as features em ordem de importância para a previsão do modelo\n",
    "sns.barplot(data=feature_importances, x='importancia', y='index')\n",
    "plt.title('Importância das features (no Random Forest)')\n",
    "plt.ylabel('')\n",
    "plt.xlabel('Importância relativa')\n",
    "plt.show()"
   ]
  },
  {
   "cell_type": "code",
   "execution_count": 47,
   "id": "06d0158d",
   "metadata": {},
   "outputs": [
    {
     "name": "stdout",
     "output_type": "stream",
     "text": [
      "Número de features original: 20\n",
      "Número de features após seleção com limiar de 95%: 14\n",
      "\n",
      "Features que serão mantidas para a otimização:\n",
      "['close_lag1', 'delta', 'ema_10', 'macd', 'macd_signal', 'return', 'return_1d', 'return_2d', 'return_3d', 'return_5d', 'rsi_divergence', 'target_lag6', 'target_lag7', 'vol_regime']\n"
     ]
    }
   ],
   "source": [
    "# filtrar as features que atendem ao critério 95% \n",
    "feature_importances['acum'] = feature_importances['importancia'].cumsum()\n",
    "best_features = feature_importances[feature_importances['acum'] < 0.96]['index'].sort_values().to_list()\n",
    "\n",
    "print(f\"Número de features original: {len(feature_importances)}\")\n",
    "print(f\"Número de features após seleção com limiar de 95%: {len(best_features)}\")\n",
    "print(\"\\nFeatures que serão mantidas para a otimização:\")\n",
    "print(list(best_features))"
   ]
  },
  {
   "cell_type": "markdown",
   "id": "1d0cc7b1",
   "metadata": {},
   "source": [
    "## Ajuste de hiperparâmetros com validação cruzada\n",
    "\n",
    "A validação cruzada ajuda a garantir que o modelo não está sobreajustado aos dados de treinamento e terá um bom desempenho em dados novos. "
   ]
  },
  {
   "cell_type": "code",
   "execution_count": 48,
   "id": "b4f0b521",
   "metadata": {},
   "outputs": [
    {
     "name": "stdout",
     "output_type": "stream",
     "text": [
      "Melhores parâmetros para o SVM:  {'model__C': 100, 'model__gamma': 'scale', 'model__kernel': 'rbf'}\n",
      "Melhor acurácia na validação cruzada do SVM: 51.48%\n"
     ]
    }
   ],
   "source": [
    "# hiperparâmetros que iremos testar\n",
    "# usamos 'model__parametro' por causa do pipeline\n",
    "param_grid_svm = {\n",
    "    'model__C': [0.1, 1, 10, 100],\n",
    "    'model__gamma': ['scale', 'auto', 0.1, 1],\n",
    "    'model__kernel': ['rbf']\n",
    "}\n",
    "\n",
    "# validação cruzada para dados de séries temporais\n",
    "tscv = TimeSeriesSplit(n_splits=5)\n",
    "\n",
    "# configuração do GridSearchCV\n",
    "grid_search_svm = GridSearchCV(\n",
    "    estimator=models['SVM'],\n",
    "    param_grid=param_grid_svm,\n",
    "    scoring='accuracy',\n",
    "    cv=tscv,\n",
    "    n_jobs=-1\n",
    ")\n",
    "\n",
    "grid_search_svm.fit(X_train, y_train)\n",
    "\n",
    "# análise dos resultados\n",
    "print(\"Melhores parâmetros para o SVM: \", grid_search_svm.best_params_)\n",
    "print(\"Melhor acurácia na validação cruzada do SVM: {:.2%}\".format(grid_search_svm.best_score_))"
   ]
  },
  {
   "cell_type": "code",
   "execution_count": 49,
   "id": "8e9b2c68",
   "metadata": {},
   "outputs": [
    {
     "name": "stdout",
     "output_type": "stream",
     "text": [
      "Relatório de classificação do SVM:\n",
      "\n",
      "              precision    recall  f1-score   support\n",
      "\n",
      "         0.0       0.53      0.60      0.56        15\n",
      "         1.0       0.54      0.47      0.50        15\n",
      "\n",
      "    accuracy                           0.53        30\n",
      "   macro avg       0.53      0.53      0.53        30\n",
      "weighted avg       0.53      0.53      0.53        30\n",
      "\n"
     ]
    }
   ],
   "source": [
    "# melhor SVM no conjunto de teste\n",
    "best_svm = grid_search_svm.best_estimator_\n",
    "pred_test_svm = best_svm.predict(X_test)\n",
    "\n",
    "print(\"Relatório de classificação do SVM:\\n\")\n",
    "print(classification_report(y_test, pred_test_svm))"
   ]
  },
  {
   "cell_type": "code",
   "execution_count": 54,
   "id": "6f59681d",
   "metadata": {},
   "outputs": [
    {
     "name": "stdout",
     "output_type": "stream",
     "text": [
      "Melhores parâmetros para o Random Forest:  {'class_weight': 'balanced', 'max_depth': None, 'max_features': 'sqrt', 'min_samples_leaf': 1, 'n_estimators': 100}\n",
      "Melhor acurácia na validação cruzada do Random Forest: 50.80%\n"
     ]
    }
   ],
   "source": [
    "# hiperparâmetros que iremos testar\n",
    "param_grid_rf = {\n",
    "    'n_estimators': [100, 200],          # Número de árvores\n",
    "    'max_depth': [10, 20, None],         # Profundidade máxima de cada árvore\n",
    "    'min_samples_leaf': [1, 5, 10],      # Número mínimo de amostras em uma folha\n",
    "    'class_weight': ['balanced', None],  # Tratamento de desbalanceamento\n",
    "    'max_features': ['sqrt', 'log2']     # Número de features a considerar em cada split\n",
    "}\n",
    "\n",
    "# validação cruzada para dados de séries temporais\n",
    "tscv = TimeSeriesSplit(n_splits=5)\n",
    "\n",
    "# configuração do GridSearchCV\n",
    "grid_search_rf = GridSearchCV(\n",
    "    estimator=models['Random Forest'],\n",
    "    param_grid=param_grid_rf,\n",
    "    scoring='accuracy',\n",
    "    cv=tscv,\n",
    "    n_jobs=-1\n",
    ")\n",
    "\n",
    "grid_search_rf.fit(X_train, y_train)\n",
    "\n",
    "# análise dos resultados\n",
    "print(\"Melhores parâmetros para o Random Forest: \", grid_search_rf.best_params_)\n",
    "print(\"Melhor acurácia na validação cruzada do Random Forest: {:.2%}\".format(grid_search_rf.best_score_))"
   ]
  },
  {
   "cell_type": "code",
   "execution_count": 55,
   "id": "5f7ec33e",
   "metadata": {},
   "outputs": [
    {
     "name": "stdout",
     "output_type": "stream",
     "text": [
      "Relatório de classificação do Random Forest:\n",
      "\n",
      "              precision    recall  f1-score   support\n",
      "\n",
      "         0.0       0.53      0.67      0.59        15\n",
      "         1.0       0.55      0.40      0.46        15\n",
      "\n",
      "    accuracy                           0.53        30\n",
      "   macro avg       0.54      0.53      0.52        30\n",
      "weighted avg       0.54      0.53      0.52        30\n",
      "\n"
     ]
    }
   ],
   "source": [
    "# melhor Random Forest no conjunto de teste\n",
    "best_rf = grid_search_rf.best_estimator_\n",
    "pred_test_rf = best_rf.predict(X_test)\n",
    "\n",
    "print(\"Relatório de classificação do Random Forest:\\n\")\n",
    "print(classification_report(y_test, pred_test_rf))"
   ]
  },
  {
   "cell_type": "code",
   "execution_count": 59,
   "id": "78141a9e",
   "metadata": {},
   "outputs": [
    {
     "name": "stdout",
     "output_type": "stream",
     "text": [
      "Melhores parâmetros para o Random Forest:  {'model__C': 1.0, 'model__class_weight': 'balanced', 'model__l1_ratio': 0.5, 'model__max_iter': 500, 'model__penalty': 'elasticnet', 'model__solver': 'saga'}\n",
      "Melhor acurácia na validação cruzada do Random Forest: 63.35%\n"
     ]
    },
    {
     "name": "stderr",
     "output_type": "stream",
     "text": [
      "c:\\Users\\jacom\\anaconda3\\envs\\ibov_p_11\\Lib\\site-packages\\sklearn\\linear_model\\_sag.py:348: ConvergenceWarning: The max_iter was reached which means the coef_ did not converge\n",
      "  warnings.warn(\n"
     ]
    }
   ],
   "source": [
    "# hiperparâmetros que iremos testar\n",
    "param_grid_lp = {\n",
    "    'model__penalty': ['elasticnet'],              # apenas elasticnet, pois exige compatibilidade\n",
    "    'model__solver': ['saga'],                     # único solver que suporta elasticnet\n",
    "    'model__l1_ratio': [0.5],                      # valor fixo equilibrado entre L1 e L2\n",
    "    'model__C': [1.0],                             # regularização moderada\n",
    "    'model__class_weight': ['balanced'],           # útil para dados desbalanceados\n",
    "    'model__max_iter': [500]                       # iterações suficientes para convergência\n",
    "}\n",
    "\n",
    "# validação cruzada para dados de séries temporais\n",
    "tscv = TimeSeriesSplit(n_splits=5)\n",
    "\n",
    "# configuração do GridSearchCV\n",
    "grid_search_rf = GridSearchCV(\n",
    "    estimator=models['Logistic Regression'],\n",
    "    param_grid=param_grid_lp,\n",
    "    scoring='accuracy',\n",
    "    cv=tscv,\n",
    "    n_jobs=-1\n",
    ")\n",
    "\n",
    "grid_search_rf.fit(X_train, y_train)\n",
    "\n",
    "# análise dos resultados\n",
    "print(\"Melhores parâmetros para o Random Forest: \", grid_search_rf.best_params_)\n",
    "print(\"Melhor acurácia na validação cruzada do Random Forest: {:.2%}\".format(grid_search_rf.best_score_))"
   ]
  }
 ],
 "metadata": {
  "kernelspec": {
   "display_name": "ibov_p_11",
   "language": "python",
   "name": "python3"
  },
  "language_info": {
   "codemirror_mode": {
    "name": "ipython",
    "version": 3
   },
   "file_extension": ".py",
   "mimetype": "text/x-python",
   "name": "python",
   "nbconvert_exporter": "python",
   "pygments_lexer": "ipython3",
   "version": "3.11.13"
  }
 },
 "nbformat": 4,
 "nbformat_minor": 5
}
