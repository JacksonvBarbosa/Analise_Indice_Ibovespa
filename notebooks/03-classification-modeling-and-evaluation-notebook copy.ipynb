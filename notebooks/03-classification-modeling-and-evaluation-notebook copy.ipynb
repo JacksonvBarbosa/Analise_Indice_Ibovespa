{
  "cells": [
    {
      "cell_type": "markdown",
      "id": "hcSvZD7bwX40",
      "metadata": {
        "id": "hcSvZD7bwX40"
      },
      "source": [
        "# Notebook de modelagem e avaliação "
      ]
    },
    {
      "cell_type": "markdown",
      "id": "Uc6UBNOyNB-m",
      "metadata": {
        "id": "Uc6UBNOyNB-m"
      },
      "source": [
        "## Importação das bibliotecas"
      ]
    },
    {
      "cell_type": "code",
      "execution_count": 1,
      "id": "1d2c1e0d",
      "metadata": {
        "id": "1d2c1e0d"
      },
      "outputs": [],
      "source": [
        "import pandas as pd\n",
        "import matplotlib as mpl\n",
        "import matplotlib.pyplot as plt\n",
        "import seaborn as sns\n",
        "\n",
        "from sklearn.metrics import classification_report, confusion_matrix\n",
        "from sklearn.model_selection import train_test_split, GridSearchCV, TimeSeriesSplit\n",
        "from sklearn.pipeline import Pipeline\n",
        "from sklearn.linear_model import LogisticRegression\n",
        "from sklearn.preprocessing import StandardScaler\n",
        "from sklearn.tree import DecisionTreeClassifier\n",
        "from sklearn.ensemble import RandomForestClassifier\n",
        "from sklearn.svm import SVC\n",
        "import xgboost as xgb\n"
      ]
    },
    {
      "cell_type": "code",
      "execution_count": 2,
      "id": "lqvnaT3qPJGy",
      "metadata": {
        "id": "lqvnaT3qPJGy"
      },
      "outputs": [],
      "source": [
        "# Configurar paleta de cores e estilo\n",
        "\n",
        "# Matplotlib\n",
        "mpl.rcParams[\"figure.figsize\"] = (20, 7)\n",
        "mpl.rcParams[\"axes.facecolor\"] = \"white\"\n",
        "mpl.rcParams[\"font.size\"] = 12\n",
        "mpl.rcParams[\"figure.titlesize\"] = 25\n",
        "mpl.rcParams[\"figure.dpi\"] = 100\n",
        "\n",
        "# Seaborn\n",
        "sns.set_style('whitegrid', {\"grid.color\": \".8\", \"grid.linestyle\": \"--\"})\n",
        "sns.set_palette(palette='mako')"
      ]
    },
    {
      "cell_type": "markdown",
      "id": "XeZiUraUzbQm",
      "metadata": {
        "id": "XeZiUraUzbQm"
      },
      "source": [
        "## Aquisição dos dados"
      ]
    },
    {
      "cell_type": "code",
      "execution_count": 3,
      "id": "4fb05152",
      "metadata": {
        "colab": {
          "base_uri": "https://localhost:8080/",
          "height": 206
        },
        "id": "4fb05152",
        "outputId": "4a6ed68c-7057-4403-d661-194fce438d5a"
      },
      "outputs": [
        {
          "data": {
            "application/vnd.microsoft.datawrangler.viewer.v0+json": {
              "columns": [
                {
                  "name": "ds",
                  "rawType": "datetime64[ns]",
                  "type": "datetime"
                },
                {
                  "name": "close",
                  "rawType": "int64",
                  "type": "integer"
                },
                {
                  "name": "open",
                  "rawType": "int64",
                  "type": "integer"
                },
                {
                  "name": "high",
                  "rawType": "int64",
                  "type": "integer"
                },
                {
                  "name": "low",
                  "rawType": "int64",
                  "type": "integer"
                },
                {
                  "name": "volume",
                  "rawType": "float64",
                  "type": "float"
                },
                {
                  "name": "daily_return",
                  "rawType": "float64",
                  "type": "float"
                },
                {
                  "name": "return_lag_1",
                  "rawType": "float64",
                  "type": "float"
                },
                {
                  "name": "return_lag_2",
                  "rawType": "float64",
                  "type": "float"
                },
                {
                  "name": "return_lag_3",
                  "rawType": "float64",
                  "type": "float"
                },
                {
                  "name": "return_lag_4",
                  "rawType": "float64",
                  "type": "float"
                },
                {
                  "name": "return_lag_5",
                  "rawType": "float64",
                  "type": "float"
                },
                {
                  "name": "momentum_5",
                  "rawType": "float64",
                  "type": "float"
                },
                {
                  "name": "momentum_21",
                  "rawType": "float64",
                  "type": "float"
                },
                {
                  "name": "momentum_63",
                  "rawType": "float64",
                  "type": "float"
                },
                {
                  "name": "close_lag1",
                  "rawType": "float64",
                  "type": "float"
                },
                {
                  "name": "close_lag3",
                  "rawType": "float64",
                  "type": "float"
                },
                {
                  "name": "close_lag5",
                  "rawType": "float64",
                  "type": "float"
                },
                {
                  "name": "close_lag7",
                  "rawType": "float64",
                  "type": "float"
                },
                {
                  "name": "sma_21",
                  "rawType": "float64",
                  "type": "float"
                },
                {
                  "name": "ema_50",
                  "rawType": "float64",
                  "type": "float"
                },
                {
                  "name": "rsi_14",
                  "rawType": "float64",
                  "type": "float"
                },
                {
                  "name": "atr_14",
                  "rawType": "float64",
                  "type": "float"
                },
                {
                  "name": "obv",
                  "rawType": "float64",
                  "type": "float"
                },
                {
                  "name": "day_of_week",
                  "rawType": "int64",
                  "type": "integer"
                },
                {
                  "name": "day_of_month",
                  "rawType": "int64",
                  "type": "integer"
                },
                {
                  "name": "month",
                  "rawType": "int64",
                  "type": "integer"
                },
                {
                  "name": "year",
                  "rawType": "int64",
                  "type": "integer"
                }
              ],
              "ref": "b94d42fb-83bf-47d9-bb82-87d4a42bd349",
              "rows": [
                [
                  "2025-06-12 00:00:00",
                  "137800",
                  "137127",
                  "137931",
                  "136175",
                  "7120000000.0",
                  "0.0049",
                  "0.0051",
                  "0.0054",
                  "-0.003",
                  "-0.001",
                  "-0.0056",
                  "0.0114800786869844",
                  "-0.0045006971384813",
                  "0.1125104953820319",
                  "137128.0",
                  "135699.0",
                  "136236.0",
                  "137546.0",
                  "137814.61904761905",
                  "134894.97767024033",
                  "56.42943933126227",
                  "1746.3688791949978",
                  "136513311840.0",
                  "3",
                  "12",
                  "6",
                  "2025"
                ],
                [
                  "2025-06-13 00:00:00",
                  "137213",
                  "137800",
                  "137800",
                  "136586",
                  "8630000000.0",
                  "-0.0043",
                  "0.0049",
                  "0.0051",
                  "0.0054",
                  "-0.003",
                  "-0.001",
                  "0.0081629954005084",
                  "-0.015222415203755",
                  "0.0921384623956318",
                  "137800.0",
                  "136436.0",
                  "136102.0",
                  "137002.0",
                  "137713.61904761905",
                  "134985.8805067015",
                  "53.14965032902141",
                  "1708.342530681069",
                  "127883311840.0",
                  "4",
                  "13",
                  "6",
                  "2025"
                ],
                [
                  "2025-06-16 00:00:00",
                  "139256",
                  "137212",
                  "139988",
                  "137212",
                  "7620000000.0",
                  "0.0149",
                  "-0.0043",
                  "0.0049",
                  "0.0051",
                  "0.0054",
                  "-0.003",
                  "0.0262124260311424",
                  "0.0004957359523518",
                  "0.0798638305791852",
                  "137213.0",
                  "137128.0",
                  "135699.0",
                  "136236.0",
                  "137716.90476190476",
                  "135153.33617310537",
                  "61.5302402906534",
                  "1784.6037784895643",
                  "135503311840.0",
                  "0",
                  "16",
                  "6",
                  "2025"
                ],
                [
                  "2025-06-17 00:00:00",
                  "138840",
                  "139256",
                  "139497",
                  "138293",
                  "8380000000.000001",
                  "-0.003",
                  "0.0149",
                  "-0.0043",
                  "0.0049",
                  "0.0051",
                  "0.0054",
                  "0.0176199829956902",
                  "-0.0057005356784782",
                  "0.0611920448812999",
                  "139256.0",
                  "137800.0",
                  "136436.0",
                  "136102.0",
                  "137679.0",
                  "135297.91122514044",
                  "59.20777030818052",
                  "1743.132080026024",
                  "127123311840.0",
                  "1",
                  "17",
                  "6",
                  "2025"
                ],
                [
                  "2025-06-18 00:00:00",
                  "138717",
                  "138844",
                  "139161",
                  "138443",
                  "8320000000.0",
                  "-0.0009",
                  "-0.003",
                  "0.0149",
                  "-0.0043",
                  "0.0049",
                  "0.0051",
                  "0.0115877136689808",
                  "-0.0099421882806366",
                  "0.0550827153451225",
                  "138840.0",
                  "137213.0",
                  "137128.0",
                  "135699.0",
                  "137612.66666666666",
                  "135431.99313788002",
                  "58.50462007359364",
                  "1669.9083600241652",
                  "118803311840.0",
                  "2",
                  "18",
                  "6",
                  "2025"
                ]
              ],
              "shape": {
                "columns": 27,
                "rows": 5
              }
            },
            "text/html": [
              "<div>\n",
              "<style scoped>\n",
              "    .dataframe tbody tr th:only-of-type {\n",
              "        vertical-align: middle;\n",
              "    }\n",
              "\n",
              "    .dataframe tbody tr th {\n",
              "        vertical-align: top;\n",
              "    }\n",
              "\n",
              "    .dataframe thead th {\n",
              "        text-align: right;\n",
              "    }\n",
              "</style>\n",
              "<table border=\"1\" class=\"dataframe\">\n",
              "  <thead>\n",
              "    <tr style=\"text-align: right;\">\n",
              "      <th></th>\n",
              "      <th>close</th>\n",
              "      <th>open</th>\n",
              "      <th>high</th>\n",
              "      <th>low</th>\n",
              "      <th>volume</th>\n",
              "      <th>daily_return</th>\n",
              "      <th>return_lag_1</th>\n",
              "      <th>return_lag_2</th>\n",
              "      <th>return_lag_3</th>\n",
              "      <th>return_lag_4</th>\n",
              "      <th>...</th>\n",
              "      <th>close_lag7</th>\n",
              "      <th>sma_21</th>\n",
              "      <th>ema_50</th>\n",
              "      <th>rsi_14</th>\n",
              "      <th>atr_14</th>\n",
              "      <th>obv</th>\n",
              "      <th>day_of_week</th>\n",
              "      <th>day_of_month</th>\n",
              "      <th>month</th>\n",
              "      <th>year</th>\n",
              "    </tr>\n",
              "    <tr>\n",
              "      <th>ds</th>\n",
              "      <th></th>\n",
              "      <th></th>\n",
              "      <th></th>\n",
              "      <th></th>\n",
              "      <th></th>\n",
              "      <th></th>\n",
              "      <th></th>\n",
              "      <th></th>\n",
              "      <th></th>\n",
              "      <th></th>\n",
              "      <th></th>\n",
              "      <th></th>\n",
              "      <th></th>\n",
              "      <th></th>\n",
              "      <th></th>\n",
              "      <th></th>\n",
              "      <th></th>\n",
              "      <th></th>\n",
              "      <th></th>\n",
              "      <th></th>\n",
              "      <th></th>\n",
              "    </tr>\n",
              "  </thead>\n",
              "  <tbody>\n",
              "    <tr>\n",
              "      <th>2025-06-12</th>\n",
              "      <td>137800</td>\n",
              "      <td>137127</td>\n",
              "      <td>137931</td>\n",
              "      <td>136175</td>\n",
              "      <td>7.120000e+09</td>\n",
              "      <td>0.0049</td>\n",
              "      <td>0.0051</td>\n",
              "      <td>0.0054</td>\n",
              "      <td>-0.0030</td>\n",
              "      <td>-0.0010</td>\n",
              "      <td>...</td>\n",
              "      <td>137546.0</td>\n",
              "      <td>137814.619048</td>\n",
              "      <td>134894.977670</td>\n",
              "      <td>56.429439</td>\n",
              "      <td>1746.368879</td>\n",
              "      <td>1.365133e+11</td>\n",
              "      <td>3</td>\n",
              "      <td>12</td>\n",
              "      <td>6</td>\n",
              "      <td>2025</td>\n",
              "    </tr>\n",
              "    <tr>\n",
              "      <th>2025-06-13</th>\n",
              "      <td>137213</td>\n",
              "      <td>137800</td>\n",
              "      <td>137800</td>\n",
              "      <td>136586</td>\n",
              "      <td>8.630000e+09</td>\n",
              "      <td>-0.0043</td>\n",
              "      <td>0.0049</td>\n",
              "      <td>0.0051</td>\n",
              "      <td>0.0054</td>\n",
              "      <td>-0.0030</td>\n",
              "      <td>...</td>\n",
              "      <td>137002.0</td>\n",
              "      <td>137713.619048</td>\n",
              "      <td>134985.880507</td>\n",
              "      <td>53.149650</td>\n",
              "      <td>1708.342531</td>\n",
              "      <td>1.278833e+11</td>\n",
              "      <td>4</td>\n",
              "      <td>13</td>\n",
              "      <td>6</td>\n",
              "      <td>2025</td>\n",
              "    </tr>\n",
              "    <tr>\n",
              "      <th>2025-06-16</th>\n",
              "      <td>139256</td>\n",
              "      <td>137212</td>\n",
              "      <td>139988</td>\n",
              "      <td>137212</td>\n",
              "      <td>7.620000e+09</td>\n",
              "      <td>0.0149</td>\n",
              "      <td>-0.0043</td>\n",
              "      <td>0.0049</td>\n",
              "      <td>0.0051</td>\n",
              "      <td>0.0054</td>\n",
              "      <td>...</td>\n",
              "      <td>136236.0</td>\n",
              "      <td>137716.904762</td>\n",
              "      <td>135153.336173</td>\n",
              "      <td>61.530240</td>\n",
              "      <td>1784.603778</td>\n",
              "      <td>1.355033e+11</td>\n",
              "      <td>0</td>\n",
              "      <td>16</td>\n",
              "      <td>6</td>\n",
              "      <td>2025</td>\n",
              "    </tr>\n",
              "    <tr>\n",
              "      <th>2025-06-17</th>\n",
              "      <td>138840</td>\n",
              "      <td>139256</td>\n",
              "      <td>139497</td>\n",
              "      <td>138293</td>\n",
              "      <td>8.380000e+09</td>\n",
              "      <td>-0.0030</td>\n",
              "      <td>0.0149</td>\n",
              "      <td>-0.0043</td>\n",
              "      <td>0.0049</td>\n",
              "      <td>0.0051</td>\n",
              "      <td>...</td>\n",
              "      <td>136102.0</td>\n",
              "      <td>137679.000000</td>\n",
              "      <td>135297.911225</td>\n",
              "      <td>59.207770</td>\n",
              "      <td>1743.132080</td>\n",
              "      <td>1.271233e+11</td>\n",
              "      <td>1</td>\n",
              "      <td>17</td>\n",
              "      <td>6</td>\n",
              "      <td>2025</td>\n",
              "    </tr>\n",
              "    <tr>\n",
              "      <th>2025-06-18</th>\n",
              "      <td>138717</td>\n",
              "      <td>138844</td>\n",
              "      <td>139161</td>\n",
              "      <td>138443</td>\n",
              "      <td>8.320000e+09</td>\n",
              "      <td>-0.0009</td>\n",
              "      <td>-0.0030</td>\n",
              "      <td>0.0149</td>\n",
              "      <td>-0.0043</td>\n",
              "      <td>0.0049</td>\n",
              "      <td>...</td>\n",
              "      <td>135699.0</td>\n",
              "      <td>137612.666667</td>\n",
              "      <td>135431.993138</td>\n",
              "      <td>58.504620</td>\n",
              "      <td>1669.908360</td>\n",
              "      <td>1.188033e+11</td>\n",
              "      <td>2</td>\n",
              "      <td>18</td>\n",
              "      <td>6</td>\n",
              "      <td>2025</td>\n",
              "    </tr>\n",
              "  </tbody>\n",
              "</table>\n",
              "<p>5 rows × 27 columns</p>\n",
              "</div>"
            ],
            "text/plain": [
              "             close    open    high     low        volume  daily_return  \\\n",
              "ds                                                                       \n",
              "2025-06-12  137800  137127  137931  136175  7.120000e+09        0.0049   \n",
              "2025-06-13  137213  137800  137800  136586  8.630000e+09       -0.0043   \n",
              "2025-06-16  139256  137212  139988  137212  7.620000e+09        0.0149   \n",
              "2025-06-17  138840  139256  139497  138293  8.380000e+09       -0.0030   \n",
              "2025-06-18  138717  138844  139161  138443  8.320000e+09       -0.0009   \n",
              "\n",
              "            return_lag_1  return_lag_2  return_lag_3  return_lag_4  ...  \\\n",
              "ds                                                                  ...   \n",
              "2025-06-12        0.0051        0.0054       -0.0030       -0.0010  ...   \n",
              "2025-06-13        0.0049        0.0051        0.0054       -0.0030  ...   \n",
              "2025-06-16       -0.0043        0.0049        0.0051        0.0054  ...   \n",
              "2025-06-17        0.0149       -0.0043        0.0049        0.0051  ...   \n",
              "2025-06-18       -0.0030        0.0149       -0.0043        0.0049  ...   \n",
              "\n",
              "            close_lag7         sma_21         ema_50     rsi_14       atr_14  \\\n",
              "ds                                                                             \n",
              "2025-06-12    137546.0  137814.619048  134894.977670  56.429439  1746.368879   \n",
              "2025-06-13    137002.0  137713.619048  134985.880507  53.149650  1708.342531   \n",
              "2025-06-16    136236.0  137716.904762  135153.336173  61.530240  1784.603778   \n",
              "2025-06-17    136102.0  137679.000000  135297.911225  59.207770  1743.132080   \n",
              "2025-06-18    135699.0  137612.666667  135431.993138  58.504620  1669.908360   \n",
              "\n",
              "                     obv  day_of_week  day_of_month  month  year  \n",
              "ds                                                                \n",
              "2025-06-12  1.365133e+11            3            12      6  2025  \n",
              "2025-06-13  1.278833e+11            4            13      6  2025  \n",
              "2025-06-16  1.355033e+11            0            16      6  2025  \n",
              "2025-06-17  1.271233e+11            1            17      6  2025  \n",
              "2025-06-18  1.188033e+11            2            18      6  2025  \n",
              "\n",
              "[5 rows x 27 columns]"
            ]
          },
          "execution_count": 3,
          "metadata": {},
          "output_type": "execute_result"
        }
      ],
      "source": [
        "input_path = '../data/processed/dados_historicos_ibovespa_2015-2025_processed.csv'\n",
        "\n",
        "df = pd.read_csv(input_path, index_col='ds', parse_dates=['ds'])\n",
        "df.tail()"
      ]
    },
    {
      "cell_type": "markdown",
      "id": "11e85361",
      "metadata": {},
      "source": [
        "## Pré-processamento dos dados"
      ]
    },
    {
      "cell_type": "markdown",
      "id": "c1edc7b8",
      "metadata": {},
      "source": [
        "Primeiro, vamos criar a **variável alvo** com horizonte de 1 dia para que o modelo de classificação consiga prever se o fechamento de amanhã será maior que o de hoje.\n",
        "\n",
        "* `1` para dias de **Alta**\n",
        "* `0` para dias de **Baixa**"
      ]
    },
    {
      "cell_type": "code",
      "execution_count": 4,
      "id": "ebc7e544",
      "metadata": {},
      "outputs": [],
      "source": [
        "# criando uma coluna de direção (baixa = 0 ou alta = 1)\n",
        "target_values = (df['close'].shift(-1) > df['close']).astype(int)\n",
        "df.insert(0, 'target', target_values)"
      ]
    },
    {
      "cell_type": "code",
      "execution_count": 5,
      "id": "435982ce",
      "metadata": {},
      "outputs": [
        {
          "data": {
            "image/png": "[encoded data removed]",
            "text/plain": [
              "<Figure size 2000x700 with 1 Axes>"
            ]
          },
          "metadata": {},
          "output_type": "display_data"
        }
      ],
      "source": [
        "# Paleta\n",
        "palette_green_red = {0: 'red', 1: 'green'}\n",
        "\n",
        "# Gráfico de qtd de dias com tendência alta ou baixa\n",
        "ax = sns.countplot(data=df, x='target', hue='target', palette=palette_green_red, legend=False)\n",
        "\n",
        "# Título e rótulos dos eixos\n",
        "plt.title('Distribuição da tendência do IBOVESPA')\n",
        "plt.xlabel('Tendência')\n",
        "plt.ylabel('Contagem')\n",
        "plt.xticks(ticks=[0, 1], labels=['Baixa', 'Alta'])\n",
        "\n",
        "# Adiciona os valores nas barras\n",
        "for p in ax.patches:\n",
        "    height = p.get_height()\n",
        "    ax.annotate(f'{int(height)}',\n",
        "                  (p.get_x() + p.get_width() / 2, height),\n",
        "                  ha='center', va='bottom', fontsize=12, fontweight='bold')\n",
        "\n",
        "plt.show()"
      ]
    },
    {
      "cell_type": "code",
      "execution_count": 6,
      "id": "85d3a2fe",
      "metadata": {},
      "outputs": [
        {
          "data": {
            "application/vnd.microsoft.datawrangler.viewer.v0+json": {
              "columns": [
                {
                  "name": "target",
                  "rawType": "int32",
                  "type": "integer"
                },
                {
                  "name": "proportion",
                  "rawType": "float64",
                  "type": "float"
                }
              ],
              "ref": "97561fa4-3c20-44c0-9133-ebd2b2b8bc3b",
              "rows": [
                [
                  "1",
                  "0.5229653505237711"
                ],
                [
                  "0",
                  "0.47703464947622887"
                ]
              ],
              "shape": {
                "columns": 1,
                "rows": 2
              }
            },
            "text/plain": [
              "target\n",
              "1    0.522965\n",
              "0    0.477035\n",
              "Name: proportion, dtype: float64"
            ]
          },
          "execution_count": 6,
          "metadata": {},
          "output_type": "execute_result"
        }
      ],
      "source": [
        "# Porcentagem da distribuição da tendência\n",
        "df['target'].value_counts(normalize=True)"
      ]
    },
    {
      "cell_type": "markdown",
      "id": "f0e062f1",
      "metadata": {},
      "source": [
        "Após a análise da distribuição da variável alvo, verificamos que o dataset é naturalmente balanceado. Portanto, a aplicação de técnicas de reamostragem como *oversampling* ou *undersampling* não se faz necessária."
      ]
    },
    {
      "cell_type": "code",
      "execution_count": 7,
      "id": "4a3911b4",
      "metadata": {},
      "outputs": [
        {
          "data": {
            "image/png": "[encoded data removed]",
            "text/plain": [
              "<Figure size 2000x700 with 2 Axes>"
            ]
          },
          "metadata": {},
          "output_type": "display_data"
        }
      ],
      "source": [
        "corr = df.corr(numeric_only=True)\n",
        "target_corr = corr[['target']]\n",
        "\n",
        "\n",
        "sns.heatmap(target_corr, annot=True, fmt='.2f')\n",
        "plt.title('Mapa de calor de correlações dos dados internos')\n",
        "plt.show()"
      ]
    },
    {
      "cell_type": "markdown",
      "id": "e9c0789b",
      "metadata": {},
      "source": [
        "Há uma correlação quase neutra entre a variável alvo e a maioria das variáveis."
      ]
    },
    {
      "cell_type": "markdown",
      "id": "7cbea93b",
      "metadata": {},
      "source": [
        "## Construção do modelo de classificação"
      ]
    },
    {
      "cell_type": "code",
      "execution_count": 8,
      "id": "9ef6224b",
      "metadata": {},
      "outputs": [
        {
          "data": {
            "application/vnd.microsoft.datawrangler.viewer.v0+json": {
              "columns": [
                {
                  "name": "ds",
                  "rawType": "datetime64[ns]",
                  "type": "datetime"
                },
                {
                  "name": "target",
                  "rawType": "int32",
                  "type": "integer"
                }
              ],
              "ref": "9ea21cff-a6c3-4fed-9a24-4a306c7296c8",
              "rows": [
                [
                  "2015-06-17 00:00:00",
                  "1"
                ],
                [
                  "2015-06-18 00:00:00",
                  "0"
                ],
                [
                  "2015-06-19 00:00:00",
                  "1"
                ],
                [
                  "2015-06-22 00:00:00",
                  "0"
                ],
                [
                  "2015-06-23 00:00:00",
                  "1"
                ],
                [
                  "2015-06-24 00:00:00",
                  "0"
                ],
                [
                  "2015-06-25 00:00:00",
                  "1"
                ],
                [
                  "2015-06-26 00:00:00",
                  "0"
                ],
                [
                  "2015-06-29 00:00:00",
                  "1"
                ],
                [
                  "2015-06-30 00:00:00",
                  "0"
                ],
                [
                  "2015-07-01 00:00:00",
                  "1"
                ],
                [
                  "2015-07-02 00:00:00",
                  "0"
                ],
                [
                  "2015-07-03 00:00:00",
                  "0"
                ],
                [
                  "2015-07-06 00:00:00",
                  "1"
                ],
                [
                  "2015-07-07 00:00:00",
                  "0"
                ],
                [
                  "2015-07-08 00:00:00",
                  "1"
                ],
                [
                  "2015-07-10 00:00:00",
                  "1"
                ],
                [
                  "2015-07-13 00:00:00",
                  "1"
                ],
                [
                  "2015-07-14 00:00:00",
                  "0"
                ],
                [
                  "2015-07-15 00:00:00",
                  "1"
                ],
                [
                  "2015-07-16 00:00:00",
                  "0"
                ],
                [
                  "2015-07-17 00:00:00",
                  "0"
                ],
                [
                  "2015-07-20 00:00:00",
                  "0"
                ],
                [
                  "2015-07-21 00:00:00",
                  "0"
                ],
                [
                  "2015-07-22 00:00:00",
                  "0"
                ],
                [
                  "2015-07-23 00:00:00",
                  "0"
                ],
                [
                  "2015-07-24 00:00:00",
                  "0"
                ],
                [
                  "2015-07-27 00:00:00",
                  "1"
                ],
                [
                  "2015-07-28 00:00:00",
                  "1"
                ],
                [
                  "2015-07-29 00:00:00",
                  "0"
                ],
                [
                  "2015-07-30 00:00:00",
                  "1"
                ],
                [
                  "2015-07-31 00:00:00",
                  "0"
                ],
                [
                  "2015-08-03 00:00:00",
                  "0"
                ],
                [
                  "2015-08-04 00:00:00",
                  "1"
                ],
                [
                  "2015-08-05 00:00:00",
                  "0"
                ],
                [
                  "2015-08-06 00:00:00",
                  "0"
                ],
                [
                  "2015-08-07 00:00:00",
                  "1"
                ],
                [
                  "2015-08-10 00:00:00",
                  "0"
                ],
                [
                  "2015-08-11 00:00:00",
                  "0"
                ],
                [
                  "2015-08-12 00:00:00",
                  "0"
                ],
                [
                  "2015-08-13 00:00:00",
                  "0"
                ],
                [
                  "2015-08-14 00:00:00",
                  "0"
                ],
                [
                  "2015-08-17 00:00:00",
                  "1"
                ],
                [
                  "2015-08-18 00:00:00",
                  "0"
                ],
                [
                  "2015-08-19 00:00:00",
                  "1"
                ],
                [
                  "2015-08-20 00:00:00",
                  "0"
                ],
                [
                  "2015-08-21 00:00:00",
                  "0"
                ],
                [
                  "2015-08-24 00:00:00",
                  "1"
                ],
                [
                  "2015-08-25 00:00:00",
                  "1"
                ],
                [
                  "2015-08-26 00:00:00",
                  "1"
                ]
              ],
              "shape": {
                "columns": 1,
                "rows": 2482
              }
            },
            "text/plain": [
              "ds\n",
              "2015-06-17    1\n",
              "2015-06-18    0\n",
              "2015-06-19    1\n",
              "2015-06-22    0\n",
              "2015-06-23    1\n",
              "             ..\n",
              "2025-06-12    0\n",
              "2025-06-13    1\n",
              "2025-06-16    0\n",
              "2025-06-17    0\n",
              "2025-06-18    0\n",
              "Name: target, Length: 2482, dtype: int32"
            ]
          },
          "execution_count": 8,
          "metadata": {},
          "output_type": "execute_result"
        }
      ],
      "source": [
        "df['target']"
      ]
    },
    {
      "cell_type": "code",
      "execution_count": 31,
      "id": "3ee48143",
      "metadata": {},
      "outputs": [
        {
          "data": {
            "text/plain": [
              "\"['daily_return', 'return_lag_1', 'return_lag_2', 'return_lag_5',\\n       'momentum_5', 'momentum_63', 'sma_21', 'atr_14', 'rsi_14', 'china_return_lag1',\\n       'eua_return_lag1', 'europe_return_lag1', 'day_of_week', 'day_of_month']\""
            ]
          },
          "execution_count": 31,
          "metadata": {},
          "output_type": "execute_result"
        }
      ],
      "source": [
        "# Blocos de testes\n",
        "remove_features = ['open', 'high', 'low', 'close', 'volume', 'target', 'ema_50', 'obv']\n",
        "\n",
        "remove_features_1 = ['open', 'high', 'low', 'close', 'volume', 'target', 'ema_50', 'obv', \n",
        "                     'return_lag_1', 'return_lag_2', 'return_lag_3', 'return_lag_5',\n",
        "                     'momentum_21', 'momentum_63', 'sma_21', 'rsi_14', 'atr_14', 'day_of_week',\n",
        "                      'day_of_month', 'month', 'year']\n",
        "\n",
        "remove_features_2 = ['open', 'high', 'low', 'close', 'volume', 'target', 'ema_50', 'obv',\n",
        "                     'return_lag_1', 'return_lag_2', 'return_lag_3', 'return_lag_5']\n",
        "\n",
        "'''['daily_return', 'return_lag_1', 'return_lag_2', 'return_lag_5',\n",
        "       'momentum_5', 'momentum_63', 'sma_21', 'atr_14', 'rsi_14', 'china_return_lag1',\n",
        "       'eua_return_lag1', 'europe_return_lag1', 'day_of_week', 'day_of_month']'''"
      ]
    },
    {
      "cell_type": "code",
      "execution_count": 37,
      "id": "852a34f4",
      "metadata": {},
      "outputs": [],
      "source": [
        "# definindo variáveis preditoras e variável alvo\n",
        "\n",
        "X = df.drop(columns=remove_features)\n",
        "y = df['target']\n"
      ]
    },
    {
      "cell_type": "code",
      "execution_count": 38,
      "id": "abc108be",
      "metadata": {},
      "outputs": [
        {
          "data": {
            "text/plain": [
              "Index(['daily_return', 'return_lag_1', 'return_lag_2', 'return_lag_3',\n",
              "       'return_lag_4', 'return_lag_5', 'momentum_5', 'momentum_21',\n",
              "       'momentum_63', 'close_lag1', 'close_lag3', 'close_lag5', 'close_lag7',\n",
              "       'sma_21', 'rsi_14', 'atr_14', 'day_of_week', 'day_of_month', 'month',\n",
              "       'year'],\n",
              "      dtype='object')"
            ]
          },
          "execution_count": 38,
          "metadata": {},
          "output_type": "execute_result"
        }
      ],
      "source": [
        "X.columns"
      ]
    },
    {
      "cell_type": "code",
      "execution_count": 39,
      "id": "7221ae06",
      "metadata": {},
      "outputs": [
        {
          "name": "stdout",
          "output_type": "stream",
          "text": [
            "Tamanho do treino: 2452 amostras\n",
            "Tamanho do teste: 30 amostras\n"
          ]
        }
      ],
      "source": [
        "# divisão entre treino e teste (30 dias de pregão, conforme requisito) de forma cronológica (sem aleatoriedade)\n",
        "X_train, X_test, y_train, y_test = train_test_split(X, y, test_size=30, shuffle=False)\n",
        "\n",
        "print(f\"Tamanho do treino: {len(X_train)} amostras\")\n",
        "print(f\"Tamanho do teste: {len(X_test)} amostras\")"
      ]
    },
    {
      "cell_type": "markdown",
      "id": "b6d639fd",
      "metadata": {},
      "source": [
        "Diferente dos demais modelos utilizados, a Regressão Logística (que será o modelo de baseline) e o SVM são sensíveis à escala das features. Por isso, vamos padronizar os dados para esses dois modelos. Como dados financeiros podem ter eventos extremos em épocas de crise, escolhemos o método de escalonamento do `StandardScaler()`, pois é mais robusto a outliers."
      ]
    },
    {
      "cell_type": "code",
      "execution_count": 40,
      "id": "b72d5e25",
      "metadata": {},
      "outputs": [],
      "source": [
        "# definindo modelos de classificação\n",
        "seed = 42\n",
        "models = {\n",
        "    'Logistic Regression': Pipeline([\n",
        "        ('scaler', StandardScaler()),\n",
        "        ('model', LogisticRegression(random_state=seed, n_jobs=-1))\n",
        "    ]),\n",
        "    'SVM': Pipeline([\n",
        "        ('scaler', StandardScaler()),\n",
        "        ('model', SVC(random_state=seed, C=1))\n",
        "    ]),\n",
        "    'Decision Tree': DecisionTreeClassifier(max_depth=5, min_samples_leaf=2, min_samples_split=2, random_state=seed),\n",
        "    'Random Forest': RandomForestClassifier(n_estimators=100, max_depth=20, random_state=seed, n_jobs=-1),\n",
        "    'XGBoost': xgb.XGBClassifier(eval_metric='logloss', random_state=seed, n_jobs=-1)\n",
        "}"
      ]
    },
    {
      "cell_type": "code",
      "execution_count": 41,
      "id": "4e548e71",
      "metadata": {},
      "outputs": [
        {
          "name": "stdout",
          "output_type": "stream",
          "text": [
            "Treinando Logistic Regression...\n",
            "Treinando SVM...\n",
            "Treinando Decision Tree...\n",
            "Treinando Random Forest...\n",
            "Treinando XGBoost...\n",
            "Todos os modelos foram treinados!\n"
          ]
        }
      ],
      "source": [
        "# treinando os modelos\n",
        "for name, model in models.items():\n",
        "    print(f\"Treinando {name}...\")\n",
        "    model.fit(X_train, y_train)\n",
        "\n",
        "print(\"Todos os modelos foram treinados!\")"
      ]
    },
    {
      "cell_type": "markdown",
      "id": "5cd996a0",
      "metadata": {},
      "source": [
        "## Avaliação do modelo"
      ]
    },
    {
      "cell_type": "code",
      "execution_count": null,
      "id": "ab5151e4",
      "metadata": {},
      "outputs": [
        {
          "data": {
            "application/vnd.microsoft.datawrangler.viewer.v0+json": {
              "columns": [
                {
                  "name": "Model",
                  "rawType": "object",
                  "type": "string"
                },
                {
                  "name": "Accuracy",
                  "rawType": "object",
                  "type": "string"
                },
                {
                  "name": "Precision",
                  "rawType": "object",
                  "type": "string"
                },
                {
                  "name": "Recall",
                  "rawType": "object",
                  "type": "string"
                },
                {
                  "name": "F1-Score",
                  "rawType": "object",
                  "type": "string"
                }
              ],
              "ref": "d14b69ce-3371-4c0e-8d32-55718a2417e9",
              "rows": [
                [
                  "SVM",
                  "63.33 %",
                  "63.38 %",
                  "63.33 %",
                  "62.70 %"
                ],
                [
                  "XGBoost",
                  "60.00 %",
                  "65.77 %",
                  "60.00 %",
                  "53.65 %"
                ],
                [
                  "Logistic Regression",
                  "53.33 %",
                  "55.33 %",
                  "53.33 %",
                  "52.07 %"
                ],
                [
                  "Random Forest",
                  "50.00 %",
                  "47.83 %",
                  "50.00 %",
                  "46.15 %"
                ],
                [
                  "Decision Tree",
                  "53.33 %",
                  "28.44 %",
                  "53.33 %",
                  "37.10 %"
                ]
              ],
              "shape": {
                "columns": 4,
                "rows": 5
              }
            },
            "text/html": [
              "<div>\n",
              "<style scoped>\n",
              "    .dataframe tbody tr th:only-of-type {\n",
              "        vertical-align: middle;\n",
              "    }\n",
              "\n",
              "    .dataframe tbody tr th {\n",
              "        vertical-align: top;\n",
              "    }\n",
              "\n",
              "    .dataframe thead th {\n",
              "        text-align: right;\n",
              "    }\n",
              "</style>\n",
              "<table border=\"1\" class=\"dataframe\">\n",
              "  <thead>\n",
              "    <tr style=\"text-align: right;\">\n",
              "      <th></th>\n",
              "      <th>Accuracy</th>\n",
              "      <th>Precision</th>\n",
              "      <th>Recall</th>\n",
              "      <th>F1-Score</th>\n",
              "    </tr>\n",
              "    <tr>\n",
              "      <th>Model</th>\n",
              "      <th></th>\n",
              "      <th></th>\n",
              "      <th></th>\n",
              "      <th></th>\n",
              "    </tr>\n",
              "  </thead>\n",
              "  <tbody>\n",
              "    <tr>\n",
              "      <th>SVM</th>\n",
              "      <td>63.33 %</td>\n",
              "      <td>63.38 %</td>\n",
              "      <td>63.33 %</td>\n",
              "      <td>62.70 %</td>\n",
              "    </tr>\n",
              "    <tr>\n",
              "      <th>XGBoost</th>\n",
              "      <td>60.00 %</td>\n",
              "      <td>65.77 %</td>\n",
              "      <td>60.00 %</td>\n",
              "      <td>53.65 %</td>\n",
              "    </tr>\n",
              "    <tr>\n",
              "      <th>Logistic Regression</th>\n",
              "      <td>53.33 %</td>\n",
              "      <td>55.33 %</td>\n",
              "      <td>53.33 %</td>\n",
              "      <td>52.07 %</td>\n",
              "    </tr>\n",
              "    <tr>\n",
              "      <th>Random Forest</th>\n",
              "      <td>50.00 %</td>\n",
              "      <td>47.83 %</td>\n",
              "      <td>50.00 %</td>\n",
              "      <td>46.15 %</td>\n",
              "    </tr>\n",
              "    <tr>\n",
              "      <th>Decision Tree</th>\n",
              "      <td>53.33 %</td>\n",
              "      <td>28.44 %</td>\n",
              "      <td>53.33 %</td>\n",
              "      <td>37.10 %</td>\n",
              "    </tr>\n",
              "  </tbody>\n",
              "</table>\n",
              "</div>"
            ],
            "text/plain": [
              "                    Accuracy Precision   Recall F1-Score\n",
              "Model                                                   \n",
              "SVM                  63.33 %   63.38 %  63.33 %  62.70 %\n",
              "XGBoost              60.00 %   65.77 %  60.00 %  53.65 %\n",
              "Logistic Regression  53.33 %   55.33 %  53.33 %  52.07 %\n",
              "Random Forest        50.00 %   47.83 %  50.00 %  46.15 %\n",
              "Decision Tree        53.33 %   28.44 %  53.33 %  37.10 %"
            ]
          },
          "execution_count": 42,
          "metadata": {},
          "output_type": "execute_result"
        }
      ],
      "source": [
        "# comparando o desempenho dos modelos\n",
        "performance = pd.DataFrame(\n",
        "    columns=[\"Model\", \"Accuracy\", \"Precision\", \"Recall\", \"F1-Score\"]\n",
        ")\n",
        "\n",
        "for name, model in models.items():\n",
        "    y_pred = model.predict(X_test)\n",
        "    report = classification_report(y_test, y_pred, output_dict=True, zero_division=0)\n",
        "    performance.loc[performance.shape[0]] = {\n",
        "        \"Model\": name,\n",
        "        \"Accuracy\": report[\"accuracy\"],\n",
        "        \"Precision\": report[\"weighted avg\"][\"precision\"],\n",
        "        \"Recall\": report[\"weighted avg\"][\"recall\"],\n",
        "        \"F1-Score\": report[\"weighted avg\"][\"f1-score\"],\n",
        "    }\n",
        "performance.set_index(\"Model\", inplace=True)\n",
        "performance = performance.map(lambda x: f\"{100 * x:2.2f} %\")\n",
        "performance.sort_values(\"F1-Score\", ascending=False, inplace=True)\n",
        "performance"
      ]
    },
    {
      "cell_type": "code",
      "execution_count": null,
      "id": "e3f1153b",
      "metadata": {},
      "outputs": [
        {
          "data": {
            "image/png": "[encoded data removed]",
            "text/plain": [
              "<Figure size 2000x700 with 2 Axes>"
            ]
          },
          "metadata": {},
          "output_type": "display_data"
        }
      ],
      "source": [
        "# matriz de confusão para o melhor modelo\n",
        "best_model_name = performance.idxmax().iloc[0]\n",
        "best_model = models[best_model_name]\n",
        "cm = confusion_matrix(y_test, best_model.predict(X_test))\n",
        "\n",
        "sns.heatmap(cm, annot=True, fmt='d', \n",
        "            xticklabels=['Previsto Baixa', 'Previsto Alta'], \n",
        "            yticklabels=['Real Baixa', 'Real Alta'])\n",
        "plt.title(f'Matriz de Confusão - {best_model_name}')\n",
        "plt.ylabel('Classe Real')\n",
        "plt.xlabel('Classe Prevista')\n",
        "plt.show()"
      ]
    },
    {
      "cell_type": "markdown",
      "id": "63cc8ad4",
      "metadata": {},
      "source": [
        "O modelo acerta muito bem a classe \"Baixa\", mas tem dificuldade de prever a classe \"Alta\"."
      ]
    },
    {
      "cell_type": "markdown",
      "id": "e4d90cea",
      "metadata": {},
      "source": [
        "## Seleção das features"
      ]
    },
    {
      "cell_type": "code",
      "execution_count": null,
      "id": "b5fa1b98",
      "metadata": {},
      "outputs": [
        {
          "data": {
            "image/png": "[encoded data removed]",
            "text/plain": [
              "<Figure size 2000x700 with 1 Axes>"
            ]
          },
          "metadata": {},
          "output_type": "display_data"
        }
      ],
      "source": [
        "feature_importances = pd.Series(models['Random Forest'].feature_importances_, index=X_train.columns).sort_values(ascending=False).reset_index(name='importancia')\n",
        "\n",
        "# plotando as features em ordem de importância para a previsão do modelo\n",
        "sns.barplot(data=feature_importances, x='importancia', y='index')\n",
        "plt.title('Importância das features (no Random Forest)')\n",
        "plt.ylabel('')\n",
        "plt.xlabel('Importância relativa')\n",
        "plt.show()"
      ]
    },
    {
      "cell_type": "code",
      "execution_count": null,
      "id": "3d289c69",
      "metadata": {},
      "outputs": [
        {
          "name": "stdout",
          "output_type": "stream",
          "text": [
            "Número de features original: 19\n",
            "Número de features após seleção com limiar de 0.045: 16\n",
            "\n",
            "Features que serão mantidas para a otimização:\n",
            "['momentum_63', 'daily_return', 'china_return_lag1', 'rsi_14', 'return_lag_5', 'eua_return_lag1', 'return_lag_3', 'europe_return_lag1', 'return_lag_4', 'momentum_21', 'return_lag_2', 'return_lag_1', 'momentum_5', 'atr_14', 'sma_21', 'day_of_month']\n"
          ]
        }
      ],
      "source": [
        "# filtrar as features que atendem ao critério\n",
        "importance_threshold = 0.045\n",
        "best_features = feature_importances[feature_importances['importancia'] > importance_threshold]['index'].tolist()\n",
        "\n",
        "print(f\"Número de features original: {len(feature_importances)}\")\n",
        "print(f\"Número de features após seleção com limiar de {importance_threshold}: {len(best_features)}\")\n",
        "print(\"\\nFeatures que serão mantidas para a otimização:\")\n",
        "print(list(best_features))"
      ]
    },
    {
      "cell_type": "code",
      "execution_count": null,
      "id": "2b7df2fd",
      "metadata": {},
      "outputs": [],
      "source": [
        "# dividir treino e testar novamente com as novas features\n",
        "X_train_selected = X_train[best_features]\n",
        "X_test_selected = X_test[best_features]"
      ]
    },
    {
      "cell_type": "markdown",
      "id": "d247162b",
      "metadata": {},
      "source": [
        "## Ajuste de hiperparâmetros com validação cruzada"
      ]
    },
    {
      "cell_type": "markdown",
      "id": "6f2ef69d",
      "metadata": {},
      "source": [
        "A validação cruzada ajuda a garantir que o modelo não está sobreajustado aos dados de treinamento e terá um bom desempenho em dados novos. "
      ]
    },
    {
      "cell_type": "code",
      "execution_count": null,
      "id": "02de3562",
      "metadata": {},
      "outputs": [
        {
          "name": "stdout",
          "output_type": "stream",
          "text": [
            "Melhores parâmetros para o SVM:  {'model__C': 10, 'model__gamma': 1, 'model__kernel': 'rbf'}\n",
            "Melhor acurácia na validação cruzada do SVM: 52.99%\n"
          ]
        }
      ],
      "source": [
        "# hiperparâmetros que iremos testar\n",
        "# usamos 'model__parametro' por causa do pipeline\n",
        "param_grid_svm = {\n",
        "    'model__C': [0.1, 1, 10, 100],\n",
        "    'model__gamma': ['scale', 'auto', 0.1, 1],\n",
        "    'model__kernel': ['rbf']\n",
        "}\n",
        "\n",
        "# validação cruzada para dados de séries temporais\n",
        "tscv = TimeSeriesSplit(n_splits=5)\n",
        "\n",
        "# configuração do GridSearchCV\n",
        "grid_search_svm = GridSearchCV(\n",
        "    estimator=models['SVM'],\n",
        "    param_grid=param_grid_svm,\n",
        "    scoring='accuracy',\n",
        "    cv=tscv,\n",
        "    n_jobs=-1\n",
        ")\n",
        "\n",
        "grid_search_svm.fit(X_train_selected, y_train)\n",
        "\n",
        "# análise dos resultados\n",
        "print(\"Melhores parâmetros para o SVM: \", grid_search_svm.best_params_)\n",
        "print(\"Melhor acurácia na validação cruzada do SVM: {:.2%}\".format(grid_search_svm.best_score_))"
      ]
    },
    {
      "cell_type": "code",
      "execution_count": null,
      "id": "6ebd1c9c",
      "metadata": {},
      "outputs": [
        {
          "name": "stdout",
          "output_type": "stream",
          "text": [
            "Relatório de classificação do SVM:\n",
            "\n",
            "              precision    recall  f1-score   support\n",
            "\n",
            "           0       0.60      0.56      0.58        16\n",
            "           1       0.53      0.57      0.55        14\n",
            "\n",
            "    accuracy                           0.57        30\n",
            "   macro avg       0.57      0.57      0.57        30\n",
            "weighted avg       0.57      0.57      0.57        30\n",
            "\n"
          ]
        }
      ],
      "source": [
        "# melhor SVM no conjunto de teste\n",
        "best_svm = grid_search_svm.best_estimator_\n",
        "pred_test_svm = best_svm.predict(X_test_selected)\n",
        "\n",
        "print(\"Relatório de classificação do SVM:\\n\")\n",
        "print(classification_report(y_test, pred_test_svm))"
      ]
    },
    {
      "cell_type": "markdown",
      "id": "18e0ba57",
      "metadata": {},
      "source": [
        "## Conclusão"
      ]
    },
    {
      "cell_type": "markdown",
      "id": "14eac0d6",
      "metadata": {},
      "source": [
        "Modelos mais simples (como SVM) superaram os complexos (Random Forest, XGBoost) que sofreram de overfitting."
      ]
    }
  ],
  "metadata": {
    "colab": {
      "provenance": []
    },
    "kernelspec": {
      "display_name": "base",
      "language": "python",
      "name": "python3"
    },
    "language_info": {
      "codemirror_mode": {
        "name": "ipython",
        "version": 3
      },
      "file_extension": ".py",
      "mimetype": "text/x-python",
      "name": "python",
      "nbconvert_exporter": "python",
      "pygments_lexer": "ipython3",
      "version": "3.12.3"
    }
  },
  "nbformat": 4,
  "nbformat_minor": 5
}
