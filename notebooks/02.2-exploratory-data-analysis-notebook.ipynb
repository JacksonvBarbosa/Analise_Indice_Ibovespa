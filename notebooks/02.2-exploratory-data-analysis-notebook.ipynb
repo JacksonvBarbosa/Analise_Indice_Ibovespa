{
 "cells": [
  {
   "cell_type": "markdown",
   "id": "7c2a83fa",
   "metadata": {},
   "source": [
    "# Notebook de análise exploratória dos dados (EDA)"
   ]
  },
  {
   "cell_type": "markdown",
   "id": "b0214698",
   "metadata": {},
   "source": [
    "## Importação das bibliotecas"
   ]
  },
  {
   "cell_type": "code",
   "execution_count": null,
   "id": "4c76db3c",
   "metadata": {},
   "outputs": [],
   "source": [
    "import pandas as pd\n",
    "import numpy as np\n",
    "from scipy import stats\n",
    "\n",
    "import matplotlib as mpl\n",
    "import matplotlib.pyplot as plt\n",
    "import matplotlib.ticker as ticker\n",
    "import matplotlib.dates as mdates\n",
    "import seaborn as sns\n",
    "import plotly.graph_objects as go\n",
    "from plotly.subplots import make_subplots"
   ]
  },
  {
   "cell_type": "code",
   "execution_count": null,
   "id": "b1ed94af",
   "metadata": {},
   "outputs": [],
   "source": [
    "# Configurar paleta de cores e estilo\n",
    "\n",
    "# Matplotlib\n",
    "mpl.rcParams[\"figure.figsize\"] = (20, 7)\n",
    "mpl.rcParams[\"axes.facecolor\"] = \"white\"\n",
    "mpl.rcParams[\"font.size\"] = 12\n",
    "mpl.rcParams[\"figure.titlesize\"] = 25\n",
    "mpl.rcParams[\"figure.dpi\"] = 100\n",
    "\n",
    "# Seaborn\n",
    "sns.set_style('whitegrid', {\"grid.color\": \".8\", \"grid.linestyle\": \"--\"})\n",
    "sns.set_palette(palette='mako')"
   ]
  },
  {
   "cell_type": "markdown",
   "id": "c27bc0bf",
   "metadata": {},
   "source": [
    "## Aquisição dos dados"
   ]
  },
  {
   "cell_type": "code",
   "execution_count": null,
   "id": "d56b70b8",
   "metadata": {},
   "outputs": [],
   "source": [
    "input_path = '../data/processed/arquivo-exploratorio.csv'\n",
    "\n",
    "df_ex = pd.read_csv(input_path, thousands='.', decimal=',', parse_dates=['ds'], date_format='%d.%m.%Y', index_col='ds')\n",
    "df_ex.index = pd.to_datetime(df_ex.index)\n",
    "df_ex"
   ]
  },
  {
   "cell_type": "code",
   "execution_count": null,
   "id": "5df43d39",
   "metadata": {},
   "outputs": [],
   "source": [
    "# informações gerais do dataframe\n",
    "df_ex.info()"
   ]
  },
  {
   "cell_type": "code",
   "execution_count": null,
   "id": "4473d8b8",
   "metadata": {},
   "outputs": [],
   "source": [
    "# resumo estatístico básico\n",
    "df_ex.describe()"
   ]
  },
  {
   "cell_type": "code",
   "execution_count": null,
   "id": "b044995f",
   "metadata": {},
   "outputs": [],
   "source": []
  },
  {
   "cell_type": "code",
   "execution_count": null,
   "id": "e3cb01c9",
   "metadata": {},
   "outputs": [],
   "source": [
    "\n",
    "\n",
    "\n",
    "# %%\n",
    "# Distribuição do retorno diário\n",
    "sns.histplot(df_ex['delta'], kde=True)\n",
    "\n",
    "# Título e rótulos dos eixos\n",
    "plt.title('Distribuição do retorno diário')\n",
    "plt.xlabel('Variação diária (%)')\n",
    "plt.ylabel('Contagem')\n",
    "\n",
    "plt.show()\n",
    "# %%\n",
    "# Teste de hipótese da distribuição do retorno diário\n",
    "stat, p = stats.shapiro(df_ex['delta'])\n",
    "print(f'Estatística do teste: {stat:.4f}\\nValor-p: {p}')\n",
    "\n",
    "# Nível de significância de 95%\n",
    "alpha = 0.05\n",
    "if p > alpha:\n",
    "    print(\"\\nConclusão: Não há evidência suficiente para rejeitar a hipótese nula. Os dados seguem uma distribuição normal.\")\n",
    "else:\n",
    "    print(\"\\nConclusão: Rejeitamos a hipótese nula. Os dados NÃO seguem uma distribuição normal.\")\n",
    "# %%\n",
    "\n",
    "# correlação 1\n",
    "\n",
    "# mapa de calor de correlação das variáveis\n",
    "columns_corr1 = ['target', 'close', 'delta', 'return', 'return_1d', 'return_2d',\n",
    "                'return_3d', 'return_5d', 'momentum_aceel', 'momentum_consistency',\n",
    "                'vol_3d', 'vol_10d', 'vol_regime', 'open', 'high', 'low', 'rsi_9',\n",
    "                'rsi_14', 'rsi_divergence', 'macd', 'macd_signal']\n",
    "\n",
    "corr = df_ex[columns_corr1].corr(numeric_only=True)\n",
    "\n",
    "mask = np.zeros_like(corr, dtype=bool)\n",
    "mask[np.triu_indices_from(mask)] = True\n",
    "\n",
    "sns.heatmap(corr, mask=mask, annot=True, fmt='.2f')\n",
    "plt.title('Mapa de calor de correlações 1ª metade dos dados')\n",
    "plt.grid(False)\n",
    "plt.show()\n",
    "\n",
    "# %%\n",
    "\n",
    "# correlação 2\n",
    "\n",
    "columns_corr2 = ['target', 'close',\n",
    "                'stoch_k', 'stoch_d', 'volatilidade', 'volatilidade_relativa', 'ema_5',\n",
    "                'ema_10', 'ema_cross', 'target_lag1', 'target_lag2', 'target_lag3',\n",
    "                'target_lag4', 'target_lag5', 'target_lag6', 'target_lag7', 'macd_hist',\n",
    "                'close_lag1', 'close_lag3', 'close_lag5', 'close_lag7', 'daily_return'\n",
    "]\n",
    "\n",
    "corr = df_ex[columns_corr2].corr(numeric_only=True)\n",
    "\n",
    "mask = np.zeros_like(corr, dtype=bool)\n",
    "mask[np.triu_indices_from(mask)] = True\n",
    "\n",
    "sns.heatmap(corr, mask=mask, annot=True, fmt='.2f')\n",
    "plt.title('Mapa de calor de correlações 2ª metade dos dados')\n",
    "plt.grid(False)\n",
    "plt.show()\n",
    "\n",
    "\n",
    "# %%\n",
    "\n",
    "plt.plot(df_ex.index, df_ex['close'],color= 'orange')\n",
    "plt.xlabel('Data')\n",
    "plt.ylabel('Pontos')\n",
    "plt.grid(False)\n",
    "plt.show()\n",
    "\n",
    "# %%\n"
   ]
  }
 ],
 "metadata": {
  "language_info": {
   "name": "python"
  }
 },
 "nbformat": 4,
 "nbformat_minor": 5
}
